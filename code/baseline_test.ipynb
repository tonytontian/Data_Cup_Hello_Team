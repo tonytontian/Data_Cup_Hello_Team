{
 "cells": [
  {
   "cell_type": "markdown",
   "metadata": {},
   "source": [
    "## Default prediction from customer spending habit\n",
    "\n",
    "1. Create base functions for the project.\n",
    "2. Initial Feature Engineering(Brainstorming)\n",
    "3. Fit the model to the new features and test the results"
   ]
  },
  {
   "cell_type": "code",
   "execution_count": 84,
   "metadata": {},
   "outputs": [],
   "source": [
    "# import the relevant computational modules\n",
    "\n",
    "# data manipulation\n",
    "import pandas as pd #data processing\n",
    "import numpy as np #linear algebra\n",
    "\n",
    "# Models Packages\n",
    "from sklearn import metrics\n",
    "from sklearn.metrics import roc_auc_score\n",
    "from sklearn import feature_selection\n",
    "from sklearn.model_selection import train_test_split\n",
    "from sklearn import preprocessing\n",
    "\n",
    "# Gradient Boosting\n",
    "import lightgbm as lgb\n",
    "from sklearn.cross_validation import KFold"
   ]
  },
  {
   "cell_type": "markdown",
   "metadata": {},
   "source": [
    "### Data Exploration and Feature Engineering --- manipulate and extract features from each table"
   ]
  },
  {
   "cell_type": "code",
   "execution_count": 2,
   "metadata": {},
   "outputs": [],
   "source": [
    "transaction_df = pd.read_csv('../raw_data/transactions_test.csv')\n",
    "payment_df = pd.read_csv('../raw_data/paiements_test.csv')\n",
    "billing_df = pd.read_csv('../raw_data/facturation_test.csv')\n",
    "performance_df = pd.read_csv('../raw_data/performance_test.csv')"
   ]
  },
  {
   "cell_type": "markdown",
   "metadata": {},
   "source": [
    "### Transaction table"
   ]
  },
  {
   "cell_type": "code",
   "execution_count": 3,
   "metadata": {
    "scrolled": true
   },
   "outputs": [
    {
     "data": {
      "text/html": [
       "<div>\n",
       "<style scoped>\n",
       "    .dataframe tbody tr th:only-of-type {\n",
       "        vertical-align: middle;\n",
       "    }\n",
       "\n",
       "    .dataframe tbody tr th {\n",
       "        vertical-align: top;\n",
       "    }\n",
       "\n",
       "    .dataframe thead th {\n",
       "        text-align: right;\n",
       "    }\n",
       "</style>\n",
       "<table border=\"1\" class=\"dataframe\">\n",
       "  <thead>\n",
       "    <tr style=\"text-align: right;\">\n",
       "      <th></th>\n",
       "      <th>ID_CPTE</th>\n",
       "      <th>MERCHANT_CATEGORY_XCD</th>\n",
       "      <th>MERCHANT_CITY_NAME</th>\n",
       "      <th>MERCHANT_COUNTRY_XCD</th>\n",
       "      <th>DECISION_XCD</th>\n",
       "      <th>PRIOR_CREDIT_LIMIT_AMT</th>\n",
       "      <th>TRANSACTION_AMT</th>\n",
       "      <th>TRANSACTION_CATEGORY_XCD</th>\n",
       "      <th>TRANSACTION_DTTM</th>\n",
       "      <th>TRANSACTION_TYPE_XCD</th>\n",
       "      <th>SICGROUP</th>\n",
       "    </tr>\n",
       "  </thead>\n",
       "  <tbody>\n",
       "    <tr>\n",
       "      <th>0</th>\n",
       "      <td>71424379</td>\n",
       "      <td>DD</td>\n",
       "      <td>212619</td>\n",
       "      <td>DP</td>\n",
       "      <td>C</td>\n",
       "      <td>1415.0</td>\n",
       "      <td>55.64</td>\n",
       "      <td>E</td>\n",
       "      <td>2014-08-27 12:00:00</td>\n",
       "      <td>F</td>\n",
       "      <td>AC</td>\n",
       "    </tr>\n",
       "    <tr>\n",
       "      <th>1</th>\n",
       "      <td>71424379</td>\n",
       "      <td>DD</td>\n",
       "      <td>212619</td>\n",
       "      <td>DP</td>\n",
       "      <td>C</td>\n",
       "      <td>1518.0</td>\n",
       "      <td>109.20</td>\n",
       "      <td>E</td>\n",
       "      <td>2014-08-24 12:00:00</td>\n",
       "      <td>F</td>\n",
       "      <td>AC</td>\n",
       "    </tr>\n",
       "    <tr>\n",
       "      <th>2</th>\n",
       "      <td>71424379</td>\n",
       "      <td>CC</td>\n",
       "      <td>2830838</td>\n",
       "      <td>DP</td>\n",
       "      <td>C</td>\n",
       "      <td>2516.0</td>\n",
       "      <td>65.10</td>\n",
       "      <td>E</td>\n",
       "      <td>2014-12-22 12:00:00</td>\n",
       "      <td>F</td>\n",
       "      <td>AP</td>\n",
       "    </tr>\n",
       "    <tr>\n",
       "      <th>3</th>\n",
       "      <td>71424379</td>\n",
       "      <td>CC</td>\n",
       "      <td>1252598</td>\n",
       "      <td>DP</td>\n",
       "      <td>C</td>\n",
       "      <td>2332.0</td>\n",
       "      <td>70.38</td>\n",
       "      <td>E</td>\n",
       "      <td>2014-02-16 12:00:00</td>\n",
       "      <td>F</td>\n",
       "      <td>AP</td>\n",
       "    </tr>\n",
       "    <tr>\n",
       "      <th>4</th>\n",
       "      <td>71424379</td>\n",
       "      <td>CC</td>\n",
       "      <td>1063854</td>\n",
       "      <td>DP</td>\n",
       "      <td>C</td>\n",
       "      <td>2430.0</td>\n",
       "      <td>138.03</td>\n",
       "      <td>E</td>\n",
       "      <td>2014-12-23 12:00:00</td>\n",
       "      <td>F</td>\n",
       "      <td>AM</td>\n",
       "    </tr>\n",
       "  </tbody>\n",
       "</table>\n",
       "</div>"
      ],
      "text/plain": [
       "    ID_CPTE MERCHANT_CATEGORY_XCD  MERCHANT_CITY_NAME MERCHANT_COUNTRY_XCD  \\\n",
       "0  71424379                    DD              212619                   DP   \n",
       "1  71424379                    DD              212619                   DP   \n",
       "2  71424379                    CC             2830838                   DP   \n",
       "3  71424379                    CC             1252598                   DP   \n",
       "4  71424379                    CC             1063854                   DP   \n",
       "\n",
       "  DECISION_XCD  PRIOR_CREDIT_LIMIT_AMT  TRANSACTION_AMT  \\\n",
       "0            C                  1415.0            55.64   \n",
       "1            C                  1518.0           109.20   \n",
       "2            C                  2516.0            65.10   \n",
       "3            C                  2332.0            70.38   \n",
       "4            C                  2430.0           138.03   \n",
       "\n",
       "  TRANSACTION_CATEGORY_XCD     TRANSACTION_DTTM TRANSACTION_TYPE_XCD SICGROUP  \n",
       "0                        E  2014-08-27 12:00:00                    F       AC  \n",
       "1                        E  2014-08-24 12:00:00                    F       AC  \n",
       "2                        E  2014-12-22 12:00:00                    F       AP  \n",
       "3                        E  2014-02-16 12:00:00                    F       AP  \n",
       "4                        E  2014-12-23 12:00:00                    F       AM  "
      ]
     },
     "execution_count": 3,
     "metadata": {},
     "output_type": "execute_result"
    }
   ],
   "source": [
    "transaction_df.head()"
   ]
  },
  {
   "cell_type": "code",
   "execution_count": 4,
   "metadata": {},
   "outputs": [
    {
     "data": {
      "text/plain": [
       "ID_CPTE                       int64\n",
       "MERCHANT_CATEGORY_XCD        object\n",
       "MERCHANT_CITY_NAME            int64\n",
       "MERCHANT_COUNTRY_XCD         object\n",
       "DECISION_XCD                 object\n",
       "PRIOR_CREDIT_LIMIT_AMT      float64\n",
       "TRANSACTION_AMT             float64\n",
       "TRANSACTION_CATEGORY_XCD     object\n",
       "TRANSACTION_DTTM             object\n",
       "TRANSACTION_TYPE_XCD         object\n",
       "SICGROUP                     object\n",
       "dtype: object"
      ]
     },
     "execution_count": 4,
     "metadata": {},
     "output_type": "execute_result"
    }
   ],
   "source": [
    "# the type of columns\n",
    "transaction_df.dtypes"
   ]
  },
  {
   "cell_type": "code",
   "execution_count": 5,
   "metadata": {},
   "outputs": [],
   "source": [
    "# convert and select categorical columnst\n",
    "categorical_columns = ['MERCHANT_CATEGORY_XCD', 'MERCHANT_CITY_NAME', 'MERCHANT_COUNTRY_XCD', 'DECISION_XCD', \n",
    "                       'TRANSACTION_CATEGORY_XCD', 'TRANSACTION_TYPE_XCD', 'SICGROUP'] "
   ]
  },
  {
   "cell_type": "code",
   "execution_count": 6,
   "metadata": {},
   "outputs": [],
   "source": [
    "# encode the categorical features\n",
    "lbl = preprocessing.LabelEncoder()\n",
    "for col in categorical_columns:\n",
    "    transaction_df[col].fillna('unknown')\n",
    "    transaction_df[col] = lbl.fit_transform(transaction_df[col].astype(str))"
   ]
  },
  {
   "cell_type": "code",
   "execution_count": 7,
   "metadata": {},
   "outputs": [
    {
     "data": {
      "text/html": [
       "<div>\n",
       "<style scoped>\n",
       "    .dataframe tbody tr th:only-of-type {\n",
       "        vertical-align: middle;\n",
       "    }\n",
       "\n",
       "    .dataframe tbody tr th {\n",
       "        vertical-align: top;\n",
       "    }\n",
       "\n",
       "    .dataframe thead th {\n",
       "        text-align: right;\n",
       "    }\n",
       "</style>\n",
       "<table border=\"1\" class=\"dataframe\">\n",
       "  <thead>\n",
       "    <tr style=\"text-align: right;\">\n",
       "      <th></th>\n",
       "      <th>ID_CPTE</th>\n",
       "      <th>MERCHANT_CATEGORY_XCD</th>\n",
       "      <th>MERCHANT_CITY_NAME</th>\n",
       "      <th>MERCHANT_COUNTRY_XCD</th>\n",
       "      <th>DECISION_XCD</th>\n",
       "      <th>PRIOR_CREDIT_LIMIT_AMT</th>\n",
       "      <th>TRANSACTION_AMT</th>\n",
       "      <th>TRANSACTION_CATEGORY_XCD</th>\n",
       "      <th>TRANSACTION_DTTM</th>\n",
       "      <th>TRANSACTION_TYPE_XCD</th>\n",
       "      <th>SICGROUP</th>\n",
       "    </tr>\n",
       "  </thead>\n",
       "  <tbody>\n",
       "    <tr>\n",
       "      <th>0</th>\n",
       "      <td>71424379</td>\n",
       "      <td>15</td>\n",
       "      <td>2779</td>\n",
       "      <td>66</td>\n",
       "      <td>2</td>\n",
       "      <td>1415.0</td>\n",
       "      <td>55.64</td>\n",
       "      <td>4</td>\n",
       "      <td>2014-08-27 12:00:00</td>\n",
       "      <td>5</td>\n",
       "      <td>2</td>\n",
       "    </tr>\n",
       "    <tr>\n",
       "      <th>1</th>\n",
       "      <td>71424379</td>\n",
       "      <td>15</td>\n",
       "      <td>2779</td>\n",
       "      <td>66</td>\n",
       "      <td>2</td>\n",
       "      <td>1518.0</td>\n",
       "      <td>109.20</td>\n",
       "      <td>4</td>\n",
       "      <td>2014-08-24 12:00:00</td>\n",
       "      <td>5</td>\n",
       "      <td>2</td>\n",
       "    </tr>\n",
       "    <tr>\n",
       "      <th>2</th>\n",
       "      <td>71424379</td>\n",
       "      <td>13</td>\n",
       "      <td>4493</td>\n",
       "      <td>66</td>\n",
       "      <td>2</td>\n",
       "      <td>2516.0</td>\n",
       "      <td>65.10</td>\n",
       "      <td>4</td>\n",
       "      <td>2014-12-22 12:00:00</td>\n",
       "      <td>5</td>\n",
       "      <td>15</td>\n",
       "    </tr>\n",
       "    <tr>\n",
       "      <th>3</th>\n",
       "      <td>71424379</td>\n",
       "      <td>13</td>\n",
       "      <td>621</td>\n",
       "      <td>66</td>\n",
       "      <td>2</td>\n",
       "      <td>2332.0</td>\n",
       "      <td>70.38</td>\n",
       "      <td>4</td>\n",
       "      <td>2014-02-16 12:00:00</td>\n",
       "      <td>5</td>\n",
       "      <td>15</td>\n",
       "    </tr>\n",
       "    <tr>\n",
       "      <th>4</th>\n",
       "      <td>71424379</td>\n",
       "      <td>13</td>\n",
       "      <td>160</td>\n",
       "      <td>66</td>\n",
       "      <td>2</td>\n",
       "      <td>2430.0</td>\n",
       "      <td>138.03</td>\n",
       "      <td>4</td>\n",
       "      <td>2014-12-23 12:00:00</td>\n",
       "      <td>5</td>\n",
       "      <td>12</td>\n",
       "    </tr>\n",
       "  </tbody>\n",
       "</table>\n",
       "</div>"
      ],
      "text/plain": [
       "    ID_CPTE  MERCHANT_CATEGORY_XCD  MERCHANT_CITY_NAME  MERCHANT_COUNTRY_XCD  \\\n",
       "0  71424379                     15                2779                    66   \n",
       "1  71424379                     15                2779                    66   \n",
       "2  71424379                     13                4493                    66   \n",
       "3  71424379                     13                 621                    66   \n",
       "4  71424379                     13                 160                    66   \n",
       "\n",
       "   DECISION_XCD  PRIOR_CREDIT_LIMIT_AMT  TRANSACTION_AMT  \\\n",
       "0             2                  1415.0            55.64   \n",
       "1             2                  1518.0           109.20   \n",
       "2             2                  2516.0            65.10   \n",
       "3             2                  2332.0            70.38   \n",
       "4             2                  2430.0           138.03   \n",
       "\n",
       "   TRANSACTION_CATEGORY_XCD     TRANSACTION_DTTM  TRANSACTION_TYPE_XCD  \\\n",
       "0                         4  2014-08-27 12:00:00                     5   \n",
       "1                         4  2014-08-24 12:00:00                     5   \n",
       "2                         4  2014-12-22 12:00:00                     5   \n",
       "3                         4  2014-02-16 12:00:00                     5   \n",
       "4                         4  2014-12-23 12:00:00                     5   \n",
       "\n",
       "   SICGROUP  \n",
       "0         2  \n",
       "1         2  \n",
       "2        15  \n",
       "3        15  \n",
       "4        12  "
      ]
     },
     "execution_count": 7,
     "metadata": {},
     "output_type": "execute_result"
    }
   ],
   "source": [
    "transaction_df.head()"
   ]
  },
  {
   "cell_type": "code",
   "execution_count": 8,
   "metadata": {},
   "outputs": [
    {
     "data": {
      "text/plain": [
       "1596"
      ]
     },
     "execution_count": 8,
     "metadata": {},
     "output_type": "execute_result"
    }
   ],
   "source": [
    "len(set(transaction_df['ID_CPTE']))"
   ]
  },
  {
   "cell_type": "code",
   "execution_count": 9,
   "metadata": {},
   "outputs": [
    {
     "data": {
      "text/html": [
       "<div>\n",
       "<style scoped>\n",
       "    .dataframe tbody tr th:only-of-type {\n",
       "        vertical-align: middle;\n",
       "    }\n",
       "\n",
       "    .dataframe tbody tr th {\n",
       "        vertical-align: top;\n",
       "    }\n",
       "\n",
       "    .dataframe thead th {\n",
       "        text-align: right;\n",
       "    }\n",
       "</style>\n",
       "<table border=\"1\" class=\"dataframe\">\n",
       "  <thead>\n",
       "    <tr style=\"text-align: right;\">\n",
       "      <th></th>\n",
       "      <th>ID_CPTE</th>\n",
       "      <th>MERCHANT_CATEGORY_XCD</th>\n",
       "      <th>MERCHANT_CITY_NAME</th>\n",
       "      <th>MERCHANT_COUNTRY_XCD</th>\n",
       "      <th>DECISION_XCD</th>\n",
       "      <th>PRIOR_CREDIT_LIMIT_AMT</th>\n",
       "      <th>TRANSACTION_AMT</th>\n",
       "      <th>TRANSACTION_CATEGORY_XCD</th>\n",
       "      <th>TRANSACTION_DTTM</th>\n",
       "      <th>TRANSACTION_TYPE_XCD</th>\n",
       "      <th>SICGROUP</th>\n",
       "    </tr>\n",
       "  </thead>\n",
       "  <tbody>\n",
       "  </tbody>\n",
       "</table>\n",
       "</div>"
      ],
      "text/plain": [
       "Empty DataFrame\n",
       "Columns: [ID_CPTE, MERCHANT_CATEGORY_XCD, MERCHANT_CITY_NAME, MERCHANT_COUNTRY_XCD, DECISION_XCD, PRIOR_CREDIT_LIMIT_AMT, TRANSACTION_AMT, TRANSACTION_CATEGORY_XCD, TRANSACTION_DTTM, TRANSACTION_TYPE_XCD, SICGROUP]\n",
       "Index: []"
      ]
     },
     "execution_count": 9,
     "metadata": {},
     "output_type": "execute_result"
    }
   ],
   "source": [
    "transaction_df[transaction_df['ID_CPTE'] == 99690111].head(10)"
   ]
  },
  {
   "cell_type": "code",
   "execution_count": 10,
   "metadata": {},
   "outputs": [
    {
     "data": {
      "text/plain": [
       "ID_CPTE   MERCHANT_CATEGORY_XCD\n",
       "10074849  2                         64.00\n",
       "          5                        700.73\n",
       "          6                         21.40\n",
       "          8                        196.08\n",
       "          11                       326.31\n",
       "Name: TRANSACTION_AMT, dtype: float64"
      ]
     },
     "execution_count": 10,
     "metadata": {},
     "output_type": "execute_result"
    }
   ],
   "source": [
    "### Extract features from transaction_df\n",
    "# for MERCHANT_CATEGORY_XCD\n",
    "# sum the total spent money on the merchant category for the individual customer\n",
    "tmp = transaction_df.groupby(['ID_CPTE', 'MERCHANT_CATEGORY_XCD'])['TRANSACTION_AMT'].sum()\n",
    "tmp.head()"
   ]
  },
  {
   "cell_type": "code",
   "execution_count": 11,
   "metadata": {},
   "outputs": [],
   "source": [
    "tmp = tmp.reset_index()"
   ]
  },
  {
   "cell_type": "code",
   "execution_count": 12,
   "metadata": {},
   "outputs": [
    {
     "data": {
      "text/html": [
       "<div>\n",
       "<style scoped>\n",
       "    .dataframe tbody tr th:only-of-type {\n",
       "        vertical-align: middle;\n",
       "    }\n",
       "\n",
       "    .dataframe tbody tr th {\n",
       "        vertical-align: top;\n",
       "    }\n",
       "\n",
       "    .dataframe thead th {\n",
       "        text-align: right;\n",
       "    }\n",
       "</style>\n",
       "<table border=\"1\" class=\"dataframe\">\n",
       "  <thead>\n",
       "    <tr style=\"text-align: right;\">\n",
       "      <th></th>\n",
       "      <th>ID_CPTE</th>\n",
       "      <th>MERCHANT_CATEGORY_XCD</th>\n",
       "      <th>TRANSACTION_AMT</th>\n",
       "    </tr>\n",
       "  </thead>\n",
       "  <tbody>\n",
       "    <tr>\n",
       "      <th>0</th>\n",
       "      <td>10074849</td>\n",
       "      <td>2</td>\n",
       "      <td>64.00</td>\n",
       "    </tr>\n",
       "    <tr>\n",
       "      <th>1</th>\n",
       "      <td>10074849</td>\n",
       "      <td>5</td>\n",
       "      <td>700.73</td>\n",
       "    </tr>\n",
       "    <tr>\n",
       "      <th>2</th>\n",
       "      <td>10074849</td>\n",
       "      <td>6</td>\n",
       "      <td>21.40</td>\n",
       "    </tr>\n",
       "    <tr>\n",
       "      <th>3</th>\n",
       "      <td>10074849</td>\n",
       "      <td>8</td>\n",
       "      <td>196.08</td>\n",
       "    </tr>\n",
       "    <tr>\n",
       "      <th>4</th>\n",
       "      <td>10074849</td>\n",
       "      <td>11</td>\n",
       "      <td>326.31</td>\n",
       "    </tr>\n",
       "  </tbody>\n",
       "</table>\n",
       "</div>"
      ],
      "text/plain": [
       "    ID_CPTE  MERCHANT_CATEGORY_XCD  TRANSACTION_AMT\n",
       "0  10074849                      2            64.00\n",
       "1  10074849                      5           700.73\n",
       "2  10074849                      6            21.40\n",
       "3  10074849                      8           196.08\n",
       "4  10074849                     11           326.31"
      ]
     },
     "execution_count": 12,
     "metadata": {},
     "output_type": "execute_result"
    }
   ],
   "source": [
    "tmp.head()"
   ]
  },
  {
   "cell_type": "code",
   "execution_count": 13,
   "metadata": {},
   "outputs": [],
   "source": [
    "tmp = tmp.pivot_table('TRANSACTION_AMT', ['ID_CPTE'], 'MERCHANT_CATEGORY_XCD')\n",
    "tmp.columns = ['MERCHANT_CATEGORY_' + str(i) for i in tmp.columns]"
   ]
  },
  {
   "cell_type": "code",
   "execution_count": 14,
   "metadata": {},
   "outputs": [],
   "source": [
    "tmp = tmp.fillna(0)"
   ]
  },
  {
   "cell_type": "code",
   "execution_count": 15,
   "metadata": {},
   "outputs": [
    {
     "data": {
      "text/html": [
       "<div>\n",
       "<style scoped>\n",
       "    .dataframe tbody tr th:only-of-type {\n",
       "        vertical-align: middle;\n",
       "    }\n",
       "\n",
       "    .dataframe tbody tr th {\n",
       "        vertical-align: top;\n",
       "    }\n",
       "\n",
       "    .dataframe thead th {\n",
       "        text-align: right;\n",
       "    }\n",
       "</style>\n",
       "<table border=\"1\" class=\"dataframe\">\n",
       "  <thead>\n",
       "    <tr style=\"text-align: right;\">\n",
       "      <th></th>\n",
       "      <th>MERCHANT_CATEGORY_0</th>\n",
       "      <th>MERCHANT_CATEGORY_1</th>\n",
       "      <th>MERCHANT_CATEGORY_2</th>\n",
       "      <th>MERCHANT_CATEGORY_3</th>\n",
       "      <th>MERCHANT_CATEGORY_4</th>\n",
       "      <th>MERCHANT_CATEGORY_5</th>\n",
       "      <th>MERCHANT_CATEGORY_6</th>\n",
       "      <th>MERCHANT_CATEGORY_7</th>\n",
       "      <th>MERCHANT_CATEGORY_8</th>\n",
       "      <th>MERCHANT_CATEGORY_9</th>\n",
       "      <th>...</th>\n",
       "      <th>MERCHANT_CATEGORY_45</th>\n",
       "      <th>MERCHANT_CATEGORY_46</th>\n",
       "      <th>MERCHANT_CATEGORY_47</th>\n",
       "      <th>MERCHANT_CATEGORY_48</th>\n",
       "      <th>MERCHANT_CATEGORY_49</th>\n",
       "      <th>MERCHANT_CATEGORY_50</th>\n",
       "      <th>MERCHANT_CATEGORY_51</th>\n",
       "      <th>MERCHANT_CATEGORY_52</th>\n",
       "      <th>MERCHANT_CATEGORY_53</th>\n",
       "      <th>MERCHANT_CATEGORY_54</th>\n",
       "    </tr>\n",
       "    <tr>\n",
       "      <th>ID_CPTE</th>\n",
       "      <th></th>\n",
       "      <th></th>\n",
       "      <th></th>\n",
       "      <th></th>\n",
       "      <th></th>\n",
       "      <th></th>\n",
       "      <th></th>\n",
       "      <th></th>\n",
       "      <th></th>\n",
       "      <th></th>\n",
       "      <th></th>\n",
       "      <th></th>\n",
       "      <th></th>\n",
       "      <th></th>\n",
       "      <th></th>\n",
       "      <th></th>\n",
       "      <th></th>\n",
       "      <th></th>\n",
       "      <th></th>\n",
       "      <th></th>\n",
       "      <th></th>\n",
       "    </tr>\n",
       "  </thead>\n",
       "  <tbody>\n",
       "    <tr>\n",
       "      <th>10074849</th>\n",
       "      <td>0.0</td>\n",
       "      <td>0.0</td>\n",
       "      <td>64.0</td>\n",
       "      <td>0.0</td>\n",
       "      <td>0.0</td>\n",
       "      <td>700.73</td>\n",
       "      <td>21.4</td>\n",
       "      <td>0.00</td>\n",
       "      <td>196.08</td>\n",
       "      <td>0.0</td>\n",
       "      <td>...</td>\n",
       "      <td>0.00</td>\n",
       "      <td>0.0</td>\n",
       "      <td>0.0</td>\n",
       "      <td>0.0</td>\n",
       "      <td>0.0</td>\n",
       "      <td>46.70</td>\n",
       "      <td>737.07</td>\n",
       "      <td>0.0</td>\n",
       "      <td>0.0</td>\n",
       "      <td>0.0</td>\n",
       "    </tr>\n",
       "    <tr>\n",
       "      <th>10086539</th>\n",
       "      <td>0.0</td>\n",
       "      <td>0.0</td>\n",
       "      <td>0.0</td>\n",
       "      <td>0.0</td>\n",
       "      <td>0.0</td>\n",
       "      <td>0.00</td>\n",
       "      <td>58.3</td>\n",
       "      <td>46.25</td>\n",
       "      <td>0.00</td>\n",
       "      <td>0.0</td>\n",
       "      <td>...</td>\n",
       "      <td>48.09</td>\n",
       "      <td>0.0</td>\n",
       "      <td>0.0</td>\n",
       "      <td>0.0</td>\n",
       "      <td>0.0</td>\n",
       "      <td>0.00</td>\n",
       "      <td>48.70</td>\n",
       "      <td>0.0</td>\n",
       "      <td>0.0</td>\n",
       "      <td>0.0</td>\n",
       "    </tr>\n",
       "    <tr>\n",
       "      <th>10140908</th>\n",
       "      <td>0.0</td>\n",
       "      <td>0.0</td>\n",
       "      <td>0.0</td>\n",
       "      <td>0.0</td>\n",
       "      <td>0.0</td>\n",
       "      <td>0.00</td>\n",
       "      <td>0.0</td>\n",
       "      <td>0.00</td>\n",
       "      <td>0.00</td>\n",
       "      <td>0.0</td>\n",
       "      <td>...</td>\n",
       "      <td>88.89</td>\n",
       "      <td>0.0</td>\n",
       "      <td>0.0</td>\n",
       "      <td>0.0</td>\n",
       "      <td>0.0</td>\n",
       "      <td>92.02</td>\n",
       "      <td>133.26</td>\n",
       "      <td>0.0</td>\n",
       "      <td>0.0</td>\n",
       "      <td>0.0</td>\n",
       "    </tr>\n",
       "    <tr>\n",
       "      <th>10153124</th>\n",
       "      <td>0.0</td>\n",
       "      <td>0.0</td>\n",
       "      <td>0.0</td>\n",
       "      <td>0.0</td>\n",
       "      <td>0.0</td>\n",
       "      <td>123.00</td>\n",
       "      <td>0.0</td>\n",
       "      <td>0.00</td>\n",
       "      <td>0.00</td>\n",
       "      <td>0.0</td>\n",
       "      <td>...</td>\n",
       "      <td>0.00</td>\n",
       "      <td>0.0</td>\n",
       "      <td>28.0</td>\n",
       "      <td>0.0</td>\n",
       "      <td>0.0</td>\n",
       "      <td>0.00</td>\n",
       "      <td>221.98</td>\n",
       "      <td>0.0</td>\n",
       "      <td>0.0</td>\n",
       "      <td>0.0</td>\n",
       "    </tr>\n",
       "    <tr>\n",
       "      <th>10211370</th>\n",
       "      <td>0.0</td>\n",
       "      <td>0.0</td>\n",
       "      <td>71.8</td>\n",
       "      <td>0.0</td>\n",
       "      <td>0.0</td>\n",
       "      <td>694.08</td>\n",
       "      <td>0.0</td>\n",
       "      <td>0.00</td>\n",
       "      <td>0.00</td>\n",
       "      <td>0.0</td>\n",
       "      <td>...</td>\n",
       "      <td>1390.48</td>\n",
       "      <td>0.0</td>\n",
       "      <td>0.0</td>\n",
       "      <td>0.0</td>\n",
       "      <td>0.0</td>\n",
       "      <td>21.56</td>\n",
       "      <td>435.75</td>\n",
       "      <td>0.0</td>\n",
       "      <td>0.0</td>\n",
       "      <td>0.0</td>\n",
       "    </tr>\n",
       "  </tbody>\n",
       "</table>\n",
       "<p>5 rows × 55 columns</p>\n",
       "</div>"
      ],
      "text/plain": [
       "          MERCHANT_CATEGORY_0  MERCHANT_CATEGORY_1  MERCHANT_CATEGORY_2  \\\n",
       "ID_CPTE                                                                   \n",
       "10074849                  0.0                  0.0                 64.0   \n",
       "10086539                  0.0                  0.0                  0.0   \n",
       "10140908                  0.0                  0.0                  0.0   \n",
       "10153124                  0.0                  0.0                  0.0   \n",
       "10211370                  0.0                  0.0                 71.8   \n",
       "\n",
       "          MERCHANT_CATEGORY_3  MERCHANT_CATEGORY_4  MERCHANT_CATEGORY_5  \\\n",
       "ID_CPTE                                                                   \n",
       "10074849                  0.0                  0.0               700.73   \n",
       "10086539                  0.0                  0.0                 0.00   \n",
       "10140908                  0.0                  0.0                 0.00   \n",
       "10153124                  0.0                  0.0               123.00   \n",
       "10211370                  0.0                  0.0               694.08   \n",
       "\n",
       "          MERCHANT_CATEGORY_6  MERCHANT_CATEGORY_7  MERCHANT_CATEGORY_8  \\\n",
       "ID_CPTE                                                                   \n",
       "10074849                 21.4                 0.00               196.08   \n",
       "10086539                 58.3                46.25                 0.00   \n",
       "10140908                  0.0                 0.00                 0.00   \n",
       "10153124                  0.0                 0.00                 0.00   \n",
       "10211370                  0.0                 0.00                 0.00   \n",
       "\n",
       "          MERCHANT_CATEGORY_9          ...           MERCHANT_CATEGORY_45  \\\n",
       "ID_CPTE                                ...                                  \n",
       "10074849                  0.0          ...                           0.00   \n",
       "10086539                  0.0          ...                          48.09   \n",
       "10140908                  0.0          ...                          88.89   \n",
       "10153124                  0.0          ...                           0.00   \n",
       "10211370                  0.0          ...                        1390.48   \n",
       "\n",
       "          MERCHANT_CATEGORY_46  MERCHANT_CATEGORY_47  MERCHANT_CATEGORY_48  \\\n",
       "ID_CPTE                                                                      \n",
       "10074849                   0.0                   0.0                   0.0   \n",
       "10086539                   0.0                   0.0                   0.0   \n",
       "10140908                   0.0                   0.0                   0.0   \n",
       "10153124                   0.0                  28.0                   0.0   \n",
       "10211370                   0.0                   0.0                   0.0   \n",
       "\n",
       "          MERCHANT_CATEGORY_49  MERCHANT_CATEGORY_50  MERCHANT_CATEGORY_51  \\\n",
       "ID_CPTE                                                                      \n",
       "10074849                   0.0                 46.70                737.07   \n",
       "10086539                   0.0                  0.00                 48.70   \n",
       "10140908                   0.0                 92.02                133.26   \n",
       "10153124                   0.0                  0.00                221.98   \n",
       "10211370                   0.0                 21.56                435.75   \n",
       "\n",
       "          MERCHANT_CATEGORY_52  MERCHANT_CATEGORY_53  MERCHANT_CATEGORY_54  \n",
       "ID_CPTE                                                                     \n",
       "10074849                   0.0                   0.0                   0.0  \n",
       "10086539                   0.0                   0.0                   0.0  \n",
       "10140908                   0.0                   0.0                   0.0  \n",
       "10153124                   0.0                   0.0                   0.0  \n",
       "10211370                   0.0                   0.0                   0.0  \n",
       "\n",
       "[5 rows x 55 columns]"
      ]
     },
     "execution_count": 15,
     "metadata": {},
     "output_type": "execute_result"
    }
   ],
   "source": [
    "tmp.head()"
   ]
  },
  {
   "cell_type": "markdown",
   "metadata": {},
   "source": [
    "### Payment table"
   ]
  },
  {
   "cell_type": "code",
   "execution_count": 17,
   "metadata": {
    "scrolled": true
   },
   "outputs": [
    {
     "data": {
      "text/html": [
       "<div>\n",
       "<style scoped>\n",
       "    .dataframe tbody tr th:only-of-type {\n",
       "        vertical-align: middle;\n",
       "    }\n",
       "\n",
       "    .dataframe tbody tr th {\n",
       "        vertical-align: top;\n",
       "    }\n",
       "\n",
       "    .dataframe thead th {\n",
       "        text-align: right;\n",
       "    }\n",
       "</style>\n",
       "<table border=\"1\" class=\"dataframe\">\n",
       "  <thead>\n",
       "    <tr style=\"text-align: right;\">\n",
       "      <th></th>\n",
       "      <th>ID_CPTE</th>\n",
       "      <th>TRANSACTION_AMT</th>\n",
       "      <th>TRANSACTION_DTTM</th>\n",
       "      <th>PAYMENT_REVERSAL_XFLG</th>\n",
       "    </tr>\n",
       "  </thead>\n",
       "  <tbody>\n",
       "    <tr>\n",
       "      <th>0</th>\n",
       "      <td>71424379</td>\n",
       "      <td>686.00</td>\n",
       "      <td>2014-12-14 00:00:00</td>\n",
       "      <td>Q</td>\n",
       "    </tr>\n",
       "    <tr>\n",
       "      <th>1</th>\n",
       "      <td>71424379</td>\n",
       "      <td>680.74</td>\n",
       "      <td>2014-03-26 04:00:00</td>\n",
       "      <td>Q</td>\n",
       "    </tr>\n",
       "    <tr>\n",
       "      <th>2</th>\n",
       "      <td>71424379</td>\n",
       "      <td>1116.96</td>\n",
       "      <td>2014-08-24 00:00:00</td>\n",
       "      <td>Q</td>\n",
       "    </tr>\n",
       "    <tr>\n",
       "      <th>3</th>\n",
       "      <td>71424379</td>\n",
       "      <td>808.78</td>\n",
       "      <td>2014-05-27 00:00:00</td>\n",
       "      <td>Q</td>\n",
       "    </tr>\n",
       "    <tr>\n",
       "      <th>4</th>\n",
       "      <td>71424379</td>\n",
       "      <td>949.20</td>\n",
       "      <td>2014-09-15 00:00:00</td>\n",
       "      <td>Q</td>\n",
       "    </tr>\n",
       "  </tbody>\n",
       "</table>\n",
       "</div>"
      ],
      "text/plain": [
       "    ID_CPTE  TRANSACTION_AMT     TRANSACTION_DTTM PAYMENT_REVERSAL_XFLG\n",
       "0  71424379           686.00  2014-12-14 00:00:00                     Q\n",
       "1  71424379           680.74  2014-03-26 04:00:00                     Q\n",
       "2  71424379          1116.96  2014-08-24 00:00:00                     Q\n",
       "3  71424379           808.78  2014-05-27 00:00:00                     Q\n",
       "4  71424379           949.20  2014-09-15 00:00:00                     Q"
      ]
     },
     "execution_count": 17,
     "metadata": {},
     "output_type": "execute_result"
    }
   ],
   "source": [
    "payment_df.head()"
   ]
  },
  {
   "cell_type": "code",
   "execution_count": 18,
   "metadata": {},
   "outputs": [
    {
     "data": {
      "text/plain": [
       "5100"
      ]
     },
     "execution_count": 18,
     "metadata": {},
     "output_type": "execute_result"
    }
   ],
   "source": [
    "len(set(payment_df['ID_CPTE']))"
   ]
  },
  {
   "cell_type": "code",
   "execution_count": 19,
   "metadata": {},
   "outputs": [
    {
     "data": {
      "text/plain": [
       "0.0003314416905143005"
      ]
     },
     "execution_count": 19,
     "metadata": {},
     "output_type": "execute_result"
    }
   ],
   "source": [
    "# null / total\n",
    "payment_df['TRANSACTION_AMT'].isnull().sum() / len(payment_df)"
   ]
  },
  {
   "cell_type": "code",
   "execution_count": 20,
   "metadata": {},
   "outputs": [],
   "source": [
    "# drop the null rows\n",
    "payment_df = payment_df.dropna()"
   ]
  },
  {
   "cell_type": "code",
   "execution_count": 21,
   "metadata": {},
   "outputs": [],
   "source": [
    "# get the month and year of TRANSACTION_DTTM\n",
    "payment_df['TRANSACTION_DTTM'] = payment_df['TRANSACTION_DTTM'].apply(lambda x: str(x).split(' ')[0][:-3])"
   ]
  },
  {
   "cell_type": "code",
   "execution_count": 22,
   "metadata": {},
   "outputs": [],
   "source": [
    "payment_df = payment_df.sort_values(['ID_CPTE', 'TRANSACTION_DTTM'])"
   ]
  },
  {
   "cell_type": "code",
   "execution_count": 23,
   "metadata": {},
   "outputs": [],
   "source": [
    "payment_df = payment_df.groupby(['ID_CPTE', 'TRANSACTION_DTTM'])['TRANSACTION_AMT'].sum().reset_index()"
   ]
  },
  {
   "cell_type": "code",
   "execution_count": 24,
   "metadata": {},
   "outputs": [],
   "source": [
    "payment_df = payment_df.groupby('ID_CPTE').tail(12)"
   ]
  },
  {
   "cell_type": "code",
   "execution_count": 25,
   "metadata": {},
   "outputs": [],
   "source": [
    "payment_df['TRANSACTION_DTTM'] = payment_df['TRANSACTION_DTTM'].apply(lambda x: x.split('-')[1])"
   ]
  },
  {
   "cell_type": "code",
   "execution_count": 26,
   "metadata": {},
   "outputs": [],
   "source": [
    "payment_transaction = payment_df.pivot_table('TRANSACTION_AMT', ['ID_CPTE'], 'TRANSACTION_DTTM')\n",
    "payment_transaction.columns = ['transaction_' + str(i) for i in payment_transaction.columns + '_month']"
   ]
  },
  {
   "cell_type": "code",
   "execution_count": 27,
   "metadata": {},
   "outputs": [],
   "source": [
    "payment_transaction = payment_transaction.reset_index()"
   ]
  },
  {
   "cell_type": "code",
   "execution_count": 28,
   "metadata": {},
   "outputs": [],
   "source": [
    "payment_transaction = payment_transaction.fillna(0)"
   ]
  },
  {
   "cell_type": "markdown",
   "metadata": {},
   "source": [
    "### Billing table"
   ]
  },
  {
   "cell_type": "code",
   "execution_count": 29,
   "metadata": {
    "scrolled": true
   },
   "outputs": [
    {
     "data": {
      "text/html": [
       "<div>\n",
       "<style scoped>\n",
       "    .dataframe tbody tr th:only-of-type {\n",
       "        vertical-align: middle;\n",
       "    }\n",
       "\n",
       "    .dataframe tbody tr th {\n",
       "        vertical-align: top;\n",
       "    }\n",
       "\n",
       "    .dataframe thead th {\n",
       "        text-align: right;\n",
       "    }\n",
       "</style>\n",
       "<table border=\"1\" class=\"dataframe\">\n",
       "  <thead>\n",
       "    <tr style=\"text-align: right;\">\n",
       "      <th></th>\n",
       "      <th>ID_CPTE</th>\n",
       "      <th>PERIODID_MY</th>\n",
       "      <th>StatementDate</th>\n",
       "      <th>CurrentTotalBalance</th>\n",
       "      <th>CashBalance</th>\n",
       "      <th>CreditLimit</th>\n",
       "      <th>DelqCycle</th>\n",
       "    </tr>\n",
       "  </thead>\n",
       "  <tbody>\n",
       "    <tr>\n",
       "      <th>0</th>\n",
       "      <td>71424379</td>\n",
       "      <td>2013-11-01</td>\n",
       "      <td>2013-11-04</td>\n",
       "      <td>1444.30</td>\n",
       "      <td>0.0</td>\n",
       "      <td>3200.0</td>\n",
       "      <td>0</td>\n",
       "    </tr>\n",
       "    <tr>\n",
       "      <th>1</th>\n",
       "      <td>71424379</td>\n",
       "      <td>2014-05-01</td>\n",
       "      <td>2014-04-30</td>\n",
       "      <td>785.89</td>\n",
       "      <td>0.0</td>\n",
       "      <td>3200.0</td>\n",
       "      <td>0</td>\n",
       "    </tr>\n",
       "    <tr>\n",
       "      <th>2</th>\n",
       "      <td>71424379</td>\n",
       "      <td>2014-08-01</td>\n",
       "      <td>2014-08-02</td>\n",
       "      <td>1095.48</td>\n",
       "      <td>0.0</td>\n",
       "      <td>3200.0</td>\n",
       "      <td>0</td>\n",
       "    </tr>\n",
       "    <tr>\n",
       "      <th>3</th>\n",
       "      <td>71424379</td>\n",
       "      <td>2014-04-01</td>\n",
       "      <td>2014-04-02</td>\n",
       "      <td>845.30</td>\n",
       "      <td>0.0</td>\n",
       "      <td>3200.0</td>\n",
       "      <td>0</td>\n",
       "    </tr>\n",
       "    <tr>\n",
       "      <th>4</th>\n",
       "      <td>71424379</td>\n",
       "      <td>2013-12-01</td>\n",
       "      <td>2013-11-30</td>\n",
       "      <td>1623.28</td>\n",
       "      <td>0.0</td>\n",
       "      <td>3200.0</td>\n",
       "      <td>0</td>\n",
       "    </tr>\n",
       "  </tbody>\n",
       "</table>\n",
       "</div>"
      ],
      "text/plain": [
       "    ID_CPTE PERIODID_MY StatementDate  CurrentTotalBalance  CashBalance  \\\n",
       "0  71424379  2013-11-01    2013-11-04              1444.30          0.0   \n",
       "1  71424379  2014-05-01    2014-04-30               785.89          0.0   \n",
       "2  71424379  2014-08-01    2014-08-02              1095.48          0.0   \n",
       "3  71424379  2014-04-01    2014-04-02               845.30          0.0   \n",
       "4  71424379  2013-12-01    2013-11-30              1623.28          0.0   \n",
       "\n",
       "   CreditLimit  DelqCycle  \n",
       "0       3200.0          0  \n",
       "1       3200.0          0  \n",
       "2       3200.0          0  \n",
       "3       3200.0          0  \n",
       "4       3200.0          0  "
      ]
     },
     "execution_count": 29,
     "metadata": {},
     "output_type": "execute_result"
    }
   ],
   "source": [
    "billing_df.head()"
   ]
  },
  {
   "cell_type": "code",
   "execution_count": 30,
   "metadata": {},
   "outputs": [
    {
     "data": {
      "text/plain": [
       "5100"
      ]
     },
     "execution_count": 30,
     "metadata": {},
     "output_type": "execute_result"
    }
   ],
   "source": [
    "len(set(billing_df['ID_CPTE']))"
   ]
  },
  {
   "cell_type": "code",
   "execution_count": 31,
   "metadata": {},
   "outputs": [
    {
     "data": {
      "text/html": [
       "<div>\n",
       "<style scoped>\n",
       "    .dataframe tbody tr th:only-of-type {\n",
       "        vertical-align: middle;\n",
       "    }\n",
       "\n",
       "    .dataframe tbody tr th {\n",
       "        vertical-align: top;\n",
       "    }\n",
       "\n",
       "    .dataframe thead th {\n",
       "        text-align: right;\n",
       "    }\n",
       "</style>\n",
       "<table border=\"1\" class=\"dataframe\">\n",
       "  <thead>\n",
       "    <tr style=\"text-align: right;\">\n",
       "      <th></th>\n",
       "      <th>ID_CPTE</th>\n",
       "      <th>PERIODID_MY</th>\n",
       "      <th>StatementDate</th>\n",
       "      <th>CurrentTotalBalance</th>\n",
       "      <th>CashBalance</th>\n",
       "      <th>CreditLimit</th>\n",
       "      <th>DelqCycle</th>\n",
       "    </tr>\n",
       "  </thead>\n",
       "  <tbody>\n",
       "  </tbody>\n",
       "</table>\n",
       "</div>"
      ],
      "text/plain": [
       "Empty DataFrame\n",
       "Columns: [ID_CPTE, PERIODID_MY, StatementDate, CurrentTotalBalance, CashBalance, CreditLimit, DelqCycle]\n",
       "Index: []"
      ]
     },
     "execution_count": 31,
     "metadata": {},
     "output_type": "execute_result"
    }
   ],
   "source": [
    "billing_df[billing_df['ID_CPTE'] == 99690111].sort_values(['StatementDate'])"
   ]
  },
  {
   "cell_type": "code",
   "execution_count": 32,
   "metadata": {
    "scrolled": true
   },
   "outputs": [],
   "source": [
    "billing_df['PERIODID_MY'] = billing_df['PERIODID_MY'].apply(lambda x: x[:-3])"
   ]
  },
  {
   "cell_type": "code",
   "execution_count": 33,
   "metadata": {},
   "outputs": [],
   "source": [
    "billing_df = billing_df.sort_values(['ID_CPTE', 'PERIODID_MY'])\n",
    "billing_df = billing_df.reset_index(drop=True)"
   ]
  },
  {
   "cell_type": "code",
   "execution_count": 34,
   "metadata": {},
   "outputs": [],
   "source": [
    "billing_df = billing_df.groupby('ID_CPTE').tail(12)\n",
    "billing_df = billing_df.reset_index(drop=True)"
   ]
  },
  {
   "cell_type": "code",
   "execution_count": 35,
   "metadata": {},
   "outputs": [],
   "source": [
    "billing_df['PERIODID_MY'] = billing_df['PERIODID_MY'].apply(lambda x: x[-2:])"
   ]
  },
  {
   "cell_type": "code",
   "execution_count": 36,
   "metadata": {},
   "outputs": [],
   "source": [
    "# CurrentTotalBalance\n",
    "total_balance = billing_df.pivot_table('CurrentTotalBalance', ['ID_CPTE'], 'PERIODID_MY')\n",
    "total_balance.columns = ['total_balance_' + str(i) for i in total_balance.columns + '_month']"
   ]
  },
  {
   "cell_type": "code",
   "execution_count": 37,
   "metadata": {},
   "outputs": [],
   "source": [
    "# CashBalance\n",
    "cash_balance = billing_df.pivot_table('CashBalance', ['ID_CPTE'], 'PERIODID_MY')\n",
    "cash_balance.columns = ['cash_balance_' + str(i) for i in cash_balance.columns + '_month']"
   ]
  },
  {
   "cell_type": "code",
   "execution_count": 38,
   "metadata": {},
   "outputs": [],
   "source": [
    "# CreditLimit\n",
    "credit_limit = billing_df.pivot_table('CreditLimit', ['ID_CPTE'], 'PERIODID_MY')\n",
    "credit_limit.columns = ['credit_limit_' + str(i) for i in credit_limit.columns + '_month']"
   ]
  },
  {
   "cell_type": "code",
   "execution_count": 39,
   "metadata": {},
   "outputs": [],
   "source": [
    "# DelqCycle\n",
    "delq_cycle = billing_df.pivot_table('DelqCycle', ['ID_CPTE'], 'PERIODID_MY')\n",
    "delq_cycle.columns = ['delq_cycle_' + str(i) for i in delq_cycle.columns + '_month']"
   ]
  },
  {
   "cell_type": "code",
   "execution_count": 40,
   "metadata": {},
   "outputs": [],
   "source": [
    "total_balance = total_balance.reset_index()\n",
    "cash_balance = cash_balance.reset_index()\n",
    "credit_limit = credit_limit.reset_index()\n",
    "delq_cycle = delq_cycle.reset_index()"
   ]
  },
  {
   "cell_type": "code",
   "execution_count": 67,
   "metadata": {},
   "outputs": [],
   "source": [
    "tmp = total_balance.merge(cash_balance, on='ID_CPTE')\n",
    "tmp = tmp.merge(credit_limit, on='ID_CPTE')\n",
    "tmp = tmp.merge(delq_cycle, on='ID_CPTE')"
   ]
  },
  {
   "cell_type": "code",
   "execution_count": 68,
   "metadata": {},
   "outputs": [
    {
     "data": {
      "text/html": [
       "<div>\n",
       "<style scoped>\n",
       "    .dataframe tbody tr th:only-of-type {\n",
       "        vertical-align: middle;\n",
       "    }\n",
       "\n",
       "    .dataframe tbody tr th {\n",
       "        vertical-align: top;\n",
       "    }\n",
       "\n",
       "    .dataframe thead th {\n",
       "        text-align: right;\n",
       "    }\n",
       "</style>\n",
       "<table border=\"1\" class=\"dataframe\">\n",
       "  <thead>\n",
       "    <tr style=\"text-align: right;\">\n",
       "      <th></th>\n",
       "      <th>ID_CPTE</th>\n",
       "      <th>total_balance_01_month</th>\n",
       "      <th>total_balance_02_month</th>\n",
       "      <th>total_balance_03_month</th>\n",
       "      <th>total_balance_04_month</th>\n",
       "      <th>total_balance_05_month</th>\n",
       "      <th>total_balance_06_month</th>\n",
       "      <th>total_balance_07_month</th>\n",
       "      <th>total_balance_08_month</th>\n",
       "      <th>total_balance_09_month</th>\n",
       "      <th>...</th>\n",
       "      <th>delq_cycle_03_month</th>\n",
       "      <th>delq_cycle_04_month</th>\n",
       "      <th>delq_cycle_05_month</th>\n",
       "      <th>delq_cycle_06_month</th>\n",
       "      <th>delq_cycle_07_month</th>\n",
       "      <th>delq_cycle_08_month</th>\n",
       "      <th>delq_cycle_09_month</th>\n",
       "      <th>delq_cycle_10_month</th>\n",
       "      <th>delq_cycle_11_month</th>\n",
       "      <th>delq_cycle_12_month</th>\n",
       "    </tr>\n",
       "  </thead>\n",
       "  <tbody>\n",
       "    <tr>\n",
       "      <th>0</th>\n",
       "      <td>10074849</td>\n",
       "      <td>43.43</td>\n",
       "      <td>231.00</td>\n",
       "      <td>0.00</td>\n",
       "      <td>617.11</td>\n",
       "      <td>10.40</td>\n",
       "      <td>344.5</td>\n",
       "      <td>185.11</td>\n",
       "      <td>8.24</td>\n",
       "      <td>396.93</td>\n",
       "      <td>...</td>\n",
       "      <td>0.0</td>\n",
       "      <td>0.0</td>\n",
       "      <td>0.0</td>\n",
       "      <td>0.0</td>\n",
       "      <td>0.0</td>\n",
       "      <td>0.0</td>\n",
       "      <td>0.0</td>\n",
       "      <td>0.0</td>\n",
       "      <td>0.0</td>\n",
       "      <td>0.0</td>\n",
       "    </tr>\n",
       "    <tr>\n",
       "      <th>1</th>\n",
       "      <td>10086539</td>\n",
       "      <td>546.00</td>\n",
       "      <td>772.65</td>\n",
       "      <td>508.00</td>\n",
       "      <td>667.68</td>\n",
       "      <td>988.79</td>\n",
       "      <td>1407.6</td>\n",
       "      <td>290.85</td>\n",
       "      <td>754.80</td>\n",
       "      <td>998.58</td>\n",
       "      <td>...</td>\n",
       "      <td>0.0</td>\n",
       "      <td>0.0</td>\n",
       "      <td>0.0</td>\n",
       "      <td>0.0</td>\n",
       "      <td>0.0</td>\n",
       "      <td>0.0</td>\n",
       "      <td>0.0</td>\n",
       "      <td>0.0</td>\n",
       "      <td>0.0</td>\n",
       "      <td>0.0</td>\n",
       "    </tr>\n",
       "    <tr>\n",
       "      <th>2</th>\n",
       "      <td>10140908</td>\n",
       "      <td>3822.04</td>\n",
       "      <td>3926.90</td>\n",
       "      <td>3512.78</td>\n",
       "      <td>3533.25</td>\n",
       "      <td>3212.00</td>\n",
       "      <td>3294.9</td>\n",
       "      <td>2983.90</td>\n",
       "      <td>2873.52</td>\n",
       "      <td>2657.40</td>\n",
       "      <td>...</td>\n",
       "      <td>2.0</td>\n",
       "      <td>2.0</td>\n",
       "      <td>1.0</td>\n",
       "      <td>2.0</td>\n",
       "      <td>0.0</td>\n",
       "      <td>0.0</td>\n",
       "      <td>0.0</td>\n",
       "      <td>0.0</td>\n",
       "      <td>1.0</td>\n",
       "      <td>1.0</td>\n",
       "    </tr>\n",
       "    <tr>\n",
       "      <th>3</th>\n",
       "      <td>10147994</td>\n",
       "      <td>1990.80</td>\n",
       "      <td>2526.27</td>\n",
       "      <td>2756.32</td>\n",
       "      <td>2710.05</td>\n",
       "      <td>3138.41</td>\n",
       "      <td>3258.9</td>\n",
       "      <td>3895.38</td>\n",
       "      <td>4052.00</td>\n",
       "      <td>4230.21</td>\n",
       "      <td>...</td>\n",
       "      <td>0.0</td>\n",
       "      <td>0.0</td>\n",
       "      <td>0.0</td>\n",
       "      <td>0.0</td>\n",
       "      <td>0.0</td>\n",
       "      <td>0.0</td>\n",
       "      <td>0.0</td>\n",
       "      <td>0.0</td>\n",
       "      <td>0.0</td>\n",
       "      <td>0.0</td>\n",
       "    </tr>\n",
       "    <tr>\n",
       "      <th>4</th>\n",
       "      <td>10152808</td>\n",
       "      <td>14756.56</td>\n",
       "      <td>14394.80</td>\n",
       "      <td>13853.16</td>\n",
       "      <td>14499.31</td>\n",
       "      <td>14728.48</td>\n",
       "      <td>14525.0</td>\n",
       "      <td>14343.00</td>\n",
       "      <td>14034.00</td>\n",
       "      <td>14389.20</td>\n",
       "      <td>...</td>\n",
       "      <td>0.0</td>\n",
       "      <td>0.0</td>\n",
       "      <td>0.0</td>\n",
       "      <td>0.0</td>\n",
       "      <td>0.0</td>\n",
       "      <td>0.0</td>\n",
       "      <td>0.0</td>\n",
       "      <td>0.0</td>\n",
       "      <td>0.0</td>\n",
       "      <td>0.0</td>\n",
       "    </tr>\n",
       "  </tbody>\n",
       "</table>\n",
       "<p>5 rows × 49 columns</p>\n",
       "</div>"
      ],
      "text/plain": [
       "    ID_CPTE  total_balance_01_month  total_balance_02_month  \\\n",
       "0  10074849                   43.43                  231.00   \n",
       "1  10086539                  546.00                  772.65   \n",
       "2  10140908                 3822.04                 3926.90   \n",
       "3  10147994                 1990.80                 2526.27   \n",
       "4  10152808                14756.56                14394.80   \n",
       "\n",
       "   total_balance_03_month  total_balance_04_month  total_balance_05_month  \\\n",
       "0                    0.00                  617.11                   10.40   \n",
       "1                  508.00                  667.68                  988.79   \n",
       "2                 3512.78                 3533.25                 3212.00   \n",
       "3                 2756.32                 2710.05                 3138.41   \n",
       "4                13853.16                14499.31                14728.48   \n",
       "\n",
       "   total_balance_06_month  total_balance_07_month  total_balance_08_month  \\\n",
       "0                   344.5                  185.11                    8.24   \n",
       "1                  1407.6                  290.85                  754.80   \n",
       "2                  3294.9                 2983.90                 2873.52   \n",
       "3                  3258.9                 3895.38                 4052.00   \n",
       "4                 14525.0                14343.00                14034.00   \n",
       "\n",
       "   total_balance_09_month         ...           delq_cycle_03_month  \\\n",
       "0                  396.93         ...                           0.0   \n",
       "1                  998.58         ...                           0.0   \n",
       "2                 2657.40         ...                           2.0   \n",
       "3                 4230.21         ...                           0.0   \n",
       "4                14389.20         ...                           0.0   \n",
       "\n",
       "   delq_cycle_04_month  delq_cycle_05_month  delq_cycle_06_month  \\\n",
       "0                  0.0                  0.0                  0.0   \n",
       "1                  0.0                  0.0                  0.0   \n",
       "2                  2.0                  1.0                  2.0   \n",
       "3                  0.0                  0.0                  0.0   \n",
       "4                  0.0                  0.0                  0.0   \n",
       "\n",
       "   delq_cycle_07_month  delq_cycle_08_month  delq_cycle_09_month  \\\n",
       "0                  0.0                  0.0                  0.0   \n",
       "1                  0.0                  0.0                  0.0   \n",
       "2                  0.0                  0.0                  0.0   \n",
       "3                  0.0                  0.0                  0.0   \n",
       "4                  0.0                  0.0                  0.0   \n",
       "\n",
       "   delq_cycle_10_month  delq_cycle_11_month  delq_cycle_12_month  \n",
       "0                  0.0                  0.0                  0.0  \n",
       "1                  0.0                  0.0                  0.0  \n",
       "2                  0.0                  1.0                  1.0  \n",
       "3                  0.0                  0.0                  0.0  \n",
       "4                  0.0                  0.0                  0.0  \n",
       "\n",
       "[5 rows x 49 columns]"
      ]
     },
     "execution_count": 68,
     "metadata": {},
     "output_type": "execute_result"
    }
   ],
   "source": [
    "tmp.head()"
   ]
  },
  {
   "cell_type": "code",
   "execution_count": 69,
   "metadata": {},
   "outputs": [],
   "source": [
    "tmp = payment_transaction.merge(tmp, on='ID_CPTE', how='right')"
   ]
  },
  {
   "cell_type": "code",
   "execution_count": 70,
   "metadata": {},
   "outputs": [
    {
     "data": {
      "text/plain": [
       "5100"
      ]
     },
     "execution_count": 70,
     "metadata": {},
     "output_type": "execute_result"
    }
   ],
   "source": [
    "len(tmp)"
   ]
  },
  {
   "cell_type": "code",
   "execution_count": 71,
   "metadata": {},
   "outputs": [],
   "source": [
    "transaction_col = tmp.iloc[:, :12].columns\n",
    "\n",
    "for col in transaction_col:\n",
    "    tmp[col] = tmp[col].fillna(tmp[tmp[col].notna()][col].mean())"
   ]
  },
  {
   "cell_type": "code",
   "execution_count": 72,
   "metadata": {},
   "outputs": [],
   "source": [
    "tmp = tmp.fillna(0)\n",
    "tmp = tmp.sample(frac=1)"
   ]
  },
  {
   "cell_type": "code",
   "execution_count": 74,
   "metadata": {},
   "outputs": [],
   "source": [
    "tmp = tmp.set_index(['ID_CPTE'])"
   ]
  },
  {
   "cell_type": "code",
   "execution_count": 87,
   "metadata": {},
   "outputs": [],
   "source": [
    "from sklearn.decomposition import PCA\n",
    "pca = PCA(n_components=30)\n",
    "principalComponents = pca.fit_transform(tmp)"
   ]
  },
  {
   "cell_type": "code",
   "execution_count": 54,
   "metadata": {},
   "outputs": [],
   "source": [
    "from sklearn.linear_model import LogisticRegression"
   ]
  },
  {
   "cell_type": "code",
   "execution_count": 55,
   "metadata": {},
   "outputs": [],
   "source": [
    "from sklearn.externals import joblib"
   ]
  },
  {
   "cell_type": "code",
   "execution_count": 85,
   "metadata": {},
   "outputs": [],
   "source": [
    "clf = joblib.load('logistic_model.pkl')"
   ]
  },
  {
   "cell_type": "code",
   "execution_count": 88,
   "metadata": {},
   "outputs": [],
   "source": [
    "predict = clf.predict(principalComponents)"
   ]
  },
  {
   "cell_type": "code",
   "execution_count": 89,
   "metadata": {},
   "outputs": [],
   "source": [
    "tmp['Default'] = predict"
   ]
  },
  {
   "cell_type": "code",
   "execution_count": 90,
   "metadata": {},
   "outputs": [],
   "source": [
    "result = tmp.reset_index()[['ID_CPTE', 'Default']]"
   ]
  },
  {
   "cell_type": "code",
   "execution_count": 92,
   "metadata": {},
   "outputs": [],
   "source": [
    "result.to_csv('results.csv')"
   ]
  }
 ],
 "metadata": {
  "kernelspec": {
   "display_name": "Python 3",
   "language": "python",
   "name": "python3"
  },
  "language_info": {
   "codemirror_mode": {
    "name": "ipython",
    "version": 3
   },
   "file_extension": ".py",
   "mimetype": "text/x-python",
   "name": "python",
   "nbconvert_exporter": "python",
   "pygments_lexer": "ipython3",
   "version": "3.6.5"
  }
 },
 "nbformat": 4,
 "nbformat_minor": 2
}
