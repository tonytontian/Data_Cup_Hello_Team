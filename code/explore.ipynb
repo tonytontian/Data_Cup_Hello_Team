{
 "cells": [
  {
   "cell_type": "code",
   "execution_count": 1,
   "metadata": {},
   "outputs": [
    {
     "name": "stderr",
     "output_type": "stream",
     "text": [
      "/Library/Frameworks/Python.framework/Versions/3.6/lib/python3.6/site-packages/sklearn/cross_validation.py:41: DeprecationWarning: This module was deprecated in version 0.18 in favor of the model_selection module into which all the refactored classes and functions are moved. Also note that the interface of the new CV iterators are different from that of this module. This module will be removed in 0.20.\n",
      "  \"This module will be removed in 0.20.\", DeprecationWarning)\n"
     ]
    }
   ],
   "source": [
    "import numpy as np\n",
    "import pandas as pd\n",
    "import lightgbm as lgb\n",
    "from sklearn.cross_validation import train_test_split\n",
    "from sklearn.model_selection import GridSearchCV\n",
    "import matplotlib as plt"
   ]
  },
  {
   "cell_type": "code",
   "execution_count": 2,
   "metadata": {},
   "outputs": [
    {
     "data": {
      "text/html": [
       "<div>\n",
       "<style scoped>\n",
       "    .dataframe tbody tr th:only-of-type {\n",
       "        vertical-align: middle;\n",
       "    }\n",
       "\n",
       "    .dataframe tbody tr th {\n",
       "        vertical-align: top;\n",
       "    }\n",
       "\n",
       "    .dataframe thead th {\n",
       "        text-align: right;\n",
       "    }\n",
       "</style>\n",
       "<table border=\"1\" class=\"dataframe\">\n",
       "  <thead>\n",
       "    <tr style=\"text-align: right;\">\n",
       "      <th></th>\n",
       "      <th>ID_CPTE</th>\n",
       "      <th>PERIODID_MY</th>\n",
       "      <th>StatementDate</th>\n",
       "      <th>CurrentTotalBalance</th>\n",
       "      <th>CashBalance</th>\n",
       "      <th>CreditLimit</th>\n",
       "      <th>DelqCycle</th>\n",
       "    </tr>\n",
       "  </thead>\n",
       "  <tbody>\n",
       "    <tr>\n",
       "      <th>0</th>\n",
       "      <td>99690111</td>\n",
       "      <td>2015-05-01</td>\n",
       "      <td>2015-05-03</td>\n",
       "      <td>8497.84</td>\n",
       "      <td>4293.12</td>\n",
       "      <td>16200.0</td>\n",
       "      <td>0</td>\n",
       "    </tr>\n",
       "    <tr>\n",
       "      <th>1</th>\n",
       "      <td>99690111</td>\n",
       "      <td>2014-11-01</td>\n",
       "      <td>2014-11-03</td>\n",
       "      <td>866.00</td>\n",
       "      <td>0.00</td>\n",
       "      <td>12000.0</td>\n",
       "      <td>0</td>\n",
       "    </tr>\n",
       "    <tr>\n",
       "      <th>2</th>\n",
       "      <td>99690111</td>\n",
       "      <td>2015-06-01</td>\n",
       "      <td>2015-05-31</td>\n",
       "      <td>10790.95</td>\n",
       "      <td>5224.44</td>\n",
       "      <td>16200.0</td>\n",
       "      <td>0</td>\n",
       "    </tr>\n",
       "    <tr>\n",
       "      <th>3</th>\n",
       "      <td>99690111</td>\n",
       "      <td>2015-10-01</td>\n",
       "      <td>2015-10-04</td>\n",
       "      <td>12388.46</td>\n",
       "      <td>4786.08</td>\n",
       "      <td>16200.0</td>\n",
       "      <td>0</td>\n",
       "    </tr>\n",
       "    <tr>\n",
       "      <th>4</th>\n",
       "      <td>99690111</td>\n",
       "      <td>2015-11-01</td>\n",
       "      <td>2015-11-02</td>\n",
       "      <td>12746.50</td>\n",
       "      <td>4818.48</td>\n",
       "      <td>16200.0</td>\n",
       "      <td>0</td>\n",
       "    </tr>\n",
       "    <tr>\n",
       "      <th>5</th>\n",
       "      <td>99690111</td>\n",
       "      <td>2015-08-01</td>\n",
       "      <td>2015-08-02</td>\n",
       "      <td>10610.05</td>\n",
       "      <td>4753.35</td>\n",
       "      <td>16200.0</td>\n",
       "      <td>0</td>\n",
       "    </tr>\n",
       "    <tr>\n",
       "      <th>6</th>\n",
       "      <td>99690111</td>\n",
       "      <td>2015-09-01</td>\n",
       "      <td>2015-08-30</td>\n",
       "      <td>11417.12</td>\n",
       "      <td>4616.46</td>\n",
       "      <td>16200.0</td>\n",
       "      <td>0</td>\n",
       "    </tr>\n",
       "    <tr>\n",
       "      <th>7</th>\n",
       "      <td>99690111</td>\n",
       "      <td>2014-12-01</td>\n",
       "      <td>2014-12-03</td>\n",
       "      <td>1151.85</td>\n",
       "      <td>0.00</td>\n",
       "      <td>12000.0</td>\n",
       "      <td>0</td>\n",
       "    </tr>\n",
       "    <tr>\n",
       "      <th>8</th>\n",
       "      <td>99690111</td>\n",
       "      <td>2015-02-01</td>\n",
       "      <td>2015-01-31</td>\n",
       "      <td>4045.67</td>\n",
       "      <td>1148.45</td>\n",
       "      <td>16200.0</td>\n",
       "      <td>0</td>\n",
       "    </tr>\n",
       "    <tr>\n",
       "      <th>9</th>\n",
       "      <td>99690111</td>\n",
       "      <td>2015-12-01</td>\n",
       "      <td>2015-11-30</td>\n",
       "      <td>13119.60</td>\n",
       "      <td>4791.44</td>\n",
       "      <td>16200.0</td>\n",
       "      <td>0</td>\n",
       "    </tr>\n",
       "  </tbody>\n",
       "</table>\n",
       "</div>"
      ],
      "text/plain": [
       "    ID_CPTE PERIODID_MY StatementDate  CurrentTotalBalance  CashBalance  \\\n",
       "0  99690111  2015-05-01    2015-05-03              8497.84      4293.12   \n",
       "1  99690111  2014-11-01    2014-11-03               866.00         0.00   \n",
       "2  99690111  2015-06-01    2015-05-31             10790.95      5224.44   \n",
       "3  99690111  2015-10-01    2015-10-04             12388.46      4786.08   \n",
       "4  99690111  2015-11-01    2015-11-02             12746.50      4818.48   \n",
       "5  99690111  2015-08-01    2015-08-02             10610.05      4753.35   \n",
       "6  99690111  2015-09-01    2015-08-30             11417.12      4616.46   \n",
       "7  99690111  2014-12-01    2014-12-03              1151.85         0.00   \n",
       "8  99690111  2015-02-01    2015-01-31              4045.67      1148.45   \n",
       "9  99690111  2015-12-01    2015-11-30             13119.60      4791.44   \n",
       "\n",
       "   CreditLimit  DelqCycle  \n",
       "0      16200.0          0  \n",
       "1      12000.0          0  \n",
       "2      16200.0          0  \n",
       "3      16200.0          0  \n",
       "4      16200.0          0  \n",
       "5      16200.0          0  \n",
       "6      16200.0          0  \n",
       "7      12000.0          0  \n",
       "8      16200.0          0  \n",
       "9      16200.0          0  "
      ]
     },
     "execution_count": 2,
     "metadata": {},
     "output_type": "execute_result"
    }
   ],
   "source": [
    "pd.read_csv(\"../raw_data/facturation_train.csv\").head(10)"
   ]
  },
  {
   "cell_type": "code",
   "execution_count": 3,
   "metadata": {},
   "outputs": [
    {
     "data": {
      "text/html": [
       "<div>\n",
       "<style scoped>\n",
       "    .dataframe tbody tr th:only-of-type {\n",
       "        vertical-align: middle;\n",
       "    }\n",
       "\n",
       "    .dataframe tbody tr th {\n",
       "        vertical-align: top;\n",
       "    }\n",
       "\n",
       "    .dataframe thead th {\n",
       "        text-align: right;\n",
       "    }\n",
       "</style>\n",
       "<table border=\"1\" class=\"dataframe\">\n",
       "  <thead>\n",
       "    <tr style=\"text-align: right;\">\n",
       "      <th></th>\n",
       "      <th>ID_CPTE</th>\n",
       "      <th>PERIODID_MY</th>\n",
       "      <th>Default</th>\n",
       "    </tr>\n",
       "  </thead>\n",
       "  <tbody>\n",
       "    <tr>\n",
       "      <th>0</th>\n",
       "      <td>99690111</td>\n",
       "      <td>2015-12-01</td>\n",
       "      <td>0</td>\n",
       "    </tr>\n",
       "    <tr>\n",
       "      <th>1</th>\n",
       "      <td>57427180</td>\n",
       "      <td>2012-12-01</td>\n",
       "      <td>0</td>\n",
       "    </tr>\n",
       "    <tr>\n",
       "      <th>2</th>\n",
       "      <td>29617912</td>\n",
       "      <td>2015-12-01</td>\n",
       "      <td>0</td>\n",
       "    </tr>\n",
       "    <tr>\n",
       "      <th>3</th>\n",
       "      <td>61632809</td>\n",
       "      <td>2015-12-01</td>\n",
       "      <td>0</td>\n",
       "    </tr>\n",
       "    <tr>\n",
       "      <th>4</th>\n",
       "      <td>14117855</td>\n",
       "      <td>2013-12-01</td>\n",
       "      <td>0</td>\n",
       "    </tr>\n",
       "    <tr>\n",
       "      <th>5</th>\n",
       "      <td>23700394</td>\n",
       "      <td>2013-12-01</td>\n",
       "      <td>0</td>\n",
       "    </tr>\n",
       "    <tr>\n",
       "      <th>6</th>\n",
       "      <td>27881705</td>\n",
       "      <td>2012-12-01</td>\n",
       "      <td>0</td>\n",
       "    </tr>\n",
       "    <tr>\n",
       "      <th>7</th>\n",
       "      <td>46100731</td>\n",
       "      <td>2012-12-01</td>\n",
       "      <td>0</td>\n",
       "    </tr>\n",
       "    <tr>\n",
       "      <th>8</th>\n",
       "      <td>58512689</td>\n",
       "      <td>2014-12-01</td>\n",
       "      <td>0</td>\n",
       "    </tr>\n",
       "    <tr>\n",
       "      <th>9</th>\n",
       "      <td>24661392</td>\n",
       "      <td>2016-12-01</td>\n",
       "      <td>0</td>\n",
       "    </tr>\n",
       "  </tbody>\n",
       "</table>\n",
       "</div>"
      ],
      "text/plain": [
       "    ID_CPTE PERIODID_MY  Default\n",
       "0  99690111  2015-12-01        0\n",
       "1  57427180  2012-12-01        0\n",
       "2  29617912  2015-12-01        0\n",
       "3  61632809  2015-12-01        0\n",
       "4  14117855  2013-12-01        0\n",
       "5  23700394  2013-12-01        0\n",
       "6  27881705  2012-12-01        0\n",
       "7  46100731  2012-12-01        0\n",
       "8  58512689  2014-12-01        0\n",
       "9  24661392  2016-12-01        0"
      ]
     },
     "execution_count": 3,
     "metadata": {},
     "output_type": "execute_result"
    }
   ],
   "source": [
    "performance_train = pd.read_csv(\"../raw_data/performance_train.csv\")\n",
    "performance_train.head(10)"
   ]
  },
  {
   "cell_type": "code",
   "execution_count": 4,
   "metadata": {},
   "outputs": [
    {
     "data": {
      "text/html": [
       "<div>\n",
       "<style scoped>\n",
       "    .dataframe tbody tr th:only-of-type {\n",
       "        vertical-align: middle;\n",
       "    }\n",
       "\n",
       "    .dataframe tbody tr th {\n",
       "        vertical-align: top;\n",
       "    }\n",
       "\n",
       "    .dataframe thead th {\n",
       "        text-align: right;\n",
       "    }\n",
       "</style>\n",
       "<table border=\"1\" class=\"dataframe\">\n",
       "  <thead>\n",
       "    <tr style=\"text-align: right;\">\n",
       "      <th></th>\n",
       "      <th>ID_CPTE</th>\n",
       "      <th>TRANSACTION_AMT</th>\n",
       "      <th>TRANSACTION_DTTM</th>\n",
       "      <th>PAYMENT_REVERSAL_XFLG</th>\n",
       "    </tr>\n",
       "  </thead>\n",
       "  <tbody>\n",
       "    <tr>\n",
       "      <th>0</th>\n",
       "      <td>99690111</td>\n",
       "      <td>208.0</td>\n",
       "      <td>2015-04-26 00:00:00</td>\n",
       "      <td>Q</td>\n",
       "    </tr>\n",
       "    <tr>\n",
       "      <th>1</th>\n",
       "      <td>99690111</td>\n",
       "      <td>176.8</td>\n",
       "      <td>2015-05-28 00:00:00</td>\n",
       "      <td>Q</td>\n",
       "    </tr>\n",
       "    <tr>\n",
       "      <th>2</th>\n",
       "      <td>99690111</td>\n",
       "      <td>200.0</td>\n",
       "      <td>2015-03-27 04:00:00</td>\n",
       "      <td>Q</td>\n",
       "    </tr>\n",
       "    <tr>\n",
       "      <th>3</th>\n",
       "      <td>99690111</td>\n",
       "      <td>80.8</td>\n",
       "      <td>2015-04-02 00:00:00</td>\n",
       "      <td>Q</td>\n",
       "    </tr>\n",
       "    <tr>\n",
       "      <th>4</th>\n",
       "      <td>99690111</td>\n",
       "      <td>250.0</td>\n",
       "      <td>2015-11-24 00:00:00</td>\n",
       "      <td>Q</td>\n",
       "    </tr>\n",
       "    <tr>\n",
       "      <th>5</th>\n",
       "      <td>99690111</td>\n",
       "      <td>273.0</td>\n",
       "      <td>2015-12-26 00:00:00</td>\n",
       "      <td>Q</td>\n",
       "    </tr>\n",
       "    <tr>\n",
       "      <th>6</th>\n",
       "      <td>99690111</td>\n",
       "      <td>267.5</td>\n",
       "      <td>2015-08-23 00:00:00</td>\n",
       "      <td>Q</td>\n",
       "    </tr>\n",
       "    <tr>\n",
       "      <th>7</th>\n",
       "      <td>99690111</td>\n",
       "      <td>618.0</td>\n",
       "      <td>2015-07-27 00:00:00</td>\n",
       "      <td>Q</td>\n",
       "    </tr>\n",
       "    <tr>\n",
       "      <th>8</th>\n",
       "      <td>99690111</td>\n",
       "      <td>226.6</td>\n",
       "      <td>2015-09-30 00:00:00</td>\n",
       "      <td>Q</td>\n",
       "    </tr>\n",
       "    <tr>\n",
       "      <th>9</th>\n",
       "      <td>99690111</td>\n",
       "      <td>244.8</td>\n",
       "      <td>2015-10-27 00:00:00</td>\n",
       "      <td>Q</td>\n",
       "    </tr>\n",
       "  </tbody>\n",
       "</table>\n",
       "</div>"
      ],
      "text/plain": [
       "    ID_CPTE  TRANSACTION_AMT     TRANSACTION_DTTM PAYMENT_REVERSAL_XFLG\n",
       "0  99690111            208.0  2015-04-26 00:00:00                     Q\n",
       "1  99690111            176.8  2015-05-28 00:00:00                     Q\n",
       "2  99690111            200.0  2015-03-27 04:00:00                     Q\n",
       "3  99690111             80.8  2015-04-02 00:00:00                     Q\n",
       "4  99690111            250.0  2015-11-24 00:00:00                     Q\n",
       "5  99690111            273.0  2015-12-26 00:00:00                     Q\n",
       "6  99690111            267.5  2015-08-23 00:00:00                     Q\n",
       "7  99690111            618.0  2015-07-27 00:00:00                     Q\n",
       "8  99690111            226.6  2015-09-30 00:00:00                     Q\n",
       "9  99690111            244.8  2015-10-27 00:00:00                     Q"
      ]
     },
     "execution_count": 4,
     "metadata": {},
     "output_type": "execute_result"
    }
   ],
   "source": [
    "paiements_train = pd.read_csv(\"../raw_data/paiements_train.csv\")\n",
    "paiements_train.head(10)"
   ]
  },
  {
   "cell_type": "code",
   "execution_count": 5,
   "metadata": {},
   "outputs": [
    {
     "data": {
      "text/html": [
       "<div>\n",
       "<style scoped>\n",
       "    .dataframe tbody tr th:only-of-type {\n",
       "        vertical-align: middle;\n",
       "    }\n",
       "\n",
       "    .dataframe tbody tr th {\n",
       "        vertical-align: top;\n",
       "    }\n",
       "\n",
       "    .dataframe thead th {\n",
       "        text-align: right;\n",
       "    }\n",
       "</style>\n",
       "<table border=\"1\" class=\"dataframe\">\n",
       "  <thead>\n",
       "    <tr style=\"text-align: right;\">\n",
       "      <th></th>\n",
       "      <th>ID_CPTE</th>\n",
       "      <th>MERCHANT_CATEGORY_XCD</th>\n",
       "      <th>MERCHANT_CITY_NAME</th>\n",
       "      <th>MERCHANT_COUNTRY_XCD</th>\n",
       "      <th>DECISION_XCD</th>\n",
       "      <th>PRIOR_CREDIT_LIMIT_AMT</th>\n",
       "      <th>TRANSACTION_AMT</th>\n",
       "      <th>TRANSACTION_CATEGORY_XCD</th>\n",
       "      <th>TRANSACTION_DTTM</th>\n",
       "      <th>TRANSACTION_TYPE_XCD</th>\n",
       "      <th>SICGROUP</th>\n",
       "    </tr>\n",
       "  </thead>\n",
       "  <tbody>\n",
       "    <tr>\n",
       "      <th>0</th>\n",
       "      <td>99690111</td>\n",
       "      <td>A</td>\n",
       "      <td>365767</td>\n",
       "      <td>DP</td>\n",
       "      <td>C</td>\n",
       "      <td>5927.0</td>\n",
       "      <td>52.53</td>\n",
       "      <td>E</td>\n",
       "      <td>2015-06-20 12:00:00</td>\n",
       "      <td>F</td>\n",
       "      <td>AN</td>\n",
       "    </tr>\n",
       "    <tr>\n",
       "      <th>1</th>\n",
       "      <td>99690111</td>\n",
       "      <td>L</td>\n",
       "      <td>2635650</td>\n",
       "      <td>DP</td>\n",
       "      <td>C</td>\n",
       "      <td>13343.0</td>\n",
       "      <td>28.35</td>\n",
       "      <td>B</td>\n",
       "      <td>2015-01-25 12:00:00</td>\n",
       "      <td>F</td>\n",
       "      <td>AN</td>\n",
       "    </tr>\n",
       "    <tr>\n",
       "      <th>2</th>\n",
       "      <td>99690111</td>\n",
       "      <td>L</td>\n",
       "      <td>2635650</td>\n",
       "      <td>DP</td>\n",
       "      <td>C</td>\n",
       "      <td>13343.0</td>\n",
       "      <td>0.00</td>\n",
       "      <td>A</td>\n",
       "      <td>2015-01-26 12:00:00</td>\n",
       "      <td>G</td>\n",
       "      <td>AN</td>\n",
       "    </tr>\n",
       "    <tr>\n",
       "      <th>3</th>\n",
       "      <td>99690111</td>\n",
       "      <td>J</td>\n",
       "      <td>680536</td>\n",
       "      <td>AF</td>\n",
       "      <td>C</td>\n",
       "      <td>9430.0</td>\n",
       "      <td>0.00</td>\n",
       "      <td>A</td>\n",
       "      <td>2015-03-25 08:00:00</td>\n",
       "      <td>G</td>\n",
       "      <td>AW</td>\n",
       "    </tr>\n",
       "    <tr>\n",
       "      <th>4</th>\n",
       "      <td>99690111</td>\n",
       "      <td>J</td>\n",
       "      <td>680536</td>\n",
       "      <td>AF</td>\n",
       "      <td>C</td>\n",
       "      <td>10600.0</td>\n",
       "      <td>0.00</td>\n",
       "      <td>A</td>\n",
       "      <td>2015-03-03 08:00:00</td>\n",
       "      <td>G</td>\n",
       "      <td>AW</td>\n",
       "    </tr>\n",
       "    <tr>\n",
       "      <th>5</th>\n",
       "      <td>99690111</td>\n",
       "      <td>J</td>\n",
       "      <td>680536</td>\n",
       "      <td>AF</td>\n",
       "      <td>C</td>\n",
       "      <td>12203.0</td>\n",
       "      <td>7.28</td>\n",
       "      <td>C</td>\n",
       "      <td>2015-02-16 16:00:00</td>\n",
       "      <td>B</td>\n",
       "      <td>AW</td>\n",
       "    </tr>\n",
       "    <tr>\n",
       "      <th>6</th>\n",
       "      <td>99690111</td>\n",
       "      <td>J</td>\n",
       "      <td>680536</td>\n",
       "      <td>AF</td>\n",
       "      <td>C</td>\n",
       "      <td>13314.0</td>\n",
       "      <td>7.00</td>\n",
       "      <td>C</td>\n",
       "      <td>2015-01-20 12:00:00</td>\n",
       "      <td>B</td>\n",
       "      <td>AW</td>\n",
       "    </tr>\n",
       "    <tr>\n",
       "      <th>7</th>\n",
       "      <td>99690111</td>\n",
       "      <td>J</td>\n",
       "      <td>680536</td>\n",
       "      <td>AF</td>\n",
       "      <td>C</td>\n",
       "      <td>9696.0</td>\n",
       "      <td>7.14</td>\n",
       "      <td>C</td>\n",
       "      <td>2015-01-11 08:00:00</td>\n",
       "      <td>B</td>\n",
       "      <td>AW</td>\n",
       "    </tr>\n",
       "    <tr>\n",
       "      <th>8</th>\n",
       "      <td>99690111</td>\n",
       "      <td>J</td>\n",
       "      <td>680536</td>\n",
       "      <td>AF</td>\n",
       "      <td>C</td>\n",
       "      <td>12203.0</td>\n",
       "      <td>0.00</td>\n",
       "      <td>A</td>\n",
       "      <td>2015-02-20 16:00:00</td>\n",
       "      <td>G</td>\n",
       "      <td>AW</td>\n",
       "    </tr>\n",
       "    <tr>\n",
       "      <th>9</th>\n",
       "      <td>99690111</td>\n",
       "      <td>J</td>\n",
       "      <td>680536</td>\n",
       "      <td>AF</td>\n",
       "      <td>C</td>\n",
       "      <td>10600.0</td>\n",
       "      <td>6.36</td>\n",
       "      <td>C</td>\n",
       "      <td>2015-03-04 08:00:00</td>\n",
       "      <td>B</td>\n",
       "      <td>AW</td>\n",
       "    </tr>\n",
       "  </tbody>\n",
       "</table>\n",
       "</div>"
      ],
      "text/plain": [
       "    ID_CPTE MERCHANT_CATEGORY_XCD  MERCHANT_CITY_NAME MERCHANT_COUNTRY_XCD  \\\n",
       "0  99690111                     A              365767                   DP   \n",
       "1  99690111                     L             2635650                   DP   \n",
       "2  99690111                     L             2635650                   DP   \n",
       "3  99690111                     J              680536                   AF   \n",
       "4  99690111                     J              680536                   AF   \n",
       "5  99690111                     J              680536                   AF   \n",
       "6  99690111                     J              680536                   AF   \n",
       "7  99690111                     J              680536                   AF   \n",
       "8  99690111                     J              680536                   AF   \n",
       "9  99690111                     J              680536                   AF   \n",
       "\n",
       "  DECISION_XCD  PRIOR_CREDIT_LIMIT_AMT  TRANSACTION_AMT  \\\n",
       "0            C                  5927.0            52.53   \n",
       "1            C                 13343.0            28.35   \n",
       "2            C                 13343.0             0.00   \n",
       "3            C                  9430.0             0.00   \n",
       "4            C                 10600.0             0.00   \n",
       "5            C                 12203.0             7.28   \n",
       "6            C                 13314.0             7.00   \n",
       "7            C                  9696.0             7.14   \n",
       "8            C                 12203.0             0.00   \n",
       "9            C                 10600.0             6.36   \n",
       "\n",
       "  TRANSACTION_CATEGORY_XCD     TRANSACTION_DTTM TRANSACTION_TYPE_XCD SICGROUP  \n",
       "0                        E  2015-06-20 12:00:00                    F       AN  \n",
       "1                        B  2015-01-25 12:00:00                    F       AN  \n",
       "2                        A  2015-01-26 12:00:00                    G       AN  \n",
       "3                        A  2015-03-25 08:00:00                    G       AW  \n",
       "4                        A  2015-03-03 08:00:00                    G       AW  \n",
       "5                        C  2015-02-16 16:00:00                    B       AW  \n",
       "6                        C  2015-01-20 12:00:00                    B       AW  \n",
       "7                        C  2015-01-11 08:00:00                    B       AW  \n",
       "8                        A  2015-02-20 16:00:00                    G       AW  \n",
       "9                        C  2015-03-04 08:00:00                    B       AW  "
      ]
     },
     "execution_count": 5,
     "metadata": {},
     "output_type": "execute_result"
    }
   ],
   "source": [
    "transactions_train = pd.read_csv(\"../raw_data/transactions_train.csv\")\n",
    "transactions_train.head(10)"
   ]
  },
  {
   "cell_type": "code",
   "execution_count": 71,
   "metadata": {},
   "outputs": [],
   "source": [
    "FeatureDataSet = pd.read_csv(\"../intermidiate_data/20180709_2_features.csv\")\n",
    "X_test = pd.read_csv(\"../intermidiate_data/20180709_2_features_test.csv\")"
   ]
  },
  {
   "cell_type": "code",
   "execution_count": 7,
   "metadata": {},
   "outputs": [],
   "source": [
    "Input_y = FeatureDataSet[\"default\"]\n",
    "Input_X = FeatureDataSet.drop(columns = [\"default\"])"
   ]
  },
  {
   "cell_type": "code",
   "execution_count": 8,
   "metadata": {},
   "outputs": [],
   "source": [
    "X_train, X_validation, y_train, y_validation = train_test_split(Input_X, Input_y, test_size = 0.2, random_state = 20)"
   ]
  },
  {
   "cell_type": "code",
   "execution_count": 12,
   "metadata": {},
   "outputs": [
    {
     "name": "stdout",
     "output_type": "stream",
     "text": [
      "[1]\tvalid_0's binary_logloss: 0.469647\tvalid_0's auc: 0.837907\n",
      "Training until validation scores don't improve for 5 rounds.\n",
      "[2]\tvalid_0's binary_logloss: 0.450215\tvalid_0's auc: 0.844325\n",
      "[3]\tvalid_0's binary_logloss: 0.433524\tvalid_0's auc: 0.846203\n",
      "[4]\tvalid_0's binary_logloss: 0.42099\tvalid_0's auc: 0.848016\n",
      "[5]\tvalid_0's binary_logloss: 0.410131\tvalid_0's auc: 0.851509\n",
      "[6]\tvalid_0's binary_logloss: 0.400447\tvalid_0's auc: 0.854392\n",
      "[7]\tvalid_0's binary_logloss: 0.392604\tvalid_0's auc: 0.856369\n",
      "[8]\tvalid_0's binary_logloss: 0.385344\tvalid_0's auc: 0.858905\n",
      "[9]\tvalid_0's binary_logloss: 0.379321\tvalid_0's auc: 0.860357\n",
      "[10]\tvalid_0's binary_logloss: 0.373554\tvalid_0's auc: 0.862528\n",
      "Did not meet early stopping. Best iteration is:\n",
      "[10]\tvalid_0's binary_logloss: 0.373554\tvalid_0's auc: 0.862528\n"
     ]
    },
    {
     "name": "stderr",
     "output_type": "stream",
     "text": [
      "/Library/Frameworks/Python.framework/Versions/3.6/lib/python3.6/site-packages/sklearn/preprocessing/label.py:151: DeprecationWarning: The truth value of an empty array is ambiguous. Returning False, but in future this will result in an error. Use `array.size > 0` to check that an array is not empty.\n",
      "  if diff:\n",
      "/Library/Frameworks/Python.framework/Versions/3.6/lib/python3.6/site-packages/sklearn/preprocessing/label.py:151: DeprecationWarning: The truth value of an empty array is ambiguous. Returning False, but in future this will result in an error. Use `array.size > 0` to check that an array is not empty.\n",
      "  if diff:\n"
     ]
    },
    {
     "name": "stdout",
     "output_type": "stream",
     "text": [
      "[1]\tvalid_0's binary_logloss: 0.471715\tvalid_0's auc: 0.823479\n",
      "Training until validation scores don't improve for 5 rounds.\n",
      "[2]\tvalid_0's binary_logloss: 0.452378\tvalid_0's auc: 0.83197\n",
      "[3]\tvalid_0's binary_logloss: 0.436167\tvalid_0's auc: 0.841463\n",
      "[4]\tvalid_0's binary_logloss: 0.421961\tvalid_0's auc: 0.84586\n",
      "[5]\tvalid_0's binary_logloss: 0.410657\tvalid_0's auc: 0.84882\n",
      "[6]\tvalid_0's binary_logloss: 0.402318\tvalid_0's auc: 0.850205\n",
      "[7]\tvalid_0's binary_logloss: 0.39476\tvalid_0's auc: 0.851931\n",
      "[8]\tvalid_0's binary_logloss: 0.387508\tvalid_0's auc: 0.853874\n",
      "[9]\tvalid_0's binary_logloss: 0.381297\tvalid_0's auc: 0.855599\n",
      "[10]\tvalid_0's binary_logloss: 0.376088\tvalid_0's auc: 0.857508\n",
      "Did not meet early stopping. Best iteration is:\n",
      "[10]\tvalid_0's binary_logloss: 0.376088\tvalid_0's auc: 0.857508\n"
     ]
    },
    {
     "name": "stderr",
     "output_type": "stream",
     "text": [
      "/Library/Frameworks/Python.framework/Versions/3.6/lib/python3.6/site-packages/sklearn/preprocessing/label.py:151: DeprecationWarning: The truth value of an empty array is ambiguous. Returning False, but in future this will result in an error. Use `array.size > 0` to check that an array is not empty.\n",
      "  if diff:\n",
      "/Library/Frameworks/Python.framework/Versions/3.6/lib/python3.6/site-packages/sklearn/preprocessing/label.py:151: DeprecationWarning: The truth value of an empty array is ambiguous. Returning False, but in future this will result in an error. Use `array.size > 0` to check that an array is not empty.\n",
      "  if diff:\n"
     ]
    },
    {
     "name": "stdout",
     "output_type": "stream",
     "text": [
      "[1]\tvalid_0's binary_logloss: 0.470735\tvalid_0's auc: 0.823169\n",
      "Training until validation scores don't improve for 5 rounds.\n",
      "[2]\tvalid_0's binary_logloss: 0.450915\tvalid_0's auc: 0.844272\n",
      "[3]\tvalid_0's binary_logloss: 0.434549\tvalid_0's auc: 0.849207\n",
      "[4]\tvalid_0's binary_logloss: 0.420812\tvalid_0's auc: 0.852927\n",
      "[5]\tvalid_0's binary_logloss: 0.410605\tvalid_0's auc: 0.851846\n",
      "[6]\tvalid_0's binary_logloss: 0.402066\tvalid_0's auc: 0.853158\n",
      "[7]\tvalid_0's binary_logloss: 0.394556\tvalid_0's auc: 0.852809\n",
      "[8]\tvalid_0's binary_logloss: 0.387735\tvalid_0's auc: 0.854413\n",
      "[9]\tvalid_0's binary_logloss: 0.381917\tvalid_0's auc: 0.854194\n",
      "[10]\tvalid_0's binary_logloss: 0.376924\tvalid_0's auc: 0.856206\n",
      "Did not meet early stopping. Best iteration is:\n",
      "[10]\tvalid_0's binary_logloss: 0.376924\tvalid_0's auc: 0.856206\n"
     ]
    },
    {
     "name": "stderr",
     "output_type": "stream",
     "text": [
      "/Library/Frameworks/Python.framework/Versions/3.6/lib/python3.6/site-packages/sklearn/preprocessing/label.py:151: DeprecationWarning: The truth value of an empty array is ambiguous. Returning False, but in future this will result in an error. Use `array.size > 0` to check that an array is not empty.\n",
      "  if diff:\n",
      "/Library/Frameworks/Python.framework/Versions/3.6/lib/python3.6/site-packages/sklearn/preprocessing/label.py:151: DeprecationWarning: The truth value of an empty array is ambiguous. Returning False, but in future this will result in an error. Use `array.size > 0` to check that an array is not empty.\n",
      "  if diff:\n"
     ]
    },
    {
     "name": "stdout",
     "output_type": "stream",
     "text": [
      "[1]\tvalid_0's binary_logloss: 0.469647\tvalid_0's auc: 0.837907\n",
      "Training until validation scores don't improve for 5 rounds.\n",
      "[2]\tvalid_0's binary_logloss: 0.450215\tvalid_0's auc: 0.844325\n",
      "[3]\tvalid_0's binary_logloss: 0.433524\tvalid_0's auc: 0.846203\n",
      "[4]\tvalid_0's binary_logloss: 0.42099\tvalid_0's auc: 0.848016\n",
      "[5]\tvalid_0's binary_logloss: 0.410131\tvalid_0's auc: 0.851509\n",
      "[6]\tvalid_0's binary_logloss: 0.400447\tvalid_0's auc: 0.854392\n",
      "[7]\tvalid_0's binary_logloss: 0.392604\tvalid_0's auc: 0.856369\n",
      "[8]\tvalid_0's binary_logloss: 0.385344\tvalid_0's auc: 0.858905\n",
      "[9]\tvalid_0's binary_logloss: 0.379321\tvalid_0's auc: 0.860357\n",
      "[10]\tvalid_0's binary_logloss: 0.373554\tvalid_0's auc: 0.862528\n",
      "[11]\tvalid_0's binary_logloss: 0.369177\tvalid_0's auc: 0.862628\n",
      "[12]\tvalid_0's binary_logloss: 0.365635\tvalid_0's auc: 0.863947\n",
      "[13]\tvalid_0's binary_logloss: 0.36192\tvalid_0's auc: 0.864862\n",
      "Did not meet early stopping. Best iteration is:\n",
      "[13]\tvalid_0's binary_logloss: 0.36192\tvalid_0's auc: 0.864862\n"
     ]
    },
    {
     "name": "stderr",
     "output_type": "stream",
     "text": [
      "/Library/Frameworks/Python.framework/Versions/3.6/lib/python3.6/site-packages/sklearn/preprocessing/label.py:151: DeprecationWarning: The truth value of an empty array is ambiguous. Returning False, but in future this will result in an error. Use `array.size > 0` to check that an array is not empty.\n",
      "  if diff:\n",
      "/Library/Frameworks/Python.framework/Versions/3.6/lib/python3.6/site-packages/sklearn/preprocessing/label.py:151: DeprecationWarning: The truth value of an empty array is ambiguous. Returning False, but in future this will result in an error. Use `array.size > 0` to check that an array is not empty.\n",
      "  if diff:\n"
     ]
    },
    {
     "name": "stdout",
     "output_type": "stream",
     "text": [
      "[1]\tvalid_0's binary_logloss: 0.471715\tvalid_0's auc: 0.823479\n",
      "Training until validation scores don't improve for 5 rounds.\n",
      "[2]\tvalid_0's binary_logloss: 0.452378\tvalid_0's auc: 0.83197\n",
      "[3]\tvalid_0's binary_logloss: 0.436167\tvalid_0's auc: 0.841463\n",
      "[4]\tvalid_0's binary_logloss: 0.421961\tvalid_0's auc: 0.84586\n",
      "[5]\tvalid_0's binary_logloss: 0.410657\tvalid_0's auc: 0.84882\n",
      "[6]\tvalid_0's binary_logloss: 0.402318\tvalid_0's auc: 0.850205\n",
      "[7]\tvalid_0's binary_logloss: 0.39476\tvalid_0's auc: 0.851931\n",
      "[8]\tvalid_0's binary_logloss: 0.387508\tvalid_0's auc: 0.853874\n",
      "[9]\tvalid_0's binary_logloss: 0.381297\tvalid_0's auc: 0.855599\n",
      "[10]\tvalid_0's binary_logloss: 0.376088\tvalid_0's auc: 0.857508\n",
      "[11]\tvalid_0's binary_logloss: 0.371598\tvalid_0's auc: 0.858514\n",
      "[12]\tvalid_0's binary_logloss: 0.367786\tvalid_0's auc: 0.860197\n",
      "[13]\tvalid_0's binary_logloss: 0.36494\tvalid_0's auc: 0.860208\n",
      "Did not meet early stopping. Best iteration is:\n",
      "[13]\tvalid_0's binary_logloss: 0.36494\tvalid_0's auc: 0.860208\n"
     ]
    },
    {
     "name": "stderr",
     "output_type": "stream",
     "text": [
      "/Library/Frameworks/Python.framework/Versions/3.6/lib/python3.6/site-packages/sklearn/preprocessing/label.py:151: DeprecationWarning: The truth value of an empty array is ambiguous. Returning False, but in future this will result in an error. Use `array.size > 0` to check that an array is not empty.\n",
      "  if diff:\n",
      "/Library/Frameworks/Python.framework/Versions/3.6/lib/python3.6/site-packages/sklearn/preprocessing/label.py:151: DeprecationWarning: The truth value of an empty array is ambiguous. Returning False, but in future this will result in an error. Use `array.size > 0` to check that an array is not empty.\n",
      "  if diff:\n"
     ]
    },
    {
     "name": "stdout",
     "output_type": "stream",
     "text": [
      "[1]\tvalid_0's binary_logloss: 0.470735\tvalid_0's auc: 0.823169\n",
      "Training until validation scores don't improve for 5 rounds.\n",
      "[2]\tvalid_0's binary_logloss: 0.450915\tvalid_0's auc: 0.844272\n",
      "[3]\tvalid_0's binary_logloss: 0.434549\tvalid_0's auc: 0.849207\n",
      "[4]\tvalid_0's binary_logloss: 0.420812\tvalid_0's auc: 0.852927\n",
      "[5]\tvalid_0's binary_logloss: 0.410605\tvalid_0's auc: 0.851846\n",
      "[6]\tvalid_0's binary_logloss: 0.402066\tvalid_0's auc: 0.853158\n",
      "[7]\tvalid_0's binary_logloss: 0.394556\tvalid_0's auc: 0.852809\n",
      "[8]\tvalid_0's binary_logloss: 0.387735\tvalid_0's auc: 0.854413\n",
      "[9]\tvalid_0's binary_logloss: 0.381917\tvalid_0's auc: 0.854194\n",
      "[10]\tvalid_0's binary_logloss: 0.376924\tvalid_0's auc: 0.856206\n",
      "[11]\tvalid_0's binary_logloss: 0.372629\tvalid_0's auc: 0.856456\n",
      "[12]\tvalid_0's binary_logloss: 0.369479\tvalid_0's auc: 0.858356\n",
      "[13]\tvalid_0's binary_logloss: 0.366522\tvalid_0's auc: 0.858964\n",
      "Did not meet early stopping. Best iteration is:\n",
      "[13]\tvalid_0's binary_logloss: 0.366522\tvalid_0's auc: 0.858964\n"
     ]
    },
    {
     "name": "stderr",
     "output_type": "stream",
     "text": [
      "/Library/Frameworks/Python.framework/Versions/3.6/lib/python3.6/site-packages/sklearn/preprocessing/label.py:151: DeprecationWarning: The truth value of an empty array is ambiguous. Returning False, but in future this will result in an error. Use `array.size > 0` to check that an array is not empty.\n",
      "  if diff:\n",
      "/Library/Frameworks/Python.framework/Versions/3.6/lib/python3.6/site-packages/sklearn/preprocessing/label.py:151: DeprecationWarning: The truth value of an empty array is ambiguous. Returning False, but in future this will result in an error. Use `array.size > 0` to check that an array is not empty.\n",
      "  if diff:\n"
     ]
    },
    {
     "name": "stdout",
     "output_type": "stream",
     "text": [
      "[1]\tvalid_0's binary_logloss: 0.469647\tvalid_0's auc: 0.837907\n",
      "Training until validation scores don't improve for 5 rounds.\n",
      "[2]\tvalid_0's binary_logloss: 0.450215\tvalid_0's auc: 0.844325\n",
      "[3]\tvalid_0's binary_logloss: 0.433524\tvalid_0's auc: 0.846203\n",
      "[4]\tvalid_0's binary_logloss: 0.42099\tvalid_0's auc: 0.848016\n",
      "[5]\tvalid_0's binary_logloss: 0.410131\tvalid_0's auc: 0.851509\n",
      "[6]\tvalid_0's binary_logloss: 0.400447\tvalid_0's auc: 0.854392\n",
      "[7]\tvalid_0's binary_logloss: 0.392604\tvalid_0's auc: 0.856369\n",
      "[8]\tvalid_0's binary_logloss: 0.385344\tvalid_0's auc: 0.858905\n",
      "[9]\tvalid_0's binary_logloss: 0.379321\tvalid_0's auc: 0.860357\n",
      "[10]\tvalid_0's binary_logloss: 0.373554\tvalid_0's auc: 0.862528\n",
      "[11]\tvalid_0's binary_logloss: 0.369177\tvalid_0's auc: 0.862628\n",
      "[12]\tvalid_0's binary_logloss: 0.365635\tvalid_0's auc: 0.863947\n",
      "[13]\tvalid_0's binary_logloss: 0.36192\tvalid_0's auc: 0.864862\n",
      "[14]\tvalid_0's binary_logloss: 0.35997\tvalid_0's auc: 0.86434\n",
      "[15]\tvalid_0's binary_logloss: 0.357393\tvalid_0's auc: 0.865035\n",
      "[16]\tvalid_0's binary_logloss: 0.356227\tvalid_0's auc: 0.864051\n",
      "Did not meet early stopping. Best iteration is:\n",
      "[16]\tvalid_0's binary_logloss: 0.356227\tvalid_0's auc: 0.864051\n",
      "[1]\tvalid_0's binary_logloss: 0.471715\tvalid_0's auc: 0.823479\n",
      "Training until validation scores don't improve for 5 rounds.\n",
      "[2]\tvalid_0's binary_logloss: 0.452378\tvalid_0's auc: 0.83197\n",
      "[3]\tvalid_0's binary_logloss: 0.436167\tvalid_0's auc: 0.841463\n",
      "[4]\tvalid_0's binary_logloss: 0.421961\tvalid_0's auc: 0.84586\n",
      "[5]\tvalid_0's binary_logloss: 0.410657\tvalid_0's auc: 0.84882\n",
      "[6]\tvalid_0's binary_logloss: 0.402318\tvalid_0's auc: 0.850205\n",
      "[7]\tvalid_0's binary_logloss: 0.39476\tvalid_0's auc: 0.851931\n"
     ]
    },
    {
     "name": "stderr",
     "output_type": "stream",
     "text": [
      "/Library/Frameworks/Python.framework/Versions/3.6/lib/python3.6/site-packages/sklearn/preprocessing/label.py:151: DeprecationWarning: The truth value of an empty array is ambiguous. Returning False, but in future this will result in an error. Use `array.size > 0` to check that an array is not empty.\n",
      "  if diff:\n",
      "/Library/Frameworks/Python.framework/Versions/3.6/lib/python3.6/site-packages/sklearn/preprocessing/label.py:151: DeprecationWarning: The truth value of an empty array is ambiguous. Returning False, but in future this will result in an error. Use `array.size > 0` to check that an array is not empty.\n",
      "  if diff:\n"
     ]
    },
    {
     "name": "stdout",
     "output_type": "stream",
     "text": [
      "[8]\tvalid_0's binary_logloss: 0.387508\tvalid_0's auc: 0.853874\n",
      "[9]\tvalid_0's binary_logloss: 0.381297\tvalid_0's auc: 0.855599\n",
      "[10]\tvalid_0's binary_logloss: 0.376088\tvalid_0's auc: 0.857508\n",
      "[11]\tvalid_0's binary_logloss: 0.371598\tvalid_0's auc: 0.858514\n",
      "[12]\tvalid_0's binary_logloss: 0.367786\tvalid_0's auc: 0.860197\n",
      "[13]\tvalid_0's binary_logloss: 0.36494\tvalid_0's auc: 0.860208\n",
      "[14]\tvalid_0's binary_logloss: 0.361575\tvalid_0's auc: 0.861067\n",
      "[15]\tvalid_0's binary_logloss: 0.359197\tvalid_0's auc: 0.861659\n",
      "[16]\tvalid_0's binary_logloss: 0.357585\tvalid_0's auc: 0.861581\n",
      "Did not meet early stopping. Best iteration is:\n",
      "[16]\tvalid_0's binary_logloss: 0.357585\tvalid_0's auc: 0.861581\n"
     ]
    },
    {
     "name": "stderr",
     "output_type": "stream",
     "text": [
      "/Library/Frameworks/Python.framework/Versions/3.6/lib/python3.6/site-packages/sklearn/preprocessing/label.py:151: DeprecationWarning: The truth value of an empty array is ambiguous. Returning False, but in future this will result in an error. Use `array.size > 0` to check that an array is not empty.\n",
      "  if diff:\n",
      "/Library/Frameworks/Python.framework/Versions/3.6/lib/python3.6/site-packages/sklearn/preprocessing/label.py:151: DeprecationWarning: The truth value of an empty array is ambiguous. Returning False, but in future this will result in an error. Use `array.size > 0` to check that an array is not empty.\n",
      "  if diff:\n"
     ]
    },
    {
     "name": "stdout",
     "output_type": "stream",
     "text": [
      "[1]\tvalid_0's binary_logloss: 0.470735\tvalid_0's auc: 0.823169\n",
      "Training until validation scores don't improve for 5 rounds.\n",
      "[2]\tvalid_0's binary_logloss: 0.450915\tvalid_0's auc: 0.844272\n",
      "[3]\tvalid_0's binary_logloss: 0.434549\tvalid_0's auc: 0.849207\n",
      "[4]\tvalid_0's binary_logloss: 0.420812\tvalid_0's auc: 0.852927\n",
      "[5]\tvalid_0's binary_logloss: 0.410605\tvalid_0's auc: 0.851846\n",
      "[6]\tvalid_0's binary_logloss: 0.402066\tvalid_0's auc: 0.853158\n",
      "[7]\tvalid_0's binary_logloss: 0.394556\tvalid_0's auc: 0.852809\n",
      "[8]\tvalid_0's binary_logloss: 0.387735\tvalid_0's auc: 0.854413\n",
      "[9]\tvalid_0's binary_logloss: 0.381917\tvalid_0's auc: 0.854194\n",
      "[10]\tvalid_0's binary_logloss: 0.376924\tvalid_0's auc: 0.856206\n",
      "[11]\tvalid_0's binary_logloss: 0.372629\tvalid_0's auc: 0.856456\n",
      "[12]\tvalid_0's binary_logloss: 0.369479\tvalid_0's auc: 0.858356\n",
      "[13]\tvalid_0's binary_logloss: 0.366522\tvalid_0's auc: 0.858964\n",
      "[14]\tvalid_0's binary_logloss: 0.364396\tvalid_0's auc: 0.858769\n",
      "[15]\tvalid_0's binary_logloss: 0.361654\tvalid_0's auc: 0.859537\n",
      "[16]\tvalid_0's binary_logloss: 0.358854\tvalid_0's auc: 0.860264\n",
      "Did not meet early stopping. Best iteration is:\n",
      "[16]\tvalid_0's binary_logloss: 0.358854\tvalid_0's auc: 0.860264\n",
      "[1]\tvalid_0's binary_logloss: 0.469647\tvalid_0's auc: 0.837907\n",
      "Training until validation scores don't improve for 5 rounds.\n",
      "[2]\tvalid_0's binary_logloss: 0.450215\tvalid_0's auc: 0.844325\n",
      "[3]\tvalid_0's binary_logloss: 0.433524\tvalid_0's auc: 0.846203\n",
      "[4]\tvalid_0's binary_logloss: 0.42099\tvalid_0's auc: 0.848016\n",
      "[5]\tvalid_0's binary_logloss: 0.410131\tvalid_0's auc: 0.851509\n",
      "[6]\tvalid_0's binary_logloss: 0.400447\tvalid_0's auc: 0.854392\n",
      "[7]\tvalid_0's binary_logloss: 0.392604\tvalid_0's auc: 0.856369\n"
     ]
    },
    {
     "name": "stderr",
     "output_type": "stream",
     "text": [
      "/Library/Frameworks/Python.framework/Versions/3.6/lib/python3.6/site-packages/sklearn/preprocessing/label.py:151: DeprecationWarning: The truth value of an empty array is ambiguous. Returning False, but in future this will result in an error. Use `array.size > 0` to check that an array is not empty.\n",
      "  if diff:\n",
      "/Library/Frameworks/Python.framework/Versions/3.6/lib/python3.6/site-packages/sklearn/preprocessing/label.py:151: DeprecationWarning: The truth value of an empty array is ambiguous. Returning False, but in future this will result in an error. Use `array.size > 0` to check that an array is not empty.\n",
      "  if diff:\n"
     ]
    },
    {
     "name": "stdout",
     "output_type": "stream",
     "text": [
      "[8]\tvalid_0's binary_logloss: 0.385344\tvalid_0's auc: 0.858905\n",
      "[9]\tvalid_0's binary_logloss: 0.379321\tvalid_0's auc: 0.860357\n",
      "[10]\tvalid_0's binary_logloss: 0.373554\tvalid_0's auc: 0.862528\n",
      "[11]\tvalid_0's binary_logloss: 0.369177\tvalid_0's auc: 0.862628\n",
      "[12]\tvalid_0's binary_logloss: 0.365635\tvalid_0's auc: 0.863947\n",
      "[13]\tvalid_0's binary_logloss: 0.36192\tvalid_0's auc: 0.864862\n",
      "[14]\tvalid_0's binary_logloss: 0.35997\tvalid_0's auc: 0.86434\n",
      "[15]\tvalid_0's binary_logloss: 0.357393\tvalid_0's auc: 0.865035\n",
      "[16]\tvalid_0's binary_logloss: 0.356227\tvalid_0's auc: 0.864051\n",
      "[17]\tvalid_0's binary_logloss: 0.354248\tvalid_0's auc: 0.865157\n",
      "[18]\tvalid_0's binary_logloss: 0.352873\tvalid_0's auc: 0.864996\n",
      "[19]\tvalid_0's binary_logloss: 0.351326\tvalid_0's auc: 0.86514\n",
      "Did not meet early stopping. Best iteration is:\n",
      "[19]\tvalid_0's binary_logloss: 0.351326\tvalid_0's auc: 0.86514\n"
     ]
    },
    {
     "name": "stderr",
     "output_type": "stream",
     "text": [
      "/Library/Frameworks/Python.framework/Versions/3.6/lib/python3.6/site-packages/sklearn/preprocessing/label.py:151: DeprecationWarning: The truth value of an empty array is ambiguous. Returning False, but in future this will result in an error. Use `array.size > 0` to check that an array is not empty.\n",
      "  if diff:\n",
      "/Library/Frameworks/Python.framework/Versions/3.6/lib/python3.6/site-packages/sklearn/preprocessing/label.py:151: DeprecationWarning: The truth value of an empty array is ambiguous. Returning False, but in future this will result in an error. Use `array.size > 0` to check that an array is not empty.\n",
      "  if diff:\n"
     ]
    },
    {
     "name": "stdout",
     "output_type": "stream",
     "text": [
      "[1]\tvalid_0's binary_logloss: 0.471715\tvalid_0's auc: 0.823479\n",
      "Training until validation scores don't improve for 5 rounds.\n",
      "[2]\tvalid_0's binary_logloss: 0.452378\tvalid_0's auc: 0.83197\n",
      "[3]\tvalid_0's binary_logloss: 0.436167\tvalid_0's auc: 0.841463\n",
      "[4]\tvalid_0's binary_logloss: 0.421961\tvalid_0's auc: 0.84586\n",
      "[5]\tvalid_0's binary_logloss: 0.410657\tvalid_0's auc: 0.84882\n",
      "[6]\tvalid_0's binary_logloss: 0.402318\tvalid_0's auc: 0.850205\n",
      "[7]\tvalid_0's binary_logloss: 0.39476\tvalid_0's auc: 0.851931\n",
      "[8]\tvalid_0's binary_logloss: 0.387508\tvalid_0's auc: 0.853874\n",
      "[9]\tvalid_0's binary_logloss: 0.381297\tvalid_0's auc: 0.855599\n",
      "[10]\tvalid_0's binary_logloss: 0.376088\tvalid_0's auc: 0.857508\n",
      "[11]\tvalid_0's binary_logloss: 0.371598\tvalid_0's auc: 0.858514\n",
      "[12]\tvalid_0's binary_logloss: 0.367786\tvalid_0's auc: 0.860197\n",
      "[13]\tvalid_0's binary_logloss: 0.36494\tvalid_0's auc: 0.860208\n",
      "[14]\tvalid_0's binary_logloss: 0.361575\tvalid_0's auc: 0.861067\n",
      "[15]\tvalid_0's binary_logloss: 0.359197\tvalid_0's auc: 0.861659\n",
      "[16]\tvalid_0's binary_logloss: 0.357585\tvalid_0's auc: 0.861581\n",
      "[17]\tvalid_0's binary_logloss: 0.355111\tvalid_0's auc: 0.863198\n",
      "[18]\tvalid_0's binary_logloss: 0.353846\tvalid_0's auc: 0.862922\n",
      "[19]\tvalid_0's binary_logloss: 0.352491\tvalid_0's auc: 0.863238\n",
      "Did not meet early stopping. Best iteration is:\n",
      "[19]\tvalid_0's binary_logloss: 0.352491\tvalid_0's auc: 0.863238\n",
      "[1]\tvalid_0's binary_logloss: 0.470735\tvalid_0's auc: 0.823169\n",
      "Training until validation scores don't improve for 5 rounds.\n",
      "[2]\tvalid_0's binary_logloss: 0.450915\tvalid_0's auc: 0.844272\n",
      "[3]\tvalid_0's binary_logloss: 0.434549\tvalid_0's auc: 0.849207\n"
     ]
    },
    {
     "name": "stderr",
     "output_type": "stream",
     "text": [
      "/Library/Frameworks/Python.framework/Versions/3.6/lib/python3.6/site-packages/sklearn/preprocessing/label.py:151: DeprecationWarning: The truth value of an empty array is ambiguous. Returning False, but in future this will result in an error. Use `array.size > 0` to check that an array is not empty.\n",
      "  if diff:\n",
      "/Library/Frameworks/Python.framework/Versions/3.6/lib/python3.6/site-packages/sklearn/preprocessing/label.py:151: DeprecationWarning: The truth value of an empty array is ambiguous. Returning False, but in future this will result in an error. Use `array.size > 0` to check that an array is not empty.\n",
      "  if diff:\n"
     ]
    },
    {
     "name": "stdout",
     "output_type": "stream",
     "text": [
      "[4]\tvalid_0's binary_logloss: 0.420812\tvalid_0's auc: 0.852927\n",
      "[5]\tvalid_0's binary_logloss: 0.410605\tvalid_0's auc: 0.851846\n",
      "[6]\tvalid_0's binary_logloss: 0.402066\tvalid_0's auc: 0.853158\n",
      "[7]\tvalid_0's binary_logloss: 0.394556\tvalid_0's auc: 0.852809\n",
      "[8]\tvalid_0's binary_logloss: 0.387735\tvalid_0's auc: 0.854413\n",
      "[9]\tvalid_0's binary_logloss: 0.381917\tvalid_0's auc: 0.854194\n",
      "[10]\tvalid_0's binary_logloss: 0.376924\tvalid_0's auc: 0.856206\n",
      "[11]\tvalid_0's binary_logloss: 0.372629\tvalid_0's auc: 0.856456\n",
      "[12]\tvalid_0's binary_logloss: 0.369479\tvalid_0's auc: 0.858356\n",
      "[13]\tvalid_0's binary_logloss: 0.366522\tvalid_0's auc: 0.858964\n",
      "[14]\tvalid_0's binary_logloss: 0.364396\tvalid_0's auc: 0.858769\n",
      "[15]\tvalid_0's binary_logloss: 0.361654\tvalid_0's auc: 0.859537\n",
      "[16]\tvalid_0's binary_logloss: 0.358854\tvalid_0's auc: 0.860264\n",
      "[17]\tvalid_0's binary_logloss: 0.357315\tvalid_0's auc: 0.860267\n",
      "[18]\tvalid_0's binary_logloss: 0.355015\tvalid_0's auc: 0.86101\n",
      "[19]\tvalid_0's binary_logloss: 0.353631\tvalid_0's auc: 0.861496\n",
      "Did not meet early stopping. Best iteration is:\n",
      "[19]\tvalid_0's binary_logloss: 0.353631\tvalid_0's auc: 0.861496\n",
      "[1]\tvalid_0's binary_logloss: 0.469647\tvalid_0's auc: 0.837907\n",
      "Training until validation scores don't improve for 5 rounds.\n",
      "[2]\tvalid_0's binary_logloss: 0.450215\tvalid_0's auc: 0.844325\n",
      "[3]\tvalid_0's binary_logloss: 0.433524\tvalid_0's auc: 0.846203\n",
      "[4]\tvalid_0's binary_logloss: 0.42099\tvalid_0's auc: 0.848016\n",
      "[5]\tvalid_0's binary_logloss: 0.410131\tvalid_0's auc: 0.851509\n"
     ]
    },
    {
     "name": "stderr",
     "output_type": "stream",
     "text": [
      "/Library/Frameworks/Python.framework/Versions/3.6/lib/python3.6/site-packages/sklearn/preprocessing/label.py:151: DeprecationWarning: The truth value of an empty array is ambiguous. Returning False, but in future this will result in an error. Use `array.size > 0` to check that an array is not empty.\n",
      "  if diff:\n",
      "/Library/Frameworks/Python.framework/Versions/3.6/lib/python3.6/site-packages/sklearn/preprocessing/label.py:151: DeprecationWarning: The truth value of an empty array is ambiguous. Returning False, but in future this will result in an error. Use `array.size > 0` to check that an array is not empty.\n",
      "  if diff:\n"
     ]
    },
    {
     "name": "stdout",
     "output_type": "stream",
     "text": [
      "[6]\tvalid_0's binary_logloss: 0.400447\tvalid_0's auc: 0.854392\n",
      "[7]\tvalid_0's binary_logloss: 0.392604\tvalid_0's auc: 0.856369\n",
      "[8]\tvalid_0's binary_logloss: 0.385344\tvalid_0's auc: 0.858905\n",
      "[9]\tvalid_0's binary_logloss: 0.379321\tvalid_0's auc: 0.860357\n",
      "[10]\tvalid_0's binary_logloss: 0.373554\tvalid_0's auc: 0.862528\n",
      "[11]\tvalid_0's binary_logloss: 0.369177\tvalid_0's auc: 0.862628\n",
      "[12]\tvalid_0's binary_logloss: 0.365635\tvalid_0's auc: 0.863947\n",
      "[13]\tvalid_0's binary_logloss: 0.36192\tvalid_0's auc: 0.864862\n",
      "[14]\tvalid_0's binary_logloss: 0.35997\tvalid_0's auc: 0.86434\n",
      "[15]\tvalid_0's binary_logloss: 0.357393\tvalid_0's auc: 0.865035\n",
      "[16]\tvalid_0's binary_logloss: 0.356227\tvalid_0's auc: 0.864051\n",
      "[17]\tvalid_0's binary_logloss: 0.354248\tvalid_0's auc: 0.865157\n",
      "[18]\tvalid_0's binary_logloss: 0.352873\tvalid_0's auc: 0.864996\n",
      "[19]\tvalid_0's binary_logloss: 0.351326\tvalid_0's auc: 0.86514\n",
      "[20]\tvalid_0's binary_logloss: 0.349576\tvalid_0's auc: 0.865848\n",
      "[21]\tvalid_0's binary_logloss: 0.348458\tvalid_0's auc: 0.865859\n",
      "[22]\tvalid_0's binary_logloss: 0.347465\tvalid_0's auc: 0.865795\n",
      "Did not meet early stopping. Best iteration is:\n",
      "[22]\tvalid_0's binary_logloss: 0.347465\tvalid_0's auc: 0.865795\n",
      "[1]\tvalid_0's binary_logloss: 0.471715\tvalid_0's auc: 0.823479\n",
      "Training until validation scores don't improve for 5 rounds.\n",
      "[2]\tvalid_0's binary_logloss: 0.452378\tvalid_0's auc: 0.83197\n",
      "[3]\tvalid_0's binary_logloss: 0.436167\tvalid_0's auc: 0.841463\n",
      "[4]\tvalid_0's binary_logloss: 0.421961\tvalid_0's auc: 0.84586\n"
     ]
    },
    {
     "name": "stderr",
     "output_type": "stream",
     "text": [
      "/Library/Frameworks/Python.framework/Versions/3.6/lib/python3.6/site-packages/sklearn/preprocessing/label.py:151: DeprecationWarning: The truth value of an empty array is ambiguous. Returning False, but in future this will result in an error. Use `array.size > 0` to check that an array is not empty.\n",
      "  if diff:\n",
      "/Library/Frameworks/Python.framework/Versions/3.6/lib/python3.6/site-packages/sklearn/preprocessing/label.py:151: DeprecationWarning: The truth value of an empty array is ambiguous. Returning False, but in future this will result in an error. Use `array.size > 0` to check that an array is not empty.\n",
      "  if diff:\n"
     ]
    },
    {
     "name": "stdout",
     "output_type": "stream",
     "text": [
      "[5]\tvalid_0's binary_logloss: 0.410657\tvalid_0's auc: 0.84882\n",
      "[6]\tvalid_0's binary_logloss: 0.402318\tvalid_0's auc: 0.850205\n",
      "[7]\tvalid_0's binary_logloss: 0.39476\tvalid_0's auc: 0.851931\n",
      "[8]\tvalid_0's binary_logloss: 0.387508\tvalid_0's auc: 0.853874\n",
      "[9]\tvalid_0's binary_logloss: 0.381297\tvalid_0's auc: 0.855599\n",
      "[10]\tvalid_0's binary_logloss: 0.376088\tvalid_0's auc: 0.857508\n",
      "[11]\tvalid_0's binary_logloss: 0.371598\tvalid_0's auc: 0.858514\n",
      "[12]\tvalid_0's binary_logloss: 0.367786\tvalid_0's auc: 0.860197\n",
      "[13]\tvalid_0's binary_logloss: 0.36494\tvalid_0's auc: 0.860208\n",
      "[14]\tvalid_0's binary_logloss: 0.361575\tvalid_0's auc: 0.861067\n",
      "[15]\tvalid_0's binary_logloss: 0.359197\tvalid_0's auc: 0.861659\n",
      "[16]\tvalid_0's binary_logloss: 0.357585\tvalid_0's auc: 0.861581\n",
      "[17]\tvalid_0's binary_logloss: 0.355111\tvalid_0's auc: 0.863198\n",
      "[18]\tvalid_0's binary_logloss: 0.353846\tvalid_0's auc: 0.862922\n",
      "[19]\tvalid_0's binary_logloss: 0.352491\tvalid_0's auc: 0.863238\n",
      "[20]\tvalid_0's binary_logloss: 0.351173\tvalid_0's auc: 0.863367\n",
      "[21]\tvalid_0's binary_logloss: 0.349941\tvalid_0's auc: 0.863629\n",
      "[22]\tvalid_0's binary_logloss: 0.349044\tvalid_0's auc: 0.863776\n",
      "Did not meet early stopping. Best iteration is:\n",
      "[22]\tvalid_0's binary_logloss: 0.349044\tvalid_0's auc: 0.863776\n",
      "[1]\tvalid_0's binary_logloss: 0.470735\tvalid_0's auc: 0.823169\n",
      "Training until validation scores don't improve for 5 rounds.\n",
      "[2]\tvalid_0's binary_logloss: 0.450915\tvalid_0's auc: 0.844272\n",
      "[3]\tvalid_0's binary_logloss: 0.434549\tvalid_0's auc: 0.849207\n"
     ]
    },
    {
     "name": "stderr",
     "output_type": "stream",
     "text": [
      "/Library/Frameworks/Python.framework/Versions/3.6/lib/python3.6/site-packages/sklearn/preprocessing/label.py:151: DeprecationWarning: The truth value of an empty array is ambiguous. Returning False, but in future this will result in an error. Use `array.size > 0` to check that an array is not empty.\n",
      "  if diff:\n",
      "/Library/Frameworks/Python.framework/Versions/3.6/lib/python3.6/site-packages/sklearn/preprocessing/label.py:151: DeprecationWarning: The truth value of an empty array is ambiguous. Returning False, but in future this will result in an error. Use `array.size > 0` to check that an array is not empty.\n",
      "  if diff:\n"
     ]
    },
    {
     "name": "stdout",
     "output_type": "stream",
     "text": [
      "[4]\tvalid_0's binary_logloss: 0.420812\tvalid_0's auc: 0.852927\n",
      "[5]\tvalid_0's binary_logloss: 0.410605\tvalid_0's auc: 0.851846\n",
      "[6]\tvalid_0's binary_logloss: 0.402066\tvalid_0's auc: 0.853158\n",
      "[7]\tvalid_0's binary_logloss: 0.394556\tvalid_0's auc: 0.852809\n",
      "[8]\tvalid_0's binary_logloss: 0.387735\tvalid_0's auc: 0.854413\n",
      "[9]\tvalid_0's binary_logloss: 0.381917\tvalid_0's auc: 0.854194\n",
      "[10]\tvalid_0's binary_logloss: 0.376924\tvalid_0's auc: 0.856206\n",
      "[11]\tvalid_0's binary_logloss: 0.372629\tvalid_0's auc: 0.856456\n",
      "[12]\tvalid_0's binary_logloss: 0.369479\tvalid_0's auc: 0.858356\n",
      "[13]\tvalid_0's binary_logloss: 0.366522\tvalid_0's auc: 0.858964\n",
      "[14]\tvalid_0's binary_logloss: 0.364396\tvalid_0's auc: 0.858769\n",
      "[15]\tvalid_0's binary_logloss: 0.361654\tvalid_0's auc: 0.859537\n",
      "[16]\tvalid_0's binary_logloss: 0.358854\tvalid_0's auc: 0.860264\n",
      "[17]\tvalid_0's binary_logloss: 0.357315\tvalid_0's auc: 0.860267\n",
      "[18]\tvalid_0's binary_logloss: 0.355015\tvalid_0's auc: 0.86101\n",
      "[19]\tvalid_0's binary_logloss: 0.353631\tvalid_0's auc: 0.861496\n",
      "[20]\tvalid_0's binary_logloss: 0.352662\tvalid_0's auc: 0.861642\n",
      "[21]\tvalid_0's binary_logloss: 0.351447\tvalid_0's auc: 0.862049\n",
      "[22]\tvalid_0's binary_logloss: 0.350421\tvalid_0's auc: 0.862386\n",
      "Did not meet early stopping. Best iteration is:\n",
      "[22]\tvalid_0's binary_logloss: 0.350421\tvalid_0's auc: 0.862386\n"
     ]
    },
    {
     "name": "stderr",
     "output_type": "stream",
     "text": [
      "/Library/Frameworks/Python.framework/Versions/3.6/lib/python3.6/site-packages/sklearn/preprocessing/label.py:151: DeprecationWarning: The truth value of an empty array is ambiguous. Returning False, but in future this will result in an error. Use `array.size > 0` to check that an array is not empty.\n",
      "  if diff:\n",
      "/Library/Frameworks/Python.framework/Versions/3.6/lib/python3.6/site-packages/sklearn/preprocessing/label.py:151: DeprecationWarning: The truth value of an empty array is ambiguous. Returning False, but in future this will result in an error. Use `array.size > 0` to check that an array is not empty.\n",
      "  if diff:\n"
     ]
    },
    {
     "name": "stdout",
     "output_type": "stream",
     "text": [
      "[1]\tvalid_0's binary_logloss: 0.469647\tvalid_0's auc: 0.837907\n",
      "Training until validation scores don't improve for 5 rounds.\n",
      "[2]\tvalid_0's binary_logloss: 0.450215\tvalid_0's auc: 0.844325\n",
      "[3]\tvalid_0's binary_logloss: 0.433524\tvalid_0's auc: 0.846203\n",
      "[4]\tvalid_0's binary_logloss: 0.42099\tvalid_0's auc: 0.848016\n",
      "[5]\tvalid_0's binary_logloss: 0.410131\tvalid_0's auc: 0.851509\n",
      "[6]\tvalid_0's binary_logloss: 0.400447\tvalid_0's auc: 0.854392\n",
      "[7]\tvalid_0's binary_logloss: 0.392604\tvalid_0's auc: 0.856369\n",
      "[8]\tvalid_0's binary_logloss: 0.385344\tvalid_0's auc: 0.858905\n",
      "[9]\tvalid_0's binary_logloss: 0.379321\tvalid_0's auc: 0.860357\n",
      "[10]\tvalid_0's binary_logloss: 0.373554\tvalid_0's auc: 0.862528\n",
      "[11]\tvalid_0's binary_logloss: 0.369177\tvalid_0's auc: 0.862628\n",
      "[12]\tvalid_0's binary_logloss: 0.365635\tvalid_0's auc: 0.863947\n",
      "[13]\tvalid_0's binary_logloss: 0.36192\tvalid_0's auc: 0.864862\n",
      "[14]\tvalid_0's binary_logloss: 0.35997\tvalid_0's auc: 0.86434\n",
      "[15]\tvalid_0's binary_logloss: 0.357393\tvalid_0's auc: 0.865035\n",
      "[16]\tvalid_0's binary_logloss: 0.356227\tvalid_0's auc: 0.864051\n",
      "[17]\tvalid_0's binary_logloss: 0.354248\tvalid_0's auc: 0.865157\n",
      "[18]\tvalid_0's binary_logloss: 0.352873\tvalid_0's auc: 0.864996\n",
      "[19]\tvalid_0's binary_logloss: 0.351326\tvalid_0's auc: 0.86514\n",
      "[20]\tvalid_0's binary_logloss: 0.349576\tvalid_0's auc: 0.865848\n",
      "[21]\tvalid_0's binary_logloss: 0.348458\tvalid_0's auc: 0.865859\n",
      "[22]\tvalid_0's binary_logloss: 0.347465\tvalid_0's auc: 0.865795\n",
      "[23]\tvalid_0's binary_logloss: 0.346777\tvalid_0's auc: 0.866121\n",
      "[24]\tvalid_0's binary_logloss: 0.346222\tvalid_0's auc: 0.866137\n",
      "[25]\tvalid_0's binary_logloss: 0.345535\tvalid_0's auc: 0.866225\n",
      "Did not meet early stopping. Best iteration is:\n",
      "[25]\tvalid_0's binary_logloss: 0.345535\tvalid_0's auc: 0.866225\n",
      "[1]\tvalid_0's binary_logloss: 0.471715\tvalid_0's auc: 0.823479\n",
      "Training until validation scores don't improve for 5 rounds.\n"
     ]
    },
    {
     "name": "stderr",
     "output_type": "stream",
     "text": [
      "/Library/Frameworks/Python.framework/Versions/3.6/lib/python3.6/site-packages/sklearn/preprocessing/label.py:151: DeprecationWarning: The truth value of an empty array is ambiguous. Returning False, but in future this will result in an error. Use `array.size > 0` to check that an array is not empty.\n",
      "  if diff:\n",
      "/Library/Frameworks/Python.framework/Versions/3.6/lib/python3.6/site-packages/sklearn/preprocessing/label.py:151: DeprecationWarning: The truth value of an empty array is ambiguous. Returning False, but in future this will result in an error. Use `array.size > 0` to check that an array is not empty.\n",
      "  if diff:\n"
     ]
    },
    {
     "name": "stdout",
     "output_type": "stream",
     "text": [
      "[2]\tvalid_0's binary_logloss: 0.452378\tvalid_0's auc: 0.83197\n",
      "[3]\tvalid_0's binary_logloss: 0.436167\tvalid_0's auc: 0.841463\n",
      "[4]\tvalid_0's binary_logloss: 0.421961\tvalid_0's auc: 0.84586\n",
      "[5]\tvalid_0's binary_logloss: 0.410657\tvalid_0's auc: 0.84882\n",
      "[6]\tvalid_0's binary_logloss: 0.402318\tvalid_0's auc: 0.850205\n",
      "[7]\tvalid_0's binary_logloss: 0.39476\tvalid_0's auc: 0.851931\n",
      "[8]\tvalid_0's binary_logloss: 0.387508\tvalid_0's auc: 0.853874\n",
      "[9]\tvalid_0's binary_logloss: 0.381297\tvalid_0's auc: 0.855599\n",
      "[10]\tvalid_0's binary_logloss: 0.376088\tvalid_0's auc: 0.857508\n",
      "[11]\tvalid_0's binary_logloss: 0.371598\tvalid_0's auc: 0.858514\n",
      "[12]\tvalid_0's binary_logloss: 0.367786\tvalid_0's auc: 0.860197\n",
      "[13]\tvalid_0's binary_logloss: 0.36494\tvalid_0's auc: 0.860208\n",
      "[14]\tvalid_0's binary_logloss: 0.361575\tvalid_0's auc: 0.861067\n",
      "[15]\tvalid_0's binary_logloss: 0.359197\tvalid_0's auc: 0.861659\n",
      "[16]\tvalid_0's binary_logloss: 0.357585\tvalid_0's auc: 0.861581\n",
      "[17]\tvalid_0's binary_logloss: 0.355111\tvalid_0's auc: 0.863198\n",
      "[18]\tvalid_0's binary_logloss: 0.353846\tvalid_0's auc: 0.862922\n",
      "[19]\tvalid_0's binary_logloss: 0.352491\tvalid_0's auc: 0.863238\n",
      "[20]\tvalid_0's binary_logloss: 0.351173\tvalid_0's auc: 0.863367\n",
      "[21]\tvalid_0's binary_logloss: 0.349941\tvalid_0's auc: 0.863629\n",
      "[22]\tvalid_0's binary_logloss: 0.349044\tvalid_0's auc: 0.863776\n",
      "[23]\tvalid_0's binary_logloss: 0.348441\tvalid_0's auc: 0.863805\n",
      "[24]\tvalid_0's binary_logloss: 0.347063\tvalid_0's auc: 0.864698\n",
      "[25]\tvalid_0's binary_logloss: 0.34675\tvalid_0's auc: 0.864715\n",
      "Did not meet early stopping. Best iteration is:\n",
      "[25]\tvalid_0's binary_logloss: 0.34675\tvalid_0's auc: 0.864715\n"
     ]
    },
    {
     "name": "stderr",
     "output_type": "stream",
     "text": [
      "/Library/Frameworks/Python.framework/Versions/3.6/lib/python3.6/site-packages/sklearn/preprocessing/label.py:151: DeprecationWarning: The truth value of an empty array is ambiguous. Returning False, but in future this will result in an error. Use `array.size > 0` to check that an array is not empty.\n",
      "  if diff:\n",
      "/Library/Frameworks/Python.framework/Versions/3.6/lib/python3.6/site-packages/sklearn/preprocessing/label.py:151: DeprecationWarning: The truth value of an empty array is ambiguous. Returning False, but in future this will result in an error. Use `array.size > 0` to check that an array is not empty.\n",
      "  if diff:\n"
     ]
    },
    {
     "name": "stdout",
     "output_type": "stream",
     "text": [
      "[1]\tvalid_0's binary_logloss: 0.470735\tvalid_0's auc: 0.823169\n",
      "Training until validation scores don't improve for 5 rounds.\n",
      "[2]\tvalid_0's binary_logloss: 0.450915\tvalid_0's auc: 0.844272\n",
      "[3]\tvalid_0's binary_logloss: 0.434549\tvalid_0's auc: 0.849207\n",
      "[4]\tvalid_0's binary_logloss: 0.420812\tvalid_0's auc: 0.852927\n",
      "[5]\tvalid_0's binary_logloss: 0.410605\tvalid_0's auc: 0.851846\n",
      "[6]\tvalid_0's binary_logloss: 0.402066\tvalid_0's auc: 0.853158\n",
      "[7]\tvalid_0's binary_logloss: 0.394556\tvalid_0's auc: 0.852809\n",
      "[8]\tvalid_0's binary_logloss: 0.387735\tvalid_0's auc: 0.854413\n",
      "[9]\tvalid_0's binary_logloss: 0.381917\tvalid_0's auc: 0.854194\n",
      "[10]\tvalid_0's binary_logloss: 0.376924\tvalid_0's auc: 0.856206\n",
      "[11]\tvalid_0's binary_logloss: 0.372629\tvalid_0's auc: 0.856456\n",
      "[12]\tvalid_0's binary_logloss: 0.369479\tvalid_0's auc: 0.858356\n",
      "[13]\tvalid_0's binary_logloss: 0.366522\tvalid_0's auc: 0.858964\n",
      "[14]\tvalid_0's binary_logloss: 0.364396\tvalid_0's auc: 0.858769\n",
      "[15]\tvalid_0's binary_logloss: 0.361654\tvalid_0's auc: 0.859537\n",
      "[16]\tvalid_0's binary_logloss: 0.358854\tvalid_0's auc: 0.860264\n",
      "[17]\tvalid_0's binary_logloss: 0.357315\tvalid_0's auc: 0.860267\n",
      "[18]\tvalid_0's binary_logloss: 0.355015\tvalid_0's auc: 0.86101\n",
      "[19]\tvalid_0's binary_logloss: 0.353631\tvalid_0's auc: 0.861496\n",
      "[20]\tvalid_0's binary_logloss: 0.352662\tvalid_0's auc: 0.861642\n",
      "[21]\tvalid_0's binary_logloss: 0.351447\tvalid_0's auc: 0.862049\n",
      "[22]\tvalid_0's binary_logloss: 0.350421\tvalid_0's auc: 0.862386\n",
      "[23]\tvalid_0's binary_logloss: 0.349446\tvalid_0's auc: 0.862653\n",
      "[24]\tvalid_0's binary_logloss: 0.349031\tvalid_0's auc: 0.862435\n",
      "[25]\tvalid_0's binary_logloss: 0.348009\tvalid_0's auc: 0.862902\n",
      "Did not meet early stopping. Best iteration is:\n",
      "[25]\tvalid_0's binary_logloss: 0.348009\tvalid_0's auc: 0.862902\n"
     ]
    },
    {
     "name": "stderr",
     "output_type": "stream",
     "text": [
      "/Library/Frameworks/Python.framework/Versions/3.6/lib/python3.6/site-packages/sklearn/preprocessing/label.py:151: DeprecationWarning: The truth value of an empty array is ambiguous. Returning False, but in future this will result in an error. Use `array.size > 0` to check that an array is not empty.\n",
      "  if diff:\n",
      "/Library/Frameworks/Python.framework/Versions/3.6/lib/python3.6/site-packages/sklearn/preprocessing/label.py:151: DeprecationWarning: The truth value of an empty array is ambiguous. Returning False, but in future this will result in an error. Use `array.size > 0` to check that an array is not empty.\n",
      "  if diff:\n"
     ]
    },
    {
     "name": "stdout",
     "output_type": "stream",
     "text": [
      "[1]\tvalid_0's binary_logloss: 0.469647\tvalid_0's auc: 0.837907\n",
      "Training until validation scores don't improve for 5 rounds.\n",
      "[2]\tvalid_0's binary_logloss: 0.450215\tvalid_0's auc: 0.844325\n",
      "[3]\tvalid_0's binary_logloss: 0.433524\tvalid_0's auc: 0.846203\n",
      "[4]\tvalid_0's binary_logloss: 0.42099\tvalid_0's auc: 0.848016\n",
      "[5]\tvalid_0's binary_logloss: 0.410131\tvalid_0's auc: 0.851509\n",
      "[6]\tvalid_0's binary_logloss: 0.400447\tvalid_0's auc: 0.854392\n",
      "[7]\tvalid_0's binary_logloss: 0.392604\tvalid_0's auc: 0.856369\n",
      "[8]\tvalid_0's binary_logloss: 0.385344\tvalid_0's auc: 0.858905\n",
      "[9]\tvalid_0's binary_logloss: 0.379321\tvalid_0's auc: 0.860357\n",
      "[10]\tvalid_0's binary_logloss: 0.373554\tvalid_0's auc: 0.862528\n",
      "[11]\tvalid_0's binary_logloss: 0.369177\tvalid_0's auc: 0.862628\n",
      "[12]\tvalid_0's binary_logloss: 0.365635\tvalid_0's auc: 0.863947\n",
      "[13]\tvalid_0's binary_logloss: 0.36192\tvalid_0's auc: 0.864862\n",
      "[14]\tvalid_0's binary_logloss: 0.35997\tvalid_0's auc: 0.86434\n",
      "[15]\tvalid_0's binary_logloss: 0.357393\tvalid_0's auc: 0.865035\n",
      "[16]\tvalid_0's binary_logloss: 0.356227\tvalid_0's auc: 0.864051\n",
      "[17]\tvalid_0's binary_logloss: 0.354248\tvalid_0's auc: 0.865157\n",
      "[18]\tvalid_0's binary_logloss: 0.352873\tvalid_0's auc: 0.864996\n",
      "[19]\tvalid_0's binary_logloss: 0.351326\tvalid_0's auc: 0.86514\n",
      "[20]\tvalid_0's binary_logloss: 0.349576\tvalid_0's auc: 0.865848\n",
      "[21]\tvalid_0's binary_logloss: 0.348458\tvalid_0's auc: 0.865859\n",
      "[22]\tvalid_0's binary_logloss: 0.347465\tvalid_0's auc: 0.865795\n",
      "[23]\tvalid_0's binary_logloss: 0.346777\tvalid_0's auc: 0.866121\n",
      "[24]\tvalid_0's binary_logloss: 0.346222\tvalid_0's auc: 0.866137\n",
      "[25]\tvalid_0's binary_logloss: 0.345535\tvalid_0's auc: 0.866225\n",
      "[26]\tvalid_0's binary_logloss: 0.345291\tvalid_0's auc: 0.865947\n",
      "[27]\tvalid_0's binary_logloss: 0.344969\tvalid_0's auc: 0.865657\n",
      "[28]\tvalid_0's binary_logloss: 0.344497\tvalid_0's auc: 0.865968\n",
      "Did not meet early stopping. Best iteration is:\n",
      "[28]\tvalid_0's binary_logloss: 0.344497\tvalid_0's auc: 0.865968\n",
      "[1]\tvalid_0's binary_logloss: 0.471715\tvalid_0's auc: 0.823479\n",
      "Training until validation scores don't improve for 5 rounds.\n",
      "[2]\tvalid_0's binary_logloss: 0.452378\tvalid_0's auc: 0.83197\n",
      "[3]\tvalid_0's binary_logloss: 0.436167\tvalid_0's auc: 0.841463\n",
      "[4]\tvalid_0's binary_logloss: 0.421961\tvalid_0's auc: 0.84586\n",
      "[5]\tvalid_0's binary_logloss: 0.410657\tvalid_0's auc: 0.84882\n"
     ]
    },
    {
     "name": "stderr",
     "output_type": "stream",
     "text": [
      "/Library/Frameworks/Python.framework/Versions/3.6/lib/python3.6/site-packages/sklearn/preprocessing/label.py:151: DeprecationWarning: The truth value of an empty array is ambiguous. Returning False, but in future this will result in an error. Use `array.size > 0` to check that an array is not empty.\n",
      "  if diff:\n",
      "/Library/Frameworks/Python.framework/Versions/3.6/lib/python3.6/site-packages/sklearn/preprocessing/label.py:151: DeprecationWarning: The truth value of an empty array is ambiguous. Returning False, but in future this will result in an error. Use `array.size > 0` to check that an array is not empty.\n",
      "  if diff:\n"
     ]
    },
    {
     "name": "stdout",
     "output_type": "stream",
     "text": [
      "[6]\tvalid_0's binary_logloss: 0.402318\tvalid_0's auc: 0.850205\n",
      "[7]\tvalid_0's binary_logloss: 0.39476\tvalid_0's auc: 0.851931\n",
      "[8]\tvalid_0's binary_logloss: 0.387508\tvalid_0's auc: 0.853874\n",
      "[9]\tvalid_0's binary_logloss: 0.381297\tvalid_0's auc: 0.855599\n",
      "[10]\tvalid_0's binary_logloss: 0.376088\tvalid_0's auc: 0.857508\n",
      "[11]\tvalid_0's binary_logloss: 0.371598\tvalid_0's auc: 0.858514\n",
      "[12]\tvalid_0's binary_logloss: 0.367786\tvalid_0's auc: 0.860197\n",
      "[13]\tvalid_0's binary_logloss: 0.36494\tvalid_0's auc: 0.860208\n",
      "[14]\tvalid_0's binary_logloss: 0.361575\tvalid_0's auc: 0.861067\n",
      "[15]\tvalid_0's binary_logloss: 0.359197\tvalid_0's auc: 0.861659\n",
      "[16]\tvalid_0's binary_logloss: 0.357585\tvalid_0's auc: 0.861581\n",
      "[17]\tvalid_0's binary_logloss: 0.355111\tvalid_0's auc: 0.863198\n",
      "[18]\tvalid_0's binary_logloss: 0.353846\tvalid_0's auc: 0.862922\n",
      "[19]\tvalid_0's binary_logloss: 0.352491\tvalid_0's auc: 0.863238\n",
      "[20]\tvalid_0's binary_logloss: 0.351173\tvalid_0's auc: 0.863367\n",
      "[21]\tvalid_0's binary_logloss: 0.349941\tvalid_0's auc: 0.863629\n",
      "[22]\tvalid_0's binary_logloss: 0.349044\tvalid_0's auc: 0.863776\n",
      "[23]\tvalid_0's binary_logloss: 0.348441\tvalid_0's auc: 0.863805\n",
      "[24]\tvalid_0's binary_logloss: 0.347063\tvalid_0's auc: 0.864698\n",
      "[25]\tvalid_0's binary_logloss: 0.34675\tvalid_0's auc: 0.864715\n",
      "[26]\tvalid_0's binary_logloss: 0.346278\tvalid_0's auc: 0.865027\n",
      "[27]\tvalid_0's binary_logloss: 0.345684\tvalid_0's auc: 0.865524\n",
      "[28]\tvalid_0's binary_logloss: 0.346026\tvalid_0's auc: 0.864829\n",
      "Did not meet early stopping. Best iteration is:\n",
      "[27]\tvalid_0's binary_logloss: 0.345684\tvalid_0's auc: 0.865524\n"
     ]
    },
    {
     "name": "stderr",
     "output_type": "stream",
     "text": [
      "/Library/Frameworks/Python.framework/Versions/3.6/lib/python3.6/site-packages/sklearn/preprocessing/label.py:151: DeprecationWarning: The truth value of an empty array is ambiguous. Returning False, but in future this will result in an error. Use `array.size > 0` to check that an array is not empty.\n",
      "  if diff:\n",
      "/Library/Frameworks/Python.framework/Versions/3.6/lib/python3.6/site-packages/sklearn/preprocessing/label.py:151: DeprecationWarning: The truth value of an empty array is ambiguous. Returning False, but in future this will result in an error. Use `array.size > 0` to check that an array is not empty.\n",
      "  if diff:\n"
     ]
    },
    {
     "name": "stdout",
     "output_type": "stream",
     "text": [
      "[1]\tvalid_0's binary_logloss: 0.470735\tvalid_0's auc: 0.823169\n",
      "Training until validation scores don't improve for 5 rounds.\n",
      "[2]\tvalid_0's binary_logloss: 0.450915\tvalid_0's auc: 0.844272\n",
      "[3]\tvalid_0's binary_logloss: 0.434549\tvalid_0's auc: 0.849207\n",
      "[4]\tvalid_0's binary_logloss: 0.420812\tvalid_0's auc: 0.852927\n",
      "[5]\tvalid_0's binary_logloss: 0.410605\tvalid_0's auc: 0.851846\n",
      "[6]\tvalid_0's binary_logloss: 0.402066\tvalid_0's auc: 0.853158\n",
      "[7]\tvalid_0's binary_logloss: 0.394556\tvalid_0's auc: 0.852809\n",
      "[8]\tvalid_0's binary_logloss: 0.387735\tvalid_0's auc: 0.854413\n",
      "[9]\tvalid_0's binary_logloss: 0.381917\tvalid_0's auc: 0.854194\n",
      "[10]\tvalid_0's binary_logloss: 0.376924\tvalid_0's auc: 0.856206\n",
      "[11]\tvalid_0's binary_logloss: 0.372629\tvalid_0's auc: 0.856456\n",
      "[12]\tvalid_0's binary_logloss: 0.369479\tvalid_0's auc: 0.858356\n",
      "[13]\tvalid_0's binary_logloss: 0.366522\tvalid_0's auc: 0.858964\n",
      "[14]\tvalid_0's binary_logloss: 0.364396\tvalid_0's auc: 0.858769\n",
      "[15]\tvalid_0's binary_logloss: 0.361654\tvalid_0's auc: 0.859537\n",
      "[16]\tvalid_0's binary_logloss: 0.358854\tvalid_0's auc: 0.860264\n",
      "[17]\tvalid_0's binary_logloss: 0.357315\tvalid_0's auc: 0.860267\n",
      "[18]\tvalid_0's binary_logloss: 0.355015\tvalid_0's auc: 0.86101\n",
      "[19]\tvalid_0's binary_logloss: 0.353631\tvalid_0's auc: 0.861496\n",
      "[20]\tvalid_0's binary_logloss: 0.352662\tvalid_0's auc: 0.861642\n",
      "[21]\tvalid_0's binary_logloss: 0.351447\tvalid_0's auc: 0.862049\n",
      "[22]\tvalid_0's binary_logloss: 0.350421\tvalid_0's auc: 0.862386\n",
      "[23]\tvalid_0's binary_logloss: 0.349446\tvalid_0's auc: 0.862653\n",
      "[24]\tvalid_0's binary_logloss: 0.349031\tvalid_0's auc: 0.862435\n",
      "[25]\tvalid_0's binary_logloss: 0.348009\tvalid_0's auc: 0.862902\n",
      "[26]\tvalid_0's binary_logloss: 0.34824\tvalid_0's auc: 0.862447\n",
      "[27]\tvalid_0's binary_logloss: 0.347737\tvalid_0's auc: 0.862609\n",
      "[28]\tvalid_0's binary_logloss: 0.34685\tvalid_0's auc: 0.863181\n",
      "Did not meet early stopping. Best iteration is:\n",
      "[28]\tvalid_0's binary_logloss: 0.34685\tvalid_0's auc: 0.863181\n"
     ]
    },
    {
     "name": "stderr",
     "output_type": "stream",
     "text": [
      "/Library/Frameworks/Python.framework/Versions/3.6/lib/python3.6/site-packages/sklearn/preprocessing/label.py:151: DeprecationWarning: The truth value of an empty array is ambiguous. Returning False, but in future this will result in an error. Use `array.size > 0` to check that an array is not empty.\n",
      "  if diff:\n",
      "/Library/Frameworks/Python.framework/Versions/3.6/lib/python3.6/site-packages/sklearn/preprocessing/label.py:151: DeprecationWarning: The truth value of an empty array is ambiguous. Returning False, but in future this will result in an error. Use `array.size > 0` to check that an array is not empty.\n",
      "  if diff:\n"
     ]
    },
    {
     "name": "stdout",
     "output_type": "stream",
     "text": [
      "[1]\tvalid_0's binary_logloss: 0.469647\tvalid_0's auc: 0.837907\n",
      "Training until validation scores don't improve for 5 rounds.\n",
      "[2]\tvalid_0's binary_logloss: 0.450215\tvalid_0's auc: 0.844325\n",
      "[3]\tvalid_0's binary_logloss: 0.433524\tvalid_0's auc: 0.846203\n",
      "[4]\tvalid_0's binary_logloss: 0.42099\tvalid_0's auc: 0.848016\n",
      "[5]\tvalid_0's binary_logloss: 0.410131\tvalid_0's auc: 0.851509\n",
      "[6]\tvalid_0's binary_logloss: 0.400447\tvalid_0's auc: 0.854392\n",
      "[7]\tvalid_0's binary_logloss: 0.392604\tvalid_0's auc: 0.856369\n",
      "[8]\tvalid_0's binary_logloss: 0.385344\tvalid_0's auc: 0.858905\n",
      "[9]\tvalid_0's binary_logloss: 0.379321\tvalid_0's auc: 0.860357\n",
      "[10]\tvalid_0's binary_logloss: 0.373554\tvalid_0's auc: 0.862528\n",
      "[11]\tvalid_0's binary_logloss: 0.369177\tvalid_0's auc: 0.862628\n",
      "[12]\tvalid_0's binary_logloss: 0.365635\tvalid_0's auc: 0.863947\n",
      "[13]\tvalid_0's binary_logloss: 0.36192\tvalid_0's auc: 0.864862\n",
      "[14]\tvalid_0's binary_logloss: 0.35997\tvalid_0's auc: 0.86434\n",
      "[15]\tvalid_0's binary_logloss: 0.357393\tvalid_0's auc: 0.865035\n",
      "[16]\tvalid_0's binary_logloss: 0.356227\tvalid_0's auc: 0.864051\n",
      "[17]\tvalid_0's binary_logloss: 0.354248\tvalid_0's auc: 0.865157\n",
      "[18]\tvalid_0's binary_logloss: 0.352873\tvalid_0's auc: 0.864996\n",
      "[19]\tvalid_0's binary_logloss: 0.351326\tvalid_0's auc: 0.86514\n",
      "[20]\tvalid_0's binary_logloss: 0.349576\tvalid_0's auc: 0.865848\n",
      "[21]\tvalid_0's binary_logloss: 0.348458\tvalid_0's auc: 0.865859\n",
      "[22]\tvalid_0's binary_logloss: 0.347465\tvalid_0's auc: 0.865795\n",
      "[23]\tvalid_0's binary_logloss: 0.346777\tvalid_0's auc: 0.866121\n",
      "[24]\tvalid_0's binary_logloss: 0.346222\tvalid_0's auc: 0.866137\n",
      "[25]\tvalid_0's binary_logloss: 0.345535\tvalid_0's auc: 0.866225\n",
      "[26]\tvalid_0's binary_logloss: 0.345291\tvalid_0's auc: 0.865947\n",
      "[27]\tvalid_0's binary_logloss: 0.344969\tvalid_0's auc: 0.865657\n",
      "[28]\tvalid_0's binary_logloss: 0.344497\tvalid_0's auc: 0.865968\n",
      "[29]\tvalid_0's binary_logloss: 0.344036\tvalid_0's auc: 0.866436\n",
      "[30]\tvalid_0's binary_logloss: 0.344072\tvalid_0's auc: 0.866111\n",
      "[31]\tvalid_0's binary_logloss: 0.343632\tvalid_0's auc: 0.866318\n",
      "Did not meet early stopping. Best iteration is:\n",
      "[31]\tvalid_0's binary_logloss: 0.343632\tvalid_0's auc: 0.866318\n",
      "[1]\tvalid_0's binary_logloss: 0.471715\tvalid_0's auc: 0.823479\n",
      "Training until validation scores don't improve for 5 rounds.\n",
      "[2]\tvalid_0's binary_logloss: 0.452378\tvalid_0's auc: 0.83197\n",
      "[3]\tvalid_0's binary_logloss: 0.436167\tvalid_0's auc: 0.841463\n",
      "[4]\tvalid_0's binary_logloss: 0.421961\tvalid_0's auc: 0.84586\n"
     ]
    },
    {
     "name": "stderr",
     "output_type": "stream",
     "text": [
      "/Library/Frameworks/Python.framework/Versions/3.6/lib/python3.6/site-packages/sklearn/preprocessing/label.py:151: DeprecationWarning: The truth value of an empty array is ambiguous. Returning False, but in future this will result in an error. Use `array.size > 0` to check that an array is not empty.\n",
      "  if diff:\n",
      "/Library/Frameworks/Python.framework/Versions/3.6/lib/python3.6/site-packages/sklearn/preprocessing/label.py:151: DeprecationWarning: The truth value of an empty array is ambiguous. Returning False, but in future this will result in an error. Use `array.size > 0` to check that an array is not empty.\n",
      "  if diff:\n"
     ]
    },
    {
     "name": "stdout",
     "output_type": "stream",
     "text": [
      "[5]\tvalid_0's binary_logloss: 0.410657\tvalid_0's auc: 0.84882\n",
      "[6]\tvalid_0's binary_logloss: 0.402318\tvalid_0's auc: 0.850205\n",
      "[7]\tvalid_0's binary_logloss: 0.39476\tvalid_0's auc: 0.851931\n",
      "[8]\tvalid_0's binary_logloss: 0.387508\tvalid_0's auc: 0.853874\n",
      "[9]\tvalid_0's binary_logloss: 0.381297\tvalid_0's auc: 0.855599\n",
      "[10]\tvalid_0's binary_logloss: 0.376088\tvalid_0's auc: 0.857508\n",
      "[11]\tvalid_0's binary_logloss: 0.371598\tvalid_0's auc: 0.858514\n",
      "[12]\tvalid_0's binary_logloss: 0.367786\tvalid_0's auc: 0.860197\n",
      "[13]\tvalid_0's binary_logloss: 0.36494\tvalid_0's auc: 0.860208\n",
      "[14]\tvalid_0's binary_logloss: 0.361575\tvalid_0's auc: 0.861067\n",
      "[15]\tvalid_0's binary_logloss: 0.359197\tvalid_0's auc: 0.861659\n",
      "[16]\tvalid_0's binary_logloss: 0.357585\tvalid_0's auc: 0.861581\n",
      "[17]\tvalid_0's binary_logloss: 0.355111\tvalid_0's auc: 0.863198\n",
      "[18]\tvalid_0's binary_logloss: 0.353846\tvalid_0's auc: 0.862922\n",
      "[19]\tvalid_0's binary_logloss: 0.352491\tvalid_0's auc: 0.863238\n",
      "[20]\tvalid_0's binary_logloss: 0.351173\tvalid_0's auc: 0.863367\n",
      "[21]\tvalid_0's binary_logloss: 0.349941\tvalid_0's auc: 0.863629\n",
      "[22]\tvalid_0's binary_logloss: 0.349044\tvalid_0's auc: 0.863776\n",
      "[23]\tvalid_0's binary_logloss: 0.348441\tvalid_0's auc: 0.863805\n",
      "[24]\tvalid_0's binary_logloss: 0.347063\tvalid_0's auc: 0.864698\n",
      "[25]\tvalid_0's binary_logloss: 0.34675\tvalid_0's auc: 0.864715\n",
      "[26]\tvalid_0's binary_logloss: 0.346278\tvalid_0's auc: 0.865027\n",
      "[27]\tvalid_0's binary_logloss: 0.345684\tvalid_0's auc: 0.865524\n",
      "[28]\tvalid_0's binary_logloss: 0.346026\tvalid_0's auc: 0.864829\n",
      "[29]\tvalid_0's binary_logloss: 0.346631\tvalid_0's auc: 0.864089\n",
      "[30]\tvalid_0's binary_logloss: 0.345923\tvalid_0's auc: 0.864412\n",
      "[31]\tvalid_0's binary_logloss: 0.346256\tvalid_0's auc: 0.863578\n",
      "Did not meet early stopping. Best iteration is:\n",
      "[27]\tvalid_0's binary_logloss: 0.345684\tvalid_0's auc: 0.865524\n"
     ]
    },
    {
     "name": "stderr",
     "output_type": "stream",
     "text": [
      "/Library/Frameworks/Python.framework/Versions/3.6/lib/python3.6/site-packages/sklearn/preprocessing/label.py:151: DeprecationWarning: The truth value of an empty array is ambiguous. Returning False, but in future this will result in an error. Use `array.size > 0` to check that an array is not empty.\n",
      "  if diff:\n",
      "/Library/Frameworks/Python.framework/Versions/3.6/lib/python3.6/site-packages/sklearn/preprocessing/label.py:151: DeprecationWarning: The truth value of an empty array is ambiguous. Returning False, but in future this will result in an error. Use `array.size > 0` to check that an array is not empty.\n",
      "  if diff:\n"
     ]
    },
    {
     "name": "stdout",
     "output_type": "stream",
     "text": [
      "[1]\tvalid_0's binary_logloss: 0.470735\tvalid_0's auc: 0.823169\n",
      "Training until validation scores don't improve for 5 rounds.\n",
      "[2]\tvalid_0's binary_logloss: 0.450915\tvalid_0's auc: 0.844272\n",
      "[3]\tvalid_0's binary_logloss: 0.434549\tvalid_0's auc: 0.849207\n",
      "[4]\tvalid_0's binary_logloss: 0.420812\tvalid_0's auc: 0.852927\n",
      "[5]\tvalid_0's binary_logloss: 0.410605\tvalid_0's auc: 0.851846\n",
      "[6]\tvalid_0's binary_logloss: 0.402066\tvalid_0's auc: 0.853158\n",
      "[7]\tvalid_0's binary_logloss: 0.394556\tvalid_0's auc: 0.852809\n",
      "[8]\tvalid_0's binary_logloss: 0.387735\tvalid_0's auc: 0.854413\n",
      "[9]\tvalid_0's binary_logloss: 0.381917\tvalid_0's auc: 0.854194\n",
      "[10]\tvalid_0's binary_logloss: 0.376924\tvalid_0's auc: 0.856206\n",
      "[11]\tvalid_0's binary_logloss: 0.372629\tvalid_0's auc: 0.856456\n",
      "[12]\tvalid_0's binary_logloss: 0.369479\tvalid_0's auc: 0.858356\n",
      "[13]\tvalid_0's binary_logloss: 0.366522\tvalid_0's auc: 0.858964\n",
      "[14]\tvalid_0's binary_logloss: 0.364396\tvalid_0's auc: 0.858769\n",
      "[15]\tvalid_0's binary_logloss: 0.361654\tvalid_0's auc: 0.859537\n",
      "[16]\tvalid_0's binary_logloss: 0.358854\tvalid_0's auc: 0.860264\n",
      "[17]\tvalid_0's binary_logloss: 0.357315\tvalid_0's auc: 0.860267\n",
      "[18]\tvalid_0's binary_logloss: 0.355015\tvalid_0's auc: 0.86101\n",
      "[19]\tvalid_0's binary_logloss: 0.353631\tvalid_0's auc: 0.861496\n",
      "[20]\tvalid_0's binary_logloss: 0.352662\tvalid_0's auc: 0.861642\n",
      "[21]\tvalid_0's binary_logloss: 0.351447\tvalid_0's auc: 0.862049\n",
      "[22]\tvalid_0's binary_logloss: 0.350421\tvalid_0's auc: 0.862386\n",
      "[23]\tvalid_0's binary_logloss: 0.349446\tvalid_0's auc: 0.862653\n",
      "[24]\tvalid_0's binary_logloss: 0.349031\tvalid_0's auc: 0.862435\n",
      "[25]\tvalid_0's binary_logloss: 0.348009\tvalid_0's auc: 0.862902\n",
      "[26]\tvalid_0's binary_logloss: 0.34824\tvalid_0's auc: 0.862447\n",
      "[27]\tvalid_0's binary_logloss: 0.347737\tvalid_0's auc: 0.862609\n",
      "[28]\tvalid_0's binary_logloss: 0.34685\tvalid_0's auc: 0.863181\n",
      "[29]\tvalid_0's binary_logloss: 0.346603\tvalid_0's auc: 0.863271\n",
      "[30]\tvalid_0's binary_logloss: 0.34685\tvalid_0's auc: 0.862832\n",
      "[31]\tvalid_0's binary_logloss: 0.346595\tvalid_0's auc: 0.862905\n",
      "Did not meet early stopping. Best iteration is:\n",
      "[31]\tvalid_0's binary_logloss: 0.346595\tvalid_0's auc: 0.862905\n",
      "[1]\tvalid_0's binary_logloss: 0.469647\tvalid_0's auc: 0.837907\n",
      "Training until validation scores don't improve for 5 rounds.\n",
      "[2]\tvalid_0's binary_logloss: 0.450215\tvalid_0's auc: 0.844325\n",
      "[3]\tvalid_0's binary_logloss: 0.433524\tvalid_0's auc: 0.846203\n",
      "[4]\tvalid_0's binary_logloss: 0.42099\tvalid_0's auc: 0.848016\n",
      "[5]\tvalid_0's binary_logloss: 0.410131\tvalid_0's auc: 0.851509\n",
      "[6]\tvalid_0's binary_logloss: 0.400447\tvalid_0's auc: 0.854392\n",
      "[7]\tvalid_0's binary_logloss: 0.392604\tvalid_0's auc: 0.856369\n"
     ]
    },
    {
     "name": "stderr",
     "output_type": "stream",
     "text": [
      "/Library/Frameworks/Python.framework/Versions/3.6/lib/python3.6/site-packages/sklearn/preprocessing/label.py:151: DeprecationWarning: The truth value of an empty array is ambiguous. Returning False, but in future this will result in an error. Use `array.size > 0` to check that an array is not empty.\n",
      "  if diff:\n",
      "/Library/Frameworks/Python.framework/Versions/3.6/lib/python3.6/site-packages/sklearn/preprocessing/label.py:151: DeprecationWarning: The truth value of an empty array is ambiguous. Returning False, but in future this will result in an error. Use `array.size > 0` to check that an array is not empty.\n",
      "  if diff:\n"
     ]
    },
    {
     "name": "stdout",
     "output_type": "stream",
     "text": [
      "[8]\tvalid_0's binary_logloss: 0.385344\tvalid_0's auc: 0.858905\n",
      "[9]\tvalid_0's binary_logloss: 0.379321\tvalid_0's auc: 0.860357\n",
      "[10]\tvalid_0's binary_logloss: 0.373554\tvalid_0's auc: 0.862528\n",
      "[11]\tvalid_0's binary_logloss: 0.369177\tvalid_0's auc: 0.862628\n",
      "[12]\tvalid_0's binary_logloss: 0.365635\tvalid_0's auc: 0.863947\n",
      "[13]\tvalid_0's binary_logloss: 0.36192\tvalid_0's auc: 0.864862\n",
      "[14]\tvalid_0's binary_logloss: 0.35997\tvalid_0's auc: 0.86434\n",
      "[15]\tvalid_0's binary_logloss: 0.357393\tvalid_0's auc: 0.865035\n",
      "[16]\tvalid_0's binary_logloss: 0.356227\tvalid_0's auc: 0.864051\n",
      "[17]\tvalid_0's binary_logloss: 0.354248\tvalid_0's auc: 0.865157\n",
      "[18]\tvalid_0's binary_logloss: 0.352873\tvalid_0's auc: 0.864996\n",
      "[19]\tvalid_0's binary_logloss: 0.351326\tvalid_0's auc: 0.86514\n",
      "[20]\tvalid_0's binary_logloss: 0.349576\tvalid_0's auc: 0.865848\n",
      "[21]\tvalid_0's binary_logloss: 0.348458\tvalid_0's auc: 0.865859\n",
      "[22]\tvalid_0's binary_logloss: 0.347465\tvalid_0's auc: 0.865795\n",
      "[23]\tvalid_0's binary_logloss: 0.346777\tvalid_0's auc: 0.866121\n",
      "[24]\tvalid_0's binary_logloss: 0.346222\tvalid_0's auc: 0.866137\n",
      "[25]\tvalid_0's binary_logloss: 0.345535\tvalid_0's auc: 0.866225\n",
      "[26]\tvalid_0's binary_logloss: 0.345291\tvalid_0's auc: 0.865947\n",
      "[27]\tvalid_0's binary_logloss: 0.344969\tvalid_0's auc: 0.865657\n",
      "[28]\tvalid_0's binary_logloss: 0.344497\tvalid_0's auc: 0.865968\n",
      "[29]\tvalid_0's binary_logloss: 0.344036\tvalid_0's auc: 0.866436\n",
      "[30]\tvalid_0's binary_logloss: 0.344072\tvalid_0's auc: 0.866111\n",
      "[31]\tvalid_0's binary_logloss: 0.343632\tvalid_0's auc: 0.866318\n",
      "[32]\tvalid_0's binary_logloss: 0.343259\tvalid_0's auc: 0.866623\n",
      "[33]\tvalid_0's binary_logloss: 0.342907\tvalid_0's auc: 0.866766\n",
      "[34]\tvalid_0's binary_logloss: 0.343001\tvalid_0's auc: 0.86705\n",
      "Did not meet early stopping. Best iteration is:\n",
      "[33]\tvalid_0's binary_logloss: 0.342907\tvalid_0's auc: 0.866766\n"
     ]
    },
    {
     "name": "stderr",
     "output_type": "stream",
     "text": [
      "/Library/Frameworks/Python.framework/Versions/3.6/lib/python3.6/site-packages/sklearn/preprocessing/label.py:151: DeprecationWarning: The truth value of an empty array is ambiguous. Returning False, but in future this will result in an error. Use `array.size > 0` to check that an array is not empty.\n",
      "  if diff:\n",
      "/Library/Frameworks/Python.framework/Versions/3.6/lib/python3.6/site-packages/sklearn/preprocessing/label.py:151: DeprecationWarning: The truth value of an empty array is ambiguous. Returning False, but in future this will result in an error. Use `array.size > 0` to check that an array is not empty.\n",
      "  if diff:\n"
     ]
    },
    {
     "name": "stdout",
     "output_type": "stream",
     "text": [
      "[1]\tvalid_0's binary_logloss: 0.471715\tvalid_0's auc: 0.823479\n",
      "Training until validation scores don't improve for 5 rounds.\n",
      "[2]\tvalid_0's binary_logloss: 0.452378\tvalid_0's auc: 0.83197\n",
      "[3]\tvalid_0's binary_logloss: 0.436167\tvalid_0's auc: 0.841463\n",
      "[4]\tvalid_0's binary_logloss: 0.421961\tvalid_0's auc: 0.84586\n",
      "[5]\tvalid_0's binary_logloss: 0.410657\tvalid_0's auc: 0.84882\n",
      "[6]\tvalid_0's binary_logloss: 0.402318\tvalid_0's auc: 0.850205\n",
      "[7]\tvalid_0's binary_logloss: 0.39476\tvalid_0's auc: 0.851931\n",
      "[8]\tvalid_0's binary_logloss: 0.387508\tvalid_0's auc: 0.853874\n",
      "[9]\tvalid_0's binary_logloss: 0.381297\tvalid_0's auc: 0.855599\n",
      "[10]\tvalid_0's binary_logloss: 0.376088\tvalid_0's auc: 0.857508\n",
      "[11]\tvalid_0's binary_logloss: 0.371598\tvalid_0's auc: 0.858514\n",
      "[12]\tvalid_0's binary_logloss: 0.367786\tvalid_0's auc: 0.860197\n",
      "[13]\tvalid_0's binary_logloss: 0.36494\tvalid_0's auc: 0.860208\n",
      "[14]\tvalid_0's binary_logloss: 0.361575\tvalid_0's auc: 0.861067\n",
      "[15]\tvalid_0's binary_logloss: 0.359197\tvalid_0's auc: 0.861659\n",
      "[16]\tvalid_0's binary_logloss: 0.357585\tvalid_0's auc: 0.861581\n",
      "[17]\tvalid_0's binary_logloss: 0.355111\tvalid_0's auc: 0.863198\n",
      "[18]\tvalid_0's binary_logloss: 0.353846\tvalid_0's auc: 0.862922\n",
      "[19]\tvalid_0's binary_logloss: 0.352491\tvalid_0's auc: 0.863238\n",
      "[20]\tvalid_0's binary_logloss: 0.351173\tvalid_0's auc: 0.863367\n",
      "[21]\tvalid_0's binary_logloss: 0.349941\tvalid_0's auc: 0.863629\n",
      "[22]\tvalid_0's binary_logloss: 0.349044\tvalid_0's auc: 0.863776\n",
      "[23]\tvalid_0's binary_logloss: 0.348441\tvalid_0's auc: 0.863805\n",
      "[24]\tvalid_0's binary_logloss: 0.347063\tvalid_0's auc: 0.864698\n",
      "[25]\tvalid_0's binary_logloss: 0.34675\tvalid_0's auc: 0.864715\n",
      "[26]\tvalid_0's binary_logloss: 0.346278\tvalid_0's auc: 0.865027\n",
      "[27]\tvalid_0's binary_logloss: 0.345684\tvalid_0's auc: 0.865524\n",
      "[28]\tvalid_0's binary_logloss: 0.346026\tvalid_0's auc: 0.864829\n",
      "[29]\tvalid_0's binary_logloss: 0.346631\tvalid_0's auc: 0.864089\n",
      "[30]\tvalid_0's binary_logloss: 0.345923\tvalid_0's auc: 0.864412\n",
      "[31]\tvalid_0's binary_logloss: 0.346256\tvalid_0's auc: 0.863578\n",
      "[32]\tvalid_0's binary_logloss: 0.346125\tvalid_0's auc: 0.863543\n",
      "Early stopping, best iteration is:\n",
      "[27]\tvalid_0's binary_logloss: 0.345684\tvalid_0's auc: 0.865524\n",
      "[1]\tvalid_0's binary_logloss: 0.470735\tvalid_0's auc: 0.823169\n",
      "Training until validation scores don't improve for 5 rounds.\n",
      "[2]\tvalid_0's binary_logloss: 0.450915\tvalid_0's auc: 0.844272\n",
      "[3]\tvalid_0's binary_logloss: 0.434549\tvalid_0's auc: 0.849207\n",
      "[4]\tvalid_0's binary_logloss: 0.420812\tvalid_0's auc: 0.852927\n",
      "[5]\tvalid_0's binary_logloss: 0.410605\tvalid_0's auc: 0.851846\n",
      "[6]\tvalid_0's binary_logloss: 0.402066\tvalid_0's auc: 0.853158\n",
      "[7]\tvalid_0's binary_logloss: 0.394556\tvalid_0's auc: 0.852809\n",
      "[8]\tvalid_0's binary_logloss: 0.387735\tvalid_0's auc: 0.854413\n",
      "[9]\tvalid_0's binary_logloss: 0.381917\tvalid_0's auc: 0.854194\n",
      "[10]\tvalid_0's binary_logloss: 0.376924\tvalid_0's auc: 0.856206\n",
      "[11]\tvalid_0's binary_logloss: 0.372629\tvalid_0's auc: 0.856456\n"
     ]
    },
    {
     "name": "stderr",
     "output_type": "stream",
     "text": [
      "/Library/Frameworks/Python.framework/Versions/3.6/lib/python3.6/site-packages/sklearn/preprocessing/label.py:151: DeprecationWarning: The truth value of an empty array is ambiguous. Returning False, but in future this will result in an error. Use `array.size > 0` to check that an array is not empty.\n",
      "  if diff:\n",
      "/Library/Frameworks/Python.framework/Versions/3.6/lib/python3.6/site-packages/sklearn/preprocessing/label.py:151: DeprecationWarning: The truth value of an empty array is ambiguous. Returning False, but in future this will result in an error. Use `array.size > 0` to check that an array is not empty.\n",
      "  if diff:\n"
     ]
    },
    {
     "name": "stdout",
     "output_type": "stream",
     "text": [
      "[12]\tvalid_0's binary_logloss: 0.369479\tvalid_0's auc: 0.858356\n",
      "[13]\tvalid_0's binary_logloss: 0.366522\tvalid_0's auc: 0.858964\n",
      "[14]\tvalid_0's binary_logloss: 0.364396\tvalid_0's auc: 0.858769\n",
      "[15]\tvalid_0's binary_logloss: 0.361654\tvalid_0's auc: 0.859537\n",
      "[16]\tvalid_0's binary_logloss: 0.358854\tvalid_0's auc: 0.860264\n",
      "[17]\tvalid_0's binary_logloss: 0.357315\tvalid_0's auc: 0.860267\n",
      "[18]\tvalid_0's binary_logloss: 0.355015\tvalid_0's auc: 0.86101\n",
      "[19]\tvalid_0's binary_logloss: 0.353631\tvalid_0's auc: 0.861496\n",
      "[20]\tvalid_0's binary_logloss: 0.352662\tvalid_0's auc: 0.861642\n",
      "[21]\tvalid_0's binary_logloss: 0.351447\tvalid_0's auc: 0.862049\n",
      "[22]\tvalid_0's binary_logloss: 0.350421\tvalid_0's auc: 0.862386\n",
      "[23]\tvalid_0's binary_logloss: 0.349446\tvalid_0's auc: 0.862653\n",
      "[24]\tvalid_0's binary_logloss: 0.349031\tvalid_0's auc: 0.862435\n",
      "[25]\tvalid_0's binary_logloss: 0.348009\tvalid_0's auc: 0.862902\n",
      "[26]\tvalid_0's binary_logloss: 0.34824\tvalid_0's auc: 0.862447\n",
      "[27]\tvalid_0's binary_logloss: 0.347737\tvalid_0's auc: 0.862609\n",
      "[28]\tvalid_0's binary_logloss: 0.34685\tvalid_0's auc: 0.863181\n",
      "[29]\tvalid_0's binary_logloss: 0.346603\tvalid_0's auc: 0.863271\n",
      "[30]\tvalid_0's binary_logloss: 0.34685\tvalid_0's auc: 0.862832\n",
      "[31]\tvalid_0's binary_logloss: 0.346595\tvalid_0's auc: 0.862905\n",
      "[32]\tvalid_0's binary_logloss: 0.34661\tvalid_0's auc: 0.862879\n",
      "[33]\tvalid_0's binary_logloss: 0.34657\tvalid_0's auc: 0.862956\n",
      "[34]\tvalid_0's binary_logloss: 0.346907\tvalid_0's auc: 0.862738\n",
      "Did not meet early stopping. Best iteration is:\n",
      "[33]\tvalid_0's binary_logloss: 0.34657\tvalid_0's auc: 0.862956\n",
      "[1]\tvalid_0's binary_logloss: 0.469647\tvalid_0's auc: 0.837907\n",
      "Training until validation scores don't improve for 5 rounds.\n"
     ]
    },
    {
     "name": "stderr",
     "output_type": "stream",
     "text": [
      "/Library/Frameworks/Python.framework/Versions/3.6/lib/python3.6/site-packages/sklearn/preprocessing/label.py:151: DeprecationWarning: The truth value of an empty array is ambiguous. Returning False, but in future this will result in an error. Use `array.size > 0` to check that an array is not empty.\n",
      "  if diff:\n",
      "/Library/Frameworks/Python.framework/Versions/3.6/lib/python3.6/site-packages/sklearn/preprocessing/label.py:151: DeprecationWarning: The truth value of an empty array is ambiguous. Returning False, but in future this will result in an error. Use `array.size > 0` to check that an array is not empty.\n",
      "  if diff:\n"
     ]
    },
    {
     "name": "stdout",
     "output_type": "stream",
     "text": [
      "[2]\tvalid_0's binary_logloss: 0.450215\tvalid_0's auc: 0.844325\n",
      "[3]\tvalid_0's binary_logloss: 0.433524\tvalid_0's auc: 0.846203\n",
      "[4]\tvalid_0's binary_logloss: 0.42099\tvalid_0's auc: 0.848016\n",
      "[5]\tvalid_0's binary_logloss: 0.410131\tvalid_0's auc: 0.851509\n",
      "[6]\tvalid_0's binary_logloss: 0.400447\tvalid_0's auc: 0.854392\n",
      "[7]\tvalid_0's binary_logloss: 0.392604\tvalid_0's auc: 0.856369\n",
      "[8]\tvalid_0's binary_logloss: 0.385344\tvalid_0's auc: 0.858905\n",
      "[9]\tvalid_0's binary_logloss: 0.379321\tvalid_0's auc: 0.860357\n",
      "[10]\tvalid_0's binary_logloss: 0.373554\tvalid_0's auc: 0.862528\n",
      "[11]\tvalid_0's binary_logloss: 0.369177\tvalid_0's auc: 0.862628\n",
      "[12]\tvalid_0's binary_logloss: 0.365635\tvalid_0's auc: 0.863947\n",
      "[13]\tvalid_0's binary_logloss: 0.36192\tvalid_0's auc: 0.864862\n",
      "[14]\tvalid_0's binary_logloss: 0.35997\tvalid_0's auc: 0.86434\n",
      "[15]\tvalid_0's binary_logloss: 0.357393\tvalid_0's auc: 0.865035\n",
      "[16]\tvalid_0's binary_logloss: 0.356227\tvalid_0's auc: 0.864051\n",
      "[17]\tvalid_0's binary_logloss: 0.354248\tvalid_0's auc: 0.865157\n",
      "[18]\tvalid_0's binary_logloss: 0.352873\tvalid_0's auc: 0.864996\n",
      "[19]\tvalid_0's binary_logloss: 0.351326\tvalid_0's auc: 0.86514\n",
      "[20]\tvalid_0's binary_logloss: 0.349576\tvalid_0's auc: 0.865848\n",
      "[21]\tvalid_0's binary_logloss: 0.348458\tvalid_0's auc: 0.865859\n",
      "[22]\tvalid_0's binary_logloss: 0.347465\tvalid_0's auc: 0.865795\n",
      "[23]\tvalid_0's binary_logloss: 0.346777\tvalid_0's auc: 0.866121\n",
      "[24]\tvalid_0's binary_logloss: 0.346222\tvalid_0's auc: 0.866137\n",
      "[25]\tvalid_0's binary_logloss: 0.345535\tvalid_0's auc: 0.866225\n",
      "[26]\tvalid_0's binary_logloss: 0.345291\tvalid_0's auc: 0.865947\n",
      "[27]\tvalid_0's binary_logloss: 0.344969\tvalid_0's auc: 0.865657\n",
      "[28]\tvalid_0's binary_logloss: 0.344497\tvalid_0's auc: 0.865968\n",
      "[29]\tvalid_0's binary_logloss: 0.344036\tvalid_0's auc: 0.866436\n",
      "[30]\tvalid_0's binary_logloss: 0.344072\tvalid_0's auc: 0.866111\n",
      "[31]\tvalid_0's binary_logloss: 0.343632\tvalid_0's auc: 0.866318\n",
      "[32]\tvalid_0's binary_logloss: 0.343259\tvalid_0's auc: 0.866623\n",
      "[33]\tvalid_0's binary_logloss: 0.342907\tvalid_0's auc: 0.866766\n",
      "[34]\tvalid_0's binary_logloss: 0.343001\tvalid_0's auc: 0.86705\n",
      "[35]\tvalid_0's binary_logloss: 0.342455\tvalid_0's auc: 0.867581\n",
      "[36]\tvalid_0's binary_logloss: 0.342545\tvalid_0's auc: 0.867438\n",
      "[37]\tvalid_0's binary_logloss: 0.342773\tvalid_0's auc: 0.86739\n",
      "Did not meet early stopping. Best iteration is:\n",
      "[35]\tvalid_0's binary_logloss: 0.342455\tvalid_0's auc: 0.867581\n",
      "[1]\tvalid_0's binary_logloss: 0.471715\tvalid_0's auc: 0.823479\n",
      "Training until validation scores don't improve for 5 rounds.\n",
      "[2]\tvalid_0's binary_logloss: 0.452378\tvalid_0's auc: 0.83197\n"
     ]
    },
    {
     "name": "stderr",
     "output_type": "stream",
     "text": [
      "/Library/Frameworks/Python.framework/Versions/3.6/lib/python3.6/site-packages/sklearn/preprocessing/label.py:151: DeprecationWarning: The truth value of an empty array is ambiguous. Returning False, but in future this will result in an error. Use `array.size > 0` to check that an array is not empty.\n",
      "  if diff:\n",
      "/Library/Frameworks/Python.framework/Versions/3.6/lib/python3.6/site-packages/sklearn/preprocessing/label.py:151: DeprecationWarning: The truth value of an empty array is ambiguous. Returning False, but in future this will result in an error. Use `array.size > 0` to check that an array is not empty.\n",
      "  if diff:\n"
     ]
    },
    {
     "name": "stdout",
     "output_type": "stream",
     "text": [
      "[3]\tvalid_0's binary_logloss: 0.436167\tvalid_0's auc: 0.841463\n",
      "[4]\tvalid_0's binary_logloss: 0.421961\tvalid_0's auc: 0.84586\n",
      "[5]\tvalid_0's binary_logloss: 0.410657\tvalid_0's auc: 0.84882\n",
      "[6]\tvalid_0's binary_logloss: 0.402318\tvalid_0's auc: 0.850205\n",
      "[7]\tvalid_0's binary_logloss: 0.39476\tvalid_0's auc: 0.851931\n",
      "[8]\tvalid_0's binary_logloss: 0.387508\tvalid_0's auc: 0.853874\n",
      "[9]\tvalid_0's binary_logloss: 0.381297\tvalid_0's auc: 0.855599\n",
      "[10]\tvalid_0's binary_logloss: 0.376088\tvalid_0's auc: 0.857508\n",
      "[11]\tvalid_0's binary_logloss: 0.371598\tvalid_0's auc: 0.858514\n",
      "[12]\tvalid_0's binary_logloss: 0.367786\tvalid_0's auc: 0.860197\n",
      "[13]\tvalid_0's binary_logloss: 0.36494\tvalid_0's auc: 0.860208\n",
      "[14]\tvalid_0's binary_logloss: 0.361575\tvalid_0's auc: 0.861067\n",
      "[15]\tvalid_0's binary_logloss: 0.359197\tvalid_0's auc: 0.861659\n",
      "[16]\tvalid_0's binary_logloss: 0.357585\tvalid_0's auc: 0.861581\n",
      "[17]\tvalid_0's binary_logloss: 0.355111\tvalid_0's auc: 0.863198\n",
      "[18]\tvalid_0's binary_logloss: 0.353846\tvalid_0's auc: 0.862922\n",
      "[19]\tvalid_0's binary_logloss: 0.352491\tvalid_0's auc: 0.863238\n",
      "[20]\tvalid_0's binary_logloss: 0.351173\tvalid_0's auc: 0.863367\n",
      "[21]\tvalid_0's binary_logloss: 0.349941\tvalid_0's auc: 0.863629\n",
      "[22]\tvalid_0's binary_logloss: 0.349044\tvalid_0's auc: 0.863776\n",
      "[23]\tvalid_0's binary_logloss: 0.348441\tvalid_0's auc: 0.863805\n",
      "[24]\tvalid_0's binary_logloss: 0.347063\tvalid_0's auc: 0.864698\n",
      "[25]\tvalid_0's binary_logloss: 0.34675\tvalid_0's auc: 0.864715\n",
      "[26]\tvalid_0's binary_logloss: 0.346278\tvalid_0's auc: 0.865027\n",
      "[27]\tvalid_0's binary_logloss: 0.345684\tvalid_0's auc: 0.865524\n",
      "[28]\tvalid_0's binary_logloss: 0.346026\tvalid_0's auc: 0.864829\n",
      "[29]\tvalid_0's binary_logloss: 0.346631\tvalid_0's auc: 0.864089\n",
      "[30]\tvalid_0's binary_logloss: 0.345923\tvalid_0's auc: 0.864412\n",
      "[31]\tvalid_0's binary_logloss: 0.346256\tvalid_0's auc: 0.863578\n",
      "[32]\tvalid_0's binary_logloss: 0.346125\tvalid_0's auc: 0.863543\n",
      "Early stopping, best iteration is:\n",
      "[27]\tvalid_0's binary_logloss: 0.345684\tvalid_0's auc: 0.865524\n"
     ]
    },
    {
     "name": "stderr",
     "output_type": "stream",
     "text": [
      "/Library/Frameworks/Python.framework/Versions/3.6/lib/python3.6/site-packages/sklearn/preprocessing/label.py:151: DeprecationWarning: The truth value of an empty array is ambiguous. Returning False, but in future this will result in an error. Use `array.size > 0` to check that an array is not empty.\n",
      "  if diff:\n",
      "/Library/Frameworks/Python.framework/Versions/3.6/lib/python3.6/site-packages/sklearn/preprocessing/label.py:151: DeprecationWarning: The truth value of an empty array is ambiguous. Returning False, but in future this will result in an error. Use `array.size > 0` to check that an array is not empty.\n",
      "  if diff:\n"
     ]
    },
    {
     "name": "stdout",
     "output_type": "stream",
     "text": [
      "[1]\tvalid_0's binary_logloss: 0.470735\tvalid_0's auc: 0.823169\n",
      "Training until validation scores don't improve for 5 rounds.\n",
      "[2]\tvalid_0's binary_logloss: 0.450915\tvalid_0's auc: 0.844272\n",
      "[3]\tvalid_0's binary_logloss: 0.434549\tvalid_0's auc: 0.849207\n",
      "[4]\tvalid_0's binary_logloss: 0.420812\tvalid_0's auc: 0.852927\n",
      "[5]\tvalid_0's binary_logloss: 0.410605\tvalid_0's auc: 0.851846\n",
      "[6]\tvalid_0's binary_logloss: 0.402066\tvalid_0's auc: 0.853158\n",
      "[7]\tvalid_0's binary_logloss: 0.394556\tvalid_0's auc: 0.852809\n",
      "[8]\tvalid_0's binary_logloss: 0.387735\tvalid_0's auc: 0.854413\n",
      "[9]\tvalid_0's binary_logloss: 0.381917\tvalid_0's auc: 0.854194\n",
      "[10]\tvalid_0's binary_logloss: 0.376924\tvalid_0's auc: 0.856206\n",
      "[11]\tvalid_0's binary_logloss: 0.372629\tvalid_0's auc: 0.856456\n",
      "[12]\tvalid_0's binary_logloss: 0.369479\tvalid_0's auc: 0.858356\n",
      "[13]\tvalid_0's binary_logloss: 0.366522\tvalid_0's auc: 0.858964\n",
      "[14]\tvalid_0's binary_logloss: 0.364396\tvalid_0's auc: 0.858769\n",
      "[15]\tvalid_0's binary_logloss: 0.361654\tvalid_0's auc: 0.859537\n",
      "[16]\tvalid_0's binary_logloss: 0.358854\tvalid_0's auc: 0.860264\n",
      "[17]\tvalid_0's binary_logloss: 0.357315\tvalid_0's auc: 0.860267\n",
      "[18]\tvalid_0's binary_logloss: 0.355015\tvalid_0's auc: 0.86101\n",
      "[19]\tvalid_0's binary_logloss: 0.353631\tvalid_0's auc: 0.861496\n",
      "[20]\tvalid_0's binary_logloss: 0.352662\tvalid_0's auc: 0.861642\n",
      "[21]\tvalid_0's binary_logloss: 0.351447\tvalid_0's auc: 0.862049\n",
      "[22]\tvalid_0's binary_logloss: 0.350421\tvalid_0's auc: 0.862386\n",
      "[23]\tvalid_0's binary_logloss: 0.349446\tvalid_0's auc: 0.862653\n",
      "[24]\tvalid_0's binary_logloss: 0.349031\tvalid_0's auc: 0.862435\n",
      "[25]\tvalid_0's binary_logloss: 0.348009\tvalid_0's auc: 0.862902\n",
      "[26]\tvalid_0's binary_logloss: 0.34824\tvalid_0's auc: 0.862447\n",
      "[27]\tvalid_0's binary_logloss: 0.347737\tvalid_0's auc: 0.862609\n",
      "[28]\tvalid_0's binary_logloss: 0.34685\tvalid_0's auc: 0.863181\n",
      "[29]\tvalid_0's binary_logloss: 0.346603\tvalid_0's auc: 0.863271\n",
      "[30]\tvalid_0's binary_logloss: 0.34685\tvalid_0's auc: 0.862832\n",
      "[31]\tvalid_0's binary_logloss: 0.346595\tvalid_0's auc: 0.862905\n",
      "[32]\tvalid_0's binary_logloss: 0.34661\tvalid_0's auc: 0.862879\n",
      "[33]\tvalid_0's binary_logloss: 0.34657\tvalid_0's auc: 0.862956\n",
      "[34]\tvalid_0's binary_logloss: 0.346907\tvalid_0's auc: 0.862738\n",
      "Early stopping, best iteration is:\n",
      "[29]\tvalid_0's binary_logloss: 0.346603\tvalid_0's auc: 0.863271\n",
      "[1]\tvalid_0's binary_logloss: 0.463082\tvalid_0's auc: 0.837907\n",
      "Training until validation scores don't improve for 5 rounds.\n"
     ]
    },
    {
     "name": "stderr",
     "output_type": "stream",
     "text": [
      "/Library/Frameworks/Python.framework/Versions/3.6/lib/python3.6/site-packages/sklearn/preprocessing/label.py:151: DeprecationWarning: The truth value of an empty array is ambiguous. Returning False, but in future this will result in an error. Use `array.size > 0` to check that an array is not empty.\n",
      "  if diff:\n",
      "/Library/Frameworks/Python.framework/Versions/3.6/lib/python3.6/site-packages/sklearn/preprocessing/label.py:151: DeprecationWarning: The truth value of an empty array is ambiguous. Returning False, but in future this will result in an error. Use `array.size > 0` to check that an array is not empty.\n",
      "  if diff:\n"
     ]
    },
    {
     "name": "stdout",
     "output_type": "stream",
     "text": [
      "[2]\tvalid_0's binary_logloss: 0.440215\tvalid_0's auc: 0.846744\n",
      "[3]\tvalid_0's binary_logloss: 0.421601\tvalid_0's auc: 0.851466\n",
      "[4]\tvalid_0's binary_logloss: 0.409069\tvalid_0's auc: 0.852926\n",
      "[5]\tvalid_0's binary_logloss: 0.396575\tvalid_0's auc: 0.857742\n",
      "[6]\tvalid_0's binary_logloss: 0.388023\tvalid_0's auc: 0.857262\n",
      "[7]\tvalid_0's binary_logloss: 0.37969\tvalid_0's auc: 0.860136\n",
      "[8]\tvalid_0's binary_logloss: 0.374335\tvalid_0's auc: 0.859829\n",
      "[9]\tvalid_0's binary_logloss: 0.369354\tvalid_0's auc: 0.861651\n",
      "[10]\tvalid_0's binary_logloss: 0.365239\tvalid_0's auc: 0.862004\n",
      "Did not meet early stopping. Best iteration is:\n",
      "[10]\tvalid_0's binary_logloss: 0.365239\tvalid_0's auc: 0.862004\n",
      "[1]\tvalid_0's binary_logloss: 0.465678\tvalid_0's auc: 0.823479\n",
      "Training until validation scores don't improve for 5 rounds.\n"
     ]
    },
    {
     "name": "stderr",
     "output_type": "stream",
     "text": [
      "/Library/Frameworks/Python.framework/Versions/3.6/lib/python3.6/site-packages/sklearn/preprocessing/label.py:151: DeprecationWarning: The truth value of an empty array is ambiguous. Returning False, but in future this will result in an error. Use `array.size > 0` to check that an array is not empty.\n",
      "  if diff:\n",
      "/Library/Frameworks/Python.framework/Versions/3.6/lib/python3.6/site-packages/sklearn/preprocessing/label.py:151: DeprecationWarning: The truth value of an empty array is ambiguous. Returning False, but in future this will result in an error. Use `array.size > 0` to check that an array is not empty.\n",
      "  if diff:\n"
     ]
    },
    {
     "name": "stdout",
     "output_type": "stream",
     "text": [
      "[2]\tvalid_0's binary_logloss: 0.443599\tvalid_0's auc: 0.831955\n",
      "[3]\tvalid_0's binary_logloss: 0.425811\tvalid_0's auc: 0.841746\n",
      "[4]\tvalid_0's binary_logloss: 0.410787\tvalid_0's auc: 0.846508\n",
      "[5]\tvalid_0's binary_logloss: 0.399311\tvalid_0's auc: 0.850615\n",
      "[6]\tvalid_0's binary_logloss: 0.390662\tvalid_0's auc: 0.851825\n",
      "[7]\tvalid_0's binary_logloss: 0.383663\tvalid_0's auc: 0.852169\n",
      "[8]\tvalid_0's binary_logloss: 0.378275\tvalid_0's auc: 0.853263\n",
      "[9]\tvalid_0's binary_logloss: 0.373518\tvalid_0's auc: 0.854198\n",
      "[10]\tvalid_0's binary_logloss: 0.36791\tvalid_0's auc: 0.857154\n",
      "Did not meet early stopping. Best iteration is:\n",
      "[10]\tvalid_0's binary_logloss: 0.36791\tvalid_0's auc: 0.857154\n",
      "[1]\tvalid_0's binary_logloss: 0.464471\tvalid_0's auc: 0.823169\n",
      "Training until validation scores don't improve for 5 rounds.\n"
     ]
    },
    {
     "name": "stderr",
     "output_type": "stream",
     "text": [
      "/Library/Frameworks/Python.framework/Versions/3.6/lib/python3.6/site-packages/sklearn/preprocessing/label.py:151: DeprecationWarning: The truth value of an empty array is ambiguous. Returning False, but in future this will result in an error. Use `array.size > 0` to check that an array is not empty.\n",
      "  if diff:\n",
      "/Library/Frameworks/Python.framework/Versions/3.6/lib/python3.6/site-packages/sklearn/preprocessing/label.py:151: DeprecationWarning: The truth value of an empty array is ambiguous. Returning False, but in future this will result in an error. Use `array.size > 0` to check that an array is not empty.\n",
      "  if diff:\n"
     ]
    },
    {
     "name": "stdout",
     "output_type": "stream",
     "text": [
      "[2]\tvalid_0's binary_logloss: 0.441634\tvalid_0's auc: 0.843213\n",
      "[3]\tvalid_0's binary_logloss: 0.425134\tvalid_0's auc: 0.845891\n",
      "[4]\tvalid_0's binary_logloss: 0.411082\tvalid_0's auc: 0.849487\n",
      "[5]\tvalid_0's binary_logloss: 0.399045\tvalid_0's auc: 0.850562\n",
      "[6]\tvalid_0's binary_logloss: 0.391461\tvalid_0's auc: 0.849895\n",
      "[7]\tvalid_0's binary_logloss: 0.3831\tvalid_0's auc: 0.853403\n",
      "[8]\tvalid_0's binary_logloss: 0.377472\tvalid_0's auc: 0.856187\n",
      "[9]\tvalid_0's binary_logloss: 0.372163\tvalid_0's auc: 0.856843\n",
      "[10]\tvalid_0's binary_logloss: 0.367602\tvalid_0's auc: 0.858496\n",
      "Did not meet early stopping. Best iteration is:\n",
      "[10]\tvalid_0's binary_logloss: 0.367602\tvalid_0's auc: 0.858496\n",
      "[1]\tvalid_0's binary_logloss: 0.463082\tvalid_0's auc: 0.837907\n",
      "Training until validation scores don't improve for 5 rounds.\n"
     ]
    },
    {
     "name": "stderr",
     "output_type": "stream",
     "text": [
      "/Library/Frameworks/Python.framework/Versions/3.6/lib/python3.6/site-packages/sklearn/preprocessing/label.py:151: DeprecationWarning: The truth value of an empty array is ambiguous. Returning False, but in future this will result in an error. Use `array.size > 0` to check that an array is not empty.\n",
      "  if diff:\n",
      "/Library/Frameworks/Python.framework/Versions/3.6/lib/python3.6/site-packages/sklearn/preprocessing/label.py:151: DeprecationWarning: The truth value of an empty array is ambiguous. Returning False, but in future this will result in an error. Use `array.size > 0` to check that an array is not empty.\n",
      "  if diff:\n"
     ]
    },
    {
     "name": "stdout",
     "output_type": "stream",
     "text": [
      "[2]\tvalid_0's binary_logloss: 0.440215\tvalid_0's auc: 0.846744\n",
      "[3]\tvalid_0's binary_logloss: 0.421601\tvalid_0's auc: 0.851466\n",
      "[4]\tvalid_0's binary_logloss: 0.409069\tvalid_0's auc: 0.852926\n",
      "[5]\tvalid_0's binary_logloss: 0.396575\tvalid_0's auc: 0.857742\n",
      "[6]\tvalid_0's binary_logloss: 0.388023\tvalid_0's auc: 0.857262\n",
      "[7]\tvalid_0's binary_logloss: 0.37969\tvalid_0's auc: 0.860136\n",
      "[8]\tvalid_0's binary_logloss: 0.374335\tvalid_0's auc: 0.859829\n",
      "[9]\tvalid_0's binary_logloss: 0.369354\tvalid_0's auc: 0.861651\n",
      "[10]\tvalid_0's binary_logloss: 0.365239\tvalid_0's auc: 0.862004\n",
      "[11]\tvalid_0's binary_logloss: 0.361383\tvalid_0's auc: 0.86252\n",
      "[12]\tvalid_0's binary_logloss: 0.358555\tvalid_0's auc: 0.862532\n",
      "[13]\tvalid_0's binary_logloss: 0.355584\tvalid_0's auc: 0.864096\n",
      "Did not meet early stopping. Best iteration is:\n",
      "[13]\tvalid_0's binary_logloss: 0.355584\tvalid_0's auc: 0.864096\n"
     ]
    },
    {
     "name": "stderr",
     "output_type": "stream",
     "text": [
      "/Library/Frameworks/Python.framework/Versions/3.6/lib/python3.6/site-packages/sklearn/preprocessing/label.py:151: DeprecationWarning: The truth value of an empty array is ambiguous. Returning False, but in future this will result in an error. Use `array.size > 0` to check that an array is not empty.\n",
      "  if diff:\n",
      "/Library/Frameworks/Python.framework/Versions/3.6/lib/python3.6/site-packages/sklearn/preprocessing/label.py:151: DeprecationWarning: The truth value of an empty array is ambiguous. Returning False, but in future this will result in an error. Use `array.size > 0` to check that an array is not empty.\n",
      "  if diff:\n"
     ]
    },
    {
     "name": "stdout",
     "output_type": "stream",
     "text": [
      "[1]\tvalid_0's binary_logloss: 0.465678\tvalid_0's auc: 0.823479\n",
      "Training until validation scores don't improve for 5 rounds.\n",
      "[2]\tvalid_0's binary_logloss: 0.443599\tvalid_0's auc: 0.831955\n",
      "[3]\tvalid_0's binary_logloss: 0.425811\tvalid_0's auc: 0.841746\n",
      "[4]\tvalid_0's binary_logloss: 0.410787\tvalid_0's auc: 0.846508\n",
      "[5]\tvalid_0's binary_logloss: 0.399311\tvalid_0's auc: 0.850615\n",
      "[6]\tvalid_0's binary_logloss: 0.390662\tvalid_0's auc: 0.851825\n",
      "[7]\tvalid_0's binary_logloss: 0.383663\tvalid_0's auc: 0.852169\n",
      "[8]\tvalid_0's binary_logloss: 0.378275\tvalid_0's auc: 0.853263\n",
      "[9]\tvalid_0's binary_logloss: 0.373518\tvalid_0's auc: 0.854198\n",
      "[10]\tvalid_0's binary_logloss: 0.36791\tvalid_0's auc: 0.857154\n",
      "[11]\tvalid_0's binary_logloss: 0.364052\tvalid_0's auc: 0.857592\n",
      "[12]\tvalid_0's binary_logloss: 0.36095\tvalid_0's auc: 0.858372\n",
      "[13]\tvalid_0's binary_logloss: 0.357813\tvalid_0's auc: 0.860547\n",
      "Did not meet early stopping. Best iteration is:\n",
      "[13]\tvalid_0's binary_logloss: 0.357813\tvalid_0's auc: 0.860547\n"
     ]
    },
    {
     "name": "stderr",
     "output_type": "stream",
     "text": [
      "/Library/Frameworks/Python.framework/Versions/3.6/lib/python3.6/site-packages/sklearn/preprocessing/label.py:151: DeprecationWarning: The truth value of an empty array is ambiguous. Returning False, but in future this will result in an error. Use `array.size > 0` to check that an array is not empty.\n",
      "  if diff:\n",
      "/Library/Frameworks/Python.framework/Versions/3.6/lib/python3.6/site-packages/sklearn/preprocessing/label.py:151: DeprecationWarning: The truth value of an empty array is ambiguous. Returning False, but in future this will result in an error. Use `array.size > 0` to check that an array is not empty.\n",
      "  if diff:\n"
     ]
    },
    {
     "name": "stdout",
     "output_type": "stream",
     "text": [
      "[1]\tvalid_0's binary_logloss: 0.464471\tvalid_0's auc: 0.823169\n",
      "Training until validation scores don't improve for 5 rounds.\n",
      "[2]\tvalid_0's binary_logloss: 0.441634\tvalid_0's auc: 0.843213\n",
      "[3]\tvalid_0's binary_logloss: 0.425134\tvalid_0's auc: 0.845891\n",
      "[4]\tvalid_0's binary_logloss: 0.411082\tvalid_0's auc: 0.849487\n",
      "[5]\tvalid_0's binary_logloss: 0.399045\tvalid_0's auc: 0.850562\n",
      "[6]\tvalid_0's binary_logloss: 0.391461\tvalid_0's auc: 0.849895\n",
      "[7]\tvalid_0's binary_logloss: 0.3831\tvalid_0's auc: 0.853403\n",
      "[8]\tvalid_0's binary_logloss: 0.377472\tvalid_0's auc: 0.856187\n",
      "[9]\tvalid_0's binary_logloss: 0.372163\tvalid_0's auc: 0.856843\n",
      "[10]\tvalid_0's binary_logloss: 0.367602\tvalid_0's auc: 0.858496\n",
      "[11]\tvalid_0's binary_logloss: 0.364391\tvalid_0's auc: 0.85834\n",
      "[12]\tvalid_0's binary_logloss: 0.361381\tvalid_0's auc: 0.858794\n",
      "[13]\tvalid_0's binary_logloss: 0.358339\tvalid_0's auc: 0.859799\n",
      "Did not meet early stopping. Best iteration is:\n",
      "[13]\tvalid_0's binary_logloss: 0.358339\tvalid_0's auc: 0.859799\n"
     ]
    },
    {
     "name": "stderr",
     "output_type": "stream",
     "text": [
      "/Library/Frameworks/Python.framework/Versions/3.6/lib/python3.6/site-packages/sklearn/preprocessing/label.py:151: DeprecationWarning: The truth value of an empty array is ambiguous. Returning False, but in future this will result in an error. Use `array.size > 0` to check that an array is not empty.\n",
      "  if diff:\n",
      "/Library/Frameworks/Python.framework/Versions/3.6/lib/python3.6/site-packages/sklearn/preprocessing/label.py:151: DeprecationWarning: The truth value of an empty array is ambiguous. Returning False, but in future this will result in an error. Use `array.size > 0` to check that an array is not empty.\n",
      "  if diff:\n"
     ]
    },
    {
     "name": "stdout",
     "output_type": "stream",
     "text": [
      "[1]\tvalid_0's binary_logloss: 0.463082\tvalid_0's auc: 0.837907\n",
      "Training until validation scores don't improve for 5 rounds.\n",
      "[2]\tvalid_0's binary_logloss: 0.440215\tvalid_0's auc: 0.846744\n",
      "[3]\tvalid_0's binary_logloss: 0.421601\tvalid_0's auc: 0.851466\n",
      "[4]\tvalid_0's binary_logloss: 0.409069\tvalid_0's auc: 0.852926\n",
      "[5]\tvalid_0's binary_logloss: 0.396575\tvalid_0's auc: 0.857742\n",
      "[6]\tvalid_0's binary_logloss: 0.388023\tvalid_0's auc: 0.857262\n",
      "[7]\tvalid_0's binary_logloss: 0.37969\tvalid_0's auc: 0.860136\n",
      "[8]\tvalid_0's binary_logloss: 0.374335\tvalid_0's auc: 0.859829\n",
      "[9]\tvalid_0's binary_logloss: 0.369354\tvalid_0's auc: 0.861651\n",
      "[10]\tvalid_0's binary_logloss: 0.365239\tvalid_0's auc: 0.862004\n",
      "[11]\tvalid_0's binary_logloss: 0.361383\tvalid_0's auc: 0.86252\n",
      "[12]\tvalid_0's binary_logloss: 0.358555\tvalid_0's auc: 0.862532\n",
      "[13]\tvalid_0's binary_logloss: 0.355584\tvalid_0's auc: 0.864096\n",
      "[14]\tvalid_0's binary_logloss: 0.353005\tvalid_0's auc: 0.864406\n",
      "[15]\tvalid_0's binary_logloss: 0.352053\tvalid_0's auc: 0.864284\n",
      "[16]\tvalid_0's binary_logloss: 0.349972\tvalid_0's auc: 0.865126\n",
      "Did not meet early stopping. Best iteration is:\n",
      "[16]\tvalid_0's binary_logloss: 0.349972\tvalid_0's auc: 0.865126\n",
      "[1]\tvalid_0's binary_logloss: 0.465678\tvalid_0's auc: 0.823479\n",
      "Training until validation scores don't improve for 5 rounds.\n",
      "[2]\tvalid_0's binary_logloss: 0.443599\tvalid_0's auc: 0.831955\n",
      "[3]\tvalid_0's binary_logloss: 0.425811\tvalid_0's auc: 0.841746\n",
      "[4]\tvalid_0's binary_logloss: 0.410787\tvalid_0's auc: 0.846508\n",
      "[5]\tvalid_0's binary_logloss: 0.399311\tvalid_0's auc: 0.850615\n",
      "[6]\tvalid_0's binary_logloss: 0.390662\tvalid_0's auc: 0.851825\n"
     ]
    },
    {
     "name": "stderr",
     "output_type": "stream",
     "text": [
      "/Library/Frameworks/Python.framework/Versions/3.6/lib/python3.6/site-packages/sklearn/preprocessing/label.py:151: DeprecationWarning: The truth value of an empty array is ambiguous. Returning False, but in future this will result in an error. Use `array.size > 0` to check that an array is not empty.\n",
      "  if diff:\n",
      "/Library/Frameworks/Python.framework/Versions/3.6/lib/python3.6/site-packages/sklearn/preprocessing/label.py:151: DeprecationWarning: The truth value of an empty array is ambiguous. Returning False, but in future this will result in an error. Use `array.size > 0` to check that an array is not empty.\n",
      "  if diff:\n"
     ]
    },
    {
     "name": "stdout",
     "output_type": "stream",
     "text": [
      "[7]\tvalid_0's binary_logloss: 0.383663\tvalid_0's auc: 0.852169\n",
      "[8]\tvalid_0's binary_logloss: 0.378275\tvalid_0's auc: 0.853263\n",
      "[9]\tvalid_0's binary_logloss: 0.373518\tvalid_0's auc: 0.854198\n",
      "[10]\tvalid_0's binary_logloss: 0.36791\tvalid_0's auc: 0.857154\n",
      "[11]\tvalid_0's binary_logloss: 0.364052\tvalid_0's auc: 0.857592\n",
      "[12]\tvalid_0's binary_logloss: 0.36095\tvalid_0's auc: 0.858372\n",
      "[13]\tvalid_0's binary_logloss: 0.357813\tvalid_0's auc: 0.860547\n",
      "[14]\tvalid_0's binary_logloss: 0.355738\tvalid_0's auc: 0.860584\n",
      "[15]\tvalid_0's binary_logloss: 0.353413\tvalid_0's auc: 0.861929\n",
      "[16]\tvalid_0's binary_logloss: 0.352264\tvalid_0's auc: 0.861706\n",
      "Did not meet early stopping. Best iteration is:\n",
      "[16]\tvalid_0's binary_logloss: 0.352264\tvalid_0's auc: 0.861706\n"
     ]
    },
    {
     "name": "stderr",
     "output_type": "stream",
     "text": [
      "/Library/Frameworks/Python.framework/Versions/3.6/lib/python3.6/site-packages/sklearn/preprocessing/label.py:151: DeprecationWarning: The truth value of an empty array is ambiguous. Returning False, but in future this will result in an error. Use `array.size > 0` to check that an array is not empty.\n",
      "  if diff:\n",
      "/Library/Frameworks/Python.framework/Versions/3.6/lib/python3.6/site-packages/sklearn/preprocessing/label.py:151: DeprecationWarning: The truth value of an empty array is ambiguous. Returning False, but in future this will result in an error. Use `array.size > 0` to check that an array is not empty.\n",
      "  if diff:\n"
     ]
    },
    {
     "name": "stdout",
     "output_type": "stream",
     "text": [
      "[1]\tvalid_0's binary_logloss: 0.464471\tvalid_0's auc: 0.823169\n",
      "Training until validation scores don't improve for 5 rounds.\n",
      "[2]\tvalid_0's binary_logloss: 0.441634\tvalid_0's auc: 0.843213\n",
      "[3]\tvalid_0's binary_logloss: 0.425134\tvalid_0's auc: 0.845891\n",
      "[4]\tvalid_0's binary_logloss: 0.411082\tvalid_0's auc: 0.849487\n",
      "[5]\tvalid_0's binary_logloss: 0.399045\tvalid_0's auc: 0.850562\n",
      "[6]\tvalid_0's binary_logloss: 0.391461\tvalid_0's auc: 0.849895\n",
      "[7]\tvalid_0's binary_logloss: 0.3831\tvalid_0's auc: 0.853403\n",
      "[8]\tvalid_0's binary_logloss: 0.377472\tvalid_0's auc: 0.856187\n",
      "[9]\tvalid_0's binary_logloss: 0.372163\tvalid_0's auc: 0.856843\n",
      "[10]\tvalid_0's binary_logloss: 0.367602\tvalid_0's auc: 0.858496\n",
      "[11]\tvalid_0's binary_logloss: 0.364391\tvalid_0's auc: 0.85834\n",
      "[12]\tvalid_0's binary_logloss: 0.361381\tvalid_0's auc: 0.858794\n",
      "[13]\tvalid_0's binary_logloss: 0.358339\tvalid_0's auc: 0.859799\n",
      "[14]\tvalid_0's binary_logloss: 0.355968\tvalid_0's auc: 0.860707\n",
      "[15]\tvalid_0's binary_logloss: 0.354744\tvalid_0's auc: 0.860743\n",
      "[16]\tvalid_0's binary_logloss: 0.353385\tvalid_0's auc: 0.860449\n",
      "Did not meet early stopping. Best iteration is:\n",
      "[16]\tvalid_0's binary_logloss: 0.353385\tvalid_0's auc: 0.860449\n",
      "[1]\tvalid_0's binary_logloss: 0.463082\tvalid_0's auc: 0.837907\n",
      "Training until validation scores don't improve for 5 rounds.\n",
      "[2]\tvalid_0's binary_logloss: 0.440215\tvalid_0's auc: 0.846744\n",
      "[3]\tvalid_0's binary_logloss: 0.421601\tvalid_0's auc: 0.851466\n",
      "[4]\tvalid_0's binary_logloss: 0.409069\tvalid_0's auc: 0.852926\n",
      "[5]\tvalid_0's binary_logloss: 0.396575\tvalid_0's auc: 0.857742\n",
      "[6]\tvalid_0's binary_logloss: 0.388023\tvalid_0's auc: 0.857262\n",
      "[7]\tvalid_0's binary_logloss: 0.37969\tvalid_0's auc: 0.860136\n",
      "[8]\tvalid_0's binary_logloss: 0.374335\tvalid_0's auc: 0.859829\n"
     ]
    },
    {
     "name": "stderr",
     "output_type": "stream",
     "text": [
      "/Library/Frameworks/Python.framework/Versions/3.6/lib/python3.6/site-packages/sklearn/preprocessing/label.py:151: DeprecationWarning: The truth value of an empty array is ambiguous. Returning False, but in future this will result in an error. Use `array.size > 0` to check that an array is not empty.\n",
      "  if diff:\n",
      "/Library/Frameworks/Python.framework/Versions/3.6/lib/python3.6/site-packages/sklearn/preprocessing/label.py:151: DeprecationWarning: The truth value of an empty array is ambiguous. Returning False, but in future this will result in an error. Use `array.size > 0` to check that an array is not empty.\n",
      "  if diff:\n"
     ]
    },
    {
     "name": "stdout",
     "output_type": "stream",
     "text": [
      "[9]\tvalid_0's binary_logloss: 0.369354\tvalid_0's auc: 0.861651\n",
      "[10]\tvalid_0's binary_logloss: 0.365239\tvalid_0's auc: 0.862004\n",
      "[11]\tvalid_0's binary_logloss: 0.361383\tvalid_0's auc: 0.86252\n",
      "[12]\tvalid_0's binary_logloss: 0.358555\tvalid_0's auc: 0.862532\n",
      "[13]\tvalid_0's binary_logloss: 0.355584\tvalid_0's auc: 0.864096\n",
      "[14]\tvalid_0's binary_logloss: 0.353005\tvalid_0's auc: 0.864406\n",
      "[15]\tvalid_0's binary_logloss: 0.352053\tvalid_0's auc: 0.864284\n",
      "[16]\tvalid_0's binary_logloss: 0.349972\tvalid_0's auc: 0.865126\n",
      "[17]\tvalid_0's binary_logloss: 0.348639\tvalid_0's auc: 0.865231\n",
      "[18]\tvalid_0's binary_logloss: 0.347409\tvalid_0's auc: 0.86568\n",
      "[19]\tvalid_0's binary_logloss: 0.346308\tvalid_0's auc: 0.865977\n",
      "Did not meet early stopping. Best iteration is:\n",
      "[19]\tvalid_0's binary_logloss: 0.346308\tvalid_0's auc: 0.865977\n"
     ]
    },
    {
     "name": "stderr",
     "output_type": "stream",
     "text": [
      "/Library/Frameworks/Python.framework/Versions/3.6/lib/python3.6/site-packages/sklearn/preprocessing/label.py:151: DeprecationWarning: The truth value of an empty array is ambiguous. Returning False, but in future this will result in an error. Use `array.size > 0` to check that an array is not empty.\n",
      "  if diff:\n",
      "/Library/Frameworks/Python.framework/Versions/3.6/lib/python3.6/site-packages/sklearn/preprocessing/label.py:151: DeprecationWarning: The truth value of an empty array is ambiguous. Returning False, but in future this will result in an error. Use `array.size > 0` to check that an array is not empty.\n",
      "  if diff:\n"
     ]
    },
    {
     "name": "stdout",
     "output_type": "stream",
     "text": [
      "[1]\tvalid_0's binary_logloss: 0.465678\tvalid_0's auc: 0.823479\n",
      "Training until validation scores don't improve for 5 rounds.\n",
      "[2]\tvalid_0's binary_logloss: 0.443599\tvalid_0's auc: 0.831955\n",
      "[3]\tvalid_0's binary_logloss: 0.425811\tvalid_0's auc: 0.841746\n",
      "[4]\tvalid_0's binary_logloss: 0.410787\tvalid_0's auc: 0.846508\n",
      "[5]\tvalid_0's binary_logloss: 0.399311\tvalid_0's auc: 0.850615\n",
      "[6]\tvalid_0's binary_logloss: 0.390662\tvalid_0's auc: 0.851825\n",
      "[7]\tvalid_0's binary_logloss: 0.383663\tvalid_0's auc: 0.852169\n",
      "[8]\tvalid_0's binary_logloss: 0.378275\tvalid_0's auc: 0.853263\n",
      "[9]\tvalid_0's binary_logloss: 0.373518\tvalid_0's auc: 0.854198\n",
      "[10]\tvalid_0's binary_logloss: 0.36791\tvalid_0's auc: 0.857154\n",
      "[11]\tvalid_0's binary_logloss: 0.364052\tvalid_0's auc: 0.857592\n",
      "[12]\tvalid_0's binary_logloss: 0.36095\tvalid_0's auc: 0.858372\n",
      "[13]\tvalid_0's binary_logloss: 0.357813\tvalid_0's auc: 0.860547\n",
      "[14]\tvalid_0's binary_logloss: 0.355738\tvalid_0's auc: 0.860584\n",
      "[15]\tvalid_0's binary_logloss: 0.353413\tvalid_0's auc: 0.861929\n",
      "[16]\tvalid_0's binary_logloss: 0.352264\tvalid_0's auc: 0.861706\n",
      "[17]\tvalid_0's binary_logloss: 0.350905\tvalid_0's auc: 0.861923\n",
      "[18]\tvalid_0's binary_logloss: 0.35064\tvalid_0's auc: 0.861429\n",
      "[19]\tvalid_0's binary_logloss: 0.34964\tvalid_0's auc: 0.862014\n",
      "Did not meet early stopping. Best iteration is:\n",
      "[19]\tvalid_0's binary_logloss: 0.34964\tvalid_0's auc: 0.862014\n",
      "[1]\tvalid_0's binary_logloss: 0.464471\tvalid_0's auc: 0.823169\n",
      "Training until validation scores don't improve for 5 rounds.\n",
      "[2]\tvalid_0's binary_logloss: 0.441634\tvalid_0's auc: 0.843213\n",
      "[3]\tvalid_0's binary_logloss: 0.425134\tvalid_0's auc: 0.845891\n",
      "[4]\tvalid_0's binary_logloss: 0.411082\tvalid_0's auc: 0.849487\n",
      "[5]\tvalid_0's binary_logloss: 0.399045\tvalid_0's auc: 0.850562\n"
     ]
    },
    {
     "name": "stderr",
     "output_type": "stream",
     "text": [
      "/Library/Frameworks/Python.framework/Versions/3.6/lib/python3.6/site-packages/sklearn/preprocessing/label.py:151: DeprecationWarning: The truth value of an empty array is ambiguous. Returning False, but in future this will result in an error. Use `array.size > 0` to check that an array is not empty.\n",
      "  if diff:\n",
      "/Library/Frameworks/Python.framework/Versions/3.6/lib/python3.6/site-packages/sklearn/preprocessing/label.py:151: DeprecationWarning: The truth value of an empty array is ambiguous. Returning False, but in future this will result in an error. Use `array.size > 0` to check that an array is not empty.\n",
      "  if diff:\n"
     ]
    },
    {
     "name": "stdout",
     "output_type": "stream",
     "text": [
      "[6]\tvalid_0's binary_logloss: 0.391461\tvalid_0's auc: 0.849895\n",
      "[7]\tvalid_0's binary_logloss: 0.3831\tvalid_0's auc: 0.853403\n",
      "[8]\tvalid_0's binary_logloss: 0.377472\tvalid_0's auc: 0.856187\n",
      "[9]\tvalid_0's binary_logloss: 0.372163\tvalid_0's auc: 0.856843\n",
      "[10]\tvalid_0's binary_logloss: 0.367602\tvalid_0's auc: 0.858496\n",
      "[11]\tvalid_0's binary_logloss: 0.364391\tvalid_0's auc: 0.85834\n",
      "[12]\tvalid_0's binary_logloss: 0.361381\tvalid_0's auc: 0.858794\n",
      "[13]\tvalid_0's binary_logloss: 0.358339\tvalid_0's auc: 0.859799\n",
      "[14]\tvalid_0's binary_logloss: 0.355968\tvalid_0's auc: 0.860707\n",
      "[15]\tvalid_0's binary_logloss: 0.354744\tvalid_0's auc: 0.860743\n",
      "[16]\tvalid_0's binary_logloss: 0.353385\tvalid_0's auc: 0.860449\n",
      "[17]\tvalid_0's binary_logloss: 0.351748\tvalid_0's auc: 0.86099\n",
      "[18]\tvalid_0's binary_logloss: 0.350296\tvalid_0's auc: 0.861562\n",
      "[19]\tvalid_0's binary_logloss: 0.349428\tvalid_0's auc: 0.862171\n",
      "Did not meet early stopping. Best iteration is:\n",
      "[19]\tvalid_0's binary_logloss: 0.349428\tvalid_0's auc: 0.862171\n"
     ]
    },
    {
     "name": "stderr",
     "output_type": "stream",
     "text": [
      "/Library/Frameworks/Python.framework/Versions/3.6/lib/python3.6/site-packages/sklearn/preprocessing/label.py:151: DeprecationWarning: The truth value of an empty array is ambiguous. Returning False, but in future this will result in an error. Use `array.size > 0` to check that an array is not empty.\n",
      "  if diff:\n",
      "/Library/Frameworks/Python.framework/Versions/3.6/lib/python3.6/site-packages/sklearn/preprocessing/label.py:151: DeprecationWarning: The truth value of an empty array is ambiguous. Returning False, but in future this will result in an error. Use `array.size > 0` to check that an array is not empty.\n",
      "  if diff:\n"
     ]
    },
    {
     "name": "stdout",
     "output_type": "stream",
     "text": [
      "[1]\tvalid_0's binary_logloss: 0.463082\tvalid_0's auc: 0.837907\n",
      "Training until validation scores don't improve for 5 rounds.\n",
      "[2]\tvalid_0's binary_logloss: 0.440215\tvalid_0's auc: 0.846744\n",
      "[3]\tvalid_0's binary_logloss: 0.421601\tvalid_0's auc: 0.851466\n",
      "[4]\tvalid_0's binary_logloss: 0.409069\tvalid_0's auc: 0.852926\n",
      "[5]\tvalid_0's binary_logloss: 0.396575\tvalid_0's auc: 0.857742\n",
      "[6]\tvalid_0's binary_logloss: 0.388023\tvalid_0's auc: 0.857262\n",
      "[7]\tvalid_0's binary_logloss: 0.37969\tvalid_0's auc: 0.860136\n",
      "[8]\tvalid_0's binary_logloss: 0.374335\tvalid_0's auc: 0.859829\n",
      "[9]\tvalid_0's binary_logloss: 0.369354\tvalid_0's auc: 0.861651\n",
      "[10]\tvalid_0's binary_logloss: 0.365239\tvalid_0's auc: 0.862004\n",
      "[11]\tvalid_0's binary_logloss: 0.361383\tvalid_0's auc: 0.86252\n",
      "[12]\tvalid_0's binary_logloss: 0.358555\tvalid_0's auc: 0.862532\n",
      "[13]\tvalid_0's binary_logloss: 0.355584\tvalid_0's auc: 0.864096\n",
      "[14]\tvalid_0's binary_logloss: 0.353005\tvalid_0's auc: 0.864406\n",
      "[15]\tvalid_0's binary_logloss: 0.352053\tvalid_0's auc: 0.864284\n",
      "[16]\tvalid_0's binary_logloss: 0.349972\tvalid_0's auc: 0.865126\n",
      "[17]\tvalid_0's binary_logloss: 0.348639\tvalid_0's auc: 0.865231\n",
      "[18]\tvalid_0's binary_logloss: 0.347409\tvalid_0's auc: 0.86568\n",
      "[19]\tvalid_0's binary_logloss: 0.346308\tvalid_0's auc: 0.865977\n",
      "[20]\tvalid_0's binary_logloss: 0.34622\tvalid_0's auc: 0.865198\n",
      "[21]\tvalid_0's binary_logloss: 0.346276\tvalid_0's auc: 0.864422\n",
      "[22]\tvalid_0's binary_logloss: 0.345988\tvalid_0's auc: 0.864458\n",
      "Did not meet early stopping. Best iteration is:\n",
      "[22]\tvalid_0's binary_logloss: 0.345988\tvalid_0's auc: 0.864458\n",
      "[1]\tvalid_0's binary_logloss: 0.465678\tvalid_0's auc: 0.823479\n",
      "Training until validation scores don't improve for 5 rounds.\n",
      "[2]\tvalid_0's binary_logloss: 0.443599\tvalid_0's auc: 0.831955\n"
     ]
    },
    {
     "name": "stderr",
     "output_type": "stream",
     "text": [
      "/Library/Frameworks/Python.framework/Versions/3.6/lib/python3.6/site-packages/sklearn/preprocessing/label.py:151: DeprecationWarning: The truth value of an empty array is ambiguous. Returning False, but in future this will result in an error. Use `array.size > 0` to check that an array is not empty.\n",
      "  if diff:\n",
      "/Library/Frameworks/Python.framework/Versions/3.6/lib/python3.6/site-packages/sklearn/preprocessing/label.py:151: DeprecationWarning: The truth value of an empty array is ambiguous. Returning False, but in future this will result in an error. Use `array.size > 0` to check that an array is not empty.\n",
      "  if diff:\n"
     ]
    },
    {
     "name": "stdout",
     "output_type": "stream",
     "text": [
      "[3]\tvalid_0's binary_logloss: 0.425811\tvalid_0's auc: 0.841746\n",
      "[4]\tvalid_0's binary_logloss: 0.410787\tvalid_0's auc: 0.846508\n",
      "[5]\tvalid_0's binary_logloss: 0.399311\tvalid_0's auc: 0.850615\n",
      "[6]\tvalid_0's binary_logloss: 0.390662\tvalid_0's auc: 0.851825\n",
      "[7]\tvalid_0's binary_logloss: 0.383663\tvalid_0's auc: 0.852169\n",
      "[8]\tvalid_0's binary_logloss: 0.378275\tvalid_0's auc: 0.853263\n",
      "[9]\tvalid_0's binary_logloss: 0.373518\tvalid_0's auc: 0.854198\n",
      "[10]\tvalid_0's binary_logloss: 0.36791\tvalid_0's auc: 0.857154\n",
      "[11]\tvalid_0's binary_logloss: 0.364052\tvalid_0's auc: 0.857592\n",
      "[12]\tvalid_0's binary_logloss: 0.36095\tvalid_0's auc: 0.858372\n",
      "[13]\tvalid_0's binary_logloss: 0.357813\tvalid_0's auc: 0.860547\n",
      "[14]\tvalid_0's binary_logloss: 0.355738\tvalid_0's auc: 0.860584\n",
      "[15]\tvalid_0's binary_logloss: 0.353413\tvalid_0's auc: 0.861929\n",
      "[16]\tvalid_0's binary_logloss: 0.352264\tvalid_0's auc: 0.861706\n",
      "[17]\tvalid_0's binary_logloss: 0.350905\tvalid_0's auc: 0.861923\n",
      "[18]\tvalid_0's binary_logloss: 0.35064\tvalid_0's auc: 0.861429\n",
      "[19]\tvalid_0's binary_logloss: 0.34964\tvalid_0's auc: 0.862014\n",
      "[20]\tvalid_0's binary_logloss: 0.349875\tvalid_0's auc: 0.861374\n",
      "[21]\tvalid_0's binary_logloss: 0.349171\tvalid_0's auc: 0.861762\n",
      "[22]\tvalid_0's binary_logloss: 0.348643\tvalid_0's auc: 0.862091\n",
      "Did not meet early stopping. Best iteration is:\n",
      "[22]\tvalid_0's binary_logloss: 0.348643\tvalid_0's auc: 0.862091\n",
      "[1]\tvalid_0's binary_logloss: 0.464471\tvalid_0's auc: 0.823169\n",
      "Training until validation scores don't improve for 5 rounds.\n",
      "[2]\tvalid_0's binary_logloss: 0.441634\tvalid_0's auc: 0.843213\n",
      "[3]\tvalid_0's binary_logloss: 0.425134\tvalid_0's auc: 0.845891\n",
      "[4]\tvalid_0's binary_logloss: 0.411082\tvalid_0's auc: 0.849487\n",
      "[5]\tvalid_0's binary_logloss: 0.399045\tvalid_0's auc: 0.850562\n"
     ]
    },
    {
     "name": "stderr",
     "output_type": "stream",
     "text": [
      "/Library/Frameworks/Python.framework/Versions/3.6/lib/python3.6/site-packages/sklearn/preprocessing/label.py:151: DeprecationWarning: The truth value of an empty array is ambiguous. Returning False, but in future this will result in an error. Use `array.size > 0` to check that an array is not empty.\n",
      "  if diff:\n",
      "/Library/Frameworks/Python.framework/Versions/3.6/lib/python3.6/site-packages/sklearn/preprocessing/label.py:151: DeprecationWarning: The truth value of an empty array is ambiguous. Returning False, but in future this will result in an error. Use `array.size > 0` to check that an array is not empty.\n",
      "  if diff:\n"
     ]
    },
    {
     "name": "stdout",
     "output_type": "stream",
     "text": [
      "[6]\tvalid_0's binary_logloss: 0.391461\tvalid_0's auc: 0.849895\n",
      "[7]\tvalid_0's binary_logloss: 0.3831\tvalid_0's auc: 0.853403\n",
      "[8]\tvalid_0's binary_logloss: 0.377472\tvalid_0's auc: 0.856187\n",
      "[9]\tvalid_0's binary_logloss: 0.372163\tvalid_0's auc: 0.856843\n",
      "[10]\tvalid_0's binary_logloss: 0.367602\tvalid_0's auc: 0.858496\n",
      "[11]\tvalid_0's binary_logloss: 0.364391\tvalid_0's auc: 0.85834\n",
      "[12]\tvalid_0's binary_logloss: 0.361381\tvalid_0's auc: 0.858794\n",
      "[13]\tvalid_0's binary_logloss: 0.358339\tvalid_0's auc: 0.859799\n",
      "[14]\tvalid_0's binary_logloss: 0.355968\tvalid_0's auc: 0.860707\n",
      "[15]\tvalid_0's binary_logloss: 0.354744\tvalid_0's auc: 0.860743\n",
      "[16]\tvalid_0's binary_logloss: 0.353385\tvalid_0's auc: 0.860449\n",
      "[17]\tvalid_0's binary_logloss: 0.351748\tvalid_0's auc: 0.86099\n",
      "[18]\tvalid_0's binary_logloss: 0.350296\tvalid_0's auc: 0.861562\n",
      "[19]\tvalid_0's binary_logloss: 0.349428\tvalid_0's auc: 0.862171\n",
      "[20]\tvalid_0's binary_logloss: 0.349639\tvalid_0's auc: 0.861376\n",
      "[21]\tvalid_0's binary_logloss: 0.349009\tvalid_0's auc: 0.861384\n",
      "[22]\tvalid_0's binary_logloss: 0.348292\tvalid_0's auc: 0.861658\n",
      "Did not meet early stopping. Best iteration is:\n",
      "[22]\tvalid_0's binary_logloss: 0.348292\tvalid_0's auc: 0.861658\n",
      "[1]\tvalid_0's binary_logloss: 0.463082\tvalid_0's auc: 0.837907\n",
      "Training until validation scores don't improve for 5 rounds.\n",
      "[2]\tvalid_0's binary_logloss: 0.440215\tvalid_0's auc: 0.846744\n",
      "[3]\tvalid_0's binary_logloss: 0.421601\tvalid_0's auc: 0.851466\n",
      "[4]\tvalid_0's binary_logloss: 0.409069\tvalid_0's auc: 0.852926\n",
      "[5]\tvalid_0's binary_logloss: 0.396575\tvalid_0's auc: 0.857742\n",
      "[6]\tvalid_0's binary_logloss: 0.388023\tvalid_0's auc: 0.857262\n",
      "[7]\tvalid_0's binary_logloss: 0.37969\tvalid_0's auc: 0.860136\n"
     ]
    },
    {
     "name": "stderr",
     "output_type": "stream",
     "text": [
      "/Library/Frameworks/Python.framework/Versions/3.6/lib/python3.6/site-packages/sklearn/preprocessing/label.py:151: DeprecationWarning: The truth value of an empty array is ambiguous. Returning False, but in future this will result in an error. Use `array.size > 0` to check that an array is not empty.\n",
      "  if diff:\n",
      "/Library/Frameworks/Python.framework/Versions/3.6/lib/python3.6/site-packages/sklearn/preprocessing/label.py:151: DeprecationWarning: The truth value of an empty array is ambiguous. Returning False, but in future this will result in an error. Use `array.size > 0` to check that an array is not empty.\n",
      "  if diff:\n"
     ]
    },
    {
     "name": "stdout",
     "output_type": "stream",
     "text": [
      "[8]\tvalid_0's binary_logloss: 0.374335\tvalid_0's auc: 0.859829\n",
      "[9]\tvalid_0's binary_logloss: 0.369354\tvalid_0's auc: 0.861651\n",
      "[10]\tvalid_0's binary_logloss: 0.365239\tvalid_0's auc: 0.862004\n",
      "[11]\tvalid_0's binary_logloss: 0.361383\tvalid_0's auc: 0.86252\n",
      "[12]\tvalid_0's binary_logloss: 0.358555\tvalid_0's auc: 0.862532\n",
      "[13]\tvalid_0's binary_logloss: 0.355584\tvalid_0's auc: 0.864096\n",
      "[14]\tvalid_0's binary_logloss: 0.353005\tvalid_0's auc: 0.864406\n",
      "[15]\tvalid_0's binary_logloss: 0.352053\tvalid_0's auc: 0.864284\n",
      "[16]\tvalid_0's binary_logloss: 0.349972\tvalid_0's auc: 0.865126\n",
      "[17]\tvalid_0's binary_logloss: 0.348639\tvalid_0's auc: 0.865231\n",
      "[18]\tvalid_0's binary_logloss: 0.347409\tvalid_0's auc: 0.86568\n",
      "[19]\tvalid_0's binary_logloss: 0.346308\tvalid_0's auc: 0.865977\n",
      "[20]\tvalid_0's binary_logloss: 0.34622\tvalid_0's auc: 0.865198\n",
      "[21]\tvalid_0's binary_logloss: 0.346276\tvalid_0's auc: 0.864422\n",
      "[22]\tvalid_0's binary_logloss: 0.345988\tvalid_0's auc: 0.864458\n",
      "[23]\tvalid_0's binary_logloss: 0.34547\tvalid_0's auc: 0.864783\n",
      "[24]\tvalid_0's binary_logloss: 0.34547\tvalid_0's auc: 0.864813\n",
      "Early stopping, best iteration is:\n",
      "[19]\tvalid_0's binary_logloss: 0.346308\tvalid_0's auc: 0.865977\n",
      "[1]\tvalid_0's binary_logloss: 0.465678\tvalid_0's auc: 0.823479\n",
      "Training until validation scores don't improve for 5 rounds.\n",
      "[2]\tvalid_0's binary_logloss: 0.443599\tvalid_0's auc: 0.831955\n",
      "[3]\tvalid_0's binary_logloss: 0.425811\tvalid_0's auc: 0.841746\n",
      "[4]\tvalid_0's binary_logloss: 0.410787\tvalid_0's auc: 0.846508\n",
      "[5]\tvalid_0's binary_logloss: 0.399311\tvalid_0's auc: 0.850615\n",
      "[6]\tvalid_0's binary_logloss: 0.390662\tvalid_0's auc: 0.851825\n",
      "[7]\tvalid_0's binary_logloss: 0.383663\tvalid_0's auc: 0.852169\n",
      "[8]\tvalid_0's binary_logloss: 0.378275\tvalid_0's auc: 0.853263\n"
     ]
    },
    {
     "name": "stderr",
     "output_type": "stream",
     "text": [
      "/Library/Frameworks/Python.framework/Versions/3.6/lib/python3.6/site-packages/sklearn/preprocessing/label.py:151: DeprecationWarning: The truth value of an empty array is ambiguous. Returning False, but in future this will result in an error. Use `array.size > 0` to check that an array is not empty.\n",
      "  if diff:\n",
      "/Library/Frameworks/Python.framework/Versions/3.6/lib/python3.6/site-packages/sklearn/preprocessing/label.py:151: DeprecationWarning: The truth value of an empty array is ambiguous. Returning False, but in future this will result in an error. Use `array.size > 0` to check that an array is not empty.\n",
      "  if diff:\n"
     ]
    },
    {
     "name": "stdout",
     "output_type": "stream",
     "text": [
      "[9]\tvalid_0's binary_logloss: 0.373518\tvalid_0's auc: 0.854198\n",
      "[10]\tvalid_0's binary_logloss: 0.36791\tvalid_0's auc: 0.857154\n",
      "[11]\tvalid_0's binary_logloss: 0.364052\tvalid_0's auc: 0.857592\n",
      "[12]\tvalid_0's binary_logloss: 0.36095\tvalid_0's auc: 0.858372\n",
      "[13]\tvalid_0's binary_logloss: 0.357813\tvalid_0's auc: 0.860547\n",
      "[14]\tvalid_0's binary_logloss: 0.355738\tvalid_0's auc: 0.860584\n",
      "[15]\tvalid_0's binary_logloss: 0.353413\tvalid_0's auc: 0.861929\n",
      "[16]\tvalid_0's binary_logloss: 0.352264\tvalid_0's auc: 0.861706\n",
      "[17]\tvalid_0's binary_logloss: 0.350905\tvalid_0's auc: 0.861923\n",
      "[18]\tvalid_0's binary_logloss: 0.35064\tvalid_0's auc: 0.861429\n",
      "[19]\tvalid_0's binary_logloss: 0.34964\tvalid_0's auc: 0.862014\n",
      "[20]\tvalid_0's binary_logloss: 0.349875\tvalid_0's auc: 0.861374\n",
      "[21]\tvalid_0's binary_logloss: 0.349171\tvalid_0's auc: 0.861762\n",
      "[22]\tvalid_0's binary_logloss: 0.348643\tvalid_0's auc: 0.862091\n",
      "[23]\tvalid_0's binary_logloss: 0.348169\tvalid_0's auc: 0.862504\n",
      "[24]\tvalid_0's binary_logloss: 0.34774\tvalid_0's auc: 0.862495\n",
      "[25]\tvalid_0's binary_logloss: 0.34767\tvalid_0's auc: 0.862556\n",
      "Did not meet early stopping. Best iteration is:\n",
      "[25]\tvalid_0's binary_logloss: 0.34767\tvalid_0's auc: 0.862556\n",
      "[1]\tvalid_0's binary_logloss: 0.464471\tvalid_0's auc: 0.823169\n",
      "Training until validation scores don't improve for 5 rounds.\n",
      "[2]\tvalid_0's binary_logloss: 0.441634\tvalid_0's auc: 0.843213\n",
      "[3]\tvalid_0's binary_logloss: 0.425134\tvalid_0's auc: 0.845891\n",
      "[4]\tvalid_0's binary_logloss: 0.411082\tvalid_0's auc: 0.849487\n",
      "[5]\tvalid_0's binary_logloss: 0.399045\tvalid_0's auc: 0.850562\n",
      "[6]\tvalid_0's binary_logloss: 0.391461\tvalid_0's auc: 0.849895\n",
      "[7]\tvalid_0's binary_logloss: 0.3831\tvalid_0's auc: 0.853403\n"
     ]
    },
    {
     "name": "stderr",
     "output_type": "stream",
     "text": [
      "/Library/Frameworks/Python.framework/Versions/3.6/lib/python3.6/site-packages/sklearn/preprocessing/label.py:151: DeprecationWarning: The truth value of an empty array is ambiguous. Returning False, but in future this will result in an error. Use `array.size > 0` to check that an array is not empty.\n",
      "  if diff:\n",
      "/Library/Frameworks/Python.framework/Versions/3.6/lib/python3.6/site-packages/sklearn/preprocessing/label.py:151: DeprecationWarning: The truth value of an empty array is ambiguous. Returning False, but in future this will result in an error. Use `array.size > 0` to check that an array is not empty.\n",
      "  if diff:\n"
     ]
    },
    {
     "name": "stdout",
     "output_type": "stream",
     "text": [
      "[8]\tvalid_0's binary_logloss: 0.377472\tvalid_0's auc: 0.856187\n",
      "[9]\tvalid_0's binary_logloss: 0.372163\tvalid_0's auc: 0.856843\n",
      "[10]\tvalid_0's binary_logloss: 0.367602\tvalid_0's auc: 0.858496\n",
      "[11]\tvalid_0's binary_logloss: 0.364391\tvalid_0's auc: 0.85834\n",
      "[12]\tvalid_0's binary_logloss: 0.361381\tvalid_0's auc: 0.858794\n",
      "[13]\tvalid_0's binary_logloss: 0.358339\tvalid_0's auc: 0.859799\n",
      "[14]\tvalid_0's binary_logloss: 0.355968\tvalid_0's auc: 0.860707\n",
      "[15]\tvalid_0's binary_logloss: 0.354744\tvalid_0's auc: 0.860743\n",
      "[16]\tvalid_0's binary_logloss: 0.353385\tvalid_0's auc: 0.860449\n",
      "[17]\tvalid_0's binary_logloss: 0.351748\tvalid_0's auc: 0.86099\n",
      "[18]\tvalid_0's binary_logloss: 0.350296\tvalid_0's auc: 0.861562\n",
      "[19]\tvalid_0's binary_logloss: 0.349428\tvalid_0's auc: 0.862171\n",
      "[20]\tvalid_0's binary_logloss: 0.349639\tvalid_0's auc: 0.861376\n",
      "[21]\tvalid_0's binary_logloss: 0.349009\tvalid_0's auc: 0.861384\n",
      "[22]\tvalid_0's binary_logloss: 0.348292\tvalid_0's auc: 0.861658\n",
      "[23]\tvalid_0's binary_logloss: 0.346692\tvalid_0's auc: 0.863048\n",
      "[24]\tvalid_0's binary_logloss: 0.345974\tvalid_0's auc: 0.863664\n",
      "[25]\tvalid_0's binary_logloss: 0.345305\tvalid_0's auc: 0.864485\n",
      "Did not meet early stopping. Best iteration is:\n",
      "[25]\tvalid_0's binary_logloss: 0.345305\tvalid_0's auc: 0.864485\n",
      "[1]\tvalid_0's binary_logloss: 0.463082\tvalid_0's auc: 0.837907\n",
      "Training until validation scores don't improve for 5 rounds.\n",
      "[2]\tvalid_0's binary_logloss: 0.440215\tvalid_0's auc: 0.846744\n",
      "[3]\tvalid_0's binary_logloss: 0.421601\tvalid_0's auc: 0.851466\n",
      "[4]\tvalid_0's binary_logloss: 0.409069\tvalid_0's auc: 0.852926\n",
      "[5]\tvalid_0's binary_logloss: 0.396575\tvalid_0's auc: 0.857742\n",
      "[6]\tvalid_0's binary_logloss: 0.388023\tvalid_0's auc: 0.857262\n"
     ]
    },
    {
     "name": "stderr",
     "output_type": "stream",
     "text": [
      "/Library/Frameworks/Python.framework/Versions/3.6/lib/python3.6/site-packages/sklearn/preprocessing/label.py:151: DeprecationWarning: The truth value of an empty array is ambiguous. Returning False, but in future this will result in an error. Use `array.size > 0` to check that an array is not empty.\n",
      "  if diff:\n",
      "/Library/Frameworks/Python.framework/Versions/3.6/lib/python3.6/site-packages/sklearn/preprocessing/label.py:151: DeprecationWarning: The truth value of an empty array is ambiguous. Returning False, but in future this will result in an error. Use `array.size > 0` to check that an array is not empty.\n",
      "  if diff:\n"
     ]
    },
    {
     "name": "stdout",
     "output_type": "stream",
     "text": [
      "[7]\tvalid_0's binary_logloss: 0.37969\tvalid_0's auc: 0.860136\n",
      "[8]\tvalid_0's binary_logloss: 0.374335\tvalid_0's auc: 0.859829\n",
      "[9]\tvalid_0's binary_logloss: 0.369354\tvalid_0's auc: 0.861651\n",
      "[10]\tvalid_0's binary_logloss: 0.365239\tvalid_0's auc: 0.862004\n",
      "[11]\tvalid_0's binary_logloss: 0.361383\tvalid_0's auc: 0.86252\n",
      "[12]\tvalid_0's binary_logloss: 0.358555\tvalid_0's auc: 0.862532\n",
      "[13]\tvalid_0's binary_logloss: 0.355584\tvalid_0's auc: 0.864096\n",
      "[14]\tvalid_0's binary_logloss: 0.353005\tvalid_0's auc: 0.864406\n",
      "[15]\tvalid_0's binary_logloss: 0.352053\tvalid_0's auc: 0.864284\n",
      "[16]\tvalid_0's binary_logloss: 0.349972\tvalid_0's auc: 0.865126\n",
      "[17]\tvalid_0's binary_logloss: 0.348639\tvalid_0's auc: 0.865231\n",
      "[18]\tvalid_0's binary_logloss: 0.347409\tvalid_0's auc: 0.86568\n",
      "[19]\tvalid_0's binary_logloss: 0.346308\tvalid_0's auc: 0.865977\n",
      "[20]\tvalid_0's binary_logloss: 0.34622\tvalid_0's auc: 0.865198\n",
      "[21]\tvalid_0's binary_logloss: 0.346276\tvalid_0's auc: 0.864422\n",
      "[22]\tvalid_0's binary_logloss: 0.345988\tvalid_0's auc: 0.864458\n",
      "[23]\tvalid_0's binary_logloss: 0.34547\tvalid_0's auc: 0.864783\n",
      "[24]\tvalid_0's binary_logloss: 0.34547\tvalid_0's auc: 0.864813\n",
      "Early stopping, best iteration is:\n",
      "[19]\tvalid_0's binary_logloss: 0.346308\tvalid_0's auc: 0.865977\n",
      "[1]\tvalid_0's binary_logloss: 0.465678\tvalid_0's auc: 0.823479\n",
      "Training until validation scores don't improve for 5 rounds.\n",
      "[2]\tvalid_0's binary_logloss: 0.443599\tvalid_0's auc: 0.831955\n",
      "[3]\tvalid_0's binary_logloss: 0.425811\tvalid_0's auc: 0.841746\n",
      "[4]\tvalid_0's binary_logloss: 0.410787\tvalid_0's auc: 0.846508\n",
      "[5]\tvalid_0's binary_logloss: 0.399311\tvalid_0's auc: 0.850615\n",
      "[6]\tvalid_0's binary_logloss: 0.390662\tvalid_0's auc: 0.851825\n"
     ]
    },
    {
     "name": "stderr",
     "output_type": "stream",
     "text": [
      "/Library/Frameworks/Python.framework/Versions/3.6/lib/python3.6/site-packages/sklearn/preprocessing/label.py:151: DeprecationWarning: The truth value of an empty array is ambiguous. Returning False, but in future this will result in an error. Use `array.size > 0` to check that an array is not empty.\n",
      "  if diff:\n",
      "/Library/Frameworks/Python.framework/Versions/3.6/lib/python3.6/site-packages/sklearn/preprocessing/label.py:151: DeprecationWarning: The truth value of an empty array is ambiguous. Returning False, but in future this will result in an error. Use `array.size > 0` to check that an array is not empty.\n",
      "  if diff:\n"
     ]
    },
    {
     "name": "stdout",
     "output_type": "stream",
     "text": [
      "[7]\tvalid_0's binary_logloss: 0.383663\tvalid_0's auc: 0.852169\n",
      "[8]\tvalid_0's binary_logloss: 0.378275\tvalid_0's auc: 0.853263\n",
      "[9]\tvalid_0's binary_logloss: 0.373518\tvalid_0's auc: 0.854198\n",
      "[10]\tvalid_0's binary_logloss: 0.36791\tvalid_0's auc: 0.857154\n",
      "[11]\tvalid_0's binary_logloss: 0.364052\tvalid_0's auc: 0.857592\n",
      "[12]\tvalid_0's binary_logloss: 0.36095\tvalid_0's auc: 0.858372\n",
      "[13]\tvalid_0's binary_logloss: 0.357813\tvalid_0's auc: 0.860547\n",
      "[14]\tvalid_0's binary_logloss: 0.355738\tvalid_0's auc: 0.860584\n",
      "[15]\tvalid_0's binary_logloss: 0.353413\tvalid_0's auc: 0.861929\n",
      "[16]\tvalid_0's binary_logloss: 0.352264\tvalid_0's auc: 0.861706\n",
      "[17]\tvalid_0's binary_logloss: 0.350905\tvalid_0's auc: 0.861923\n",
      "[18]\tvalid_0's binary_logloss: 0.35064\tvalid_0's auc: 0.861429\n",
      "[19]\tvalid_0's binary_logloss: 0.34964\tvalid_0's auc: 0.862014\n",
      "[20]\tvalid_0's binary_logloss: 0.349875\tvalid_0's auc: 0.861374\n",
      "[21]\tvalid_0's binary_logloss: 0.349171\tvalid_0's auc: 0.861762\n",
      "[22]\tvalid_0's binary_logloss: 0.348643\tvalid_0's auc: 0.862091\n",
      "[23]\tvalid_0's binary_logloss: 0.348169\tvalid_0's auc: 0.862504\n",
      "[24]\tvalid_0's binary_logloss: 0.34774\tvalid_0's auc: 0.862495\n",
      "[25]\tvalid_0's binary_logloss: 0.34767\tvalid_0's auc: 0.862556\n",
      "[26]\tvalid_0's binary_logloss: 0.347268\tvalid_0's auc: 0.862829\n",
      "[27]\tvalid_0's binary_logloss: 0.347056\tvalid_0's auc: 0.863302\n",
      "[28]\tvalid_0's binary_logloss: 0.347736\tvalid_0's auc: 0.862686\n",
      "Did not meet early stopping. Best iteration is:\n",
      "[27]\tvalid_0's binary_logloss: 0.347056\tvalid_0's auc: 0.863302\n",
      "[1]\tvalid_0's binary_logloss: 0.464471\tvalid_0's auc: 0.823169\n",
      "Training until validation scores don't improve for 5 rounds.\n",
      "[2]\tvalid_0's binary_logloss: 0.441634\tvalid_0's auc: 0.843213\n"
     ]
    },
    {
     "name": "stderr",
     "output_type": "stream",
     "text": [
      "/Library/Frameworks/Python.framework/Versions/3.6/lib/python3.6/site-packages/sklearn/preprocessing/label.py:151: DeprecationWarning: The truth value of an empty array is ambiguous. Returning False, but in future this will result in an error. Use `array.size > 0` to check that an array is not empty.\n",
      "  if diff:\n",
      "/Library/Frameworks/Python.framework/Versions/3.6/lib/python3.6/site-packages/sklearn/preprocessing/label.py:151: DeprecationWarning: The truth value of an empty array is ambiguous. Returning False, but in future this will result in an error. Use `array.size > 0` to check that an array is not empty.\n",
      "  if diff:\n"
     ]
    },
    {
     "name": "stdout",
     "output_type": "stream",
     "text": [
      "[3]\tvalid_0's binary_logloss: 0.425134\tvalid_0's auc: 0.845891\n",
      "[4]\tvalid_0's binary_logloss: 0.411082\tvalid_0's auc: 0.849487\n",
      "[5]\tvalid_0's binary_logloss: 0.399045\tvalid_0's auc: 0.850562\n",
      "[6]\tvalid_0's binary_logloss: 0.391461\tvalid_0's auc: 0.849895\n",
      "[7]\tvalid_0's binary_logloss: 0.3831\tvalid_0's auc: 0.853403\n",
      "[8]\tvalid_0's binary_logloss: 0.377472\tvalid_0's auc: 0.856187\n",
      "[9]\tvalid_0's binary_logloss: 0.372163\tvalid_0's auc: 0.856843\n",
      "[10]\tvalid_0's binary_logloss: 0.367602\tvalid_0's auc: 0.858496\n",
      "[11]\tvalid_0's binary_logloss: 0.364391\tvalid_0's auc: 0.85834\n",
      "[12]\tvalid_0's binary_logloss: 0.361381\tvalid_0's auc: 0.858794\n",
      "[13]\tvalid_0's binary_logloss: 0.358339\tvalid_0's auc: 0.859799\n",
      "[14]\tvalid_0's binary_logloss: 0.355968\tvalid_0's auc: 0.860707\n",
      "[15]\tvalid_0's binary_logloss: 0.354744\tvalid_0's auc: 0.860743\n",
      "[16]\tvalid_0's binary_logloss: 0.353385\tvalid_0's auc: 0.860449\n",
      "[17]\tvalid_0's binary_logloss: 0.351748\tvalid_0's auc: 0.86099\n",
      "[18]\tvalid_0's binary_logloss: 0.350296\tvalid_0's auc: 0.861562\n",
      "[19]\tvalid_0's binary_logloss: 0.349428\tvalid_0's auc: 0.862171\n",
      "[20]\tvalid_0's binary_logloss: 0.349639\tvalid_0's auc: 0.861376\n",
      "[21]\tvalid_0's binary_logloss: 0.349009\tvalid_0's auc: 0.861384\n",
      "[22]\tvalid_0's binary_logloss: 0.348292\tvalid_0's auc: 0.861658\n",
      "[23]\tvalid_0's binary_logloss: 0.346692\tvalid_0's auc: 0.863048\n",
      "[24]\tvalid_0's binary_logloss: 0.345974\tvalid_0's auc: 0.863664\n",
      "[25]\tvalid_0's binary_logloss: 0.345305\tvalid_0's auc: 0.864485\n",
      "[26]\tvalid_0's binary_logloss: 0.345696\tvalid_0's auc: 0.864061\n",
      "[27]\tvalid_0's binary_logloss: 0.344952\tvalid_0's auc: 0.864795\n",
      "[28]\tvalid_0's binary_logloss: 0.345449\tvalid_0's auc: 0.864064\n",
      "Did not meet early stopping. Best iteration is:\n",
      "[27]\tvalid_0's binary_logloss: 0.344952\tvalid_0's auc: 0.864795\n"
     ]
    },
    {
     "name": "stderr",
     "output_type": "stream",
     "text": [
      "/Library/Frameworks/Python.framework/Versions/3.6/lib/python3.6/site-packages/sklearn/preprocessing/label.py:151: DeprecationWarning: The truth value of an empty array is ambiguous. Returning False, but in future this will result in an error. Use `array.size > 0` to check that an array is not empty.\n",
      "  if diff:\n",
      "/Library/Frameworks/Python.framework/Versions/3.6/lib/python3.6/site-packages/sklearn/preprocessing/label.py:151: DeprecationWarning: The truth value of an empty array is ambiguous. Returning False, but in future this will result in an error. Use `array.size > 0` to check that an array is not empty.\n",
      "  if diff:\n"
     ]
    },
    {
     "name": "stdout",
     "output_type": "stream",
     "text": [
      "[1]\tvalid_0's binary_logloss: 0.463082\tvalid_0's auc: 0.837907\n",
      "Training until validation scores don't improve for 5 rounds.\n",
      "[2]\tvalid_0's binary_logloss: 0.440215\tvalid_0's auc: 0.846744\n",
      "[3]\tvalid_0's binary_logloss: 0.421601\tvalid_0's auc: 0.851466\n",
      "[4]\tvalid_0's binary_logloss: 0.409069\tvalid_0's auc: 0.852926\n",
      "[5]\tvalid_0's binary_logloss: 0.396575\tvalid_0's auc: 0.857742\n",
      "[6]\tvalid_0's binary_logloss: 0.388023\tvalid_0's auc: 0.857262\n",
      "[7]\tvalid_0's binary_logloss: 0.37969\tvalid_0's auc: 0.860136\n",
      "[8]\tvalid_0's binary_logloss: 0.374335\tvalid_0's auc: 0.859829\n",
      "[9]\tvalid_0's binary_logloss: 0.369354\tvalid_0's auc: 0.861651\n",
      "[10]\tvalid_0's binary_logloss: 0.365239\tvalid_0's auc: 0.862004\n",
      "[11]\tvalid_0's binary_logloss: 0.361383\tvalid_0's auc: 0.86252\n",
      "[12]\tvalid_0's binary_logloss: 0.358555\tvalid_0's auc: 0.862532\n",
      "[13]\tvalid_0's binary_logloss: 0.355584\tvalid_0's auc: 0.864096\n",
      "[14]\tvalid_0's binary_logloss: 0.353005\tvalid_0's auc: 0.864406\n",
      "[15]\tvalid_0's binary_logloss: 0.352053\tvalid_0's auc: 0.864284\n",
      "[16]\tvalid_0's binary_logloss: 0.349972\tvalid_0's auc: 0.865126\n",
      "[17]\tvalid_0's binary_logloss: 0.348639\tvalid_0's auc: 0.865231\n",
      "[18]\tvalid_0's binary_logloss: 0.347409\tvalid_0's auc: 0.86568\n",
      "[19]\tvalid_0's binary_logloss: 0.346308\tvalid_0's auc: 0.865977\n",
      "[20]\tvalid_0's binary_logloss: 0.34622\tvalid_0's auc: 0.865198\n",
      "[21]\tvalid_0's binary_logloss: 0.346276\tvalid_0's auc: 0.864422\n",
      "[22]\tvalid_0's binary_logloss: 0.345988\tvalid_0's auc: 0.864458\n",
      "[23]\tvalid_0's binary_logloss: 0.34547\tvalid_0's auc: 0.864783\n",
      "[24]\tvalid_0's binary_logloss: 0.34547\tvalid_0's auc: 0.864813\n",
      "Early stopping, best iteration is:\n",
      "[19]\tvalid_0's binary_logloss: 0.346308\tvalid_0's auc: 0.865977\n"
     ]
    },
    {
     "name": "stderr",
     "output_type": "stream",
     "text": [
      "/Library/Frameworks/Python.framework/Versions/3.6/lib/python3.6/site-packages/sklearn/preprocessing/label.py:151: DeprecationWarning: The truth value of an empty array is ambiguous. Returning False, but in future this will result in an error. Use `array.size > 0` to check that an array is not empty.\n",
      "  if diff:\n",
      "/Library/Frameworks/Python.framework/Versions/3.6/lib/python3.6/site-packages/sklearn/preprocessing/label.py:151: DeprecationWarning: The truth value of an empty array is ambiguous. Returning False, but in future this will result in an error. Use `array.size > 0` to check that an array is not empty.\n",
      "  if diff:\n"
     ]
    },
    {
     "name": "stdout",
     "output_type": "stream",
     "text": [
      "[1]\tvalid_0's binary_logloss: 0.465678\tvalid_0's auc: 0.823479\n",
      "Training until validation scores don't improve for 5 rounds.\n",
      "[2]\tvalid_0's binary_logloss: 0.443599\tvalid_0's auc: 0.831955\n",
      "[3]\tvalid_0's binary_logloss: 0.425811\tvalid_0's auc: 0.841746\n",
      "[4]\tvalid_0's binary_logloss: 0.410787\tvalid_0's auc: 0.846508\n",
      "[5]\tvalid_0's binary_logloss: 0.399311\tvalid_0's auc: 0.850615\n",
      "[6]\tvalid_0's binary_logloss: 0.390662\tvalid_0's auc: 0.851825\n",
      "[7]\tvalid_0's binary_logloss: 0.383663\tvalid_0's auc: 0.852169\n",
      "[8]\tvalid_0's binary_logloss: 0.378275\tvalid_0's auc: 0.853263\n",
      "[9]\tvalid_0's binary_logloss: 0.373518\tvalid_0's auc: 0.854198\n",
      "[10]\tvalid_0's binary_logloss: 0.36791\tvalid_0's auc: 0.857154\n",
      "[11]\tvalid_0's binary_logloss: 0.364052\tvalid_0's auc: 0.857592\n",
      "[12]\tvalid_0's binary_logloss: 0.36095\tvalid_0's auc: 0.858372\n",
      "[13]\tvalid_0's binary_logloss: 0.357813\tvalid_0's auc: 0.860547\n",
      "[14]\tvalid_0's binary_logloss: 0.355738\tvalid_0's auc: 0.860584\n",
      "[15]\tvalid_0's binary_logloss: 0.353413\tvalid_0's auc: 0.861929\n",
      "[16]\tvalid_0's binary_logloss: 0.352264\tvalid_0's auc: 0.861706\n",
      "[17]\tvalid_0's binary_logloss: 0.350905\tvalid_0's auc: 0.861923\n",
      "[18]\tvalid_0's binary_logloss: 0.35064\tvalid_0's auc: 0.861429\n",
      "[19]\tvalid_0's binary_logloss: 0.34964\tvalid_0's auc: 0.862014\n",
      "[20]\tvalid_0's binary_logloss: 0.349875\tvalid_0's auc: 0.861374\n",
      "[21]\tvalid_0's binary_logloss: 0.349171\tvalid_0's auc: 0.861762\n",
      "[22]\tvalid_0's binary_logloss: 0.348643\tvalid_0's auc: 0.862091\n",
      "[23]\tvalid_0's binary_logloss: 0.348169\tvalid_0's auc: 0.862504\n",
      "[24]\tvalid_0's binary_logloss: 0.34774\tvalid_0's auc: 0.862495\n",
      "[25]\tvalid_0's binary_logloss: 0.34767\tvalid_0's auc: 0.862556\n",
      "[26]\tvalid_0's binary_logloss: 0.347268\tvalid_0's auc: 0.862829\n",
      "[27]\tvalid_0's binary_logloss: 0.347056\tvalid_0's auc: 0.863302\n",
      "[28]\tvalid_0's binary_logloss: 0.347736\tvalid_0's auc: 0.862686\n",
      "[29]\tvalid_0's binary_logloss: 0.34737\tvalid_0's auc: 0.863077\n",
      "[30]\tvalid_0's binary_logloss: 0.346972\tvalid_0's auc: 0.863559\n",
      "[31]\tvalid_0's binary_logloss: 0.347566\tvalid_0's auc: 0.863381\n",
      "Did not meet early stopping. Best iteration is:\n",
      "[30]\tvalid_0's binary_logloss: 0.346972\tvalid_0's auc: 0.863559\n",
      "[1]\tvalid_0's binary_logloss: 0.464471\tvalid_0's auc: 0.823169\n",
      "Training until validation scores don't improve for 5 rounds.\n",
      "[2]\tvalid_0's binary_logloss: 0.441634\tvalid_0's auc: 0.843213\n",
      "[3]\tvalid_0's binary_logloss: 0.425134\tvalid_0's auc: 0.845891\n",
      "[4]\tvalid_0's binary_logloss: 0.411082\tvalid_0's auc: 0.849487\n",
      "[5]\tvalid_0's binary_logloss: 0.399045\tvalid_0's auc: 0.850562\n",
      "[6]\tvalid_0's binary_logloss: 0.391461\tvalid_0's auc: 0.849895\n",
      "[7]\tvalid_0's binary_logloss: 0.3831\tvalid_0's auc: 0.853403\n"
     ]
    },
    {
     "name": "stderr",
     "output_type": "stream",
     "text": [
      "/Library/Frameworks/Python.framework/Versions/3.6/lib/python3.6/site-packages/sklearn/preprocessing/label.py:151: DeprecationWarning: The truth value of an empty array is ambiguous. Returning False, but in future this will result in an error. Use `array.size > 0` to check that an array is not empty.\n",
      "  if diff:\n",
      "/Library/Frameworks/Python.framework/Versions/3.6/lib/python3.6/site-packages/sklearn/preprocessing/label.py:151: DeprecationWarning: The truth value of an empty array is ambiguous. Returning False, but in future this will result in an error. Use `array.size > 0` to check that an array is not empty.\n",
      "  if diff:\n"
     ]
    },
    {
     "name": "stdout",
     "output_type": "stream",
     "text": [
      "[8]\tvalid_0's binary_logloss: 0.377472\tvalid_0's auc: 0.856187\n",
      "[9]\tvalid_0's binary_logloss: 0.372163\tvalid_0's auc: 0.856843\n",
      "[10]\tvalid_0's binary_logloss: 0.367602\tvalid_0's auc: 0.858496\n",
      "[11]\tvalid_0's binary_logloss: 0.364391\tvalid_0's auc: 0.85834\n",
      "[12]\tvalid_0's binary_logloss: 0.361381\tvalid_0's auc: 0.858794\n",
      "[13]\tvalid_0's binary_logloss: 0.358339\tvalid_0's auc: 0.859799\n",
      "[14]\tvalid_0's binary_logloss: 0.355968\tvalid_0's auc: 0.860707\n",
      "[15]\tvalid_0's binary_logloss: 0.354744\tvalid_0's auc: 0.860743\n",
      "[16]\tvalid_0's binary_logloss: 0.353385\tvalid_0's auc: 0.860449\n",
      "[17]\tvalid_0's binary_logloss: 0.351748\tvalid_0's auc: 0.86099\n",
      "[18]\tvalid_0's binary_logloss: 0.350296\tvalid_0's auc: 0.861562\n",
      "[19]\tvalid_0's binary_logloss: 0.349428\tvalid_0's auc: 0.862171\n",
      "[20]\tvalid_0's binary_logloss: 0.349639\tvalid_0's auc: 0.861376\n",
      "[21]\tvalid_0's binary_logloss: 0.349009\tvalid_0's auc: 0.861384\n",
      "[22]\tvalid_0's binary_logloss: 0.348292\tvalid_0's auc: 0.861658\n",
      "[23]\tvalid_0's binary_logloss: 0.346692\tvalid_0's auc: 0.863048\n",
      "[24]\tvalid_0's binary_logloss: 0.345974\tvalid_0's auc: 0.863664\n",
      "[25]\tvalid_0's binary_logloss: 0.345305\tvalid_0's auc: 0.864485\n",
      "[26]\tvalid_0's binary_logloss: 0.345696\tvalid_0's auc: 0.864061\n",
      "[27]\tvalid_0's binary_logloss: 0.344952\tvalid_0's auc: 0.864795\n",
      "[28]\tvalid_0's binary_logloss: 0.345449\tvalid_0's auc: 0.864064\n",
      "[29]\tvalid_0's binary_logloss: 0.345937\tvalid_0's auc: 0.86349\n",
      "[30]\tvalid_0's binary_logloss: 0.3454\tvalid_0's auc: 0.864246\n",
      "[31]\tvalid_0's binary_logloss: 0.345679\tvalid_0's auc: 0.864038\n",
      "Did not meet early stopping. Best iteration is:\n",
      "[27]\tvalid_0's binary_logloss: 0.344952\tvalid_0's auc: 0.864795\n"
     ]
    },
    {
     "name": "stderr",
     "output_type": "stream",
     "text": [
      "/Library/Frameworks/Python.framework/Versions/3.6/lib/python3.6/site-packages/sklearn/preprocessing/label.py:151: DeprecationWarning: The truth value of an empty array is ambiguous. Returning False, but in future this will result in an error. Use `array.size > 0` to check that an array is not empty.\n",
      "  if diff:\n",
      "/Library/Frameworks/Python.framework/Versions/3.6/lib/python3.6/site-packages/sklearn/preprocessing/label.py:151: DeprecationWarning: The truth value of an empty array is ambiguous. Returning False, but in future this will result in an error. Use `array.size > 0` to check that an array is not empty.\n",
      "  if diff:\n"
     ]
    },
    {
     "name": "stdout",
     "output_type": "stream",
     "text": [
      "[1]\tvalid_0's binary_logloss: 0.463082\tvalid_0's auc: 0.837907\n",
      "Training until validation scores don't improve for 5 rounds.\n",
      "[2]\tvalid_0's binary_logloss: 0.440215\tvalid_0's auc: 0.846744\n",
      "[3]\tvalid_0's binary_logloss: 0.421601\tvalid_0's auc: 0.851466\n",
      "[4]\tvalid_0's binary_logloss: 0.409069\tvalid_0's auc: 0.852926\n",
      "[5]\tvalid_0's binary_logloss: 0.396575\tvalid_0's auc: 0.857742\n",
      "[6]\tvalid_0's binary_logloss: 0.388023\tvalid_0's auc: 0.857262\n",
      "[7]\tvalid_0's binary_logloss: 0.37969\tvalid_0's auc: 0.860136\n",
      "[8]\tvalid_0's binary_logloss: 0.374335\tvalid_0's auc: 0.859829\n",
      "[9]\tvalid_0's binary_logloss: 0.369354\tvalid_0's auc: 0.861651\n",
      "[10]\tvalid_0's binary_logloss: 0.365239\tvalid_0's auc: 0.862004\n",
      "[11]\tvalid_0's binary_logloss: 0.361383\tvalid_0's auc: 0.86252\n",
      "[12]\tvalid_0's binary_logloss: 0.358555\tvalid_0's auc: 0.862532\n",
      "[13]\tvalid_0's binary_logloss: 0.355584\tvalid_0's auc: 0.864096\n",
      "[14]\tvalid_0's binary_logloss: 0.353005\tvalid_0's auc: 0.864406\n",
      "[15]\tvalid_0's binary_logloss: 0.352053\tvalid_0's auc: 0.864284\n",
      "[16]\tvalid_0's binary_logloss: 0.349972\tvalid_0's auc: 0.865126\n",
      "[17]\tvalid_0's binary_logloss: 0.348639\tvalid_0's auc: 0.865231\n",
      "[18]\tvalid_0's binary_logloss: 0.347409\tvalid_0's auc: 0.86568\n",
      "[19]\tvalid_0's binary_logloss: 0.346308\tvalid_0's auc: 0.865977\n",
      "[20]\tvalid_0's binary_logloss: 0.34622\tvalid_0's auc: 0.865198\n",
      "[21]\tvalid_0's binary_logloss: 0.346276\tvalid_0's auc: 0.864422\n",
      "[22]\tvalid_0's binary_logloss: 0.345988\tvalid_0's auc: 0.864458\n",
      "[23]\tvalid_0's binary_logloss: 0.34547\tvalid_0's auc: 0.864783\n",
      "[24]\tvalid_0's binary_logloss: 0.34547\tvalid_0's auc: 0.864813\n",
      "Early stopping, best iteration is:\n",
      "[19]\tvalid_0's binary_logloss: 0.346308\tvalid_0's auc: 0.865977\n"
     ]
    },
    {
     "name": "stderr",
     "output_type": "stream",
     "text": [
      "/Library/Frameworks/Python.framework/Versions/3.6/lib/python3.6/site-packages/sklearn/preprocessing/label.py:151: DeprecationWarning: The truth value of an empty array is ambiguous. Returning False, but in future this will result in an error. Use `array.size > 0` to check that an array is not empty.\n",
      "  if diff:\n",
      "/Library/Frameworks/Python.framework/Versions/3.6/lib/python3.6/site-packages/sklearn/preprocessing/label.py:151: DeprecationWarning: The truth value of an empty array is ambiguous. Returning False, but in future this will result in an error. Use `array.size > 0` to check that an array is not empty.\n",
      "  if diff:\n"
     ]
    },
    {
     "name": "stdout",
     "output_type": "stream",
     "text": [
      "[1]\tvalid_0's binary_logloss: 0.465678\tvalid_0's auc: 0.823479\n",
      "Training until validation scores don't improve for 5 rounds.\n",
      "[2]\tvalid_0's binary_logloss: 0.443599\tvalid_0's auc: 0.831955\n",
      "[3]\tvalid_0's binary_logloss: 0.425811\tvalid_0's auc: 0.841746\n",
      "[4]\tvalid_0's binary_logloss: 0.410787\tvalid_0's auc: 0.846508\n",
      "[5]\tvalid_0's binary_logloss: 0.399311\tvalid_0's auc: 0.850615\n",
      "[6]\tvalid_0's binary_logloss: 0.390662\tvalid_0's auc: 0.851825\n",
      "[7]\tvalid_0's binary_logloss: 0.383663\tvalid_0's auc: 0.852169\n",
      "[8]\tvalid_0's binary_logloss: 0.378275\tvalid_0's auc: 0.853263\n",
      "[9]\tvalid_0's binary_logloss: 0.373518\tvalid_0's auc: 0.854198\n",
      "[10]\tvalid_0's binary_logloss: 0.36791\tvalid_0's auc: 0.857154\n",
      "[11]\tvalid_0's binary_logloss: 0.364052\tvalid_0's auc: 0.857592\n",
      "[12]\tvalid_0's binary_logloss: 0.36095\tvalid_0's auc: 0.858372\n",
      "[13]\tvalid_0's binary_logloss: 0.357813\tvalid_0's auc: 0.860547\n",
      "[14]\tvalid_0's binary_logloss: 0.355738\tvalid_0's auc: 0.860584\n",
      "[15]\tvalid_0's binary_logloss: 0.353413\tvalid_0's auc: 0.861929\n",
      "[16]\tvalid_0's binary_logloss: 0.352264\tvalid_0's auc: 0.861706\n",
      "[17]\tvalid_0's binary_logloss: 0.350905\tvalid_0's auc: 0.861923\n",
      "[18]\tvalid_0's binary_logloss: 0.35064\tvalid_0's auc: 0.861429\n",
      "[19]\tvalid_0's binary_logloss: 0.34964\tvalid_0's auc: 0.862014\n",
      "[20]\tvalid_0's binary_logloss: 0.349875\tvalid_0's auc: 0.861374\n",
      "[21]\tvalid_0's binary_logloss: 0.349171\tvalid_0's auc: 0.861762\n",
      "[22]\tvalid_0's binary_logloss: 0.348643\tvalid_0's auc: 0.862091\n",
      "[23]\tvalid_0's binary_logloss: 0.348169\tvalid_0's auc: 0.862504\n",
      "[24]\tvalid_0's binary_logloss: 0.34774\tvalid_0's auc: 0.862495\n",
      "[25]\tvalid_0's binary_logloss: 0.34767\tvalid_0's auc: 0.862556\n",
      "[26]\tvalid_0's binary_logloss: 0.347268\tvalid_0's auc: 0.862829\n",
      "[27]\tvalid_0's binary_logloss: 0.347056\tvalid_0's auc: 0.863302\n",
      "[28]\tvalid_0's binary_logloss: 0.347736\tvalid_0's auc: 0.862686\n",
      "[29]\tvalid_0's binary_logloss: 0.34737\tvalid_0's auc: 0.863077\n",
      "[30]\tvalid_0's binary_logloss: 0.346972\tvalid_0's auc: 0.863559\n",
      "[31]\tvalid_0's binary_logloss: 0.347566\tvalid_0's auc: 0.863381\n",
      "[32]\tvalid_0's binary_logloss: 0.348088\tvalid_0's auc: 0.863196\n",
      "[33]\tvalid_0's binary_logloss: 0.349322\tvalid_0's auc: 0.862361\n",
      "[34]\tvalid_0's binary_logloss: 0.349739\tvalid_0's auc: 0.861778\n",
      "Did not meet early stopping. Best iteration is:\n",
      "[30]\tvalid_0's binary_logloss: 0.346972\tvalid_0's auc: 0.863559\n",
      "[1]\tvalid_0's binary_logloss: 0.464471\tvalid_0's auc: 0.823169\n",
      "Training until validation scores don't improve for 5 rounds.\n",
      "[2]\tvalid_0's binary_logloss: 0.441634\tvalid_0's auc: 0.843213\n",
      "[3]\tvalid_0's binary_logloss: 0.425134\tvalid_0's auc: 0.845891\n",
      "[4]\tvalid_0's binary_logloss: 0.411082\tvalid_0's auc: 0.849487\n"
     ]
    },
    {
     "name": "stderr",
     "output_type": "stream",
     "text": [
      "/Library/Frameworks/Python.framework/Versions/3.6/lib/python3.6/site-packages/sklearn/preprocessing/label.py:151: DeprecationWarning: The truth value of an empty array is ambiguous. Returning False, but in future this will result in an error. Use `array.size > 0` to check that an array is not empty.\n",
      "  if diff:\n",
      "/Library/Frameworks/Python.framework/Versions/3.6/lib/python3.6/site-packages/sklearn/preprocessing/label.py:151: DeprecationWarning: The truth value of an empty array is ambiguous. Returning False, but in future this will result in an error. Use `array.size > 0` to check that an array is not empty.\n",
      "  if diff:\n"
     ]
    },
    {
     "name": "stdout",
     "output_type": "stream",
     "text": [
      "[5]\tvalid_0's binary_logloss: 0.399045\tvalid_0's auc: 0.850562\n",
      "[6]\tvalid_0's binary_logloss: 0.391461\tvalid_0's auc: 0.849895\n",
      "[7]\tvalid_0's binary_logloss: 0.3831\tvalid_0's auc: 0.853403\n",
      "[8]\tvalid_0's binary_logloss: 0.377472\tvalid_0's auc: 0.856187\n",
      "[9]\tvalid_0's binary_logloss: 0.372163\tvalid_0's auc: 0.856843\n",
      "[10]\tvalid_0's binary_logloss: 0.367602\tvalid_0's auc: 0.858496\n",
      "[11]\tvalid_0's binary_logloss: 0.364391\tvalid_0's auc: 0.85834\n",
      "[12]\tvalid_0's binary_logloss: 0.361381\tvalid_0's auc: 0.858794\n",
      "[13]\tvalid_0's binary_logloss: 0.358339\tvalid_0's auc: 0.859799\n",
      "[14]\tvalid_0's binary_logloss: 0.355968\tvalid_0's auc: 0.860707\n",
      "[15]\tvalid_0's binary_logloss: 0.354744\tvalid_0's auc: 0.860743\n",
      "[16]\tvalid_0's binary_logloss: 0.353385\tvalid_0's auc: 0.860449\n",
      "[17]\tvalid_0's binary_logloss: 0.351748\tvalid_0's auc: 0.86099\n",
      "[18]\tvalid_0's binary_logloss: 0.350296\tvalid_0's auc: 0.861562\n",
      "[19]\tvalid_0's binary_logloss: 0.349428\tvalid_0's auc: 0.862171\n",
      "[20]\tvalid_0's binary_logloss: 0.349639\tvalid_0's auc: 0.861376\n",
      "[21]\tvalid_0's binary_logloss: 0.349009\tvalid_0's auc: 0.861384\n",
      "[22]\tvalid_0's binary_logloss: 0.348292\tvalid_0's auc: 0.861658\n",
      "[23]\tvalid_0's binary_logloss: 0.346692\tvalid_0's auc: 0.863048\n",
      "[24]\tvalid_0's binary_logloss: 0.345974\tvalid_0's auc: 0.863664\n",
      "[25]\tvalid_0's binary_logloss: 0.345305\tvalid_0's auc: 0.864485\n",
      "[26]\tvalid_0's binary_logloss: 0.345696\tvalid_0's auc: 0.864061\n",
      "[27]\tvalid_0's binary_logloss: 0.344952\tvalid_0's auc: 0.864795\n",
      "[28]\tvalid_0's binary_logloss: 0.345449\tvalid_0's auc: 0.864064\n",
      "[29]\tvalid_0's binary_logloss: 0.345937\tvalid_0's auc: 0.86349\n",
      "[30]\tvalid_0's binary_logloss: 0.3454\tvalid_0's auc: 0.864246\n",
      "[31]\tvalid_0's binary_logloss: 0.345679\tvalid_0's auc: 0.864038\n",
      "[32]\tvalid_0's binary_logloss: 0.346187\tvalid_0's auc: 0.863809\n",
      "Early stopping, best iteration is:\n",
      "[27]\tvalid_0's binary_logloss: 0.344952\tvalid_0's auc: 0.864795\n"
     ]
    },
    {
     "name": "stderr",
     "output_type": "stream",
     "text": [
      "/Library/Frameworks/Python.framework/Versions/3.6/lib/python3.6/site-packages/sklearn/preprocessing/label.py:151: DeprecationWarning: The truth value of an empty array is ambiguous. Returning False, but in future this will result in an error. Use `array.size > 0` to check that an array is not empty.\n",
      "  if diff:\n",
      "/Library/Frameworks/Python.framework/Versions/3.6/lib/python3.6/site-packages/sklearn/preprocessing/label.py:151: DeprecationWarning: The truth value of an empty array is ambiguous. Returning False, but in future this will result in an error. Use `array.size > 0` to check that an array is not empty.\n",
      "  if diff:\n"
     ]
    },
    {
     "name": "stdout",
     "output_type": "stream",
     "text": [
      "[1]\tvalid_0's binary_logloss: 0.463082\tvalid_0's auc: 0.837907\n",
      "Training until validation scores don't improve for 5 rounds.\n",
      "[2]\tvalid_0's binary_logloss: 0.440215\tvalid_0's auc: 0.846744\n",
      "[3]\tvalid_0's binary_logloss: 0.421601\tvalid_0's auc: 0.851466\n",
      "[4]\tvalid_0's binary_logloss: 0.409069\tvalid_0's auc: 0.852926\n",
      "[5]\tvalid_0's binary_logloss: 0.396575\tvalid_0's auc: 0.857742\n",
      "[6]\tvalid_0's binary_logloss: 0.388023\tvalid_0's auc: 0.857262\n",
      "[7]\tvalid_0's binary_logloss: 0.37969\tvalid_0's auc: 0.860136\n",
      "[8]\tvalid_0's binary_logloss: 0.374335\tvalid_0's auc: 0.859829\n",
      "[9]\tvalid_0's binary_logloss: 0.369354\tvalid_0's auc: 0.861651\n",
      "[10]\tvalid_0's binary_logloss: 0.365239\tvalid_0's auc: 0.862004\n",
      "[11]\tvalid_0's binary_logloss: 0.361383\tvalid_0's auc: 0.86252\n",
      "[12]\tvalid_0's binary_logloss: 0.358555\tvalid_0's auc: 0.862532\n",
      "[13]\tvalid_0's binary_logloss: 0.355584\tvalid_0's auc: 0.864096\n",
      "[14]\tvalid_0's binary_logloss: 0.353005\tvalid_0's auc: 0.864406\n",
      "[15]\tvalid_0's binary_logloss: 0.352053\tvalid_0's auc: 0.864284\n",
      "[16]\tvalid_0's binary_logloss: 0.349972\tvalid_0's auc: 0.865126\n",
      "[17]\tvalid_0's binary_logloss: 0.348639\tvalid_0's auc: 0.865231\n",
      "[18]\tvalid_0's binary_logloss: 0.347409\tvalid_0's auc: 0.86568\n",
      "[19]\tvalid_0's binary_logloss: 0.346308\tvalid_0's auc: 0.865977\n",
      "[20]\tvalid_0's binary_logloss: 0.34622\tvalid_0's auc: 0.865198\n",
      "[21]\tvalid_0's binary_logloss: 0.346276\tvalid_0's auc: 0.864422\n",
      "[22]\tvalid_0's binary_logloss: 0.345988\tvalid_0's auc: 0.864458\n",
      "[23]\tvalid_0's binary_logloss: 0.34547\tvalid_0's auc: 0.864783\n",
      "[24]\tvalid_0's binary_logloss: 0.34547\tvalid_0's auc: 0.864813\n",
      "Early stopping, best iteration is:\n",
      "[19]\tvalid_0's binary_logloss: 0.346308\tvalid_0's auc: 0.865977\n"
     ]
    },
    {
     "name": "stderr",
     "output_type": "stream",
     "text": [
      "/Library/Frameworks/Python.framework/Versions/3.6/lib/python3.6/site-packages/sklearn/preprocessing/label.py:151: DeprecationWarning: The truth value of an empty array is ambiguous. Returning False, but in future this will result in an error. Use `array.size > 0` to check that an array is not empty.\n",
      "  if diff:\n",
      "/Library/Frameworks/Python.framework/Versions/3.6/lib/python3.6/site-packages/sklearn/preprocessing/label.py:151: DeprecationWarning: The truth value of an empty array is ambiguous. Returning False, but in future this will result in an error. Use `array.size > 0` to check that an array is not empty.\n",
      "  if diff:\n"
     ]
    },
    {
     "name": "stdout",
     "output_type": "stream",
     "text": [
      "[1]\tvalid_0's binary_logloss: 0.465678\tvalid_0's auc: 0.823479\n",
      "Training until validation scores don't improve for 5 rounds.\n",
      "[2]\tvalid_0's binary_logloss: 0.443599\tvalid_0's auc: 0.831955\n",
      "[3]\tvalid_0's binary_logloss: 0.425811\tvalid_0's auc: 0.841746\n",
      "[4]\tvalid_0's binary_logloss: 0.410787\tvalid_0's auc: 0.846508\n",
      "[5]\tvalid_0's binary_logloss: 0.399311\tvalid_0's auc: 0.850615\n",
      "[6]\tvalid_0's binary_logloss: 0.390662\tvalid_0's auc: 0.851825\n",
      "[7]\tvalid_0's binary_logloss: 0.383663\tvalid_0's auc: 0.852169\n",
      "[8]\tvalid_0's binary_logloss: 0.378275\tvalid_0's auc: 0.853263\n",
      "[9]\tvalid_0's binary_logloss: 0.373518\tvalid_0's auc: 0.854198\n",
      "[10]\tvalid_0's binary_logloss: 0.36791\tvalid_0's auc: 0.857154\n",
      "[11]\tvalid_0's binary_logloss: 0.364052\tvalid_0's auc: 0.857592\n",
      "[12]\tvalid_0's binary_logloss: 0.36095\tvalid_0's auc: 0.858372\n",
      "[13]\tvalid_0's binary_logloss: 0.357813\tvalid_0's auc: 0.860547\n",
      "[14]\tvalid_0's binary_logloss: 0.355738\tvalid_0's auc: 0.860584\n",
      "[15]\tvalid_0's binary_logloss: 0.353413\tvalid_0's auc: 0.861929\n",
      "[16]\tvalid_0's binary_logloss: 0.352264\tvalid_0's auc: 0.861706\n",
      "[17]\tvalid_0's binary_logloss: 0.350905\tvalid_0's auc: 0.861923\n",
      "[18]\tvalid_0's binary_logloss: 0.35064\tvalid_0's auc: 0.861429\n",
      "[19]\tvalid_0's binary_logloss: 0.34964\tvalid_0's auc: 0.862014\n",
      "[20]\tvalid_0's binary_logloss: 0.349875\tvalid_0's auc: 0.861374\n",
      "[21]\tvalid_0's binary_logloss: 0.349171\tvalid_0's auc: 0.861762\n",
      "[22]\tvalid_0's binary_logloss: 0.348643\tvalid_0's auc: 0.862091\n",
      "[23]\tvalid_0's binary_logloss: 0.348169\tvalid_0's auc: 0.862504\n",
      "[24]\tvalid_0's binary_logloss: 0.34774\tvalid_0's auc: 0.862495\n",
      "[25]\tvalid_0's binary_logloss: 0.34767\tvalid_0's auc: 0.862556\n",
      "[26]\tvalid_0's binary_logloss: 0.347268\tvalid_0's auc: 0.862829\n",
      "[27]\tvalid_0's binary_logloss: 0.347056\tvalid_0's auc: 0.863302\n",
      "[28]\tvalid_0's binary_logloss: 0.347736\tvalid_0's auc: 0.862686\n",
      "[29]\tvalid_0's binary_logloss: 0.34737\tvalid_0's auc: 0.863077\n",
      "[30]\tvalid_0's binary_logloss: 0.346972\tvalid_0's auc: 0.863559\n",
      "[31]\tvalid_0's binary_logloss: 0.347566\tvalid_0's auc: 0.863381\n",
      "[32]\tvalid_0's binary_logloss: 0.348088\tvalid_0's auc: 0.863196\n",
      "[33]\tvalid_0's binary_logloss: 0.349322\tvalid_0's auc: 0.862361\n",
      "[34]\tvalid_0's binary_logloss: 0.349739\tvalid_0's auc: 0.861778\n",
      "[35]\tvalid_0's binary_logloss: 0.350234\tvalid_0's auc: 0.86158\n",
      "Early stopping, best iteration is:\n",
      "[30]\tvalid_0's binary_logloss: 0.346972\tvalid_0's auc: 0.863559\n",
      "[1]\tvalid_0's binary_logloss: 0.464471\tvalid_0's auc: 0.823169\n",
      "Training until validation scores don't improve for 5 rounds.\n",
      "[2]\tvalid_0's binary_logloss: 0.441634\tvalid_0's auc: 0.843213\n",
      "[3]\tvalid_0's binary_logloss: 0.425134\tvalid_0's auc: 0.845891\n"
     ]
    },
    {
     "name": "stderr",
     "output_type": "stream",
     "text": [
      "/Library/Frameworks/Python.framework/Versions/3.6/lib/python3.6/site-packages/sklearn/preprocessing/label.py:151: DeprecationWarning: The truth value of an empty array is ambiguous. Returning False, but in future this will result in an error. Use `array.size > 0` to check that an array is not empty.\n",
      "  if diff:\n",
      "/Library/Frameworks/Python.framework/Versions/3.6/lib/python3.6/site-packages/sklearn/preprocessing/label.py:151: DeprecationWarning: The truth value of an empty array is ambiguous. Returning False, but in future this will result in an error. Use `array.size > 0` to check that an array is not empty.\n",
      "  if diff:\n"
     ]
    },
    {
     "name": "stdout",
     "output_type": "stream",
     "text": [
      "[4]\tvalid_0's binary_logloss: 0.411082\tvalid_0's auc: 0.849487\n",
      "[5]\tvalid_0's binary_logloss: 0.399045\tvalid_0's auc: 0.850562\n",
      "[6]\tvalid_0's binary_logloss: 0.391461\tvalid_0's auc: 0.849895\n",
      "[7]\tvalid_0's binary_logloss: 0.3831\tvalid_0's auc: 0.853403\n",
      "[8]\tvalid_0's binary_logloss: 0.377472\tvalid_0's auc: 0.856187\n",
      "[9]\tvalid_0's binary_logloss: 0.372163\tvalid_0's auc: 0.856843\n",
      "[10]\tvalid_0's binary_logloss: 0.367602\tvalid_0's auc: 0.858496\n",
      "[11]\tvalid_0's binary_logloss: 0.364391\tvalid_0's auc: 0.85834\n",
      "[12]\tvalid_0's binary_logloss: 0.361381\tvalid_0's auc: 0.858794\n",
      "[13]\tvalid_0's binary_logloss: 0.358339\tvalid_0's auc: 0.859799\n",
      "[14]\tvalid_0's binary_logloss: 0.355968\tvalid_0's auc: 0.860707\n",
      "[15]\tvalid_0's binary_logloss: 0.354744\tvalid_0's auc: 0.860743\n",
      "[16]\tvalid_0's binary_logloss: 0.353385\tvalid_0's auc: 0.860449\n",
      "[17]\tvalid_0's binary_logloss: 0.351748\tvalid_0's auc: 0.86099\n",
      "[18]\tvalid_0's binary_logloss: 0.350296\tvalid_0's auc: 0.861562\n",
      "[19]\tvalid_0's binary_logloss: 0.349428\tvalid_0's auc: 0.862171\n",
      "[20]\tvalid_0's binary_logloss: 0.349639\tvalid_0's auc: 0.861376\n",
      "[21]\tvalid_0's binary_logloss: 0.349009\tvalid_0's auc: 0.861384\n",
      "[22]\tvalid_0's binary_logloss: 0.348292\tvalid_0's auc: 0.861658\n",
      "[23]\tvalid_0's binary_logloss: 0.346692\tvalid_0's auc: 0.863048\n",
      "[24]\tvalid_0's binary_logloss: 0.345974\tvalid_0's auc: 0.863664\n",
      "[25]\tvalid_0's binary_logloss: 0.345305\tvalid_0's auc: 0.864485\n",
      "[26]\tvalid_0's binary_logloss: 0.345696\tvalid_0's auc: 0.864061\n",
      "[27]\tvalid_0's binary_logloss: 0.344952\tvalid_0's auc: 0.864795\n",
      "[28]\tvalid_0's binary_logloss: 0.345449\tvalid_0's auc: 0.864064\n",
      "[29]\tvalid_0's binary_logloss: 0.345937\tvalid_0's auc: 0.86349\n",
      "[30]\tvalid_0's binary_logloss: 0.3454\tvalid_0's auc: 0.864246\n",
      "[31]\tvalid_0's binary_logloss: 0.345679\tvalid_0's auc: 0.864038\n",
      "[32]\tvalid_0's binary_logloss: 0.346187\tvalid_0's auc: 0.863809\n",
      "Early stopping, best iteration is:\n",
      "[27]\tvalid_0's binary_logloss: 0.344952\tvalid_0's auc: 0.864795\n"
     ]
    },
    {
     "name": "stderr",
     "output_type": "stream",
     "text": [
      "/Library/Frameworks/Python.framework/Versions/3.6/lib/python3.6/site-packages/sklearn/preprocessing/label.py:151: DeprecationWarning: The truth value of an empty array is ambiguous. Returning False, but in future this will result in an error. Use `array.size > 0` to check that an array is not empty.\n",
      "  if diff:\n",
      "/Library/Frameworks/Python.framework/Versions/3.6/lib/python3.6/site-packages/sklearn/preprocessing/label.py:151: DeprecationWarning: The truth value of an empty array is ambiguous. Returning False, but in future this will result in an error. Use `array.size > 0` to check that an array is not empty.\n",
      "  if diff:\n"
     ]
    },
    {
     "name": "stdout",
     "output_type": "stream",
     "text": [
      "[1]\tvalid_0's binary_logloss: 0.456757\tvalid_0's auc: 0.837907\n",
      "Training until validation scores don't improve for 5 rounds.\n",
      "[2]\tvalid_0's binary_logloss: 0.43164\tvalid_0's auc: 0.846713\n",
      "[3]\tvalid_0's binary_logloss: 0.413301\tvalid_0's auc: 0.850762\n",
      "[4]\tvalid_0's binary_logloss: 0.398873\tvalid_0's auc: 0.853548\n",
      "[5]\tvalid_0's binary_logloss: 0.387124\tvalid_0's auc: 0.856063\n",
      "[6]\tvalid_0's binary_logloss: 0.378236\tvalid_0's auc: 0.85889\n",
      "[7]\tvalid_0's binary_logloss: 0.371447\tvalid_0's auc: 0.86083\n",
      "[8]\tvalid_0's binary_logloss: 0.366323\tvalid_0's auc: 0.861126\n",
      "[9]\tvalid_0's binary_logloss: 0.362676\tvalid_0's auc: 0.860517\n",
      "[10]\tvalid_0's binary_logloss: 0.35871\tvalid_0's auc: 0.862251\n",
      "Did not meet early stopping. Best iteration is:\n",
      "[10]\tvalid_0's binary_logloss: 0.35871\tvalid_0's auc: 0.862251\n"
     ]
    },
    {
     "name": "stderr",
     "output_type": "stream",
     "text": [
      "/Library/Frameworks/Python.framework/Versions/3.6/lib/python3.6/site-packages/sklearn/preprocessing/label.py:151: DeprecationWarning: The truth value of an empty array is ambiguous. Returning False, but in future this will result in an error. Use `array.size > 0` to check that an array is not empty.\n",
      "  if diff:\n",
      "/Library/Frameworks/Python.framework/Versions/3.6/lib/python3.6/site-packages/sklearn/preprocessing/label.py:151: DeprecationWarning: The truth value of an empty array is ambiguous. Returning False, but in future this will result in an error. Use `array.size > 0` to check that an array is not empty.\n",
      "  if diff:\n"
     ]
    },
    {
     "name": "stdout",
     "output_type": "stream",
     "text": [
      "[1]\tvalid_0's binary_logloss: 0.459887\tvalid_0's auc: 0.823479\n",
      "Training until validation scores don't improve for 5 rounds.\n",
      "[2]\tvalid_0's binary_logloss: 0.436216\tvalid_0's auc: 0.831456\n",
      "[3]\tvalid_0's binary_logloss: 0.414702\tvalid_0's auc: 0.845546\n",
      "[4]\tvalid_0's binary_logloss: 0.40096\tvalid_0's auc: 0.848371\n",
      "[5]\tvalid_0's binary_logloss: 0.389086\tvalid_0's auc: 0.853413\n",
      "[6]\tvalid_0's binary_logloss: 0.380115\tvalid_0's auc: 0.856361\n",
      "[7]\tvalid_0's binary_logloss: 0.372435\tvalid_0's auc: 0.858771\n",
      "[8]\tvalid_0's binary_logloss: 0.366426\tvalid_0's auc: 0.860077\n",
      "[9]\tvalid_0's binary_logloss: 0.362651\tvalid_0's auc: 0.860324\n",
      "[10]\tvalid_0's binary_logloss: 0.360384\tvalid_0's auc: 0.859852\n",
      "Did not meet early stopping. Best iteration is:\n",
      "[10]\tvalid_0's binary_logloss: 0.360384\tvalid_0's auc: 0.859852\n"
     ]
    },
    {
     "name": "stderr",
     "output_type": "stream",
     "text": [
      "/Library/Frameworks/Python.framework/Versions/3.6/lib/python3.6/site-packages/sklearn/preprocessing/label.py:151: DeprecationWarning: The truth value of an empty array is ambiguous. Returning False, but in future this will result in an error. Use `array.size > 0` to check that an array is not empty.\n",
      "  if diff:\n",
      "/Library/Frameworks/Python.framework/Versions/3.6/lib/python3.6/site-packages/sklearn/preprocessing/label.py:151: DeprecationWarning: The truth value of an empty array is ambiguous. Returning False, but in future this will result in an error. Use `array.size > 0` to check that an array is not empty.\n",
      "  if diff:\n"
     ]
    },
    {
     "name": "stdout",
     "output_type": "stream",
     "text": [
      "[1]\tvalid_0's binary_logloss: 0.458461\tvalid_0's auc: 0.823169\n",
      "Training until validation scores don't improve for 5 rounds.\n",
      "[2]\tvalid_0's binary_logloss: 0.433326\tvalid_0's auc: 0.843733\n",
      "[3]\tvalid_0's binary_logloss: 0.415095\tvalid_0's auc: 0.847954\n",
      "[4]\tvalid_0's binary_logloss: 0.401069\tvalid_0's auc: 0.85177\n",
      "[5]\tvalid_0's binary_logloss: 0.390741\tvalid_0's auc: 0.850838\n",
      "[6]\tvalid_0's binary_logloss: 0.381083\tvalid_0's auc: 0.853615\n",
      "[7]\tvalid_0's binary_logloss: 0.374776\tvalid_0's auc: 0.853981\n",
      "[8]\tvalid_0's binary_logloss: 0.370176\tvalid_0's auc: 0.855969\n",
      "[9]\tvalid_0's binary_logloss: 0.366033\tvalid_0's auc: 0.856636\n",
      "[10]\tvalid_0's binary_logloss: 0.361979\tvalid_0's auc: 0.85768\n",
      "Did not meet early stopping. Best iteration is:\n",
      "[10]\tvalid_0's binary_logloss: 0.361979\tvalid_0's auc: 0.85768\n"
     ]
    },
    {
     "name": "stderr",
     "output_type": "stream",
     "text": [
      "/Library/Frameworks/Python.framework/Versions/3.6/lib/python3.6/site-packages/sklearn/preprocessing/label.py:151: DeprecationWarning: The truth value of an empty array is ambiguous. Returning False, but in future this will result in an error. Use `array.size > 0` to check that an array is not empty.\n",
      "  if diff:\n",
      "/Library/Frameworks/Python.framework/Versions/3.6/lib/python3.6/site-packages/sklearn/preprocessing/label.py:151: DeprecationWarning: The truth value of an empty array is ambiguous. Returning False, but in future this will result in an error. Use `array.size > 0` to check that an array is not empty.\n",
      "  if diff:\n"
     ]
    },
    {
     "name": "stdout",
     "output_type": "stream",
     "text": [
      "[1]\tvalid_0's binary_logloss: 0.456757\tvalid_0's auc: 0.837907\n",
      "Training until validation scores don't improve for 5 rounds.\n",
      "[2]\tvalid_0's binary_logloss: 0.43164\tvalid_0's auc: 0.846713\n",
      "[3]\tvalid_0's binary_logloss: 0.413301\tvalid_0's auc: 0.850762\n",
      "[4]\tvalid_0's binary_logloss: 0.398873\tvalid_0's auc: 0.853548\n",
      "[5]\tvalid_0's binary_logloss: 0.387124\tvalid_0's auc: 0.856063\n",
      "[6]\tvalid_0's binary_logloss: 0.378236\tvalid_0's auc: 0.85889\n",
      "[7]\tvalid_0's binary_logloss: 0.371447\tvalid_0's auc: 0.86083\n",
      "[8]\tvalid_0's binary_logloss: 0.366323\tvalid_0's auc: 0.861126\n",
      "[9]\tvalid_0's binary_logloss: 0.362676\tvalid_0's auc: 0.860517\n",
      "[10]\tvalid_0's binary_logloss: 0.35871\tvalid_0's auc: 0.862251\n",
      "[11]\tvalid_0's binary_logloss: 0.355538\tvalid_0's auc: 0.863223\n",
      "[12]\tvalid_0's binary_logloss: 0.353808\tvalid_0's auc: 0.863083\n",
      "[13]\tvalid_0's binary_logloss: 0.352163\tvalid_0's auc: 0.863531\n",
      "Did not meet early stopping. Best iteration is:\n",
      "[13]\tvalid_0's binary_logloss: 0.352163\tvalid_0's auc: 0.863531\n"
     ]
    },
    {
     "name": "stderr",
     "output_type": "stream",
     "text": [
      "/Library/Frameworks/Python.framework/Versions/3.6/lib/python3.6/site-packages/sklearn/preprocessing/label.py:151: DeprecationWarning: The truth value of an empty array is ambiguous. Returning False, but in future this will result in an error. Use `array.size > 0` to check that an array is not empty.\n",
      "  if diff:\n",
      "/Library/Frameworks/Python.framework/Versions/3.6/lib/python3.6/site-packages/sklearn/preprocessing/label.py:151: DeprecationWarning: The truth value of an empty array is ambiguous. Returning False, but in future this will result in an error. Use `array.size > 0` to check that an array is not empty.\n",
      "  if diff:\n"
     ]
    },
    {
     "name": "stdout",
     "output_type": "stream",
     "text": [
      "[1]\tvalid_0's binary_logloss: 0.459887\tvalid_0's auc: 0.823479\n",
      "Training until validation scores don't improve for 5 rounds.\n",
      "[2]\tvalid_0's binary_logloss: 0.436216\tvalid_0's auc: 0.831456\n",
      "[3]\tvalid_0's binary_logloss: 0.414702\tvalid_0's auc: 0.845546\n",
      "[4]\tvalid_0's binary_logloss: 0.40096\tvalid_0's auc: 0.848371\n",
      "[5]\tvalid_0's binary_logloss: 0.389086\tvalid_0's auc: 0.853413\n",
      "[6]\tvalid_0's binary_logloss: 0.380115\tvalid_0's auc: 0.856361\n",
      "[7]\tvalid_0's binary_logloss: 0.372435\tvalid_0's auc: 0.858771\n",
      "[8]\tvalid_0's binary_logloss: 0.366426\tvalid_0's auc: 0.860077\n",
      "[9]\tvalid_0's binary_logloss: 0.362651\tvalid_0's auc: 0.860324\n",
      "[10]\tvalid_0's binary_logloss: 0.360384\tvalid_0's auc: 0.859852\n",
      "[11]\tvalid_0's binary_logloss: 0.357934\tvalid_0's auc: 0.859966\n",
      "[12]\tvalid_0's binary_logloss: 0.355637\tvalid_0's auc: 0.860892\n",
      "[13]\tvalid_0's binary_logloss: 0.353871\tvalid_0's auc: 0.861482\n",
      "Did not meet early stopping. Best iteration is:\n",
      "[13]\tvalid_0's binary_logloss: 0.353871\tvalid_0's auc: 0.861482\n"
     ]
    },
    {
     "name": "stderr",
     "output_type": "stream",
     "text": [
      "/Library/Frameworks/Python.framework/Versions/3.6/lib/python3.6/site-packages/sklearn/preprocessing/label.py:151: DeprecationWarning: The truth value of an empty array is ambiguous. Returning False, but in future this will result in an error. Use `array.size > 0` to check that an array is not empty.\n",
      "  if diff:\n",
      "/Library/Frameworks/Python.framework/Versions/3.6/lib/python3.6/site-packages/sklearn/preprocessing/label.py:151: DeprecationWarning: The truth value of an empty array is ambiguous. Returning False, but in future this will result in an error. Use `array.size > 0` to check that an array is not empty.\n",
      "  if diff:\n"
     ]
    },
    {
     "name": "stdout",
     "output_type": "stream",
     "text": [
      "[1]\tvalid_0's binary_logloss: 0.458461\tvalid_0's auc: 0.823169\n",
      "Training until validation scores don't improve for 5 rounds.\n",
      "[2]\tvalid_0's binary_logloss: 0.433326\tvalid_0's auc: 0.843733\n",
      "[3]\tvalid_0's binary_logloss: 0.415095\tvalid_0's auc: 0.847954\n",
      "[4]\tvalid_0's binary_logloss: 0.401069\tvalid_0's auc: 0.85177\n",
      "[5]\tvalid_0's binary_logloss: 0.390741\tvalid_0's auc: 0.850838\n",
      "[6]\tvalid_0's binary_logloss: 0.381083\tvalid_0's auc: 0.853615\n",
      "[7]\tvalid_0's binary_logloss: 0.374776\tvalid_0's auc: 0.853981\n",
      "[8]\tvalid_0's binary_logloss: 0.370176\tvalid_0's auc: 0.855969\n",
      "[9]\tvalid_0's binary_logloss: 0.366033\tvalid_0's auc: 0.856636\n",
      "[10]\tvalid_0's binary_logloss: 0.361979\tvalid_0's auc: 0.85768\n",
      "[11]\tvalid_0's binary_logloss: 0.358376\tvalid_0's auc: 0.859935\n",
      "[12]\tvalid_0's binary_logloss: 0.356067\tvalid_0's auc: 0.860775\n",
      "[13]\tvalid_0's binary_logloss: 0.35379\tvalid_0's auc: 0.861684\n",
      "Did not meet early stopping. Best iteration is:\n",
      "[13]\tvalid_0's binary_logloss: 0.35379\tvalid_0's auc: 0.861684\n"
     ]
    },
    {
     "name": "stderr",
     "output_type": "stream",
     "text": [
      "/Library/Frameworks/Python.framework/Versions/3.6/lib/python3.6/site-packages/sklearn/preprocessing/label.py:151: DeprecationWarning: The truth value of an empty array is ambiguous. Returning False, but in future this will result in an error. Use `array.size > 0` to check that an array is not empty.\n",
      "  if diff:\n",
      "/Library/Frameworks/Python.framework/Versions/3.6/lib/python3.6/site-packages/sklearn/preprocessing/label.py:151: DeprecationWarning: The truth value of an empty array is ambiguous. Returning False, but in future this will result in an error. Use `array.size > 0` to check that an array is not empty.\n",
      "  if diff:\n"
     ]
    },
    {
     "name": "stdout",
     "output_type": "stream",
     "text": [
      "[1]\tvalid_0's binary_logloss: 0.456757\tvalid_0's auc: 0.837907\n",
      "Training until validation scores don't improve for 5 rounds.\n",
      "[2]\tvalid_0's binary_logloss: 0.43164\tvalid_0's auc: 0.846713\n",
      "[3]\tvalid_0's binary_logloss: 0.413301\tvalid_0's auc: 0.850762\n",
      "[4]\tvalid_0's binary_logloss: 0.398873\tvalid_0's auc: 0.853548\n",
      "[5]\tvalid_0's binary_logloss: 0.387124\tvalid_0's auc: 0.856063\n",
      "[6]\tvalid_0's binary_logloss: 0.378236\tvalid_0's auc: 0.85889\n",
      "[7]\tvalid_0's binary_logloss: 0.371447\tvalid_0's auc: 0.86083\n",
      "[8]\tvalid_0's binary_logloss: 0.366323\tvalid_0's auc: 0.861126\n",
      "[9]\tvalid_0's binary_logloss: 0.362676\tvalid_0's auc: 0.860517\n",
      "[10]\tvalid_0's binary_logloss: 0.35871\tvalid_0's auc: 0.862251\n",
      "[11]\tvalid_0's binary_logloss: 0.355538\tvalid_0's auc: 0.863223\n",
      "[12]\tvalid_0's binary_logloss: 0.353808\tvalid_0's auc: 0.863083\n",
      "[13]\tvalid_0's binary_logloss: 0.352163\tvalid_0's auc: 0.863531\n",
      "[14]\tvalid_0's binary_logloss: 0.35042\tvalid_0's auc: 0.864071\n",
      "[15]\tvalid_0's binary_logloss: 0.348977\tvalid_0's auc: 0.864364\n",
      "[16]\tvalid_0's binary_logloss: 0.34801\tvalid_0's auc: 0.864326\n",
      "Did not meet early stopping. Best iteration is:\n",
      "[16]\tvalid_0's binary_logloss: 0.34801\tvalid_0's auc: 0.864326\n",
      "[1]\tvalid_0's binary_logloss: 0.459887\tvalid_0's auc: 0.823479\n",
      "Training until validation scores don't improve for 5 rounds.\n",
      "[2]\tvalid_0's binary_logloss: 0.436216\tvalid_0's auc: 0.831456\n",
      "[3]\tvalid_0's binary_logloss: 0.414702\tvalid_0's auc: 0.845546\n",
      "[4]\tvalid_0's binary_logloss: 0.40096\tvalid_0's auc: 0.848371\n",
      "[5]\tvalid_0's binary_logloss: 0.389086\tvalid_0's auc: 0.853413\n",
      "[6]\tvalid_0's binary_logloss: 0.380115\tvalid_0's auc: 0.856361\n"
     ]
    },
    {
     "name": "stderr",
     "output_type": "stream",
     "text": [
      "/Library/Frameworks/Python.framework/Versions/3.6/lib/python3.6/site-packages/sklearn/preprocessing/label.py:151: DeprecationWarning: The truth value of an empty array is ambiguous. Returning False, but in future this will result in an error. Use `array.size > 0` to check that an array is not empty.\n",
      "  if diff:\n",
      "/Library/Frameworks/Python.framework/Versions/3.6/lib/python3.6/site-packages/sklearn/preprocessing/label.py:151: DeprecationWarning: The truth value of an empty array is ambiguous. Returning False, but in future this will result in an error. Use `array.size > 0` to check that an array is not empty.\n",
      "  if diff:\n"
     ]
    },
    {
     "name": "stdout",
     "output_type": "stream",
     "text": [
      "[7]\tvalid_0's binary_logloss: 0.372435\tvalid_0's auc: 0.858771\n",
      "[8]\tvalid_0's binary_logloss: 0.366426\tvalid_0's auc: 0.860077\n",
      "[9]\tvalid_0's binary_logloss: 0.362651\tvalid_0's auc: 0.860324\n",
      "[10]\tvalid_0's binary_logloss: 0.360384\tvalid_0's auc: 0.859852\n",
      "[11]\tvalid_0's binary_logloss: 0.357934\tvalid_0's auc: 0.859966\n",
      "[12]\tvalid_0's binary_logloss: 0.355637\tvalid_0's auc: 0.860892\n",
      "[13]\tvalid_0's binary_logloss: 0.353871\tvalid_0's auc: 0.861482\n",
      "[14]\tvalid_0's binary_logloss: 0.352328\tvalid_0's auc: 0.86141\n",
      "[15]\tvalid_0's binary_logloss: 0.351764\tvalid_0's auc: 0.861515\n",
      "[16]\tvalid_0's binary_logloss: 0.351084\tvalid_0's auc: 0.86142\n",
      "Did not meet early stopping. Best iteration is:\n",
      "[16]\tvalid_0's binary_logloss: 0.351084\tvalid_0's auc: 0.86142\n"
     ]
    },
    {
     "name": "stderr",
     "output_type": "stream",
     "text": [
      "/Library/Frameworks/Python.framework/Versions/3.6/lib/python3.6/site-packages/sklearn/preprocessing/label.py:151: DeprecationWarning: The truth value of an empty array is ambiguous. Returning False, but in future this will result in an error. Use `array.size > 0` to check that an array is not empty.\n",
      "  if diff:\n",
      "/Library/Frameworks/Python.framework/Versions/3.6/lib/python3.6/site-packages/sklearn/preprocessing/label.py:151: DeprecationWarning: The truth value of an empty array is ambiguous. Returning False, but in future this will result in an error. Use `array.size > 0` to check that an array is not empty.\n",
      "  if diff:\n"
     ]
    },
    {
     "name": "stdout",
     "output_type": "stream",
     "text": [
      "[1]\tvalid_0's binary_logloss: 0.458461\tvalid_0's auc: 0.823169\n",
      "Training until validation scores don't improve for 5 rounds.\n",
      "[2]\tvalid_0's binary_logloss: 0.433326\tvalid_0's auc: 0.843733\n",
      "[3]\tvalid_0's binary_logloss: 0.415095\tvalid_0's auc: 0.847954\n",
      "[4]\tvalid_0's binary_logloss: 0.401069\tvalid_0's auc: 0.85177\n",
      "[5]\tvalid_0's binary_logloss: 0.390741\tvalid_0's auc: 0.850838\n",
      "[6]\tvalid_0's binary_logloss: 0.381083\tvalid_0's auc: 0.853615\n",
      "[7]\tvalid_0's binary_logloss: 0.374776\tvalid_0's auc: 0.853981\n",
      "[8]\tvalid_0's binary_logloss: 0.370176\tvalid_0's auc: 0.855969\n",
      "[9]\tvalid_0's binary_logloss: 0.366033\tvalid_0's auc: 0.856636\n",
      "[10]\tvalid_0's binary_logloss: 0.361979\tvalid_0's auc: 0.85768\n",
      "[11]\tvalid_0's binary_logloss: 0.358376\tvalid_0's auc: 0.859935\n",
      "[12]\tvalid_0's binary_logloss: 0.356067\tvalid_0's auc: 0.860775\n",
      "[13]\tvalid_0's binary_logloss: 0.35379\tvalid_0's auc: 0.861684\n",
      "[14]\tvalid_0's binary_logloss: 0.352978\tvalid_0's auc: 0.861719\n",
      "[15]\tvalid_0's binary_logloss: 0.351963\tvalid_0's auc: 0.862147\n",
      "[16]\tvalid_0's binary_logloss: 0.350528\tvalid_0's auc: 0.863095\n",
      "Did not meet early stopping. Best iteration is:\n",
      "[16]\tvalid_0's binary_logloss: 0.350528\tvalid_0's auc: 0.863095\n",
      "[1]\tvalid_0's binary_logloss: 0.456757\tvalid_0's auc: 0.837907\n",
      "Training until validation scores don't improve for 5 rounds.\n",
      "[2]\tvalid_0's binary_logloss: 0.43164\tvalid_0's auc: 0.846713\n",
      "[3]\tvalid_0's binary_logloss: 0.413301\tvalid_0's auc: 0.850762\n",
      "[4]\tvalid_0's binary_logloss: 0.398873\tvalid_0's auc: 0.853548\n",
      "[5]\tvalid_0's binary_logloss: 0.387124\tvalid_0's auc: 0.856063\n",
      "[6]\tvalid_0's binary_logloss: 0.378236\tvalid_0's auc: 0.85889\n",
      "[7]\tvalid_0's binary_logloss: 0.371447\tvalid_0's auc: 0.86083\n",
      "[8]\tvalid_0's binary_logloss: 0.366323\tvalid_0's auc: 0.861126\n"
     ]
    },
    {
     "name": "stderr",
     "output_type": "stream",
     "text": [
      "/Library/Frameworks/Python.framework/Versions/3.6/lib/python3.6/site-packages/sklearn/preprocessing/label.py:151: DeprecationWarning: The truth value of an empty array is ambiguous. Returning False, but in future this will result in an error. Use `array.size > 0` to check that an array is not empty.\n",
      "  if diff:\n",
      "/Library/Frameworks/Python.framework/Versions/3.6/lib/python3.6/site-packages/sklearn/preprocessing/label.py:151: DeprecationWarning: The truth value of an empty array is ambiguous. Returning False, but in future this will result in an error. Use `array.size > 0` to check that an array is not empty.\n",
      "  if diff:\n"
     ]
    },
    {
     "name": "stdout",
     "output_type": "stream",
     "text": [
      "[9]\tvalid_0's binary_logloss: 0.362676\tvalid_0's auc: 0.860517\n",
      "[10]\tvalid_0's binary_logloss: 0.35871\tvalid_0's auc: 0.862251\n",
      "[11]\tvalid_0's binary_logloss: 0.355538\tvalid_0's auc: 0.863223\n",
      "[12]\tvalid_0's binary_logloss: 0.353808\tvalid_0's auc: 0.863083\n",
      "[13]\tvalid_0's binary_logloss: 0.352163\tvalid_0's auc: 0.863531\n",
      "[14]\tvalid_0's binary_logloss: 0.35042\tvalid_0's auc: 0.864071\n",
      "[15]\tvalid_0's binary_logloss: 0.348977\tvalid_0's auc: 0.864364\n",
      "[16]\tvalid_0's binary_logloss: 0.34801\tvalid_0's auc: 0.864326\n",
      "[17]\tvalid_0's binary_logloss: 0.346386\tvalid_0's auc: 0.865191\n",
      "[18]\tvalid_0's binary_logloss: 0.347144\tvalid_0's auc: 0.864319\n",
      "[19]\tvalid_0's binary_logloss: 0.345506\tvalid_0's auc: 0.865665\n",
      "Did not meet early stopping. Best iteration is:\n",
      "[19]\tvalid_0's binary_logloss: 0.345506\tvalid_0's auc: 0.865665\n"
     ]
    },
    {
     "name": "stderr",
     "output_type": "stream",
     "text": [
      "/Library/Frameworks/Python.framework/Versions/3.6/lib/python3.6/site-packages/sklearn/preprocessing/label.py:151: DeprecationWarning: The truth value of an empty array is ambiguous. Returning False, but in future this will result in an error. Use `array.size > 0` to check that an array is not empty.\n",
      "  if diff:\n",
      "/Library/Frameworks/Python.framework/Versions/3.6/lib/python3.6/site-packages/sklearn/preprocessing/label.py:151: DeprecationWarning: The truth value of an empty array is ambiguous. Returning False, but in future this will result in an error. Use `array.size > 0` to check that an array is not empty.\n",
      "  if diff:\n"
     ]
    },
    {
     "name": "stdout",
     "output_type": "stream",
     "text": [
      "[1]\tvalid_0's binary_logloss: 0.459887\tvalid_0's auc: 0.823479\n",
      "Training until validation scores don't improve for 5 rounds.\n",
      "[2]\tvalid_0's binary_logloss: 0.436216\tvalid_0's auc: 0.831456\n",
      "[3]\tvalid_0's binary_logloss: 0.414702\tvalid_0's auc: 0.845546\n",
      "[4]\tvalid_0's binary_logloss: 0.40096\tvalid_0's auc: 0.848371\n",
      "[5]\tvalid_0's binary_logloss: 0.389086\tvalid_0's auc: 0.853413\n",
      "[6]\tvalid_0's binary_logloss: 0.380115\tvalid_0's auc: 0.856361\n",
      "[7]\tvalid_0's binary_logloss: 0.372435\tvalid_0's auc: 0.858771\n",
      "[8]\tvalid_0's binary_logloss: 0.366426\tvalid_0's auc: 0.860077\n",
      "[9]\tvalid_0's binary_logloss: 0.362651\tvalid_0's auc: 0.860324\n",
      "[10]\tvalid_0's binary_logloss: 0.360384\tvalid_0's auc: 0.859852\n",
      "[11]\tvalid_0's binary_logloss: 0.357934\tvalid_0's auc: 0.859966\n",
      "[12]\tvalid_0's binary_logloss: 0.355637\tvalid_0's auc: 0.860892\n",
      "[13]\tvalid_0's binary_logloss: 0.353871\tvalid_0's auc: 0.861482\n",
      "[14]\tvalid_0's binary_logloss: 0.352328\tvalid_0's auc: 0.86141\n",
      "[15]\tvalid_0's binary_logloss: 0.351764\tvalid_0's auc: 0.861515\n",
      "[16]\tvalid_0's binary_logloss: 0.351084\tvalid_0's auc: 0.86142\n",
      "[17]\tvalid_0's binary_logloss: 0.350361\tvalid_0's auc: 0.861445\n",
      "[18]\tvalid_0's binary_logloss: 0.34936\tvalid_0's auc: 0.862178\n",
      "[19]\tvalid_0's binary_logloss: 0.348833\tvalid_0's auc: 0.862477\n",
      "Did not meet early stopping. Best iteration is:\n",
      "[19]\tvalid_0's binary_logloss: 0.348833\tvalid_0's auc: 0.862477\n",
      "[1]\tvalid_0's binary_logloss: 0.458461\tvalid_0's auc: 0.823169\n",
      "Training until validation scores don't improve for 5 rounds.\n",
      "[2]\tvalid_0's binary_logloss: 0.433326\tvalid_0's auc: 0.843733\n",
      "[3]\tvalid_0's binary_logloss: 0.415095\tvalid_0's auc: 0.847954\n",
      "[4]\tvalid_0's binary_logloss: 0.401069\tvalid_0's auc: 0.85177\n",
      "[5]\tvalid_0's binary_logloss: 0.390741\tvalid_0's auc: 0.850838\n"
     ]
    },
    {
     "name": "stderr",
     "output_type": "stream",
     "text": [
      "/Library/Frameworks/Python.framework/Versions/3.6/lib/python3.6/site-packages/sklearn/preprocessing/label.py:151: DeprecationWarning: The truth value of an empty array is ambiguous. Returning False, but in future this will result in an error. Use `array.size > 0` to check that an array is not empty.\n",
      "  if diff:\n",
      "/Library/Frameworks/Python.framework/Versions/3.6/lib/python3.6/site-packages/sklearn/preprocessing/label.py:151: DeprecationWarning: The truth value of an empty array is ambiguous. Returning False, but in future this will result in an error. Use `array.size > 0` to check that an array is not empty.\n",
      "  if diff:\n"
     ]
    },
    {
     "name": "stdout",
     "output_type": "stream",
     "text": [
      "[6]\tvalid_0's binary_logloss: 0.381083\tvalid_0's auc: 0.853615\n",
      "[7]\tvalid_0's binary_logloss: 0.374776\tvalid_0's auc: 0.853981\n",
      "[8]\tvalid_0's binary_logloss: 0.370176\tvalid_0's auc: 0.855969\n",
      "[9]\tvalid_0's binary_logloss: 0.366033\tvalid_0's auc: 0.856636\n",
      "[10]\tvalid_0's binary_logloss: 0.361979\tvalid_0's auc: 0.85768\n",
      "[11]\tvalid_0's binary_logloss: 0.358376\tvalid_0's auc: 0.859935\n",
      "[12]\tvalid_0's binary_logloss: 0.356067\tvalid_0's auc: 0.860775\n",
      "[13]\tvalid_0's binary_logloss: 0.35379\tvalid_0's auc: 0.861684\n",
      "[14]\tvalid_0's binary_logloss: 0.352978\tvalid_0's auc: 0.861719\n",
      "[15]\tvalid_0's binary_logloss: 0.351963\tvalid_0's auc: 0.862147\n",
      "[16]\tvalid_0's binary_logloss: 0.350528\tvalid_0's auc: 0.863095\n",
      "[17]\tvalid_0's binary_logloss: 0.350694\tvalid_0's auc: 0.862138\n",
      "[18]\tvalid_0's binary_logloss: 0.350057\tvalid_0's auc: 0.862213\n",
      "[19]\tvalid_0's binary_logloss: 0.349538\tvalid_0's auc: 0.862299\n",
      "Did not meet early stopping. Best iteration is:\n",
      "[19]\tvalid_0's binary_logloss: 0.349538\tvalid_0's auc: 0.862299\n"
     ]
    },
    {
     "name": "stderr",
     "output_type": "stream",
     "text": [
      "/Library/Frameworks/Python.framework/Versions/3.6/lib/python3.6/site-packages/sklearn/preprocessing/label.py:151: DeprecationWarning: The truth value of an empty array is ambiguous. Returning False, but in future this will result in an error. Use `array.size > 0` to check that an array is not empty.\n",
      "  if diff:\n",
      "/Library/Frameworks/Python.framework/Versions/3.6/lib/python3.6/site-packages/sklearn/preprocessing/label.py:151: DeprecationWarning: The truth value of an empty array is ambiguous. Returning False, but in future this will result in an error. Use `array.size > 0` to check that an array is not empty.\n",
      "  if diff:\n"
     ]
    },
    {
     "name": "stdout",
     "output_type": "stream",
     "text": [
      "[1]\tvalid_0's binary_logloss: 0.456757\tvalid_0's auc: 0.837907\n",
      "Training until validation scores don't improve for 5 rounds.\n",
      "[2]\tvalid_0's binary_logloss: 0.43164\tvalid_0's auc: 0.846713\n",
      "[3]\tvalid_0's binary_logloss: 0.413301\tvalid_0's auc: 0.850762\n",
      "[4]\tvalid_0's binary_logloss: 0.398873\tvalid_0's auc: 0.853548\n",
      "[5]\tvalid_0's binary_logloss: 0.387124\tvalid_0's auc: 0.856063\n",
      "[6]\tvalid_0's binary_logloss: 0.378236\tvalid_0's auc: 0.85889\n",
      "[7]\tvalid_0's binary_logloss: 0.371447\tvalid_0's auc: 0.86083\n",
      "[8]\tvalid_0's binary_logloss: 0.366323\tvalid_0's auc: 0.861126\n",
      "[9]\tvalid_0's binary_logloss: 0.362676\tvalid_0's auc: 0.860517\n",
      "[10]\tvalid_0's binary_logloss: 0.35871\tvalid_0's auc: 0.862251\n",
      "[11]\tvalid_0's binary_logloss: 0.355538\tvalid_0's auc: 0.863223\n",
      "[12]\tvalid_0's binary_logloss: 0.353808\tvalid_0's auc: 0.863083\n",
      "[13]\tvalid_0's binary_logloss: 0.352163\tvalid_0's auc: 0.863531\n",
      "[14]\tvalid_0's binary_logloss: 0.35042\tvalid_0's auc: 0.864071\n",
      "[15]\tvalid_0's binary_logloss: 0.348977\tvalid_0's auc: 0.864364\n",
      "[16]\tvalid_0's binary_logloss: 0.34801\tvalid_0's auc: 0.864326\n",
      "[17]\tvalid_0's binary_logloss: 0.346386\tvalid_0's auc: 0.865191\n",
      "[18]\tvalid_0's binary_logloss: 0.347144\tvalid_0's auc: 0.864319\n",
      "[19]\tvalid_0's binary_logloss: 0.345506\tvalid_0's auc: 0.865665\n",
      "[20]\tvalid_0's binary_logloss: 0.344853\tvalid_0's auc: 0.866085\n",
      "[21]\tvalid_0's binary_logloss: 0.344349\tvalid_0's auc: 0.866935\n",
      "[22]\tvalid_0's binary_logloss: 0.344485\tvalid_0's auc: 0.866455\n",
      "Did not meet early stopping. Best iteration is:\n",
      "[21]\tvalid_0's binary_logloss: 0.344349\tvalid_0's auc: 0.866935\n",
      "[1]\tvalid_0's binary_logloss: 0.459887\tvalid_0's auc: 0.823479\n",
      "Training until validation scores don't improve for 5 rounds.\n",
      "[2]\tvalid_0's binary_logloss: 0.436216\tvalid_0's auc: 0.831456\n"
     ]
    },
    {
     "name": "stderr",
     "output_type": "stream",
     "text": [
      "/Library/Frameworks/Python.framework/Versions/3.6/lib/python3.6/site-packages/sklearn/preprocessing/label.py:151: DeprecationWarning: The truth value of an empty array is ambiguous. Returning False, but in future this will result in an error. Use `array.size > 0` to check that an array is not empty.\n",
      "  if diff:\n",
      "/Library/Frameworks/Python.framework/Versions/3.6/lib/python3.6/site-packages/sklearn/preprocessing/label.py:151: DeprecationWarning: The truth value of an empty array is ambiguous. Returning False, but in future this will result in an error. Use `array.size > 0` to check that an array is not empty.\n",
      "  if diff:\n"
     ]
    },
    {
     "name": "stdout",
     "output_type": "stream",
     "text": [
      "[3]\tvalid_0's binary_logloss: 0.414702\tvalid_0's auc: 0.845546\n",
      "[4]\tvalid_0's binary_logloss: 0.40096\tvalid_0's auc: 0.848371\n",
      "[5]\tvalid_0's binary_logloss: 0.389086\tvalid_0's auc: 0.853413\n",
      "[6]\tvalid_0's binary_logloss: 0.380115\tvalid_0's auc: 0.856361\n",
      "[7]\tvalid_0's binary_logloss: 0.372435\tvalid_0's auc: 0.858771\n",
      "[8]\tvalid_0's binary_logloss: 0.366426\tvalid_0's auc: 0.860077\n",
      "[9]\tvalid_0's binary_logloss: 0.362651\tvalid_0's auc: 0.860324\n",
      "[10]\tvalid_0's binary_logloss: 0.360384\tvalid_0's auc: 0.859852\n",
      "[11]\tvalid_0's binary_logloss: 0.357934\tvalid_0's auc: 0.859966\n",
      "[12]\tvalid_0's binary_logloss: 0.355637\tvalid_0's auc: 0.860892\n",
      "[13]\tvalid_0's binary_logloss: 0.353871\tvalid_0's auc: 0.861482\n",
      "[14]\tvalid_0's binary_logloss: 0.352328\tvalid_0's auc: 0.86141\n",
      "[15]\tvalid_0's binary_logloss: 0.351764\tvalid_0's auc: 0.861515\n",
      "[16]\tvalid_0's binary_logloss: 0.351084\tvalid_0's auc: 0.86142\n",
      "[17]\tvalid_0's binary_logloss: 0.350361\tvalid_0's auc: 0.861445\n",
      "[18]\tvalid_0's binary_logloss: 0.34936\tvalid_0's auc: 0.862178\n",
      "[19]\tvalid_0's binary_logloss: 0.348833\tvalid_0's auc: 0.862477\n",
      "[20]\tvalid_0's binary_logloss: 0.347922\tvalid_0's auc: 0.863156\n",
      "[21]\tvalid_0's binary_logloss: 0.347461\tvalid_0's auc: 0.863284\n",
      "[22]\tvalid_0's binary_logloss: 0.348411\tvalid_0's auc: 0.862432\n",
      "Did not meet early stopping. Best iteration is:\n",
      "[21]\tvalid_0's binary_logloss: 0.347461\tvalid_0's auc: 0.863284\n",
      "[1]\tvalid_0's binary_logloss: 0.458461\tvalid_0's auc: 0.823169\n",
      "Training until validation scores don't improve for 5 rounds.\n",
      "[2]\tvalid_0's binary_logloss: 0.433326\tvalid_0's auc: 0.843733\n",
      "[3]\tvalid_0's binary_logloss: 0.415095\tvalid_0's auc: 0.847954\n",
      "[4]\tvalid_0's binary_logloss: 0.401069\tvalid_0's auc: 0.85177\n"
     ]
    },
    {
     "name": "stderr",
     "output_type": "stream",
     "text": [
      "/Library/Frameworks/Python.framework/Versions/3.6/lib/python3.6/site-packages/sklearn/preprocessing/label.py:151: DeprecationWarning: The truth value of an empty array is ambiguous. Returning False, but in future this will result in an error. Use `array.size > 0` to check that an array is not empty.\n",
      "  if diff:\n",
      "/Library/Frameworks/Python.framework/Versions/3.6/lib/python3.6/site-packages/sklearn/preprocessing/label.py:151: DeprecationWarning: The truth value of an empty array is ambiguous. Returning False, but in future this will result in an error. Use `array.size > 0` to check that an array is not empty.\n",
      "  if diff:\n"
     ]
    },
    {
     "name": "stdout",
     "output_type": "stream",
     "text": [
      "[5]\tvalid_0's binary_logloss: 0.390741\tvalid_0's auc: 0.850838\n",
      "[6]\tvalid_0's binary_logloss: 0.381083\tvalid_0's auc: 0.853615\n",
      "[7]\tvalid_0's binary_logloss: 0.374776\tvalid_0's auc: 0.853981\n",
      "[8]\tvalid_0's binary_logloss: 0.370176\tvalid_0's auc: 0.855969\n",
      "[9]\tvalid_0's binary_logloss: 0.366033\tvalid_0's auc: 0.856636\n",
      "[10]\tvalid_0's binary_logloss: 0.361979\tvalid_0's auc: 0.85768\n",
      "[11]\tvalid_0's binary_logloss: 0.358376\tvalid_0's auc: 0.859935\n",
      "[12]\tvalid_0's binary_logloss: 0.356067\tvalid_0's auc: 0.860775\n",
      "[13]\tvalid_0's binary_logloss: 0.35379\tvalid_0's auc: 0.861684\n",
      "[14]\tvalid_0's binary_logloss: 0.352978\tvalid_0's auc: 0.861719\n",
      "[15]\tvalid_0's binary_logloss: 0.351963\tvalid_0's auc: 0.862147\n",
      "[16]\tvalid_0's binary_logloss: 0.350528\tvalid_0's auc: 0.863095\n",
      "[17]\tvalid_0's binary_logloss: 0.350694\tvalid_0's auc: 0.862138\n",
      "[18]\tvalid_0's binary_logloss: 0.350057\tvalid_0's auc: 0.862213\n",
      "[19]\tvalid_0's binary_logloss: 0.349538\tvalid_0's auc: 0.862299\n",
      "[20]\tvalid_0's binary_logloss: 0.349528\tvalid_0's auc: 0.862283\n",
      "[21]\tvalid_0's binary_logloss: 0.348954\tvalid_0's auc: 0.862898\n",
      "Early stopping, best iteration is:\n",
      "[16]\tvalid_0's binary_logloss: 0.350528\tvalid_0's auc: 0.863095\n",
      "[1]\tvalid_0's binary_logloss: 0.456757\tvalid_0's auc: 0.837907\n",
      "Training until validation scores don't improve for 5 rounds.\n",
      "[2]\tvalid_0's binary_logloss: 0.43164\tvalid_0's auc: 0.846713\n",
      "[3]\tvalid_0's binary_logloss: 0.413301\tvalid_0's auc: 0.850762\n",
      "[4]\tvalid_0's binary_logloss: 0.398873\tvalid_0's auc: 0.853548\n",
      "[5]\tvalid_0's binary_logloss: 0.387124\tvalid_0's auc: 0.856063\n",
      "[6]\tvalid_0's binary_logloss: 0.378236\tvalid_0's auc: 0.85889\n",
      "[7]\tvalid_0's binary_logloss: 0.371447\tvalid_0's auc: 0.86083\n"
     ]
    },
    {
     "name": "stderr",
     "output_type": "stream",
     "text": [
      "/Library/Frameworks/Python.framework/Versions/3.6/lib/python3.6/site-packages/sklearn/preprocessing/label.py:151: DeprecationWarning: The truth value of an empty array is ambiguous. Returning False, but in future this will result in an error. Use `array.size > 0` to check that an array is not empty.\n",
      "  if diff:\n",
      "/Library/Frameworks/Python.framework/Versions/3.6/lib/python3.6/site-packages/sklearn/preprocessing/label.py:151: DeprecationWarning: The truth value of an empty array is ambiguous. Returning False, but in future this will result in an error. Use `array.size > 0` to check that an array is not empty.\n",
      "  if diff:\n"
     ]
    },
    {
     "name": "stdout",
     "output_type": "stream",
     "text": [
      "[8]\tvalid_0's binary_logloss: 0.366323\tvalid_0's auc: 0.861126\n",
      "[9]\tvalid_0's binary_logloss: 0.362676\tvalid_0's auc: 0.860517\n",
      "[10]\tvalid_0's binary_logloss: 0.35871\tvalid_0's auc: 0.862251\n",
      "[11]\tvalid_0's binary_logloss: 0.355538\tvalid_0's auc: 0.863223\n",
      "[12]\tvalid_0's binary_logloss: 0.353808\tvalid_0's auc: 0.863083\n",
      "[13]\tvalid_0's binary_logloss: 0.352163\tvalid_0's auc: 0.863531\n",
      "[14]\tvalid_0's binary_logloss: 0.35042\tvalid_0's auc: 0.864071\n",
      "[15]\tvalid_0's binary_logloss: 0.348977\tvalid_0's auc: 0.864364\n",
      "[16]\tvalid_0's binary_logloss: 0.34801\tvalid_0's auc: 0.864326\n",
      "[17]\tvalid_0's binary_logloss: 0.346386\tvalid_0's auc: 0.865191\n",
      "[18]\tvalid_0's binary_logloss: 0.347144\tvalid_0's auc: 0.864319\n",
      "[19]\tvalid_0's binary_logloss: 0.345506\tvalid_0's auc: 0.865665\n",
      "[20]\tvalid_0's binary_logloss: 0.344853\tvalid_0's auc: 0.866085\n",
      "[21]\tvalid_0's binary_logloss: 0.344349\tvalid_0's auc: 0.866935\n",
      "[22]\tvalid_0's binary_logloss: 0.344485\tvalid_0's auc: 0.866455\n",
      "[23]\tvalid_0's binary_logloss: 0.343968\tvalid_0's auc: 0.866807\n",
      "[24]\tvalid_0's binary_logloss: 0.343285\tvalid_0's auc: 0.867137\n",
      "[25]\tvalid_0's binary_logloss: 0.343333\tvalid_0's auc: 0.867139\n",
      "Did not meet early stopping. Best iteration is:\n",
      "[24]\tvalid_0's binary_logloss: 0.343285\tvalid_0's auc: 0.867137\n",
      "[1]\tvalid_0's binary_logloss: 0.459887\tvalid_0's auc: 0.823479\n",
      "Training until validation scores don't improve for 5 rounds.\n",
      "[2]\tvalid_0's binary_logloss: 0.436216\tvalid_0's auc: 0.831456\n",
      "[3]\tvalid_0's binary_logloss: 0.414702\tvalid_0's auc: 0.845546\n",
      "[4]\tvalid_0's binary_logloss: 0.40096\tvalid_0's auc: 0.848371\n",
      "[5]\tvalid_0's binary_logloss: 0.389086\tvalid_0's auc: 0.853413\n"
     ]
    },
    {
     "name": "stderr",
     "output_type": "stream",
     "text": [
      "/Library/Frameworks/Python.framework/Versions/3.6/lib/python3.6/site-packages/sklearn/preprocessing/label.py:151: DeprecationWarning: The truth value of an empty array is ambiguous. Returning False, but in future this will result in an error. Use `array.size > 0` to check that an array is not empty.\n",
      "  if diff:\n",
      "/Library/Frameworks/Python.framework/Versions/3.6/lib/python3.6/site-packages/sklearn/preprocessing/label.py:151: DeprecationWarning: The truth value of an empty array is ambiguous. Returning False, but in future this will result in an error. Use `array.size > 0` to check that an array is not empty.\n",
      "  if diff:\n"
     ]
    },
    {
     "name": "stdout",
     "output_type": "stream",
     "text": [
      "[6]\tvalid_0's binary_logloss: 0.380115\tvalid_0's auc: 0.856361\n",
      "[7]\tvalid_0's binary_logloss: 0.372435\tvalid_0's auc: 0.858771\n",
      "[8]\tvalid_0's binary_logloss: 0.366426\tvalid_0's auc: 0.860077\n",
      "[9]\tvalid_0's binary_logloss: 0.362651\tvalid_0's auc: 0.860324\n",
      "[10]\tvalid_0's binary_logloss: 0.360384\tvalid_0's auc: 0.859852\n",
      "[11]\tvalid_0's binary_logloss: 0.357934\tvalid_0's auc: 0.859966\n",
      "[12]\tvalid_0's binary_logloss: 0.355637\tvalid_0's auc: 0.860892\n",
      "[13]\tvalid_0's binary_logloss: 0.353871\tvalid_0's auc: 0.861482\n",
      "[14]\tvalid_0's binary_logloss: 0.352328\tvalid_0's auc: 0.86141\n",
      "[15]\tvalid_0's binary_logloss: 0.351764\tvalid_0's auc: 0.861515\n",
      "[16]\tvalid_0's binary_logloss: 0.351084\tvalid_0's auc: 0.86142\n",
      "[17]\tvalid_0's binary_logloss: 0.350361\tvalid_0's auc: 0.861445\n",
      "[18]\tvalid_0's binary_logloss: 0.34936\tvalid_0's auc: 0.862178\n",
      "[19]\tvalid_0's binary_logloss: 0.348833\tvalid_0's auc: 0.862477\n",
      "[20]\tvalid_0's binary_logloss: 0.347922\tvalid_0's auc: 0.863156\n",
      "[21]\tvalid_0's binary_logloss: 0.347461\tvalid_0's auc: 0.863284\n",
      "[22]\tvalid_0's binary_logloss: 0.348411\tvalid_0's auc: 0.862432\n",
      "[23]\tvalid_0's binary_logloss: 0.348525\tvalid_0's auc: 0.862255\n",
      "[24]\tvalid_0's binary_logloss: 0.348822\tvalid_0's auc: 0.862239\n",
      "[25]\tvalid_0's binary_logloss: 0.348954\tvalid_0's auc: 0.862607\n",
      "Did not meet early stopping. Best iteration is:\n",
      "[21]\tvalid_0's binary_logloss: 0.347461\tvalid_0's auc: 0.863284\n",
      "[1]\tvalid_0's binary_logloss: 0.458461\tvalid_0's auc: 0.823169\n",
      "Training until validation scores don't improve for 5 rounds.\n",
      "[2]\tvalid_0's binary_logloss: 0.433326\tvalid_0's auc: 0.843733\n",
      "[3]\tvalid_0's binary_logloss: 0.415095\tvalid_0's auc: 0.847954\n",
      "[4]\tvalid_0's binary_logloss: 0.401069\tvalid_0's auc: 0.85177\n"
     ]
    },
    {
     "name": "stderr",
     "output_type": "stream",
     "text": [
      "/Library/Frameworks/Python.framework/Versions/3.6/lib/python3.6/site-packages/sklearn/preprocessing/label.py:151: DeprecationWarning: The truth value of an empty array is ambiguous. Returning False, but in future this will result in an error. Use `array.size > 0` to check that an array is not empty.\n",
      "  if diff:\n",
      "/Library/Frameworks/Python.framework/Versions/3.6/lib/python3.6/site-packages/sklearn/preprocessing/label.py:151: DeprecationWarning: The truth value of an empty array is ambiguous. Returning False, but in future this will result in an error. Use `array.size > 0` to check that an array is not empty.\n",
      "  if diff:\n"
     ]
    },
    {
     "name": "stdout",
     "output_type": "stream",
     "text": [
      "[5]\tvalid_0's binary_logloss: 0.390741\tvalid_0's auc: 0.850838\n",
      "[6]\tvalid_0's binary_logloss: 0.381083\tvalid_0's auc: 0.853615\n",
      "[7]\tvalid_0's binary_logloss: 0.374776\tvalid_0's auc: 0.853981\n",
      "[8]\tvalid_0's binary_logloss: 0.370176\tvalid_0's auc: 0.855969\n",
      "[9]\tvalid_0's binary_logloss: 0.366033\tvalid_0's auc: 0.856636\n",
      "[10]\tvalid_0's binary_logloss: 0.361979\tvalid_0's auc: 0.85768\n",
      "[11]\tvalid_0's binary_logloss: 0.358376\tvalid_0's auc: 0.859935\n",
      "[12]\tvalid_0's binary_logloss: 0.356067\tvalid_0's auc: 0.860775\n",
      "[13]\tvalid_0's binary_logloss: 0.35379\tvalid_0's auc: 0.861684\n",
      "[14]\tvalid_0's binary_logloss: 0.352978\tvalid_0's auc: 0.861719\n",
      "[15]\tvalid_0's binary_logloss: 0.351963\tvalid_0's auc: 0.862147\n",
      "[16]\tvalid_0's binary_logloss: 0.350528\tvalid_0's auc: 0.863095\n",
      "[17]\tvalid_0's binary_logloss: 0.350694\tvalid_0's auc: 0.862138\n",
      "[18]\tvalid_0's binary_logloss: 0.350057\tvalid_0's auc: 0.862213\n",
      "[19]\tvalid_0's binary_logloss: 0.349538\tvalid_0's auc: 0.862299\n",
      "[20]\tvalid_0's binary_logloss: 0.349528\tvalid_0's auc: 0.862283\n",
      "[21]\tvalid_0's binary_logloss: 0.348954\tvalid_0's auc: 0.862898\n",
      "Early stopping, best iteration is:\n",
      "[16]\tvalid_0's binary_logloss: 0.350528\tvalid_0's auc: 0.863095\n",
      "[1]\tvalid_0's binary_logloss: 0.456757\tvalid_0's auc: 0.837907\n",
      "Training until validation scores don't improve for 5 rounds.\n",
      "[2]\tvalid_0's binary_logloss: 0.43164\tvalid_0's auc: 0.846713\n",
      "[3]\tvalid_0's binary_logloss: 0.413301\tvalid_0's auc: 0.850762\n",
      "[4]\tvalid_0's binary_logloss: 0.398873\tvalid_0's auc: 0.853548\n",
      "[5]\tvalid_0's binary_logloss: 0.387124\tvalid_0's auc: 0.856063\n",
      "[6]\tvalid_0's binary_logloss: 0.378236\tvalid_0's auc: 0.85889\n",
      "[7]\tvalid_0's binary_logloss: 0.371447\tvalid_0's auc: 0.86083\n"
     ]
    },
    {
     "name": "stderr",
     "output_type": "stream",
     "text": [
      "/Library/Frameworks/Python.framework/Versions/3.6/lib/python3.6/site-packages/sklearn/preprocessing/label.py:151: DeprecationWarning: The truth value of an empty array is ambiguous. Returning False, but in future this will result in an error. Use `array.size > 0` to check that an array is not empty.\n",
      "  if diff:\n",
      "/Library/Frameworks/Python.framework/Versions/3.6/lib/python3.6/site-packages/sklearn/preprocessing/label.py:151: DeprecationWarning: The truth value of an empty array is ambiguous. Returning False, but in future this will result in an error. Use `array.size > 0` to check that an array is not empty.\n",
      "  if diff:\n"
     ]
    },
    {
     "name": "stdout",
     "output_type": "stream",
     "text": [
      "[8]\tvalid_0's binary_logloss: 0.366323\tvalid_0's auc: 0.861126\n",
      "[9]\tvalid_0's binary_logloss: 0.362676\tvalid_0's auc: 0.860517\n",
      "[10]\tvalid_0's binary_logloss: 0.35871\tvalid_0's auc: 0.862251\n",
      "[11]\tvalid_0's binary_logloss: 0.355538\tvalid_0's auc: 0.863223\n",
      "[12]\tvalid_0's binary_logloss: 0.353808\tvalid_0's auc: 0.863083\n",
      "[13]\tvalid_0's binary_logloss: 0.352163\tvalid_0's auc: 0.863531\n",
      "[14]\tvalid_0's binary_logloss: 0.35042\tvalid_0's auc: 0.864071\n",
      "[15]\tvalid_0's binary_logloss: 0.348977\tvalid_0's auc: 0.864364\n",
      "[16]\tvalid_0's binary_logloss: 0.34801\tvalid_0's auc: 0.864326\n",
      "[17]\tvalid_0's binary_logloss: 0.346386\tvalid_0's auc: 0.865191\n",
      "[18]\tvalid_0's binary_logloss: 0.347144\tvalid_0's auc: 0.864319\n",
      "[19]\tvalid_0's binary_logloss: 0.345506\tvalid_0's auc: 0.865665\n",
      "[20]\tvalid_0's binary_logloss: 0.344853\tvalid_0's auc: 0.866085\n",
      "[21]\tvalid_0's binary_logloss: 0.344349\tvalid_0's auc: 0.866935\n",
      "[22]\tvalid_0's binary_logloss: 0.344485\tvalid_0's auc: 0.866455\n",
      "[23]\tvalid_0's binary_logloss: 0.343968\tvalid_0's auc: 0.866807\n",
      "[24]\tvalid_0's binary_logloss: 0.343285\tvalid_0's auc: 0.867137\n",
      "[25]\tvalid_0's binary_logloss: 0.343333\tvalid_0's auc: 0.867139\n",
      "[26]\tvalid_0's binary_logloss: 0.343782\tvalid_0's auc: 0.866298\n",
      "[27]\tvalid_0's binary_logloss: 0.343926\tvalid_0's auc: 0.866028\n",
      "[28]\tvalid_0's binary_logloss: 0.344281\tvalid_0's auc: 0.865844\n",
      "Did not meet early stopping. Best iteration is:\n",
      "[24]\tvalid_0's binary_logloss: 0.343285\tvalid_0's auc: 0.867137\n",
      "[1]\tvalid_0's binary_logloss: 0.459887\tvalid_0's auc: 0.823479\n",
      "Training until validation scores don't improve for 5 rounds.\n",
      "[2]\tvalid_0's binary_logloss: 0.436216\tvalid_0's auc: 0.831456\n",
      "[3]\tvalid_0's binary_logloss: 0.414702\tvalid_0's auc: 0.845546\n"
     ]
    },
    {
     "name": "stderr",
     "output_type": "stream",
     "text": [
      "/Library/Frameworks/Python.framework/Versions/3.6/lib/python3.6/site-packages/sklearn/preprocessing/label.py:151: DeprecationWarning: The truth value of an empty array is ambiguous. Returning False, but in future this will result in an error. Use `array.size > 0` to check that an array is not empty.\n",
      "  if diff:\n",
      "/Library/Frameworks/Python.framework/Versions/3.6/lib/python3.6/site-packages/sklearn/preprocessing/label.py:151: DeprecationWarning: The truth value of an empty array is ambiguous. Returning False, but in future this will result in an error. Use `array.size > 0` to check that an array is not empty.\n",
      "  if diff:\n"
     ]
    },
    {
     "name": "stdout",
     "output_type": "stream",
     "text": [
      "[4]\tvalid_0's binary_logloss: 0.40096\tvalid_0's auc: 0.848371\n",
      "[5]\tvalid_0's binary_logloss: 0.389086\tvalid_0's auc: 0.853413\n",
      "[6]\tvalid_0's binary_logloss: 0.380115\tvalid_0's auc: 0.856361\n",
      "[7]\tvalid_0's binary_logloss: 0.372435\tvalid_0's auc: 0.858771\n",
      "[8]\tvalid_0's binary_logloss: 0.366426\tvalid_0's auc: 0.860077\n",
      "[9]\tvalid_0's binary_logloss: 0.362651\tvalid_0's auc: 0.860324\n",
      "[10]\tvalid_0's binary_logloss: 0.360384\tvalid_0's auc: 0.859852\n",
      "[11]\tvalid_0's binary_logloss: 0.357934\tvalid_0's auc: 0.859966\n",
      "[12]\tvalid_0's binary_logloss: 0.355637\tvalid_0's auc: 0.860892\n",
      "[13]\tvalid_0's binary_logloss: 0.353871\tvalid_0's auc: 0.861482\n",
      "[14]\tvalid_0's binary_logloss: 0.352328\tvalid_0's auc: 0.86141\n",
      "[15]\tvalid_0's binary_logloss: 0.351764\tvalid_0's auc: 0.861515\n",
      "[16]\tvalid_0's binary_logloss: 0.351084\tvalid_0's auc: 0.86142\n",
      "[17]\tvalid_0's binary_logloss: 0.350361\tvalid_0's auc: 0.861445\n",
      "[18]\tvalid_0's binary_logloss: 0.34936\tvalid_0's auc: 0.862178\n",
      "[19]\tvalid_0's binary_logloss: 0.348833\tvalid_0's auc: 0.862477\n",
      "[20]\tvalid_0's binary_logloss: 0.347922\tvalid_0's auc: 0.863156\n",
      "[21]\tvalid_0's binary_logloss: 0.347461\tvalid_0's auc: 0.863284\n",
      "[22]\tvalid_0's binary_logloss: 0.348411\tvalid_0's auc: 0.862432\n",
      "[23]\tvalid_0's binary_logloss: 0.348525\tvalid_0's auc: 0.862255\n",
      "[24]\tvalid_0's binary_logloss: 0.348822\tvalid_0's auc: 0.862239\n",
      "[25]\tvalid_0's binary_logloss: 0.348954\tvalid_0's auc: 0.862607\n",
      "[26]\tvalid_0's binary_logloss: 0.350221\tvalid_0's auc: 0.86184\n",
      "Early stopping, best iteration is:\n",
      "[21]\tvalid_0's binary_logloss: 0.347461\tvalid_0's auc: 0.863284\n",
      "[1]\tvalid_0's binary_logloss: 0.458461\tvalid_0's auc: 0.823169\n",
      "Training until validation scores don't improve for 5 rounds.\n"
     ]
    },
    {
     "name": "stderr",
     "output_type": "stream",
     "text": [
      "/Library/Frameworks/Python.framework/Versions/3.6/lib/python3.6/site-packages/sklearn/preprocessing/label.py:151: DeprecationWarning: The truth value of an empty array is ambiguous. Returning False, but in future this will result in an error. Use `array.size > 0` to check that an array is not empty.\n",
      "  if diff:\n",
      "/Library/Frameworks/Python.framework/Versions/3.6/lib/python3.6/site-packages/sklearn/preprocessing/label.py:151: DeprecationWarning: The truth value of an empty array is ambiguous. Returning False, but in future this will result in an error. Use `array.size > 0` to check that an array is not empty.\n",
      "  if diff:\n"
     ]
    },
    {
     "name": "stdout",
     "output_type": "stream",
     "text": [
      "[2]\tvalid_0's binary_logloss: 0.433326\tvalid_0's auc: 0.843733\n",
      "[3]\tvalid_0's binary_logloss: 0.415095\tvalid_0's auc: 0.847954\n",
      "[4]\tvalid_0's binary_logloss: 0.401069\tvalid_0's auc: 0.85177\n",
      "[5]\tvalid_0's binary_logloss: 0.390741\tvalid_0's auc: 0.850838\n",
      "[6]\tvalid_0's binary_logloss: 0.381083\tvalid_0's auc: 0.853615\n",
      "[7]\tvalid_0's binary_logloss: 0.374776\tvalid_0's auc: 0.853981\n",
      "[8]\tvalid_0's binary_logloss: 0.370176\tvalid_0's auc: 0.855969\n",
      "[9]\tvalid_0's binary_logloss: 0.366033\tvalid_0's auc: 0.856636\n",
      "[10]\tvalid_0's binary_logloss: 0.361979\tvalid_0's auc: 0.85768\n",
      "[11]\tvalid_0's binary_logloss: 0.358376\tvalid_0's auc: 0.859935\n",
      "[12]\tvalid_0's binary_logloss: 0.356067\tvalid_0's auc: 0.860775\n",
      "[13]\tvalid_0's binary_logloss: 0.35379\tvalid_0's auc: 0.861684\n",
      "[14]\tvalid_0's binary_logloss: 0.352978\tvalid_0's auc: 0.861719\n",
      "[15]\tvalid_0's binary_logloss: 0.351963\tvalid_0's auc: 0.862147\n",
      "[16]\tvalid_0's binary_logloss: 0.350528\tvalid_0's auc: 0.863095\n",
      "[17]\tvalid_0's binary_logloss: 0.350694\tvalid_0's auc: 0.862138\n",
      "[18]\tvalid_0's binary_logloss: 0.350057\tvalid_0's auc: 0.862213\n",
      "[19]\tvalid_0's binary_logloss: 0.349538\tvalid_0's auc: 0.862299\n",
      "[20]\tvalid_0's binary_logloss: 0.349528\tvalid_0's auc: 0.862283\n",
      "[21]\tvalid_0's binary_logloss: 0.348954\tvalid_0's auc: 0.862898\n",
      "Early stopping, best iteration is:\n",
      "[16]\tvalid_0's binary_logloss: 0.350528\tvalid_0's auc: 0.863095\n",
      "[1]\tvalid_0's binary_logloss: 0.456757\tvalid_0's auc: 0.837907\n",
      "Training until validation scores don't improve for 5 rounds.\n",
      "[2]\tvalid_0's binary_logloss: 0.43164\tvalid_0's auc: 0.846713\n",
      "[3]\tvalid_0's binary_logloss: 0.413301\tvalid_0's auc: 0.850762\n",
      "[4]\tvalid_0's binary_logloss: 0.398873\tvalid_0's auc: 0.853548\n"
     ]
    },
    {
     "name": "stderr",
     "output_type": "stream",
     "text": [
      "/Library/Frameworks/Python.framework/Versions/3.6/lib/python3.6/site-packages/sklearn/preprocessing/label.py:151: DeprecationWarning: The truth value of an empty array is ambiguous. Returning False, but in future this will result in an error. Use `array.size > 0` to check that an array is not empty.\n",
      "  if diff:\n",
      "/Library/Frameworks/Python.framework/Versions/3.6/lib/python3.6/site-packages/sklearn/preprocessing/label.py:151: DeprecationWarning: The truth value of an empty array is ambiguous. Returning False, but in future this will result in an error. Use `array.size > 0` to check that an array is not empty.\n",
      "  if diff:\n"
     ]
    },
    {
     "name": "stdout",
     "output_type": "stream",
     "text": [
      "[5]\tvalid_0's binary_logloss: 0.387124\tvalid_0's auc: 0.856063\n",
      "[6]\tvalid_0's binary_logloss: 0.378236\tvalid_0's auc: 0.85889\n",
      "[7]\tvalid_0's binary_logloss: 0.371447\tvalid_0's auc: 0.86083\n",
      "[8]\tvalid_0's binary_logloss: 0.366323\tvalid_0's auc: 0.861126\n",
      "[9]\tvalid_0's binary_logloss: 0.362676\tvalid_0's auc: 0.860517\n",
      "[10]\tvalid_0's binary_logloss: 0.35871\tvalid_0's auc: 0.862251\n",
      "[11]\tvalid_0's binary_logloss: 0.355538\tvalid_0's auc: 0.863223\n",
      "[12]\tvalid_0's binary_logloss: 0.353808\tvalid_0's auc: 0.863083\n",
      "[13]\tvalid_0's binary_logloss: 0.352163\tvalid_0's auc: 0.863531\n",
      "[14]\tvalid_0's binary_logloss: 0.35042\tvalid_0's auc: 0.864071\n",
      "[15]\tvalid_0's binary_logloss: 0.348977\tvalid_0's auc: 0.864364\n",
      "[16]\tvalid_0's binary_logloss: 0.34801\tvalid_0's auc: 0.864326\n",
      "[17]\tvalid_0's binary_logloss: 0.346386\tvalid_0's auc: 0.865191\n",
      "[18]\tvalid_0's binary_logloss: 0.347144\tvalid_0's auc: 0.864319\n",
      "[19]\tvalid_0's binary_logloss: 0.345506\tvalid_0's auc: 0.865665\n",
      "[20]\tvalid_0's binary_logloss: 0.344853\tvalid_0's auc: 0.866085\n",
      "[21]\tvalid_0's binary_logloss: 0.344349\tvalid_0's auc: 0.866935\n",
      "[22]\tvalid_0's binary_logloss: 0.344485\tvalid_0's auc: 0.866455\n",
      "[23]\tvalid_0's binary_logloss: 0.343968\tvalid_0's auc: 0.866807\n",
      "[24]\tvalid_0's binary_logloss: 0.343285\tvalid_0's auc: 0.867137\n",
      "[25]\tvalid_0's binary_logloss: 0.343333\tvalid_0's auc: 0.867139\n",
      "[26]\tvalid_0's binary_logloss: 0.343782\tvalid_0's auc: 0.866298\n",
      "[27]\tvalid_0's binary_logloss: 0.343926\tvalid_0's auc: 0.866028\n",
      "[28]\tvalid_0's binary_logloss: 0.344281\tvalid_0's auc: 0.865844\n",
      "[29]\tvalid_0's binary_logloss: 0.345233\tvalid_0's auc: 0.865145\n",
      "Early stopping, best iteration is:\n",
      "[24]\tvalid_0's binary_logloss: 0.343285\tvalid_0's auc: 0.867137\n"
     ]
    },
    {
     "name": "stderr",
     "output_type": "stream",
     "text": [
      "/Library/Frameworks/Python.framework/Versions/3.6/lib/python3.6/site-packages/sklearn/preprocessing/label.py:151: DeprecationWarning: The truth value of an empty array is ambiguous. Returning False, but in future this will result in an error. Use `array.size > 0` to check that an array is not empty.\n",
      "  if diff:\n",
      "/Library/Frameworks/Python.framework/Versions/3.6/lib/python3.6/site-packages/sklearn/preprocessing/label.py:151: DeprecationWarning: The truth value of an empty array is ambiguous. Returning False, but in future this will result in an error. Use `array.size > 0` to check that an array is not empty.\n",
      "  if diff:\n"
     ]
    },
    {
     "name": "stdout",
     "output_type": "stream",
     "text": [
      "[1]\tvalid_0's binary_logloss: 0.459887\tvalid_0's auc: 0.823479\n",
      "Training until validation scores don't improve for 5 rounds.\n",
      "[2]\tvalid_0's binary_logloss: 0.436216\tvalid_0's auc: 0.831456\n",
      "[3]\tvalid_0's binary_logloss: 0.414702\tvalid_0's auc: 0.845546\n",
      "[4]\tvalid_0's binary_logloss: 0.40096\tvalid_0's auc: 0.848371\n",
      "[5]\tvalid_0's binary_logloss: 0.389086\tvalid_0's auc: 0.853413\n",
      "[6]\tvalid_0's binary_logloss: 0.380115\tvalid_0's auc: 0.856361\n",
      "[7]\tvalid_0's binary_logloss: 0.372435\tvalid_0's auc: 0.858771\n",
      "[8]\tvalid_0's binary_logloss: 0.366426\tvalid_0's auc: 0.860077\n",
      "[9]\tvalid_0's binary_logloss: 0.362651\tvalid_0's auc: 0.860324\n",
      "[10]\tvalid_0's binary_logloss: 0.360384\tvalid_0's auc: 0.859852\n",
      "[11]\tvalid_0's binary_logloss: 0.357934\tvalid_0's auc: 0.859966\n",
      "[12]\tvalid_0's binary_logloss: 0.355637\tvalid_0's auc: 0.860892\n",
      "[13]\tvalid_0's binary_logloss: 0.353871\tvalid_0's auc: 0.861482\n",
      "[14]\tvalid_0's binary_logloss: 0.352328\tvalid_0's auc: 0.86141\n",
      "[15]\tvalid_0's binary_logloss: 0.351764\tvalid_0's auc: 0.861515\n",
      "[16]\tvalid_0's binary_logloss: 0.351084\tvalid_0's auc: 0.86142\n",
      "[17]\tvalid_0's binary_logloss: 0.350361\tvalid_0's auc: 0.861445\n",
      "[18]\tvalid_0's binary_logloss: 0.34936\tvalid_0's auc: 0.862178\n",
      "[19]\tvalid_0's binary_logloss: 0.348833\tvalid_0's auc: 0.862477\n",
      "[20]\tvalid_0's binary_logloss: 0.347922\tvalid_0's auc: 0.863156\n",
      "[21]\tvalid_0's binary_logloss: 0.347461\tvalid_0's auc: 0.863284\n",
      "[22]\tvalid_0's binary_logloss: 0.348411\tvalid_0's auc: 0.862432\n",
      "[23]\tvalid_0's binary_logloss: 0.348525\tvalid_0's auc: 0.862255\n",
      "[24]\tvalid_0's binary_logloss: 0.348822\tvalid_0's auc: 0.862239\n",
      "[25]\tvalid_0's binary_logloss: 0.348954\tvalid_0's auc: 0.862607\n",
      "[26]\tvalid_0's binary_logloss: 0.350221\tvalid_0's auc: 0.86184\n",
      "Early stopping, best iteration is:\n",
      "[21]\tvalid_0's binary_logloss: 0.347461\tvalid_0's auc: 0.863284\n"
     ]
    },
    {
     "name": "stderr",
     "output_type": "stream",
     "text": [
      "/Library/Frameworks/Python.framework/Versions/3.6/lib/python3.6/site-packages/sklearn/preprocessing/label.py:151: DeprecationWarning: The truth value of an empty array is ambiguous. Returning False, but in future this will result in an error. Use `array.size > 0` to check that an array is not empty.\n",
      "  if diff:\n",
      "/Library/Frameworks/Python.framework/Versions/3.6/lib/python3.6/site-packages/sklearn/preprocessing/label.py:151: DeprecationWarning: The truth value of an empty array is ambiguous. Returning False, but in future this will result in an error. Use `array.size > 0` to check that an array is not empty.\n",
      "  if diff:\n"
     ]
    },
    {
     "name": "stdout",
     "output_type": "stream",
     "text": [
      "[1]\tvalid_0's binary_logloss: 0.458461\tvalid_0's auc: 0.823169\n",
      "Training until validation scores don't improve for 5 rounds.\n",
      "[2]\tvalid_0's binary_logloss: 0.433326\tvalid_0's auc: 0.843733\n",
      "[3]\tvalid_0's binary_logloss: 0.415095\tvalid_0's auc: 0.847954\n",
      "[4]\tvalid_0's binary_logloss: 0.401069\tvalid_0's auc: 0.85177\n",
      "[5]\tvalid_0's binary_logloss: 0.390741\tvalid_0's auc: 0.850838\n",
      "[6]\tvalid_0's binary_logloss: 0.381083\tvalid_0's auc: 0.853615\n",
      "[7]\tvalid_0's binary_logloss: 0.374776\tvalid_0's auc: 0.853981\n",
      "[8]\tvalid_0's binary_logloss: 0.370176\tvalid_0's auc: 0.855969\n",
      "[9]\tvalid_0's binary_logloss: 0.366033\tvalid_0's auc: 0.856636\n",
      "[10]\tvalid_0's binary_logloss: 0.361979\tvalid_0's auc: 0.85768\n",
      "[11]\tvalid_0's binary_logloss: 0.358376\tvalid_0's auc: 0.859935\n",
      "[12]\tvalid_0's binary_logloss: 0.356067\tvalid_0's auc: 0.860775\n",
      "[13]\tvalid_0's binary_logloss: 0.35379\tvalid_0's auc: 0.861684\n",
      "[14]\tvalid_0's binary_logloss: 0.352978\tvalid_0's auc: 0.861719\n",
      "[15]\tvalid_0's binary_logloss: 0.351963\tvalid_0's auc: 0.862147\n",
      "[16]\tvalid_0's binary_logloss: 0.350528\tvalid_0's auc: 0.863095\n",
      "[17]\tvalid_0's binary_logloss: 0.350694\tvalid_0's auc: 0.862138\n",
      "[18]\tvalid_0's binary_logloss: 0.350057\tvalid_0's auc: 0.862213\n",
      "[19]\tvalid_0's binary_logloss: 0.349538\tvalid_0's auc: 0.862299\n",
      "[20]\tvalid_0's binary_logloss: 0.349528\tvalid_0's auc: 0.862283\n",
      "[21]\tvalid_0's binary_logloss: 0.348954\tvalid_0's auc: 0.862898\n",
      "Early stopping, best iteration is:\n",
      "[16]\tvalid_0's binary_logloss: 0.350528\tvalid_0's auc: 0.863095\n",
      "[1]\tvalid_0's binary_logloss: 0.456757\tvalid_0's auc: 0.837907\n",
      "Training until validation scores don't improve for 5 rounds.\n",
      "[2]\tvalid_0's binary_logloss: 0.43164\tvalid_0's auc: 0.846713\n",
      "[3]\tvalid_0's binary_logloss: 0.413301\tvalid_0's auc: 0.850762\n",
      "[4]\tvalid_0's binary_logloss: 0.398873\tvalid_0's auc: 0.853548\n"
     ]
    },
    {
     "name": "stderr",
     "output_type": "stream",
     "text": [
      "/Library/Frameworks/Python.framework/Versions/3.6/lib/python3.6/site-packages/sklearn/preprocessing/label.py:151: DeprecationWarning: The truth value of an empty array is ambiguous. Returning False, but in future this will result in an error. Use `array.size > 0` to check that an array is not empty.\n",
      "  if diff:\n",
      "/Library/Frameworks/Python.framework/Versions/3.6/lib/python3.6/site-packages/sklearn/preprocessing/label.py:151: DeprecationWarning: The truth value of an empty array is ambiguous. Returning False, but in future this will result in an error. Use `array.size > 0` to check that an array is not empty.\n",
      "  if diff:\n"
     ]
    },
    {
     "name": "stdout",
     "output_type": "stream",
     "text": [
      "[5]\tvalid_0's binary_logloss: 0.387124\tvalid_0's auc: 0.856063\n",
      "[6]\tvalid_0's binary_logloss: 0.378236\tvalid_0's auc: 0.85889\n",
      "[7]\tvalid_0's binary_logloss: 0.371447\tvalid_0's auc: 0.86083\n",
      "[8]\tvalid_0's binary_logloss: 0.366323\tvalid_0's auc: 0.861126\n",
      "[9]\tvalid_0's binary_logloss: 0.362676\tvalid_0's auc: 0.860517\n",
      "[10]\tvalid_0's binary_logloss: 0.35871\tvalid_0's auc: 0.862251\n",
      "[11]\tvalid_0's binary_logloss: 0.355538\tvalid_0's auc: 0.863223\n",
      "[12]\tvalid_0's binary_logloss: 0.353808\tvalid_0's auc: 0.863083\n",
      "[13]\tvalid_0's binary_logloss: 0.352163\tvalid_0's auc: 0.863531\n",
      "[14]\tvalid_0's binary_logloss: 0.35042\tvalid_0's auc: 0.864071\n",
      "[15]\tvalid_0's binary_logloss: 0.348977\tvalid_0's auc: 0.864364\n",
      "[16]\tvalid_0's binary_logloss: 0.34801\tvalid_0's auc: 0.864326\n",
      "[17]\tvalid_0's binary_logloss: 0.346386\tvalid_0's auc: 0.865191\n",
      "[18]\tvalid_0's binary_logloss: 0.347144\tvalid_0's auc: 0.864319\n",
      "[19]\tvalid_0's binary_logloss: 0.345506\tvalid_0's auc: 0.865665\n",
      "[20]\tvalid_0's binary_logloss: 0.344853\tvalid_0's auc: 0.866085\n",
      "[21]\tvalid_0's binary_logloss: 0.344349\tvalid_0's auc: 0.866935\n",
      "[22]\tvalid_0's binary_logloss: 0.344485\tvalid_0's auc: 0.866455\n",
      "[23]\tvalid_0's binary_logloss: 0.343968\tvalid_0's auc: 0.866807\n",
      "[24]\tvalid_0's binary_logloss: 0.343285\tvalid_0's auc: 0.867137\n",
      "[25]\tvalid_0's binary_logloss: 0.343333\tvalid_0's auc: 0.867139\n",
      "[26]\tvalid_0's binary_logloss: 0.343782\tvalid_0's auc: 0.866298\n",
      "[27]\tvalid_0's binary_logloss: 0.343926\tvalid_0's auc: 0.866028\n",
      "[28]\tvalid_0's binary_logloss: 0.344281\tvalid_0's auc: 0.865844\n",
      "[29]\tvalid_0's binary_logloss: 0.345233\tvalid_0's auc: 0.865145\n",
      "Early stopping, best iteration is:\n",
      "[24]\tvalid_0's binary_logloss: 0.343285\tvalid_0's auc: 0.867137\n",
      "[1]\tvalid_0's binary_logloss: 0.459887\tvalid_0's auc: 0.823479\n",
      "Training until validation scores don't improve for 5 rounds.\n"
     ]
    },
    {
     "name": "stderr",
     "output_type": "stream",
     "text": [
      "/Library/Frameworks/Python.framework/Versions/3.6/lib/python3.6/site-packages/sklearn/preprocessing/label.py:151: DeprecationWarning: The truth value of an empty array is ambiguous. Returning False, but in future this will result in an error. Use `array.size > 0` to check that an array is not empty.\n",
      "  if diff:\n",
      "/Library/Frameworks/Python.framework/Versions/3.6/lib/python3.6/site-packages/sklearn/preprocessing/label.py:151: DeprecationWarning: The truth value of an empty array is ambiguous. Returning False, but in future this will result in an error. Use `array.size > 0` to check that an array is not empty.\n",
      "  if diff:\n"
     ]
    },
    {
     "name": "stdout",
     "output_type": "stream",
     "text": [
      "[2]\tvalid_0's binary_logloss: 0.436216\tvalid_0's auc: 0.831456\n",
      "[3]\tvalid_0's binary_logloss: 0.414702\tvalid_0's auc: 0.845546\n",
      "[4]\tvalid_0's binary_logloss: 0.40096\tvalid_0's auc: 0.848371\n",
      "[5]\tvalid_0's binary_logloss: 0.389086\tvalid_0's auc: 0.853413\n",
      "[6]\tvalid_0's binary_logloss: 0.380115\tvalid_0's auc: 0.856361\n",
      "[7]\tvalid_0's binary_logloss: 0.372435\tvalid_0's auc: 0.858771\n",
      "[8]\tvalid_0's binary_logloss: 0.366426\tvalid_0's auc: 0.860077\n",
      "[9]\tvalid_0's binary_logloss: 0.362651\tvalid_0's auc: 0.860324\n",
      "[10]\tvalid_0's binary_logloss: 0.360384\tvalid_0's auc: 0.859852\n",
      "[11]\tvalid_0's binary_logloss: 0.357934\tvalid_0's auc: 0.859966\n",
      "[12]\tvalid_0's binary_logloss: 0.355637\tvalid_0's auc: 0.860892\n",
      "[13]\tvalid_0's binary_logloss: 0.353871\tvalid_0's auc: 0.861482\n",
      "[14]\tvalid_0's binary_logloss: 0.352328\tvalid_0's auc: 0.86141\n",
      "[15]\tvalid_0's binary_logloss: 0.351764\tvalid_0's auc: 0.861515\n",
      "[16]\tvalid_0's binary_logloss: 0.351084\tvalid_0's auc: 0.86142\n",
      "[17]\tvalid_0's binary_logloss: 0.350361\tvalid_0's auc: 0.861445\n",
      "[18]\tvalid_0's binary_logloss: 0.34936\tvalid_0's auc: 0.862178\n",
      "[19]\tvalid_0's binary_logloss: 0.348833\tvalid_0's auc: 0.862477\n",
      "[20]\tvalid_0's binary_logloss: 0.347922\tvalid_0's auc: 0.863156\n",
      "[21]\tvalid_0's binary_logloss: 0.347461\tvalid_0's auc: 0.863284\n",
      "[22]\tvalid_0's binary_logloss: 0.348411\tvalid_0's auc: 0.862432\n",
      "[23]\tvalid_0's binary_logloss: 0.348525\tvalid_0's auc: 0.862255\n",
      "[24]\tvalid_0's binary_logloss: 0.348822\tvalid_0's auc: 0.862239\n",
      "[25]\tvalid_0's binary_logloss: 0.348954\tvalid_0's auc: 0.862607\n",
      "[26]\tvalid_0's binary_logloss: 0.350221\tvalid_0's auc: 0.86184\n",
      "Early stopping, best iteration is:\n",
      "[21]\tvalid_0's binary_logloss: 0.347461\tvalid_0's auc: 0.863284\n"
     ]
    },
    {
     "name": "stderr",
     "output_type": "stream",
     "text": [
      "/Library/Frameworks/Python.framework/Versions/3.6/lib/python3.6/site-packages/sklearn/preprocessing/label.py:151: DeprecationWarning: The truth value of an empty array is ambiguous. Returning False, but in future this will result in an error. Use `array.size > 0` to check that an array is not empty.\n",
      "  if diff:\n",
      "/Library/Frameworks/Python.framework/Versions/3.6/lib/python3.6/site-packages/sklearn/preprocessing/label.py:151: DeprecationWarning: The truth value of an empty array is ambiguous. Returning False, but in future this will result in an error. Use `array.size > 0` to check that an array is not empty.\n",
      "  if diff:\n"
     ]
    },
    {
     "name": "stdout",
     "output_type": "stream",
     "text": [
      "[1]\tvalid_0's binary_logloss: 0.458461\tvalid_0's auc: 0.823169\n",
      "Training until validation scores don't improve for 5 rounds.\n",
      "[2]\tvalid_0's binary_logloss: 0.433326\tvalid_0's auc: 0.843733\n",
      "[3]\tvalid_0's binary_logloss: 0.415095\tvalid_0's auc: 0.847954\n",
      "[4]\tvalid_0's binary_logloss: 0.401069\tvalid_0's auc: 0.85177\n",
      "[5]\tvalid_0's binary_logloss: 0.390741\tvalid_0's auc: 0.850838\n",
      "[6]\tvalid_0's binary_logloss: 0.381083\tvalid_0's auc: 0.853615\n",
      "[7]\tvalid_0's binary_logloss: 0.374776\tvalid_0's auc: 0.853981\n",
      "[8]\tvalid_0's binary_logloss: 0.370176\tvalid_0's auc: 0.855969\n",
      "[9]\tvalid_0's binary_logloss: 0.366033\tvalid_0's auc: 0.856636\n",
      "[10]\tvalid_0's binary_logloss: 0.361979\tvalid_0's auc: 0.85768\n",
      "[11]\tvalid_0's binary_logloss: 0.358376\tvalid_0's auc: 0.859935\n",
      "[12]\tvalid_0's binary_logloss: 0.356067\tvalid_0's auc: 0.860775\n",
      "[13]\tvalid_0's binary_logloss: 0.35379\tvalid_0's auc: 0.861684\n",
      "[14]\tvalid_0's binary_logloss: 0.352978\tvalid_0's auc: 0.861719\n",
      "[15]\tvalid_0's binary_logloss: 0.351963\tvalid_0's auc: 0.862147\n",
      "[16]\tvalid_0's binary_logloss: 0.350528\tvalid_0's auc: 0.863095\n",
      "[17]\tvalid_0's binary_logloss: 0.350694\tvalid_0's auc: 0.862138\n",
      "[18]\tvalid_0's binary_logloss: 0.350057\tvalid_0's auc: 0.862213\n",
      "[19]\tvalid_0's binary_logloss: 0.349538\tvalid_0's auc: 0.862299\n",
      "[20]\tvalid_0's binary_logloss: 0.349528\tvalid_0's auc: 0.862283\n",
      "[21]\tvalid_0's binary_logloss: 0.348954\tvalid_0's auc: 0.862898\n",
      "Early stopping, best iteration is:\n",
      "[16]\tvalid_0's binary_logloss: 0.350528\tvalid_0's auc: 0.863095\n",
      "[1]\tvalid_0's binary_logloss: 0.456757\tvalid_0's auc: 0.837907\n",
      "Training until validation scores don't improve for 5 rounds.\n",
      "[2]\tvalid_0's binary_logloss: 0.43164\tvalid_0's auc: 0.846713\n",
      "[3]\tvalid_0's binary_logloss: 0.413301\tvalid_0's auc: 0.850762\n"
     ]
    },
    {
     "name": "stderr",
     "output_type": "stream",
     "text": [
      "/Library/Frameworks/Python.framework/Versions/3.6/lib/python3.6/site-packages/sklearn/preprocessing/label.py:151: DeprecationWarning: The truth value of an empty array is ambiguous. Returning False, but in future this will result in an error. Use `array.size > 0` to check that an array is not empty.\n",
      "  if diff:\n",
      "/Library/Frameworks/Python.framework/Versions/3.6/lib/python3.6/site-packages/sklearn/preprocessing/label.py:151: DeprecationWarning: The truth value of an empty array is ambiguous. Returning False, but in future this will result in an error. Use `array.size > 0` to check that an array is not empty.\n",
      "  if diff:\n"
     ]
    },
    {
     "name": "stdout",
     "output_type": "stream",
     "text": [
      "[4]\tvalid_0's binary_logloss: 0.398873\tvalid_0's auc: 0.853548\n",
      "[5]\tvalid_0's binary_logloss: 0.387124\tvalid_0's auc: 0.856063\n",
      "[6]\tvalid_0's binary_logloss: 0.378236\tvalid_0's auc: 0.85889\n",
      "[7]\tvalid_0's binary_logloss: 0.371447\tvalid_0's auc: 0.86083\n",
      "[8]\tvalid_0's binary_logloss: 0.366323\tvalid_0's auc: 0.861126\n",
      "[9]\tvalid_0's binary_logloss: 0.362676\tvalid_0's auc: 0.860517\n",
      "[10]\tvalid_0's binary_logloss: 0.35871\tvalid_0's auc: 0.862251\n",
      "[11]\tvalid_0's binary_logloss: 0.355538\tvalid_0's auc: 0.863223\n",
      "[12]\tvalid_0's binary_logloss: 0.353808\tvalid_0's auc: 0.863083\n",
      "[13]\tvalid_0's binary_logloss: 0.352163\tvalid_0's auc: 0.863531\n",
      "[14]\tvalid_0's binary_logloss: 0.35042\tvalid_0's auc: 0.864071\n",
      "[15]\tvalid_0's binary_logloss: 0.348977\tvalid_0's auc: 0.864364\n",
      "[16]\tvalid_0's binary_logloss: 0.34801\tvalid_0's auc: 0.864326\n",
      "[17]\tvalid_0's binary_logloss: 0.346386\tvalid_0's auc: 0.865191\n",
      "[18]\tvalid_0's binary_logloss: 0.347144\tvalid_0's auc: 0.864319\n",
      "[19]\tvalid_0's binary_logloss: 0.345506\tvalid_0's auc: 0.865665\n",
      "[20]\tvalid_0's binary_logloss: 0.344853\tvalid_0's auc: 0.866085\n",
      "[21]\tvalid_0's binary_logloss: 0.344349\tvalid_0's auc: 0.866935\n",
      "[22]\tvalid_0's binary_logloss: 0.344485\tvalid_0's auc: 0.866455\n",
      "[23]\tvalid_0's binary_logloss: 0.343968\tvalid_0's auc: 0.866807\n",
      "[24]\tvalid_0's binary_logloss: 0.343285\tvalid_0's auc: 0.867137\n",
      "[25]\tvalid_0's binary_logloss: 0.343333\tvalid_0's auc: 0.867139\n",
      "[26]\tvalid_0's binary_logloss: 0.343782\tvalid_0's auc: 0.866298\n",
      "[27]\tvalid_0's binary_logloss: 0.343926\tvalid_0's auc: 0.866028\n",
      "[28]\tvalid_0's binary_logloss: 0.344281\tvalid_0's auc: 0.865844\n",
      "[29]\tvalid_0's binary_logloss: 0.345233\tvalid_0's auc: 0.865145\n",
      "Early stopping, best iteration is:\n",
      "[24]\tvalid_0's binary_logloss: 0.343285\tvalid_0's auc: 0.867137\n"
     ]
    },
    {
     "name": "stderr",
     "output_type": "stream",
     "text": [
      "/Library/Frameworks/Python.framework/Versions/3.6/lib/python3.6/site-packages/sklearn/preprocessing/label.py:151: DeprecationWarning: The truth value of an empty array is ambiguous. Returning False, but in future this will result in an error. Use `array.size > 0` to check that an array is not empty.\n",
      "  if diff:\n",
      "/Library/Frameworks/Python.framework/Versions/3.6/lib/python3.6/site-packages/sklearn/preprocessing/label.py:151: DeprecationWarning: The truth value of an empty array is ambiguous. Returning False, but in future this will result in an error. Use `array.size > 0` to check that an array is not empty.\n",
      "  if diff:\n"
     ]
    },
    {
     "name": "stdout",
     "output_type": "stream",
     "text": [
      "[1]\tvalid_0's binary_logloss: 0.459887\tvalid_0's auc: 0.823479\n",
      "Training until validation scores don't improve for 5 rounds.\n",
      "[2]\tvalid_0's binary_logloss: 0.436216\tvalid_0's auc: 0.831456\n",
      "[3]\tvalid_0's binary_logloss: 0.414702\tvalid_0's auc: 0.845546\n",
      "[4]\tvalid_0's binary_logloss: 0.40096\tvalid_0's auc: 0.848371\n",
      "[5]\tvalid_0's binary_logloss: 0.389086\tvalid_0's auc: 0.853413\n",
      "[6]\tvalid_0's binary_logloss: 0.380115\tvalid_0's auc: 0.856361\n",
      "[7]\tvalid_0's binary_logloss: 0.372435\tvalid_0's auc: 0.858771\n",
      "[8]\tvalid_0's binary_logloss: 0.366426\tvalid_0's auc: 0.860077\n",
      "[9]\tvalid_0's binary_logloss: 0.362651\tvalid_0's auc: 0.860324\n",
      "[10]\tvalid_0's binary_logloss: 0.360384\tvalid_0's auc: 0.859852\n",
      "[11]\tvalid_0's binary_logloss: 0.357934\tvalid_0's auc: 0.859966\n",
      "[12]\tvalid_0's binary_logloss: 0.355637\tvalid_0's auc: 0.860892\n",
      "[13]\tvalid_0's binary_logloss: 0.353871\tvalid_0's auc: 0.861482\n",
      "[14]\tvalid_0's binary_logloss: 0.352328\tvalid_0's auc: 0.86141\n",
      "[15]\tvalid_0's binary_logloss: 0.351764\tvalid_0's auc: 0.861515\n",
      "[16]\tvalid_0's binary_logloss: 0.351084\tvalid_0's auc: 0.86142\n",
      "[17]\tvalid_0's binary_logloss: 0.350361\tvalid_0's auc: 0.861445\n",
      "[18]\tvalid_0's binary_logloss: 0.34936\tvalid_0's auc: 0.862178\n",
      "[19]\tvalid_0's binary_logloss: 0.348833\tvalid_0's auc: 0.862477\n",
      "[20]\tvalid_0's binary_logloss: 0.347922\tvalid_0's auc: 0.863156\n",
      "[21]\tvalid_0's binary_logloss: 0.347461\tvalid_0's auc: 0.863284\n",
      "[22]\tvalid_0's binary_logloss: 0.348411\tvalid_0's auc: 0.862432\n",
      "[23]\tvalid_0's binary_logloss: 0.348525\tvalid_0's auc: 0.862255\n",
      "[24]\tvalid_0's binary_logloss: 0.348822\tvalid_0's auc: 0.862239\n",
      "[25]\tvalid_0's binary_logloss: 0.348954\tvalid_0's auc: 0.862607\n",
      "[26]\tvalid_0's binary_logloss: 0.350221\tvalid_0's auc: 0.86184\n",
      "Early stopping, best iteration is:\n",
      "[21]\tvalid_0's binary_logloss: 0.347461\tvalid_0's auc: 0.863284\n"
     ]
    },
    {
     "name": "stderr",
     "output_type": "stream",
     "text": [
      "/Library/Frameworks/Python.framework/Versions/3.6/lib/python3.6/site-packages/sklearn/preprocessing/label.py:151: DeprecationWarning: The truth value of an empty array is ambiguous. Returning False, but in future this will result in an error. Use `array.size > 0` to check that an array is not empty.\n",
      "  if diff:\n",
      "/Library/Frameworks/Python.framework/Versions/3.6/lib/python3.6/site-packages/sklearn/preprocessing/label.py:151: DeprecationWarning: The truth value of an empty array is ambiguous. Returning False, but in future this will result in an error. Use `array.size > 0` to check that an array is not empty.\n",
      "  if diff:\n"
     ]
    },
    {
     "name": "stdout",
     "output_type": "stream",
     "text": [
      "[1]\tvalid_0's binary_logloss: 0.458461\tvalid_0's auc: 0.823169\n",
      "Training until validation scores don't improve for 5 rounds.\n",
      "[2]\tvalid_0's binary_logloss: 0.433326\tvalid_0's auc: 0.843733\n",
      "[3]\tvalid_0's binary_logloss: 0.415095\tvalid_0's auc: 0.847954\n",
      "[4]\tvalid_0's binary_logloss: 0.401069\tvalid_0's auc: 0.85177\n",
      "[5]\tvalid_0's binary_logloss: 0.390741\tvalid_0's auc: 0.850838\n",
      "[6]\tvalid_0's binary_logloss: 0.381083\tvalid_0's auc: 0.853615\n",
      "[7]\tvalid_0's binary_logloss: 0.374776\tvalid_0's auc: 0.853981\n",
      "[8]\tvalid_0's binary_logloss: 0.370176\tvalid_0's auc: 0.855969\n",
      "[9]\tvalid_0's binary_logloss: 0.366033\tvalid_0's auc: 0.856636\n",
      "[10]\tvalid_0's binary_logloss: 0.361979\tvalid_0's auc: 0.85768\n",
      "[11]\tvalid_0's binary_logloss: 0.358376\tvalid_0's auc: 0.859935\n",
      "[12]\tvalid_0's binary_logloss: 0.356067\tvalid_0's auc: 0.860775\n",
      "[13]\tvalid_0's binary_logloss: 0.35379\tvalid_0's auc: 0.861684\n",
      "[14]\tvalid_0's binary_logloss: 0.352978\tvalid_0's auc: 0.861719\n",
      "[15]\tvalid_0's binary_logloss: 0.351963\tvalid_0's auc: 0.862147\n",
      "[16]\tvalid_0's binary_logloss: 0.350528\tvalid_0's auc: 0.863095\n",
      "[17]\tvalid_0's binary_logloss: 0.350694\tvalid_0's auc: 0.862138\n",
      "[18]\tvalid_0's binary_logloss: 0.350057\tvalid_0's auc: 0.862213\n",
      "[19]\tvalid_0's binary_logloss: 0.349538\tvalid_0's auc: 0.862299\n",
      "[20]\tvalid_0's binary_logloss: 0.349528\tvalid_0's auc: 0.862283\n",
      "[21]\tvalid_0's binary_logloss: 0.348954\tvalid_0's auc: 0.862898\n",
      "Early stopping, best iteration is:\n",
      "[16]\tvalid_0's binary_logloss: 0.350528\tvalid_0's auc: 0.863095\n",
      "[1]\tvalid_0's binary_logloss: 0.450677\tvalid_0's auc: 0.837907\n",
      "Training until validation scores don't improve for 5 rounds.\n",
      "[2]\tvalid_0's binary_logloss: 0.42452\tvalid_0's auc: 0.846844\n"
     ]
    },
    {
     "name": "stderr",
     "output_type": "stream",
     "text": [
      "/Library/Frameworks/Python.framework/Versions/3.6/lib/python3.6/site-packages/sklearn/preprocessing/label.py:151: DeprecationWarning: The truth value of an empty array is ambiguous. Returning False, but in future this will result in an error. Use `array.size > 0` to check that an array is not empty.\n",
      "  if diff:\n",
      "/Library/Frameworks/Python.framework/Versions/3.6/lib/python3.6/site-packages/sklearn/preprocessing/label.py:151: DeprecationWarning: The truth value of an empty array is ambiguous. Returning False, but in future this will result in an error. Use `array.size > 0` to check that an array is not empty.\n",
      "  if diff:\n"
     ]
    },
    {
     "name": "stdout",
     "output_type": "stream",
     "text": [
      "[3]\tvalid_0's binary_logloss: 0.40564\tvalid_0's auc: 0.850945\n",
      "[4]\tvalid_0's binary_logloss: 0.389068\tvalid_0's auc: 0.857805\n",
      "[5]\tvalid_0's binary_logloss: 0.378969\tvalid_0's auc: 0.860621\n",
      "[6]\tvalid_0's binary_logloss: 0.370864\tvalid_0's auc: 0.862133\n",
      "[7]\tvalid_0's binary_logloss: 0.365839\tvalid_0's auc: 0.861775\n",
      "[8]\tvalid_0's binary_logloss: 0.362555\tvalid_0's auc: 0.860928\n",
      "[9]\tvalid_0's binary_logloss: 0.359354\tvalid_0's auc: 0.861758\n",
      "[10]\tvalid_0's binary_logloss: 0.35719\tvalid_0's auc: 0.861299\n",
      "Did not meet early stopping. Best iteration is:\n",
      "[10]\tvalid_0's binary_logloss: 0.35719\tvalid_0's auc: 0.861299\n",
      "[1]\tvalid_0's binary_logloss: 0.45435\tvalid_0's auc: 0.823479\n",
      "Training until validation scores don't improve for 5 rounds.\n"
     ]
    },
    {
     "name": "stderr",
     "output_type": "stream",
     "text": [
      "/Library/Frameworks/Python.framework/Versions/3.6/lib/python3.6/site-packages/sklearn/preprocessing/label.py:151: DeprecationWarning: The truth value of an empty array is ambiguous. Returning False, but in future this will result in an error. Use `array.size > 0` to check that an array is not empty.\n",
      "  if diff:\n",
      "/Library/Frameworks/Python.framework/Versions/3.6/lib/python3.6/site-packages/sklearn/preprocessing/label.py:151: DeprecationWarning: The truth value of an empty array is ambiguous. Returning False, but in future this will result in an error. Use `array.size > 0` to check that an array is not empty.\n",
      "  if diff:\n"
     ]
    },
    {
     "name": "stdout",
     "output_type": "stream",
     "text": [
      "[2]\tvalid_0's binary_logloss: 0.426456\tvalid_0's auc: 0.840169\n",
      "[3]\tvalid_0's binary_logloss: 0.407246\tvalid_0's auc: 0.845948\n",
      "[4]\tvalid_0's binary_logloss: 0.391406\tvalid_0's auc: 0.852102\n",
      "[5]\tvalid_0's binary_logloss: 0.381126\tvalid_0's auc: 0.853286\n",
      "[6]\tvalid_0's binary_logloss: 0.371327\tvalid_0's auc: 0.858398\n",
      "[7]\tvalid_0's binary_logloss: 0.365171\tvalid_0's auc: 0.859392\n",
      "[8]\tvalid_0's binary_logloss: 0.360858\tvalid_0's auc: 0.86082\n",
      "[9]\tvalid_0's binary_logloss: 0.356736\tvalid_0's auc: 0.862383\n",
      "[10]\tvalid_0's binary_logloss: 0.353906\tvalid_0's auc: 0.863024\n",
      "Did not meet early stopping. Best iteration is:\n",
      "[10]\tvalid_0's binary_logloss: 0.353906\tvalid_0's auc: 0.863024\n"
     ]
    },
    {
     "name": "stderr",
     "output_type": "stream",
     "text": [
      "/Library/Frameworks/Python.framework/Versions/3.6/lib/python3.6/site-packages/sklearn/preprocessing/label.py:151: DeprecationWarning: The truth value of an empty array is ambiguous. Returning False, but in future this will result in an error. Use `array.size > 0` to check that an array is not empty.\n",
      "  if diff:\n",
      "/Library/Frameworks/Python.framework/Versions/3.6/lib/python3.6/site-packages/sklearn/preprocessing/label.py:151: DeprecationWarning: The truth value of an empty array is ambiguous. Returning False, but in future this will result in an error. Use `array.size > 0` to check that an array is not empty.\n",
      "  if diff:\n"
     ]
    },
    {
     "name": "stdout",
     "output_type": "stream",
     "text": [
      "[1]\tvalid_0's binary_logloss: 0.45271\tvalid_0's auc: 0.823169\n",
      "Training until validation scores don't improve for 5 rounds.\n",
      "[2]\tvalid_0's binary_logloss: 0.424384\tvalid_0's auc: 0.848047\n",
      "[3]\tvalid_0's binary_logloss: 0.405605\tvalid_0's auc: 0.850719\n",
      "[4]\tvalid_0's binary_logloss: 0.390489\tvalid_0's auc: 0.854629\n",
      "[5]\tvalid_0's binary_logloss: 0.380002\tvalid_0's auc: 0.855692\n",
      "[6]\tvalid_0's binary_logloss: 0.372697\tvalid_0's auc: 0.858798\n",
      "[7]\tvalid_0's binary_logloss: 0.365945\tvalid_0's auc: 0.85968\n",
      "[8]\tvalid_0's binary_logloss: 0.361511\tvalid_0's auc: 0.859776\n",
      "[9]\tvalid_0's binary_logloss: 0.358303\tvalid_0's auc: 0.859841\n",
      "[10]\tvalid_0's binary_logloss: 0.355228\tvalid_0's auc: 0.859893\n",
      "Did not meet early stopping. Best iteration is:\n",
      "[10]\tvalid_0's binary_logloss: 0.355228\tvalid_0's auc: 0.859893\n"
     ]
    },
    {
     "name": "stderr",
     "output_type": "stream",
     "text": [
      "/Library/Frameworks/Python.framework/Versions/3.6/lib/python3.6/site-packages/sklearn/preprocessing/label.py:151: DeprecationWarning: The truth value of an empty array is ambiguous. Returning False, but in future this will result in an error. Use `array.size > 0` to check that an array is not empty.\n",
      "  if diff:\n",
      "/Library/Frameworks/Python.framework/Versions/3.6/lib/python3.6/site-packages/sklearn/preprocessing/label.py:151: DeprecationWarning: The truth value of an empty array is ambiguous. Returning False, but in future this will result in an error. Use `array.size > 0` to check that an array is not empty.\n",
      "  if diff:\n"
     ]
    },
    {
     "name": "stdout",
     "output_type": "stream",
     "text": [
      "[1]\tvalid_0's binary_logloss: 0.450677\tvalid_0's auc: 0.837907\n",
      "Training until validation scores don't improve for 5 rounds.\n",
      "[2]\tvalid_0's binary_logloss: 0.42452\tvalid_0's auc: 0.846844\n",
      "[3]\tvalid_0's binary_logloss: 0.40564\tvalid_0's auc: 0.850945\n",
      "[4]\tvalid_0's binary_logloss: 0.389068\tvalid_0's auc: 0.857805\n",
      "[5]\tvalid_0's binary_logloss: 0.378969\tvalid_0's auc: 0.860621\n",
      "[6]\tvalid_0's binary_logloss: 0.370864\tvalid_0's auc: 0.862133\n",
      "[7]\tvalid_0's binary_logloss: 0.365839\tvalid_0's auc: 0.861775\n",
      "[8]\tvalid_0's binary_logloss: 0.362555\tvalid_0's auc: 0.860928\n",
      "[9]\tvalid_0's binary_logloss: 0.359354\tvalid_0's auc: 0.861758\n",
      "[10]\tvalid_0's binary_logloss: 0.35719\tvalid_0's auc: 0.861299\n",
      "[11]\tvalid_0's binary_logloss: 0.357217\tvalid_0's auc: 0.858778\n",
      "Early stopping, best iteration is:\n",
      "[6]\tvalid_0's binary_logloss: 0.370864\tvalid_0's auc: 0.862133\n"
     ]
    },
    {
     "name": "stderr",
     "output_type": "stream",
     "text": [
      "/Library/Frameworks/Python.framework/Versions/3.6/lib/python3.6/site-packages/sklearn/preprocessing/label.py:151: DeprecationWarning: The truth value of an empty array is ambiguous. Returning False, but in future this will result in an error. Use `array.size > 0` to check that an array is not empty.\n",
      "  if diff:\n",
      "/Library/Frameworks/Python.framework/Versions/3.6/lib/python3.6/site-packages/sklearn/preprocessing/label.py:151: DeprecationWarning: The truth value of an empty array is ambiguous. Returning False, but in future this will result in an error. Use `array.size > 0` to check that an array is not empty.\n",
      "  if diff:\n"
     ]
    },
    {
     "name": "stdout",
     "output_type": "stream",
     "text": [
      "[1]\tvalid_0's binary_logloss: 0.45435\tvalid_0's auc: 0.823479\n",
      "Training until validation scores don't improve for 5 rounds.\n",
      "[2]\tvalid_0's binary_logloss: 0.426456\tvalid_0's auc: 0.840169\n",
      "[3]\tvalid_0's binary_logloss: 0.407246\tvalid_0's auc: 0.845948\n",
      "[4]\tvalid_0's binary_logloss: 0.391406\tvalid_0's auc: 0.852102\n",
      "[5]\tvalid_0's binary_logloss: 0.381126\tvalid_0's auc: 0.853286\n",
      "[6]\tvalid_0's binary_logloss: 0.371327\tvalid_0's auc: 0.858398\n",
      "[7]\tvalid_0's binary_logloss: 0.365171\tvalid_0's auc: 0.859392\n",
      "[8]\tvalid_0's binary_logloss: 0.360858\tvalid_0's auc: 0.86082\n",
      "[9]\tvalid_0's binary_logloss: 0.356736\tvalid_0's auc: 0.862383\n",
      "[10]\tvalid_0's binary_logloss: 0.353906\tvalid_0's auc: 0.863024\n",
      "[11]\tvalid_0's binary_logloss: 0.352747\tvalid_0's auc: 0.862393\n",
      "[12]\tvalid_0's binary_logloss: 0.352291\tvalid_0's auc: 0.861002\n",
      "[13]\tvalid_0's binary_logloss: 0.351765\tvalid_0's auc: 0.86099\n",
      "Did not meet early stopping. Best iteration is:\n",
      "[13]\tvalid_0's binary_logloss: 0.351765\tvalid_0's auc: 0.86099\n"
     ]
    },
    {
     "name": "stderr",
     "output_type": "stream",
     "text": [
      "/Library/Frameworks/Python.framework/Versions/3.6/lib/python3.6/site-packages/sklearn/preprocessing/label.py:151: DeprecationWarning: The truth value of an empty array is ambiguous. Returning False, but in future this will result in an error. Use `array.size > 0` to check that an array is not empty.\n",
      "  if diff:\n",
      "/Library/Frameworks/Python.framework/Versions/3.6/lib/python3.6/site-packages/sklearn/preprocessing/label.py:151: DeprecationWarning: The truth value of an empty array is ambiguous. Returning False, but in future this will result in an error. Use `array.size > 0` to check that an array is not empty.\n",
      "  if diff:\n"
     ]
    },
    {
     "name": "stdout",
     "output_type": "stream",
     "text": [
      "[1]\tvalid_0's binary_logloss: 0.45271\tvalid_0's auc: 0.823169\n",
      "Training until validation scores don't improve for 5 rounds.\n",
      "[2]\tvalid_0's binary_logloss: 0.424384\tvalid_0's auc: 0.848047\n",
      "[3]\tvalid_0's binary_logloss: 0.405605\tvalid_0's auc: 0.850719\n",
      "[4]\tvalid_0's binary_logloss: 0.390489\tvalid_0's auc: 0.854629\n",
      "[5]\tvalid_0's binary_logloss: 0.380002\tvalid_0's auc: 0.855692\n",
      "[6]\tvalid_0's binary_logloss: 0.372697\tvalid_0's auc: 0.858798\n",
      "[7]\tvalid_0's binary_logloss: 0.365945\tvalid_0's auc: 0.85968\n",
      "[8]\tvalid_0's binary_logloss: 0.361511\tvalid_0's auc: 0.859776\n",
      "[9]\tvalid_0's binary_logloss: 0.358303\tvalid_0's auc: 0.859841\n",
      "[10]\tvalid_0's binary_logloss: 0.355228\tvalid_0's auc: 0.859893\n",
      "[11]\tvalid_0's binary_logloss: 0.352742\tvalid_0's auc: 0.86096\n",
      "[12]\tvalid_0's binary_logloss: 0.351049\tvalid_0's auc: 0.86126\n",
      "[13]\tvalid_0's binary_logloss: 0.3493\tvalid_0's auc: 0.861886\n",
      "Did not meet early stopping. Best iteration is:\n",
      "[13]\tvalid_0's binary_logloss: 0.3493\tvalid_0's auc: 0.861886\n",
      "[1]\tvalid_0's binary_logloss: 0.450677\tvalid_0's auc: 0.837907\n",
      "Training until validation scores don't improve for 5 rounds.\n",
      "[2]\tvalid_0's binary_logloss: 0.42452\tvalid_0's auc: 0.846844\n",
      "[3]\tvalid_0's binary_logloss: 0.40564\tvalid_0's auc: 0.850945\n",
      "[4]\tvalid_0's binary_logloss: 0.389068\tvalid_0's auc: 0.857805\n",
      "[5]\tvalid_0's binary_logloss: 0.378969\tvalid_0's auc: 0.860621\n"
     ]
    },
    {
     "name": "stderr",
     "output_type": "stream",
     "text": [
      "/Library/Frameworks/Python.framework/Versions/3.6/lib/python3.6/site-packages/sklearn/preprocessing/label.py:151: DeprecationWarning: The truth value of an empty array is ambiguous. Returning False, but in future this will result in an error. Use `array.size > 0` to check that an array is not empty.\n",
      "  if diff:\n",
      "/Library/Frameworks/Python.framework/Versions/3.6/lib/python3.6/site-packages/sklearn/preprocessing/label.py:151: DeprecationWarning: The truth value of an empty array is ambiguous. Returning False, but in future this will result in an error. Use `array.size > 0` to check that an array is not empty.\n",
      "  if diff:\n"
     ]
    },
    {
     "name": "stdout",
     "output_type": "stream",
     "text": [
      "[6]\tvalid_0's binary_logloss: 0.370864\tvalid_0's auc: 0.862133\n",
      "[7]\tvalid_0's binary_logloss: 0.365839\tvalid_0's auc: 0.861775\n",
      "[8]\tvalid_0's binary_logloss: 0.362555\tvalid_0's auc: 0.860928\n",
      "[9]\tvalid_0's binary_logloss: 0.359354\tvalid_0's auc: 0.861758\n",
      "[10]\tvalid_0's binary_logloss: 0.35719\tvalid_0's auc: 0.861299\n",
      "[11]\tvalid_0's binary_logloss: 0.357217\tvalid_0's auc: 0.858778\n",
      "Early stopping, best iteration is:\n",
      "[6]\tvalid_0's binary_logloss: 0.370864\tvalid_0's auc: 0.862133\n",
      "[1]\tvalid_0's binary_logloss: 0.45435\tvalid_0's auc: 0.823479\n",
      "Training until validation scores don't improve for 5 rounds.\n",
      "[2]\tvalid_0's binary_logloss: 0.426456\tvalid_0's auc: 0.840169\n",
      "[3]\tvalid_0's binary_logloss: 0.407246\tvalid_0's auc: 0.845948\n"
     ]
    },
    {
     "name": "stderr",
     "output_type": "stream",
     "text": [
      "/Library/Frameworks/Python.framework/Versions/3.6/lib/python3.6/site-packages/sklearn/preprocessing/label.py:151: DeprecationWarning: The truth value of an empty array is ambiguous. Returning False, but in future this will result in an error. Use `array.size > 0` to check that an array is not empty.\n",
      "  if diff:\n",
      "/Library/Frameworks/Python.framework/Versions/3.6/lib/python3.6/site-packages/sklearn/preprocessing/label.py:151: DeprecationWarning: The truth value of an empty array is ambiguous. Returning False, but in future this will result in an error. Use `array.size > 0` to check that an array is not empty.\n",
      "  if diff:\n"
     ]
    },
    {
     "name": "stdout",
     "output_type": "stream",
     "text": [
      "[4]\tvalid_0's binary_logloss: 0.391406\tvalid_0's auc: 0.852102\n",
      "[5]\tvalid_0's binary_logloss: 0.381126\tvalid_0's auc: 0.853286\n",
      "[6]\tvalid_0's binary_logloss: 0.371327\tvalid_0's auc: 0.858398\n",
      "[7]\tvalid_0's binary_logloss: 0.365171\tvalid_0's auc: 0.859392\n",
      "[8]\tvalid_0's binary_logloss: 0.360858\tvalid_0's auc: 0.86082\n",
      "[9]\tvalid_0's binary_logloss: 0.356736\tvalid_0's auc: 0.862383\n",
      "[10]\tvalid_0's binary_logloss: 0.353906\tvalid_0's auc: 0.863024\n",
      "[11]\tvalid_0's binary_logloss: 0.352747\tvalid_0's auc: 0.862393\n",
      "[12]\tvalid_0's binary_logloss: 0.352291\tvalid_0's auc: 0.861002\n",
      "[13]\tvalid_0's binary_logloss: 0.351765\tvalid_0's auc: 0.86099\n",
      "[14]\tvalid_0's binary_logloss: 0.351072\tvalid_0's auc: 0.860923\n",
      "[15]\tvalid_0's binary_logloss: 0.350538\tvalid_0's auc: 0.860987\n",
      "Early stopping, best iteration is:\n",
      "[10]\tvalid_0's binary_logloss: 0.353906\tvalid_0's auc: 0.863024\n"
     ]
    },
    {
     "name": "stderr",
     "output_type": "stream",
     "text": [
      "/Library/Frameworks/Python.framework/Versions/3.6/lib/python3.6/site-packages/sklearn/preprocessing/label.py:151: DeprecationWarning: The truth value of an empty array is ambiguous. Returning False, but in future this will result in an error. Use `array.size > 0` to check that an array is not empty.\n",
      "  if diff:\n",
      "/Library/Frameworks/Python.framework/Versions/3.6/lib/python3.6/site-packages/sklearn/preprocessing/label.py:151: DeprecationWarning: The truth value of an empty array is ambiguous. Returning False, but in future this will result in an error. Use `array.size > 0` to check that an array is not empty.\n",
      "  if diff:\n"
     ]
    },
    {
     "name": "stdout",
     "output_type": "stream",
     "text": [
      "[1]\tvalid_0's binary_logloss: 0.45271\tvalid_0's auc: 0.823169\n",
      "Training until validation scores don't improve for 5 rounds.\n",
      "[2]\tvalid_0's binary_logloss: 0.424384\tvalid_0's auc: 0.848047\n",
      "[3]\tvalid_0's binary_logloss: 0.405605\tvalid_0's auc: 0.850719\n",
      "[4]\tvalid_0's binary_logloss: 0.390489\tvalid_0's auc: 0.854629\n",
      "[5]\tvalid_0's binary_logloss: 0.380002\tvalid_0's auc: 0.855692\n",
      "[6]\tvalid_0's binary_logloss: 0.372697\tvalid_0's auc: 0.858798\n",
      "[7]\tvalid_0's binary_logloss: 0.365945\tvalid_0's auc: 0.85968\n",
      "[8]\tvalid_0's binary_logloss: 0.361511\tvalid_0's auc: 0.859776\n",
      "[9]\tvalid_0's binary_logloss: 0.358303\tvalid_0's auc: 0.859841\n",
      "[10]\tvalid_0's binary_logloss: 0.355228\tvalid_0's auc: 0.859893\n",
      "[11]\tvalid_0's binary_logloss: 0.352742\tvalid_0's auc: 0.86096\n",
      "[12]\tvalid_0's binary_logloss: 0.351049\tvalid_0's auc: 0.86126\n",
      "[13]\tvalid_0's binary_logloss: 0.3493\tvalid_0's auc: 0.861886\n",
      "[14]\tvalid_0's binary_logloss: 0.347966\tvalid_0's auc: 0.862298\n",
      "[15]\tvalid_0's binary_logloss: 0.348606\tvalid_0's auc: 0.861335\n",
      "[16]\tvalid_0's binary_logloss: 0.3488\tvalid_0's auc: 0.860654\n",
      "Did not meet early stopping. Best iteration is:\n",
      "[14]\tvalid_0's binary_logloss: 0.347966\tvalid_0's auc: 0.862298\n",
      "[1]\tvalid_0's binary_logloss: 0.450677\tvalid_0's auc: 0.837907\n",
      "Training until validation scores don't improve for 5 rounds.\n",
      "[2]\tvalid_0's binary_logloss: 0.42452\tvalid_0's auc: 0.846844\n",
      "[3]\tvalid_0's binary_logloss: 0.40564\tvalid_0's auc: 0.850945\n",
      "[4]\tvalid_0's binary_logloss: 0.389068\tvalid_0's auc: 0.857805\n",
      "[5]\tvalid_0's binary_logloss: 0.378969\tvalid_0's auc: 0.860621\n",
      "[6]\tvalid_0's binary_logloss: 0.370864\tvalid_0's auc: 0.862133\n",
      "[7]\tvalid_0's binary_logloss: 0.365839\tvalid_0's auc: 0.861775\n"
     ]
    },
    {
     "name": "stderr",
     "output_type": "stream",
     "text": [
      "/Library/Frameworks/Python.framework/Versions/3.6/lib/python3.6/site-packages/sklearn/preprocessing/label.py:151: DeprecationWarning: The truth value of an empty array is ambiguous. Returning False, but in future this will result in an error. Use `array.size > 0` to check that an array is not empty.\n",
      "  if diff:\n",
      "/Library/Frameworks/Python.framework/Versions/3.6/lib/python3.6/site-packages/sklearn/preprocessing/label.py:151: DeprecationWarning: The truth value of an empty array is ambiguous. Returning False, but in future this will result in an error. Use `array.size > 0` to check that an array is not empty.\n",
      "  if diff:\n"
     ]
    },
    {
     "name": "stdout",
     "output_type": "stream",
     "text": [
      "[8]\tvalid_0's binary_logloss: 0.362555\tvalid_0's auc: 0.860928\n",
      "[9]\tvalid_0's binary_logloss: 0.359354\tvalid_0's auc: 0.861758\n",
      "[10]\tvalid_0's binary_logloss: 0.35719\tvalid_0's auc: 0.861299\n",
      "[11]\tvalid_0's binary_logloss: 0.357217\tvalid_0's auc: 0.858778\n",
      "Early stopping, best iteration is:\n",
      "[6]\tvalid_0's binary_logloss: 0.370864\tvalid_0's auc: 0.862133\n",
      "[1]\tvalid_0's binary_logloss: 0.45435\tvalid_0's auc: 0.823479\n",
      "Training until validation scores don't improve for 5 rounds.\n",
      "[2]\tvalid_0's binary_logloss: 0.426456\tvalid_0's auc: 0.840169\n"
     ]
    },
    {
     "name": "stderr",
     "output_type": "stream",
     "text": [
      "/Library/Frameworks/Python.framework/Versions/3.6/lib/python3.6/site-packages/sklearn/preprocessing/label.py:151: DeprecationWarning: The truth value of an empty array is ambiguous. Returning False, but in future this will result in an error. Use `array.size > 0` to check that an array is not empty.\n",
      "  if diff:\n",
      "/Library/Frameworks/Python.framework/Versions/3.6/lib/python3.6/site-packages/sklearn/preprocessing/label.py:151: DeprecationWarning: The truth value of an empty array is ambiguous. Returning False, but in future this will result in an error. Use `array.size > 0` to check that an array is not empty.\n",
      "  if diff:\n"
     ]
    },
    {
     "name": "stdout",
     "output_type": "stream",
     "text": [
      "[3]\tvalid_0's binary_logloss: 0.407246\tvalid_0's auc: 0.845948\n",
      "[4]\tvalid_0's binary_logloss: 0.391406\tvalid_0's auc: 0.852102\n",
      "[5]\tvalid_0's binary_logloss: 0.381126\tvalid_0's auc: 0.853286\n",
      "[6]\tvalid_0's binary_logloss: 0.371327\tvalid_0's auc: 0.858398\n",
      "[7]\tvalid_0's binary_logloss: 0.365171\tvalid_0's auc: 0.859392\n",
      "[8]\tvalid_0's binary_logloss: 0.360858\tvalid_0's auc: 0.86082\n",
      "[9]\tvalid_0's binary_logloss: 0.356736\tvalid_0's auc: 0.862383\n",
      "[10]\tvalid_0's binary_logloss: 0.353906\tvalid_0's auc: 0.863024\n",
      "[11]\tvalid_0's binary_logloss: 0.352747\tvalid_0's auc: 0.862393\n",
      "[12]\tvalid_0's binary_logloss: 0.352291\tvalid_0's auc: 0.861002\n",
      "[13]\tvalid_0's binary_logloss: 0.351765\tvalid_0's auc: 0.86099\n",
      "[14]\tvalid_0's binary_logloss: 0.351072\tvalid_0's auc: 0.860923\n",
      "[15]\tvalid_0's binary_logloss: 0.350538\tvalid_0's auc: 0.860987\n",
      "Early stopping, best iteration is:\n",
      "[10]\tvalid_0's binary_logloss: 0.353906\tvalid_0's auc: 0.863024\n"
     ]
    },
    {
     "name": "stderr",
     "output_type": "stream",
     "text": [
      "/Library/Frameworks/Python.framework/Versions/3.6/lib/python3.6/site-packages/sklearn/preprocessing/label.py:151: DeprecationWarning: The truth value of an empty array is ambiguous. Returning False, but in future this will result in an error. Use `array.size > 0` to check that an array is not empty.\n",
      "  if diff:\n",
      "/Library/Frameworks/Python.framework/Versions/3.6/lib/python3.6/site-packages/sklearn/preprocessing/label.py:151: DeprecationWarning: The truth value of an empty array is ambiguous. Returning False, but in future this will result in an error. Use `array.size > 0` to check that an array is not empty.\n",
      "  if diff:\n"
     ]
    },
    {
     "name": "stdout",
     "output_type": "stream",
     "text": [
      "[1]\tvalid_0's binary_logloss: 0.45271\tvalid_0's auc: 0.823169\n",
      "Training until validation scores don't improve for 5 rounds.\n",
      "[2]\tvalid_0's binary_logloss: 0.424384\tvalid_0's auc: 0.848047\n",
      "[3]\tvalid_0's binary_logloss: 0.405605\tvalid_0's auc: 0.850719\n",
      "[4]\tvalid_0's binary_logloss: 0.390489\tvalid_0's auc: 0.854629\n",
      "[5]\tvalid_0's binary_logloss: 0.380002\tvalid_0's auc: 0.855692\n",
      "[6]\tvalid_0's binary_logloss: 0.372697\tvalid_0's auc: 0.858798\n",
      "[7]\tvalid_0's binary_logloss: 0.365945\tvalid_0's auc: 0.85968\n",
      "[8]\tvalid_0's binary_logloss: 0.361511\tvalid_0's auc: 0.859776\n",
      "[9]\tvalid_0's binary_logloss: 0.358303\tvalid_0's auc: 0.859841\n",
      "[10]\tvalid_0's binary_logloss: 0.355228\tvalid_0's auc: 0.859893\n",
      "[11]\tvalid_0's binary_logloss: 0.352742\tvalid_0's auc: 0.86096\n",
      "[12]\tvalid_0's binary_logloss: 0.351049\tvalid_0's auc: 0.86126\n",
      "[13]\tvalid_0's binary_logloss: 0.3493\tvalid_0's auc: 0.861886\n",
      "[14]\tvalid_0's binary_logloss: 0.347966\tvalid_0's auc: 0.862298\n",
      "[15]\tvalid_0's binary_logloss: 0.348606\tvalid_0's auc: 0.861335\n",
      "[16]\tvalid_0's binary_logloss: 0.3488\tvalid_0's auc: 0.860654\n",
      "[17]\tvalid_0's binary_logloss: 0.348703\tvalid_0's auc: 0.860727\n",
      "[18]\tvalid_0's binary_logloss: 0.348235\tvalid_0's auc: 0.861313\n",
      "[19]\tvalid_0's binary_logloss: 0.34785\tvalid_0's auc: 0.861343\n",
      "Did not meet early stopping. Best iteration is:\n",
      "[19]\tvalid_0's binary_logloss: 0.34785\tvalid_0's auc: 0.861343\n",
      "[1]\tvalid_0's binary_logloss: 0.450677\tvalid_0's auc: 0.837907\n",
      "Training until validation scores don't improve for 5 rounds.\n",
      "[2]\tvalid_0's binary_logloss: 0.42452\tvalid_0's auc: 0.846844\n",
      "[3]\tvalid_0's binary_logloss: 0.40564\tvalid_0's auc: 0.850945\n",
      "[4]\tvalid_0's binary_logloss: 0.389068\tvalid_0's auc: 0.857805\n"
     ]
    },
    {
     "name": "stderr",
     "output_type": "stream",
     "text": [
      "/Library/Frameworks/Python.framework/Versions/3.6/lib/python3.6/site-packages/sklearn/preprocessing/label.py:151: DeprecationWarning: The truth value of an empty array is ambiguous. Returning False, but in future this will result in an error. Use `array.size > 0` to check that an array is not empty.\n",
      "  if diff:\n",
      "/Library/Frameworks/Python.framework/Versions/3.6/lib/python3.6/site-packages/sklearn/preprocessing/label.py:151: DeprecationWarning: The truth value of an empty array is ambiguous. Returning False, but in future this will result in an error. Use `array.size > 0` to check that an array is not empty.\n",
      "  if diff:\n"
     ]
    },
    {
     "name": "stdout",
     "output_type": "stream",
     "text": [
      "[5]\tvalid_0's binary_logloss: 0.378969\tvalid_0's auc: 0.860621\n",
      "[6]\tvalid_0's binary_logloss: 0.370864\tvalid_0's auc: 0.862133\n",
      "[7]\tvalid_0's binary_logloss: 0.365839\tvalid_0's auc: 0.861775\n",
      "[8]\tvalid_0's binary_logloss: 0.362555\tvalid_0's auc: 0.860928\n",
      "[9]\tvalid_0's binary_logloss: 0.359354\tvalid_0's auc: 0.861758\n",
      "[10]\tvalid_0's binary_logloss: 0.35719\tvalid_0's auc: 0.861299\n",
      "[11]\tvalid_0's binary_logloss: 0.357217\tvalid_0's auc: 0.858778\n",
      "Early stopping, best iteration is:\n",
      "[6]\tvalid_0's binary_logloss: 0.370864\tvalid_0's auc: 0.862133\n",
      "[1]\tvalid_0's binary_logloss: 0.45435\tvalid_0's auc: 0.823479\n",
      "Training until validation scores don't improve for 5 rounds.\n",
      "[2]\tvalid_0's binary_logloss: 0.426456\tvalid_0's auc: 0.840169\n"
     ]
    },
    {
     "name": "stderr",
     "output_type": "stream",
     "text": [
      "/Library/Frameworks/Python.framework/Versions/3.6/lib/python3.6/site-packages/sklearn/preprocessing/label.py:151: DeprecationWarning: The truth value of an empty array is ambiguous. Returning False, but in future this will result in an error. Use `array.size > 0` to check that an array is not empty.\n",
      "  if diff:\n",
      "/Library/Frameworks/Python.framework/Versions/3.6/lib/python3.6/site-packages/sklearn/preprocessing/label.py:151: DeprecationWarning: The truth value of an empty array is ambiguous. Returning False, but in future this will result in an error. Use `array.size > 0` to check that an array is not empty.\n",
      "  if diff:\n"
     ]
    },
    {
     "name": "stdout",
     "output_type": "stream",
     "text": [
      "[3]\tvalid_0's binary_logloss: 0.407246\tvalid_0's auc: 0.845948\n",
      "[4]\tvalid_0's binary_logloss: 0.391406\tvalid_0's auc: 0.852102\n",
      "[5]\tvalid_0's binary_logloss: 0.381126\tvalid_0's auc: 0.853286\n",
      "[6]\tvalid_0's binary_logloss: 0.371327\tvalid_0's auc: 0.858398\n",
      "[7]\tvalid_0's binary_logloss: 0.365171\tvalid_0's auc: 0.859392\n",
      "[8]\tvalid_0's binary_logloss: 0.360858\tvalid_0's auc: 0.86082\n",
      "[9]\tvalid_0's binary_logloss: 0.356736\tvalid_0's auc: 0.862383\n",
      "[10]\tvalid_0's binary_logloss: 0.353906\tvalid_0's auc: 0.863024\n",
      "[11]\tvalid_0's binary_logloss: 0.352747\tvalid_0's auc: 0.862393\n",
      "[12]\tvalid_0's binary_logloss: 0.352291\tvalid_0's auc: 0.861002\n",
      "[13]\tvalid_0's binary_logloss: 0.351765\tvalid_0's auc: 0.86099\n",
      "[14]\tvalid_0's binary_logloss: 0.351072\tvalid_0's auc: 0.860923\n",
      "[15]\tvalid_0's binary_logloss: 0.350538\tvalid_0's auc: 0.860987\n",
      "Early stopping, best iteration is:\n",
      "[10]\tvalid_0's binary_logloss: 0.353906\tvalid_0's auc: 0.863024\n"
     ]
    },
    {
     "name": "stderr",
     "output_type": "stream",
     "text": [
      "/Library/Frameworks/Python.framework/Versions/3.6/lib/python3.6/site-packages/sklearn/preprocessing/label.py:151: DeprecationWarning: The truth value of an empty array is ambiguous. Returning False, but in future this will result in an error. Use `array.size > 0` to check that an array is not empty.\n",
      "  if diff:\n",
      "/Library/Frameworks/Python.framework/Versions/3.6/lib/python3.6/site-packages/sklearn/preprocessing/label.py:151: DeprecationWarning: The truth value of an empty array is ambiguous. Returning False, but in future this will result in an error. Use `array.size > 0` to check that an array is not empty.\n",
      "  if diff:\n"
     ]
    },
    {
     "name": "stdout",
     "output_type": "stream",
     "text": [
      "[1]\tvalid_0's binary_logloss: 0.45271\tvalid_0's auc: 0.823169\n",
      "Training until validation scores don't improve for 5 rounds.\n",
      "[2]\tvalid_0's binary_logloss: 0.424384\tvalid_0's auc: 0.848047\n",
      "[3]\tvalid_0's binary_logloss: 0.405605\tvalid_0's auc: 0.850719\n",
      "[4]\tvalid_0's binary_logloss: 0.390489\tvalid_0's auc: 0.854629\n",
      "[5]\tvalid_0's binary_logloss: 0.380002\tvalid_0's auc: 0.855692\n",
      "[6]\tvalid_0's binary_logloss: 0.372697\tvalid_0's auc: 0.858798\n",
      "[7]\tvalid_0's binary_logloss: 0.365945\tvalid_0's auc: 0.85968\n",
      "[8]\tvalid_0's binary_logloss: 0.361511\tvalid_0's auc: 0.859776\n",
      "[9]\tvalid_0's binary_logloss: 0.358303\tvalid_0's auc: 0.859841\n",
      "[10]\tvalid_0's binary_logloss: 0.355228\tvalid_0's auc: 0.859893\n",
      "[11]\tvalid_0's binary_logloss: 0.352742\tvalid_0's auc: 0.86096\n",
      "[12]\tvalid_0's binary_logloss: 0.351049\tvalid_0's auc: 0.86126\n",
      "[13]\tvalid_0's binary_logloss: 0.3493\tvalid_0's auc: 0.861886\n",
      "[14]\tvalid_0's binary_logloss: 0.347966\tvalid_0's auc: 0.862298\n",
      "[15]\tvalid_0's binary_logloss: 0.348606\tvalid_0's auc: 0.861335\n",
      "[16]\tvalid_0's binary_logloss: 0.3488\tvalid_0's auc: 0.860654\n",
      "[17]\tvalid_0's binary_logloss: 0.348703\tvalid_0's auc: 0.860727\n",
      "[18]\tvalid_0's binary_logloss: 0.348235\tvalid_0's auc: 0.861313\n",
      "[19]\tvalid_0's binary_logloss: 0.34785\tvalid_0's auc: 0.861343\n",
      "Early stopping, best iteration is:\n",
      "[14]\tvalid_0's binary_logloss: 0.347966\tvalid_0's auc: 0.862298\n",
      "[1]\tvalid_0's binary_logloss: 0.450677\tvalid_0's auc: 0.837907\n",
      "Training until validation scores don't improve for 5 rounds.\n",
      "[2]\tvalid_0's binary_logloss: 0.42452\tvalid_0's auc: 0.846844\n",
      "[3]\tvalid_0's binary_logloss: 0.40564\tvalid_0's auc: 0.850945\n",
      "[4]\tvalid_0's binary_logloss: 0.389068\tvalid_0's auc: 0.857805\n",
      "[5]\tvalid_0's binary_logloss: 0.378969\tvalid_0's auc: 0.860621\n",
      "[6]\tvalid_0's binary_logloss: 0.370864\tvalid_0's auc: 0.862133\n"
     ]
    },
    {
     "name": "stderr",
     "output_type": "stream",
     "text": [
      "/Library/Frameworks/Python.framework/Versions/3.6/lib/python3.6/site-packages/sklearn/preprocessing/label.py:151: DeprecationWarning: The truth value of an empty array is ambiguous. Returning False, but in future this will result in an error. Use `array.size > 0` to check that an array is not empty.\n",
      "  if diff:\n",
      "/Library/Frameworks/Python.framework/Versions/3.6/lib/python3.6/site-packages/sklearn/preprocessing/label.py:151: DeprecationWarning: The truth value of an empty array is ambiguous. Returning False, but in future this will result in an error. Use `array.size > 0` to check that an array is not empty.\n",
      "  if diff:\n"
     ]
    },
    {
     "name": "stdout",
     "output_type": "stream",
     "text": [
      "[7]\tvalid_0's binary_logloss: 0.365839\tvalid_0's auc: 0.861775\n",
      "[8]\tvalid_0's binary_logloss: 0.362555\tvalid_0's auc: 0.860928\n",
      "[9]\tvalid_0's binary_logloss: 0.359354\tvalid_0's auc: 0.861758\n",
      "[10]\tvalid_0's binary_logloss: 0.35719\tvalid_0's auc: 0.861299\n",
      "[11]\tvalid_0's binary_logloss: 0.357217\tvalid_0's auc: 0.858778\n",
      "Early stopping, best iteration is:\n",
      "[6]\tvalid_0's binary_logloss: 0.370864\tvalid_0's auc: 0.862133\n",
      "[1]\tvalid_0's binary_logloss: 0.45435\tvalid_0's auc: 0.823479\n",
      "Training until validation scores don't improve for 5 rounds.\n",
      "[2]\tvalid_0's binary_logloss: 0.426456\tvalid_0's auc: 0.840169\n",
      "[3]\tvalid_0's binary_logloss: 0.407246\tvalid_0's auc: 0.845948\n",
      "[4]\tvalid_0's binary_logloss: 0.391406\tvalid_0's auc: 0.852102\n"
     ]
    },
    {
     "name": "stderr",
     "output_type": "stream",
     "text": [
      "/Library/Frameworks/Python.framework/Versions/3.6/lib/python3.6/site-packages/sklearn/preprocessing/label.py:151: DeprecationWarning: The truth value of an empty array is ambiguous. Returning False, but in future this will result in an error. Use `array.size > 0` to check that an array is not empty.\n",
      "  if diff:\n",
      "/Library/Frameworks/Python.framework/Versions/3.6/lib/python3.6/site-packages/sklearn/preprocessing/label.py:151: DeprecationWarning: The truth value of an empty array is ambiguous. Returning False, but in future this will result in an error. Use `array.size > 0` to check that an array is not empty.\n",
      "  if diff:\n"
     ]
    },
    {
     "name": "stdout",
     "output_type": "stream",
     "text": [
      "[5]\tvalid_0's binary_logloss: 0.381126\tvalid_0's auc: 0.853286\n",
      "[6]\tvalid_0's binary_logloss: 0.371327\tvalid_0's auc: 0.858398\n",
      "[7]\tvalid_0's binary_logloss: 0.365171\tvalid_0's auc: 0.859392\n",
      "[8]\tvalid_0's binary_logloss: 0.360858\tvalid_0's auc: 0.86082\n",
      "[9]\tvalid_0's binary_logloss: 0.356736\tvalid_0's auc: 0.862383\n",
      "[10]\tvalid_0's binary_logloss: 0.353906\tvalid_0's auc: 0.863024\n",
      "[11]\tvalid_0's binary_logloss: 0.352747\tvalid_0's auc: 0.862393\n",
      "[12]\tvalid_0's binary_logloss: 0.352291\tvalid_0's auc: 0.861002\n",
      "[13]\tvalid_0's binary_logloss: 0.351765\tvalid_0's auc: 0.86099\n",
      "[14]\tvalid_0's binary_logloss: 0.351072\tvalid_0's auc: 0.860923\n",
      "[15]\tvalid_0's binary_logloss: 0.350538\tvalid_0's auc: 0.860987\n",
      "Early stopping, best iteration is:\n",
      "[10]\tvalid_0's binary_logloss: 0.353906\tvalid_0's auc: 0.863024\n"
     ]
    },
    {
     "name": "stderr",
     "output_type": "stream",
     "text": [
      "/Library/Frameworks/Python.framework/Versions/3.6/lib/python3.6/site-packages/sklearn/preprocessing/label.py:151: DeprecationWarning: The truth value of an empty array is ambiguous. Returning False, but in future this will result in an error. Use `array.size > 0` to check that an array is not empty.\n",
      "  if diff:\n",
      "/Library/Frameworks/Python.framework/Versions/3.6/lib/python3.6/site-packages/sklearn/preprocessing/label.py:151: DeprecationWarning: The truth value of an empty array is ambiguous. Returning False, but in future this will result in an error. Use `array.size > 0` to check that an array is not empty.\n",
      "  if diff:\n"
     ]
    },
    {
     "name": "stdout",
     "output_type": "stream",
     "text": [
      "[1]\tvalid_0's binary_logloss: 0.45271\tvalid_0's auc: 0.823169\n",
      "Training until validation scores don't improve for 5 rounds.\n",
      "[2]\tvalid_0's binary_logloss: 0.424384\tvalid_0's auc: 0.848047\n",
      "[3]\tvalid_0's binary_logloss: 0.405605\tvalid_0's auc: 0.850719\n",
      "[4]\tvalid_0's binary_logloss: 0.390489\tvalid_0's auc: 0.854629\n",
      "[5]\tvalid_0's binary_logloss: 0.380002\tvalid_0's auc: 0.855692\n",
      "[6]\tvalid_0's binary_logloss: 0.372697\tvalid_0's auc: 0.858798\n",
      "[7]\tvalid_0's binary_logloss: 0.365945\tvalid_0's auc: 0.85968\n",
      "[8]\tvalid_0's binary_logloss: 0.361511\tvalid_0's auc: 0.859776\n",
      "[9]\tvalid_0's binary_logloss: 0.358303\tvalid_0's auc: 0.859841\n",
      "[10]\tvalid_0's binary_logloss: 0.355228\tvalid_0's auc: 0.859893\n",
      "[11]\tvalid_0's binary_logloss: 0.352742\tvalid_0's auc: 0.86096\n",
      "[12]\tvalid_0's binary_logloss: 0.351049\tvalid_0's auc: 0.86126\n",
      "[13]\tvalid_0's binary_logloss: 0.3493\tvalid_0's auc: 0.861886\n",
      "[14]\tvalid_0's binary_logloss: 0.347966\tvalid_0's auc: 0.862298\n",
      "[15]\tvalid_0's binary_logloss: 0.348606\tvalid_0's auc: 0.861335\n",
      "[16]\tvalid_0's binary_logloss: 0.3488\tvalid_0's auc: 0.860654\n",
      "[17]\tvalid_0's binary_logloss: 0.348703\tvalid_0's auc: 0.860727\n",
      "[18]\tvalid_0's binary_logloss: 0.348235\tvalid_0's auc: 0.861313\n",
      "[19]\tvalid_0's binary_logloss: 0.34785\tvalid_0's auc: 0.861343\n",
      "Early stopping, best iteration is:\n",
      "[14]\tvalid_0's binary_logloss: 0.347966\tvalid_0's auc: 0.862298\n",
      "[1]\tvalid_0's binary_logloss: 0.450677\tvalid_0's auc: 0.837907\n",
      "Training until validation scores don't improve for 5 rounds.\n",
      "[2]\tvalid_0's binary_logloss: 0.42452\tvalid_0's auc: 0.846844\n",
      "[3]\tvalid_0's binary_logloss: 0.40564\tvalid_0's auc: 0.850945\n",
      "[4]\tvalid_0's binary_logloss: 0.389068\tvalid_0's auc: 0.857805\n",
      "[5]\tvalid_0's binary_logloss: 0.378969\tvalid_0's auc: 0.860621\n",
      "[6]\tvalid_0's binary_logloss: 0.370864\tvalid_0's auc: 0.862133\n"
     ]
    },
    {
     "name": "stderr",
     "output_type": "stream",
     "text": [
      "/Library/Frameworks/Python.framework/Versions/3.6/lib/python3.6/site-packages/sklearn/preprocessing/label.py:151: DeprecationWarning: The truth value of an empty array is ambiguous. Returning False, but in future this will result in an error. Use `array.size > 0` to check that an array is not empty.\n",
      "  if diff:\n",
      "/Library/Frameworks/Python.framework/Versions/3.6/lib/python3.6/site-packages/sklearn/preprocessing/label.py:151: DeprecationWarning: The truth value of an empty array is ambiguous. Returning False, but in future this will result in an error. Use `array.size > 0` to check that an array is not empty.\n",
      "  if diff:\n"
     ]
    },
    {
     "name": "stdout",
     "output_type": "stream",
     "text": [
      "[7]\tvalid_0's binary_logloss: 0.365839\tvalid_0's auc: 0.861775\n",
      "[8]\tvalid_0's binary_logloss: 0.362555\tvalid_0's auc: 0.860928\n",
      "[9]\tvalid_0's binary_logloss: 0.359354\tvalid_0's auc: 0.861758\n",
      "[10]\tvalid_0's binary_logloss: 0.35719\tvalid_0's auc: 0.861299\n",
      "[11]\tvalid_0's binary_logloss: 0.357217\tvalid_0's auc: 0.858778\n",
      "Early stopping, best iteration is:\n",
      "[6]\tvalid_0's binary_logloss: 0.370864\tvalid_0's auc: 0.862133\n",
      "[1]\tvalid_0's binary_logloss: 0.45435\tvalid_0's auc: 0.823479\n",
      "Training until validation scores don't improve for 5 rounds.\n",
      "[2]\tvalid_0's binary_logloss: 0.426456\tvalid_0's auc: 0.840169\n",
      "[3]\tvalid_0's binary_logloss: 0.407246\tvalid_0's auc: 0.845948\n",
      "[4]\tvalid_0's binary_logloss: 0.391406\tvalid_0's auc: 0.852102\n",
      "[5]\tvalid_0's binary_logloss: 0.381126\tvalid_0's auc: 0.853286\n"
     ]
    },
    {
     "name": "stderr",
     "output_type": "stream",
     "text": [
      "/Library/Frameworks/Python.framework/Versions/3.6/lib/python3.6/site-packages/sklearn/preprocessing/label.py:151: DeprecationWarning: The truth value of an empty array is ambiguous. Returning False, but in future this will result in an error. Use `array.size > 0` to check that an array is not empty.\n",
      "  if diff:\n",
      "/Library/Frameworks/Python.framework/Versions/3.6/lib/python3.6/site-packages/sklearn/preprocessing/label.py:151: DeprecationWarning: The truth value of an empty array is ambiguous. Returning False, but in future this will result in an error. Use `array.size > 0` to check that an array is not empty.\n",
      "  if diff:\n"
     ]
    },
    {
     "name": "stdout",
     "output_type": "stream",
     "text": [
      "[6]\tvalid_0's binary_logloss: 0.371327\tvalid_0's auc: 0.858398\n",
      "[7]\tvalid_0's binary_logloss: 0.365171\tvalid_0's auc: 0.859392\n",
      "[8]\tvalid_0's binary_logloss: 0.360858\tvalid_0's auc: 0.86082\n",
      "[9]\tvalid_0's binary_logloss: 0.356736\tvalid_0's auc: 0.862383\n",
      "[10]\tvalid_0's binary_logloss: 0.353906\tvalid_0's auc: 0.863024\n",
      "[11]\tvalid_0's binary_logloss: 0.352747\tvalid_0's auc: 0.862393\n",
      "[12]\tvalid_0's binary_logloss: 0.352291\tvalid_0's auc: 0.861002\n",
      "[13]\tvalid_0's binary_logloss: 0.351765\tvalid_0's auc: 0.86099\n",
      "[14]\tvalid_0's binary_logloss: 0.351072\tvalid_0's auc: 0.860923\n",
      "[15]\tvalid_0's binary_logloss: 0.350538\tvalid_0's auc: 0.860987\n",
      "Early stopping, best iteration is:\n",
      "[10]\tvalid_0's binary_logloss: 0.353906\tvalid_0's auc: 0.863024\n"
     ]
    },
    {
     "name": "stderr",
     "output_type": "stream",
     "text": [
      "/Library/Frameworks/Python.framework/Versions/3.6/lib/python3.6/site-packages/sklearn/preprocessing/label.py:151: DeprecationWarning: The truth value of an empty array is ambiguous. Returning False, but in future this will result in an error. Use `array.size > 0` to check that an array is not empty.\n",
      "  if diff:\n",
      "/Library/Frameworks/Python.framework/Versions/3.6/lib/python3.6/site-packages/sklearn/preprocessing/label.py:151: DeprecationWarning: The truth value of an empty array is ambiguous. Returning False, but in future this will result in an error. Use `array.size > 0` to check that an array is not empty.\n",
      "  if diff:\n"
     ]
    },
    {
     "name": "stdout",
     "output_type": "stream",
     "text": [
      "[1]\tvalid_0's binary_logloss: 0.45271\tvalid_0's auc: 0.823169\n",
      "Training until validation scores don't improve for 5 rounds.\n",
      "[2]\tvalid_0's binary_logloss: 0.424384\tvalid_0's auc: 0.848047\n",
      "[3]\tvalid_0's binary_logloss: 0.405605\tvalid_0's auc: 0.850719\n",
      "[4]\tvalid_0's binary_logloss: 0.390489\tvalid_0's auc: 0.854629\n",
      "[5]\tvalid_0's binary_logloss: 0.380002\tvalid_0's auc: 0.855692\n",
      "[6]\tvalid_0's binary_logloss: 0.372697\tvalid_0's auc: 0.858798\n",
      "[7]\tvalid_0's binary_logloss: 0.365945\tvalid_0's auc: 0.85968\n",
      "[8]\tvalid_0's binary_logloss: 0.361511\tvalid_0's auc: 0.859776\n",
      "[9]\tvalid_0's binary_logloss: 0.358303\tvalid_0's auc: 0.859841\n",
      "[10]\tvalid_0's binary_logloss: 0.355228\tvalid_0's auc: 0.859893\n",
      "[11]\tvalid_0's binary_logloss: 0.352742\tvalid_0's auc: 0.86096\n",
      "[12]\tvalid_0's binary_logloss: 0.351049\tvalid_0's auc: 0.86126\n",
      "[13]\tvalid_0's binary_logloss: 0.3493\tvalid_0's auc: 0.861886\n",
      "[14]\tvalid_0's binary_logloss: 0.347966\tvalid_0's auc: 0.862298\n",
      "[15]\tvalid_0's binary_logloss: 0.348606\tvalid_0's auc: 0.861335\n",
      "[16]\tvalid_0's binary_logloss: 0.3488\tvalid_0's auc: 0.860654\n",
      "[17]\tvalid_0's binary_logloss: 0.348703\tvalid_0's auc: 0.860727\n",
      "[18]\tvalid_0's binary_logloss: 0.348235\tvalid_0's auc: 0.861313\n",
      "[19]\tvalid_0's binary_logloss: 0.34785\tvalid_0's auc: 0.861343\n",
      "Early stopping, best iteration is:\n",
      "[14]\tvalid_0's binary_logloss: 0.347966\tvalid_0's auc: 0.862298\n",
      "[1]\tvalid_0's binary_logloss: 0.450677\tvalid_0's auc: 0.837907\n",
      "Training until validation scores don't improve for 5 rounds.\n",
      "[2]\tvalid_0's binary_logloss: 0.42452\tvalid_0's auc: 0.846844\n",
      "[3]\tvalid_0's binary_logloss: 0.40564\tvalid_0's auc: 0.850945\n",
      "[4]\tvalid_0's binary_logloss: 0.389068\tvalid_0's auc: 0.857805\n",
      "[5]\tvalid_0's binary_logloss: 0.378969\tvalid_0's auc: 0.860621\n"
     ]
    },
    {
     "name": "stderr",
     "output_type": "stream",
     "text": [
      "/Library/Frameworks/Python.framework/Versions/3.6/lib/python3.6/site-packages/sklearn/preprocessing/label.py:151: DeprecationWarning: The truth value of an empty array is ambiguous. Returning False, but in future this will result in an error. Use `array.size > 0` to check that an array is not empty.\n",
      "  if diff:\n",
      "/Library/Frameworks/Python.framework/Versions/3.6/lib/python3.6/site-packages/sklearn/preprocessing/label.py:151: DeprecationWarning: The truth value of an empty array is ambiguous. Returning False, but in future this will result in an error. Use `array.size > 0` to check that an array is not empty.\n",
      "  if diff:\n"
     ]
    },
    {
     "name": "stdout",
     "output_type": "stream",
     "text": [
      "[6]\tvalid_0's binary_logloss: 0.370864\tvalid_0's auc: 0.862133\n",
      "[7]\tvalid_0's binary_logloss: 0.365839\tvalid_0's auc: 0.861775\n",
      "[8]\tvalid_0's binary_logloss: 0.362555\tvalid_0's auc: 0.860928\n",
      "[9]\tvalid_0's binary_logloss: 0.359354\tvalid_0's auc: 0.861758\n",
      "[10]\tvalid_0's binary_logloss: 0.35719\tvalid_0's auc: 0.861299\n",
      "[11]\tvalid_0's binary_logloss: 0.357217\tvalid_0's auc: 0.858778\n",
      "Early stopping, best iteration is:\n",
      "[6]\tvalid_0's binary_logloss: 0.370864\tvalid_0's auc: 0.862133\n",
      "[1]\tvalid_0's binary_logloss: 0.45435\tvalid_0's auc: 0.823479\n",
      "Training until validation scores don't improve for 5 rounds.\n",
      "[2]\tvalid_0's binary_logloss: 0.426456\tvalid_0's auc: 0.840169\n",
      "[3]\tvalid_0's binary_logloss: 0.407246\tvalid_0's auc: 0.845948\n",
      "[4]\tvalid_0's binary_logloss: 0.391406\tvalid_0's auc: 0.852102\n"
     ]
    },
    {
     "name": "stderr",
     "output_type": "stream",
     "text": [
      "/Library/Frameworks/Python.framework/Versions/3.6/lib/python3.6/site-packages/sklearn/preprocessing/label.py:151: DeprecationWarning: The truth value of an empty array is ambiguous. Returning False, but in future this will result in an error. Use `array.size > 0` to check that an array is not empty.\n",
      "  if diff:\n",
      "/Library/Frameworks/Python.framework/Versions/3.6/lib/python3.6/site-packages/sklearn/preprocessing/label.py:151: DeprecationWarning: The truth value of an empty array is ambiguous. Returning False, but in future this will result in an error. Use `array.size > 0` to check that an array is not empty.\n",
      "  if diff:\n"
     ]
    },
    {
     "name": "stdout",
     "output_type": "stream",
     "text": [
      "[5]\tvalid_0's binary_logloss: 0.381126\tvalid_0's auc: 0.853286\n",
      "[6]\tvalid_0's binary_logloss: 0.371327\tvalid_0's auc: 0.858398\n",
      "[7]\tvalid_0's binary_logloss: 0.365171\tvalid_0's auc: 0.859392\n",
      "[8]\tvalid_0's binary_logloss: 0.360858\tvalid_0's auc: 0.86082\n",
      "[9]\tvalid_0's binary_logloss: 0.356736\tvalid_0's auc: 0.862383\n",
      "[10]\tvalid_0's binary_logloss: 0.353906\tvalid_0's auc: 0.863024\n",
      "[11]\tvalid_0's binary_logloss: 0.352747\tvalid_0's auc: 0.862393\n",
      "[12]\tvalid_0's binary_logloss: 0.352291\tvalid_0's auc: 0.861002\n",
      "[13]\tvalid_0's binary_logloss: 0.351765\tvalid_0's auc: 0.86099\n",
      "[14]\tvalid_0's binary_logloss: 0.351072\tvalid_0's auc: 0.860923\n",
      "[15]\tvalid_0's binary_logloss: 0.350538\tvalid_0's auc: 0.860987\n",
      "Early stopping, best iteration is:\n",
      "[10]\tvalid_0's binary_logloss: 0.353906\tvalid_0's auc: 0.863024\n"
     ]
    },
    {
     "name": "stderr",
     "output_type": "stream",
     "text": [
      "/Library/Frameworks/Python.framework/Versions/3.6/lib/python3.6/site-packages/sklearn/preprocessing/label.py:151: DeprecationWarning: The truth value of an empty array is ambiguous. Returning False, but in future this will result in an error. Use `array.size > 0` to check that an array is not empty.\n",
      "  if diff:\n",
      "/Library/Frameworks/Python.framework/Versions/3.6/lib/python3.6/site-packages/sklearn/preprocessing/label.py:151: DeprecationWarning: The truth value of an empty array is ambiguous. Returning False, but in future this will result in an error. Use `array.size > 0` to check that an array is not empty.\n",
      "  if diff:\n"
     ]
    },
    {
     "name": "stdout",
     "output_type": "stream",
     "text": [
      "[1]\tvalid_0's binary_logloss: 0.45271\tvalid_0's auc: 0.823169\n",
      "Training until validation scores don't improve for 5 rounds.\n",
      "[2]\tvalid_0's binary_logloss: 0.424384\tvalid_0's auc: 0.848047\n",
      "[3]\tvalid_0's binary_logloss: 0.405605\tvalid_0's auc: 0.850719\n",
      "[4]\tvalid_0's binary_logloss: 0.390489\tvalid_0's auc: 0.854629\n",
      "[5]\tvalid_0's binary_logloss: 0.380002\tvalid_0's auc: 0.855692\n",
      "[6]\tvalid_0's binary_logloss: 0.372697\tvalid_0's auc: 0.858798\n",
      "[7]\tvalid_0's binary_logloss: 0.365945\tvalid_0's auc: 0.85968\n",
      "[8]\tvalid_0's binary_logloss: 0.361511\tvalid_0's auc: 0.859776\n",
      "[9]\tvalid_0's binary_logloss: 0.358303\tvalid_0's auc: 0.859841\n",
      "[10]\tvalid_0's binary_logloss: 0.355228\tvalid_0's auc: 0.859893\n",
      "[11]\tvalid_0's binary_logloss: 0.352742\tvalid_0's auc: 0.86096\n",
      "[12]\tvalid_0's binary_logloss: 0.351049\tvalid_0's auc: 0.86126\n",
      "[13]\tvalid_0's binary_logloss: 0.3493\tvalid_0's auc: 0.861886\n",
      "[14]\tvalid_0's binary_logloss: 0.347966\tvalid_0's auc: 0.862298\n",
      "[15]\tvalid_0's binary_logloss: 0.348606\tvalid_0's auc: 0.861335\n",
      "[16]\tvalid_0's binary_logloss: 0.3488\tvalid_0's auc: 0.860654\n",
      "[17]\tvalid_0's binary_logloss: 0.348703\tvalid_0's auc: 0.860727\n",
      "[18]\tvalid_0's binary_logloss: 0.348235\tvalid_0's auc: 0.861313\n",
      "[19]\tvalid_0's binary_logloss: 0.34785\tvalid_0's auc: 0.861343\n",
      "Early stopping, best iteration is:\n",
      "[14]\tvalid_0's binary_logloss: 0.347966\tvalid_0's auc: 0.862298\n",
      "[1]\tvalid_0's binary_logloss: 0.450677\tvalid_0's auc: 0.837907\n",
      "Training until validation scores don't improve for 5 rounds.\n",
      "[2]\tvalid_0's binary_logloss: 0.42452\tvalid_0's auc: 0.846844\n",
      "[3]\tvalid_0's binary_logloss: 0.40564\tvalid_0's auc: 0.850945\n"
     ]
    },
    {
     "name": "stderr",
     "output_type": "stream",
     "text": [
      "/Library/Frameworks/Python.framework/Versions/3.6/lib/python3.6/site-packages/sklearn/preprocessing/label.py:151: DeprecationWarning: The truth value of an empty array is ambiguous. Returning False, but in future this will result in an error. Use `array.size > 0` to check that an array is not empty.\n",
      "  if diff:\n",
      "/Library/Frameworks/Python.framework/Versions/3.6/lib/python3.6/site-packages/sklearn/preprocessing/label.py:151: DeprecationWarning: The truth value of an empty array is ambiguous. Returning False, but in future this will result in an error. Use `array.size > 0` to check that an array is not empty.\n",
      "  if diff:\n"
     ]
    },
    {
     "name": "stdout",
     "output_type": "stream",
     "text": [
      "[4]\tvalid_0's binary_logloss: 0.389068\tvalid_0's auc: 0.857805\n",
      "[5]\tvalid_0's binary_logloss: 0.378969\tvalid_0's auc: 0.860621\n",
      "[6]\tvalid_0's binary_logloss: 0.370864\tvalid_0's auc: 0.862133\n",
      "[7]\tvalid_0's binary_logloss: 0.365839\tvalid_0's auc: 0.861775\n",
      "[8]\tvalid_0's binary_logloss: 0.362555\tvalid_0's auc: 0.860928\n",
      "[9]\tvalid_0's binary_logloss: 0.359354\tvalid_0's auc: 0.861758\n",
      "[10]\tvalid_0's binary_logloss: 0.35719\tvalid_0's auc: 0.861299\n",
      "[11]\tvalid_0's binary_logloss: 0.357217\tvalid_0's auc: 0.858778\n",
      "Early stopping, best iteration is:\n",
      "[6]\tvalid_0's binary_logloss: 0.370864\tvalid_0's auc: 0.862133\n"
     ]
    },
    {
     "name": "stderr",
     "output_type": "stream",
     "text": [
      "/Library/Frameworks/Python.framework/Versions/3.6/lib/python3.6/site-packages/sklearn/preprocessing/label.py:151: DeprecationWarning: The truth value of an empty array is ambiguous. Returning False, but in future this will result in an error. Use `array.size > 0` to check that an array is not empty.\n",
      "  if diff:\n",
      "/Library/Frameworks/Python.framework/Versions/3.6/lib/python3.6/site-packages/sklearn/preprocessing/label.py:151: DeprecationWarning: The truth value of an empty array is ambiguous. Returning False, but in future this will result in an error. Use `array.size > 0` to check that an array is not empty.\n",
      "  if diff:\n"
     ]
    },
    {
     "name": "stdout",
     "output_type": "stream",
     "text": [
      "[1]\tvalid_0's binary_logloss: 0.45435\tvalid_0's auc: 0.823479\n",
      "Training until validation scores don't improve for 5 rounds.\n",
      "[2]\tvalid_0's binary_logloss: 0.426456\tvalid_0's auc: 0.840169\n",
      "[3]\tvalid_0's binary_logloss: 0.407246\tvalid_0's auc: 0.845948\n",
      "[4]\tvalid_0's binary_logloss: 0.391406\tvalid_0's auc: 0.852102\n",
      "[5]\tvalid_0's binary_logloss: 0.381126\tvalid_0's auc: 0.853286\n",
      "[6]\tvalid_0's binary_logloss: 0.371327\tvalid_0's auc: 0.858398\n",
      "[7]\tvalid_0's binary_logloss: 0.365171\tvalid_0's auc: 0.859392\n",
      "[8]\tvalid_0's binary_logloss: 0.360858\tvalid_0's auc: 0.86082\n",
      "[9]\tvalid_0's binary_logloss: 0.356736\tvalid_0's auc: 0.862383\n",
      "[10]\tvalid_0's binary_logloss: 0.353906\tvalid_0's auc: 0.863024\n",
      "[11]\tvalid_0's binary_logloss: 0.352747\tvalid_0's auc: 0.862393\n",
      "[12]\tvalid_0's binary_logloss: 0.352291\tvalid_0's auc: 0.861002\n",
      "[13]\tvalid_0's binary_logloss: 0.351765\tvalid_0's auc: 0.86099\n",
      "[14]\tvalid_0's binary_logloss: 0.351072\tvalid_0's auc: 0.860923\n",
      "[15]\tvalid_0's binary_logloss: 0.350538\tvalid_0's auc: 0.860987\n",
      "Early stopping, best iteration is:\n",
      "[10]\tvalid_0's binary_logloss: 0.353906\tvalid_0's auc: 0.863024\n"
     ]
    },
    {
     "name": "stderr",
     "output_type": "stream",
     "text": [
      "/Library/Frameworks/Python.framework/Versions/3.6/lib/python3.6/site-packages/sklearn/preprocessing/label.py:151: DeprecationWarning: The truth value of an empty array is ambiguous. Returning False, but in future this will result in an error. Use `array.size > 0` to check that an array is not empty.\n",
      "  if diff:\n",
      "/Library/Frameworks/Python.framework/Versions/3.6/lib/python3.6/site-packages/sklearn/preprocessing/label.py:151: DeprecationWarning: The truth value of an empty array is ambiguous. Returning False, but in future this will result in an error. Use `array.size > 0` to check that an array is not empty.\n",
      "  if diff:\n"
     ]
    },
    {
     "name": "stdout",
     "output_type": "stream",
     "text": [
      "[1]\tvalid_0's binary_logloss: 0.45271\tvalid_0's auc: 0.823169\n",
      "Training until validation scores don't improve for 5 rounds.\n",
      "[2]\tvalid_0's binary_logloss: 0.424384\tvalid_0's auc: 0.848047\n",
      "[3]\tvalid_0's binary_logloss: 0.405605\tvalid_0's auc: 0.850719\n",
      "[4]\tvalid_0's binary_logloss: 0.390489\tvalid_0's auc: 0.854629\n",
      "[5]\tvalid_0's binary_logloss: 0.380002\tvalid_0's auc: 0.855692\n",
      "[6]\tvalid_0's binary_logloss: 0.372697\tvalid_0's auc: 0.858798\n",
      "[7]\tvalid_0's binary_logloss: 0.365945\tvalid_0's auc: 0.85968\n",
      "[8]\tvalid_0's binary_logloss: 0.361511\tvalid_0's auc: 0.859776\n",
      "[9]\tvalid_0's binary_logloss: 0.358303\tvalid_0's auc: 0.859841\n",
      "[10]\tvalid_0's binary_logloss: 0.355228\tvalid_0's auc: 0.859893\n",
      "[11]\tvalid_0's binary_logloss: 0.352742\tvalid_0's auc: 0.86096\n",
      "[12]\tvalid_0's binary_logloss: 0.351049\tvalid_0's auc: 0.86126\n",
      "[13]\tvalid_0's binary_logloss: 0.3493\tvalid_0's auc: 0.861886\n",
      "[14]\tvalid_0's binary_logloss: 0.347966\tvalid_0's auc: 0.862298\n",
      "[15]\tvalid_0's binary_logloss: 0.348606\tvalid_0's auc: 0.861335\n",
      "[16]\tvalid_0's binary_logloss: 0.3488\tvalid_0's auc: 0.860654\n",
      "[17]\tvalid_0's binary_logloss: 0.348703\tvalid_0's auc: 0.860727\n",
      "[18]\tvalid_0's binary_logloss: 0.348235\tvalid_0's auc: 0.861313\n",
      "[19]\tvalid_0's binary_logloss: 0.34785\tvalid_0's auc: 0.861343\n",
      "Early stopping, best iteration is:\n",
      "[14]\tvalid_0's binary_logloss: 0.347966\tvalid_0's auc: 0.862298\n"
     ]
    },
    {
     "name": "stderr",
     "output_type": "stream",
     "text": [
      "/Library/Frameworks/Python.framework/Versions/3.6/lib/python3.6/site-packages/sklearn/preprocessing/label.py:151: DeprecationWarning: The truth value of an empty array is ambiguous. Returning False, but in future this will result in an error. Use `array.size > 0` to check that an array is not empty.\n",
      "  if diff:\n",
      "/Library/Frameworks/Python.framework/Versions/3.6/lib/python3.6/site-packages/sklearn/preprocessing/label.py:151: DeprecationWarning: The truth value of an empty array is ambiguous. Returning False, but in future this will result in an error. Use `array.size > 0` to check that an array is not empty.\n",
      "  if diff:\n"
     ]
    },
    {
     "name": "stdout",
     "output_type": "stream",
     "text": [
      "[1]\tvalid_0's binary_logloss: 0.450677\tvalid_0's auc: 0.837907\n",
      "Training until validation scores don't improve for 5 rounds.\n",
      "[2]\tvalid_0's binary_logloss: 0.42452\tvalid_0's auc: 0.846844\n",
      "[3]\tvalid_0's binary_logloss: 0.40564\tvalid_0's auc: 0.850945\n",
      "[4]\tvalid_0's binary_logloss: 0.389068\tvalid_0's auc: 0.857805\n",
      "[5]\tvalid_0's binary_logloss: 0.378969\tvalid_0's auc: 0.860621\n",
      "[6]\tvalid_0's binary_logloss: 0.370864\tvalid_0's auc: 0.862133\n",
      "[7]\tvalid_0's binary_logloss: 0.365839\tvalid_0's auc: 0.861775\n",
      "[8]\tvalid_0's binary_logloss: 0.362555\tvalid_0's auc: 0.860928\n",
      "[9]\tvalid_0's binary_logloss: 0.359354\tvalid_0's auc: 0.861758\n",
      "[10]\tvalid_0's binary_logloss: 0.35719\tvalid_0's auc: 0.861299\n",
      "[11]\tvalid_0's binary_logloss: 0.357217\tvalid_0's auc: 0.858778\n",
      "Early stopping, best iteration is:\n",
      "[6]\tvalid_0's binary_logloss: 0.370864\tvalid_0's auc: 0.862133\n"
     ]
    },
    {
     "name": "stderr",
     "output_type": "stream",
     "text": [
      "/Library/Frameworks/Python.framework/Versions/3.6/lib/python3.6/site-packages/sklearn/preprocessing/label.py:151: DeprecationWarning: The truth value of an empty array is ambiguous. Returning False, but in future this will result in an error. Use `array.size > 0` to check that an array is not empty.\n",
      "  if diff:\n",
      "/Library/Frameworks/Python.framework/Versions/3.6/lib/python3.6/site-packages/sklearn/preprocessing/label.py:151: DeprecationWarning: The truth value of an empty array is ambiguous. Returning False, but in future this will result in an error. Use `array.size > 0` to check that an array is not empty.\n",
      "  if diff:\n"
     ]
    },
    {
     "name": "stdout",
     "output_type": "stream",
     "text": [
      "[1]\tvalid_0's binary_logloss: 0.45435\tvalid_0's auc: 0.823479\n",
      "Training until validation scores don't improve for 5 rounds.\n",
      "[2]\tvalid_0's binary_logloss: 0.426456\tvalid_0's auc: 0.840169\n",
      "[3]\tvalid_0's binary_logloss: 0.407246\tvalid_0's auc: 0.845948\n",
      "[4]\tvalid_0's binary_logloss: 0.391406\tvalid_0's auc: 0.852102\n",
      "[5]\tvalid_0's binary_logloss: 0.381126\tvalid_0's auc: 0.853286\n",
      "[6]\tvalid_0's binary_logloss: 0.371327\tvalid_0's auc: 0.858398\n",
      "[7]\tvalid_0's binary_logloss: 0.365171\tvalid_0's auc: 0.859392\n",
      "[8]\tvalid_0's binary_logloss: 0.360858\tvalid_0's auc: 0.86082\n",
      "[9]\tvalid_0's binary_logloss: 0.356736\tvalid_0's auc: 0.862383\n",
      "[10]\tvalid_0's binary_logloss: 0.353906\tvalid_0's auc: 0.863024\n",
      "[11]\tvalid_0's binary_logloss: 0.352747\tvalid_0's auc: 0.862393\n",
      "[12]\tvalid_0's binary_logloss: 0.352291\tvalid_0's auc: 0.861002\n",
      "[13]\tvalid_0's binary_logloss: 0.351765\tvalid_0's auc: 0.86099\n",
      "[14]\tvalid_0's binary_logloss: 0.351072\tvalid_0's auc: 0.860923\n",
      "[15]\tvalid_0's binary_logloss: 0.350538\tvalid_0's auc: 0.860987\n",
      "Early stopping, best iteration is:\n",
      "[10]\tvalid_0's binary_logloss: 0.353906\tvalid_0's auc: 0.863024\n",
      "[1]\tvalid_0's binary_logloss: 0.45271\tvalid_0's auc: 0.823169\n",
      "Training until validation scores don't improve for 5 rounds.\n",
      "[2]\tvalid_0's binary_logloss: 0.424384\tvalid_0's auc: 0.848047\n",
      "[3]\tvalid_0's binary_logloss: 0.405605\tvalid_0's auc: 0.850719\n",
      "[4]\tvalid_0's binary_logloss: 0.390489\tvalid_0's auc: 0.854629\n",
      "[5]\tvalid_0's binary_logloss: 0.380002\tvalid_0's auc: 0.855692\n",
      "[6]\tvalid_0's binary_logloss: 0.372697\tvalid_0's auc: 0.858798\n",
      "[7]\tvalid_0's binary_logloss: 0.365945\tvalid_0's auc: 0.85968\n",
      "[8]\tvalid_0's binary_logloss: 0.361511\tvalid_0's auc: 0.859776\n"
     ]
    },
    {
     "name": "stderr",
     "output_type": "stream",
     "text": [
      "/Library/Frameworks/Python.framework/Versions/3.6/lib/python3.6/site-packages/sklearn/preprocessing/label.py:151: DeprecationWarning: The truth value of an empty array is ambiguous. Returning False, but in future this will result in an error. Use `array.size > 0` to check that an array is not empty.\n",
      "  if diff:\n",
      "/Library/Frameworks/Python.framework/Versions/3.6/lib/python3.6/site-packages/sklearn/preprocessing/label.py:151: DeprecationWarning: The truth value of an empty array is ambiguous. Returning False, but in future this will result in an error. Use `array.size > 0` to check that an array is not empty.\n",
      "  if diff:\n"
     ]
    },
    {
     "name": "stdout",
     "output_type": "stream",
     "text": [
      "[9]\tvalid_0's binary_logloss: 0.358303\tvalid_0's auc: 0.859841\n",
      "[10]\tvalid_0's binary_logloss: 0.355228\tvalid_0's auc: 0.859893\n",
      "[11]\tvalid_0's binary_logloss: 0.352742\tvalid_0's auc: 0.86096\n",
      "[12]\tvalid_0's binary_logloss: 0.351049\tvalid_0's auc: 0.86126\n",
      "[13]\tvalid_0's binary_logloss: 0.3493\tvalid_0's auc: 0.861886\n",
      "[14]\tvalid_0's binary_logloss: 0.347966\tvalid_0's auc: 0.862298\n",
      "[15]\tvalid_0's binary_logloss: 0.348606\tvalid_0's auc: 0.861335\n",
      "[16]\tvalid_0's binary_logloss: 0.3488\tvalid_0's auc: 0.860654\n",
      "[17]\tvalid_0's binary_logloss: 0.348703\tvalid_0's auc: 0.860727\n",
      "[18]\tvalid_0's binary_logloss: 0.348235\tvalid_0's auc: 0.861313\n",
      "[19]\tvalid_0's binary_logloss: 0.34785\tvalid_0's auc: 0.861343\n",
      "Early stopping, best iteration is:\n",
      "[14]\tvalid_0's binary_logloss: 0.347966\tvalid_0's auc: 0.862298\n"
     ]
    },
    {
     "name": "stderr",
     "output_type": "stream",
     "text": [
      "/Library/Frameworks/Python.framework/Versions/3.6/lib/python3.6/site-packages/sklearn/preprocessing/label.py:151: DeprecationWarning: The truth value of an empty array is ambiguous. Returning False, but in future this will result in an error. Use `array.size > 0` to check that an array is not empty.\n",
      "  if diff:\n",
      "/Library/Frameworks/Python.framework/Versions/3.6/lib/python3.6/site-packages/sklearn/preprocessing/label.py:151: DeprecationWarning: The truth value of an empty array is ambiguous. Returning False, but in future this will result in an error. Use `array.size > 0` to check that an array is not empty.\n",
      "  if diff:\n"
     ]
    },
    {
     "name": "stdout",
     "output_type": "stream",
     "text": [
      "[1]\tvalid_0's binary_logloss: 0.444849\tvalid_0's auc: 0.837907\n",
      "Training until validation scores don't improve for 5 rounds.\n",
      "[2]\tvalid_0's binary_logloss: 0.418313\tvalid_0's auc: 0.845299\n",
      "[3]\tvalid_0's binary_logloss: 0.399248\tvalid_0's auc: 0.85102\n",
      "[4]\tvalid_0's binary_logloss: 0.384333\tvalid_0's auc: 0.854281\n",
      "[5]\tvalid_0's binary_logloss: 0.37562\tvalid_0's auc: 0.854269\n",
      "[6]\tvalid_0's binary_logloss: 0.368571\tvalid_0's auc: 0.855409\n",
      "[7]\tvalid_0's binary_logloss: 0.36346\tvalid_0's auc: 0.857054\n",
      "[8]\tvalid_0's binary_logloss: 0.359377\tvalid_0's auc: 0.858791\n",
      "[9]\tvalid_0's binary_logloss: 0.35617\tvalid_0's auc: 0.859689\n",
      "[10]\tvalid_0's binary_logloss: 0.353766\tvalid_0's auc: 0.861045\n",
      "Did not meet early stopping. Best iteration is:\n",
      "[10]\tvalid_0's binary_logloss: 0.353766\tvalid_0's auc: 0.861045\n"
     ]
    },
    {
     "name": "stderr",
     "output_type": "stream",
     "text": [
      "/Library/Frameworks/Python.framework/Versions/3.6/lib/python3.6/site-packages/sklearn/preprocessing/label.py:151: DeprecationWarning: The truth value of an empty array is ambiguous. Returning False, but in future this will result in an error. Use `array.size > 0` to check that an array is not empty.\n",
      "  if diff:\n",
      "/Library/Frameworks/Python.framework/Versions/3.6/lib/python3.6/site-packages/sklearn/preprocessing/label.py:151: DeprecationWarning: The truth value of an empty array is ambiguous. Returning False, but in future this will result in an error. Use `array.size > 0` to check that an array is not empty.\n",
      "  if diff:\n"
     ]
    },
    {
     "name": "stdout",
     "output_type": "stream",
     "text": [
      "[1]\tvalid_0's binary_logloss: 0.449071\tvalid_0's auc: 0.823479\n",
      "Training until validation scores don't improve for 5 rounds.\n",
      "[2]\tvalid_0's binary_logloss: 0.418687\tvalid_0's auc: 0.843905\n",
      "[3]\tvalid_0's binary_logloss: 0.399237\tvalid_0's auc: 0.848319\n",
      "[4]\tvalid_0's binary_logloss: 0.385509\tvalid_0's auc: 0.852169\n",
      "[5]\tvalid_0's binary_logloss: 0.375163\tvalid_0's auc: 0.855319\n",
      "[6]\tvalid_0's binary_logloss: 0.368052\tvalid_0's auc: 0.857063\n",
      "[7]\tvalid_0's binary_logloss: 0.363382\tvalid_0's auc: 0.857412\n",
      "[8]\tvalid_0's binary_logloss: 0.360052\tvalid_0's auc: 0.857878\n",
      "[9]\tvalid_0's binary_logloss: 0.358295\tvalid_0's auc: 0.857494\n",
      "[10]\tvalid_0's binary_logloss: 0.355072\tvalid_0's auc: 0.858804\n",
      "Did not meet early stopping. Best iteration is:\n",
      "[10]\tvalid_0's binary_logloss: 0.355072\tvalid_0's auc: 0.858804\n"
     ]
    },
    {
     "name": "stderr",
     "output_type": "stream",
     "text": [
      "/Library/Frameworks/Python.framework/Versions/3.6/lib/python3.6/site-packages/sklearn/preprocessing/label.py:151: DeprecationWarning: The truth value of an empty array is ambiguous. Returning False, but in future this will result in an error. Use `array.size > 0` to check that an array is not empty.\n",
      "  if diff:\n",
      "/Library/Frameworks/Python.framework/Versions/3.6/lib/python3.6/site-packages/sklearn/preprocessing/label.py:151: DeprecationWarning: The truth value of an empty array is ambiguous. Returning False, but in future this will result in an error. Use `array.size > 0` to check that an array is not empty.\n",
      "  if diff:\n"
     ]
    },
    {
     "name": "stdout",
     "output_type": "stream",
     "text": [
      "[1]\tvalid_0's binary_logloss: 0.447226\tvalid_0's auc: 0.823169\n",
      "Training until validation scores don't improve for 5 rounds.\n",
      "[2]\tvalid_0's binary_logloss: 0.417739\tvalid_0's auc: 0.847785\n",
      "[3]\tvalid_0's binary_logloss: 0.397766\tvalid_0's auc: 0.852118\n",
      "[4]\tvalid_0's binary_logloss: 0.38495\tvalid_0's auc: 0.854298\n",
      "[5]\tvalid_0's binary_logloss: 0.375007\tvalid_0's auc: 0.855335\n",
      "[6]\tvalid_0's binary_logloss: 0.369813\tvalid_0's auc: 0.855791\n",
      "[7]\tvalid_0's binary_logloss: 0.364555\tvalid_0's auc: 0.856613\n",
      "[8]\tvalid_0's binary_logloss: 0.360715\tvalid_0's auc: 0.858285\n",
      "[9]\tvalid_0's binary_logloss: 0.356826\tvalid_0's auc: 0.859615\n",
      "[10]\tvalid_0's binary_logloss: 0.354304\tvalid_0's auc: 0.860612\n",
      "Did not meet early stopping. Best iteration is:\n",
      "[10]\tvalid_0's binary_logloss: 0.354304\tvalid_0's auc: 0.860612\n"
     ]
    },
    {
     "name": "stderr",
     "output_type": "stream",
     "text": [
      "/Library/Frameworks/Python.framework/Versions/3.6/lib/python3.6/site-packages/sklearn/preprocessing/label.py:151: DeprecationWarning: The truth value of an empty array is ambiguous. Returning False, but in future this will result in an error. Use `array.size > 0` to check that an array is not empty.\n",
      "  if diff:\n",
      "/Library/Frameworks/Python.framework/Versions/3.6/lib/python3.6/site-packages/sklearn/preprocessing/label.py:151: DeprecationWarning: The truth value of an empty array is ambiguous. Returning False, but in future this will result in an error. Use `array.size > 0` to check that an array is not empty.\n",
      "  if diff:\n"
     ]
    },
    {
     "name": "stdout",
     "output_type": "stream",
     "text": [
      "[1]\tvalid_0's binary_logloss: 0.444849\tvalid_0's auc: 0.837907\n",
      "Training until validation scores don't improve for 5 rounds.\n",
      "[2]\tvalid_0's binary_logloss: 0.418313\tvalid_0's auc: 0.845299\n",
      "[3]\tvalid_0's binary_logloss: 0.399248\tvalid_0's auc: 0.85102\n",
      "[4]\tvalid_0's binary_logloss: 0.384333\tvalid_0's auc: 0.854281\n",
      "[5]\tvalid_0's binary_logloss: 0.37562\tvalid_0's auc: 0.854269\n",
      "[6]\tvalid_0's binary_logloss: 0.368571\tvalid_0's auc: 0.855409\n",
      "[7]\tvalid_0's binary_logloss: 0.36346\tvalid_0's auc: 0.857054\n",
      "[8]\tvalid_0's binary_logloss: 0.359377\tvalid_0's auc: 0.858791\n",
      "[9]\tvalid_0's binary_logloss: 0.35617\tvalid_0's auc: 0.859689\n",
      "[10]\tvalid_0's binary_logloss: 0.353766\tvalid_0's auc: 0.861045\n",
      "[11]\tvalid_0's binary_logloss: 0.353049\tvalid_0's auc: 0.860431\n",
      "[12]\tvalid_0's binary_logloss: 0.3521\tvalid_0's auc: 0.860297\n",
      "[13]\tvalid_0's binary_logloss: 0.350576\tvalid_0's auc: 0.861437\n",
      "Did not meet early stopping. Best iteration is:\n",
      "[13]\tvalid_0's binary_logloss: 0.350576\tvalid_0's auc: 0.861437\n"
     ]
    },
    {
     "name": "stderr",
     "output_type": "stream",
     "text": [
      "/Library/Frameworks/Python.framework/Versions/3.6/lib/python3.6/site-packages/sklearn/preprocessing/label.py:151: DeprecationWarning: The truth value of an empty array is ambiguous. Returning False, but in future this will result in an error. Use `array.size > 0` to check that an array is not empty.\n",
      "  if diff:\n",
      "/Library/Frameworks/Python.framework/Versions/3.6/lib/python3.6/site-packages/sklearn/preprocessing/label.py:151: DeprecationWarning: The truth value of an empty array is ambiguous. Returning False, but in future this will result in an error. Use `array.size > 0` to check that an array is not empty.\n",
      "  if diff:\n"
     ]
    },
    {
     "name": "stdout",
     "output_type": "stream",
     "text": [
      "[1]\tvalid_0's binary_logloss: 0.449071\tvalid_0's auc: 0.823479\n",
      "Training until validation scores don't improve for 5 rounds.\n",
      "[2]\tvalid_0's binary_logloss: 0.418687\tvalid_0's auc: 0.843905\n",
      "[3]\tvalid_0's binary_logloss: 0.399237\tvalid_0's auc: 0.848319\n",
      "[4]\tvalid_0's binary_logloss: 0.385509\tvalid_0's auc: 0.852169\n",
      "[5]\tvalid_0's binary_logloss: 0.375163\tvalid_0's auc: 0.855319\n",
      "[6]\tvalid_0's binary_logloss: 0.368052\tvalid_0's auc: 0.857063\n",
      "[7]\tvalid_0's binary_logloss: 0.363382\tvalid_0's auc: 0.857412\n",
      "[8]\tvalid_0's binary_logloss: 0.360052\tvalid_0's auc: 0.857878\n",
      "[9]\tvalid_0's binary_logloss: 0.358295\tvalid_0's auc: 0.857494\n",
      "[10]\tvalid_0's binary_logloss: 0.355072\tvalid_0's auc: 0.858804\n",
      "[11]\tvalid_0's binary_logloss: 0.353884\tvalid_0's auc: 0.858368\n",
      "[12]\tvalid_0's binary_logloss: 0.353651\tvalid_0's auc: 0.857435\n",
      "[13]\tvalid_0's binary_logloss: 0.352607\tvalid_0's auc: 0.857911\n",
      "Did not meet early stopping. Best iteration is:\n",
      "[13]\tvalid_0's binary_logloss: 0.352607\tvalid_0's auc: 0.857911\n"
     ]
    },
    {
     "name": "stderr",
     "output_type": "stream",
     "text": [
      "/Library/Frameworks/Python.framework/Versions/3.6/lib/python3.6/site-packages/sklearn/preprocessing/label.py:151: DeprecationWarning: The truth value of an empty array is ambiguous. Returning False, but in future this will result in an error. Use `array.size > 0` to check that an array is not empty.\n",
      "  if diff:\n",
      "/Library/Frameworks/Python.framework/Versions/3.6/lib/python3.6/site-packages/sklearn/preprocessing/label.py:151: DeprecationWarning: The truth value of an empty array is ambiguous. Returning False, but in future this will result in an error. Use `array.size > 0` to check that an array is not empty.\n",
      "  if diff:\n"
     ]
    },
    {
     "name": "stdout",
     "output_type": "stream",
     "text": [
      "[1]\tvalid_0's binary_logloss: 0.447226\tvalid_0's auc: 0.823169\n",
      "Training until validation scores don't improve for 5 rounds.\n",
      "[2]\tvalid_0's binary_logloss: 0.417739\tvalid_0's auc: 0.847785\n",
      "[3]\tvalid_0's binary_logloss: 0.397766\tvalid_0's auc: 0.852118\n",
      "[4]\tvalid_0's binary_logloss: 0.38495\tvalid_0's auc: 0.854298\n",
      "[5]\tvalid_0's binary_logloss: 0.375007\tvalid_0's auc: 0.855335\n",
      "[6]\tvalid_0's binary_logloss: 0.369813\tvalid_0's auc: 0.855791\n",
      "[7]\tvalid_0's binary_logloss: 0.364555\tvalid_0's auc: 0.856613\n",
      "[8]\tvalid_0's binary_logloss: 0.360715\tvalid_0's auc: 0.858285\n",
      "[9]\tvalid_0's binary_logloss: 0.356826\tvalid_0's auc: 0.859615\n",
      "[10]\tvalid_0's binary_logloss: 0.354304\tvalid_0's auc: 0.860612\n",
      "[11]\tvalid_0's binary_logloss: 0.352709\tvalid_0's auc: 0.860332\n",
      "[12]\tvalid_0's binary_logloss: 0.351001\tvalid_0's auc: 0.860839\n",
      "[13]\tvalid_0's binary_logloss: 0.35001\tvalid_0's auc: 0.861\n",
      "Did not meet early stopping. Best iteration is:\n",
      "[13]\tvalid_0's binary_logloss: 0.35001\tvalid_0's auc: 0.861\n"
     ]
    },
    {
     "name": "stderr",
     "output_type": "stream",
     "text": [
      "/Library/Frameworks/Python.framework/Versions/3.6/lib/python3.6/site-packages/sklearn/preprocessing/label.py:151: DeprecationWarning: The truth value of an empty array is ambiguous. Returning False, but in future this will result in an error. Use `array.size > 0` to check that an array is not empty.\n",
      "  if diff:\n",
      "/Library/Frameworks/Python.framework/Versions/3.6/lib/python3.6/site-packages/sklearn/preprocessing/label.py:151: DeprecationWarning: The truth value of an empty array is ambiguous. Returning False, but in future this will result in an error. Use `array.size > 0` to check that an array is not empty.\n",
      "  if diff:\n"
     ]
    },
    {
     "name": "stdout",
     "output_type": "stream",
     "text": [
      "[1]\tvalid_0's binary_logloss: 0.444849\tvalid_0's auc: 0.837907\n",
      "Training until validation scores don't improve for 5 rounds.\n",
      "[2]\tvalid_0's binary_logloss: 0.418313\tvalid_0's auc: 0.845299\n",
      "[3]\tvalid_0's binary_logloss: 0.399248\tvalid_0's auc: 0.85102\n",
      "[4]\tvalid_0's binary_logloss: 0.384333\tvalid_0's auc: 0.854281\n",
      "[5]\tvalid_0's binary_logloss: 0.37562\tvalid_0's auc: 0.854269\n",
      "[6]\tvalid_0's binary_logloss: 0.368571\tvalid_0's auc: 0.855409\n",
      "[7]\tvalid_0's binary_logloss: 0.36346\tvalid_0's auc: 0.857054\n",
      "[8]\tvalid_0's binary_logloss: 0.359377\tvalid_0's auc: 0.858791\n",
      "[9]\tvalid_0's binary_logloss: 0.35617\tvalid_0's auc: 0.859689\n",
      "[10]\tvalid_0's binary_logloss: 0.353766\tvalid_0's auc: 0.861045\n",
      "[11]\tvalid_0's binary_logloss: 0.353049\tvalid_0's auc: 0.860431\n",
      "[12]\tvalid_0's binary_logloss: 0.3521\tvalid_0's auc: 0.860297\n",
      "[13]\tvalid_0's binary_logloss: 0.350576\tvalid_0's auc: 0.861437\n",
      "[14]\tvalid_0's binary_logloss: 0.349803\tvalid_0's auc: 0.861473\n",
      "[15]\tvalid_0's binary_logloss: 0.349246\tvalid_0's auc: 0.861778\n",
      "[16]\tvalid_0's binary_logloss: 0.347699\tvalid_0's auc: 0.862838\n",
      "Did not meet early stopping. Best iteration is:\n",
      "[16]\tvalid_0's binary_logloss: 0.347699\tvalid_0's auc: 0.862838\n",
      "[1]\tvalid_0's binary_logloss: 0.449071\tvalid_0's auc: 0.823479\n",
      "Training until validation scores don't improve for 5 rounds.\n",
      "[2]\tvalid_0's binary_logloss: 0.418687\tvalid_0's auc: 0.843905\n",
      "[3]\tvalid_0's binary_logloss: 0.399237\tvalid_0's auc: 0.848319\n",
      "[4]\tvalid_0's binary_logloss: 0.385509\tvalid_0's auc: 0.852169\n",
      "[5]\tvalid_0's binary_logloss: 0.375163\tvalid_0's auc: 0.855319\n",
      "[6]\tvalid_0's binary_logloss: 0.368052\tvalid_0's auc: 0.857063\n",
      "[7]\tvalid_0's binary_logloss: 0.363382\tvalid_0's auc: 0.857412\n"
     ]
    },
    {
     "name": "stderr",
     "output_type": "stream",
     "text": [
      "/Library/Frameworks/Python.framework/Versions/3.6/lib/python3.6/site-packages/sklearn/preprocessing/label.py:151: DeprecationWarning: The truth value of an empty array is ambiguous. Returning False, but in future this will result in an error. Use `array.size > 0` to check that an array is not empty.\n",
      "  if diff:\n",
      "/Library/Frameworks/Python.framework/Versions/3.6/lib/python3.6/site-packages/sklearn/preprocessing/label.py:151: DeprecationWarning: The truth value of an empty array is ambiguous. Returning False, but in future this will result in an error. Use `array.size > 0` to check that an array is not empty.\n",
      "  if diff:\n"
     ]
    },
    {
     "name": "stdout",
     "output_type": "stream",
     "text": [
      "[8]\tvalid_0's binary_logloss: 0.360052\tvalid_0's auc: 0.857878\n",
      "[9]\tvalid_0's binary_logloss: 0.358295\tvalid_0's auc: 0.857494\n",
      "[10]\tvalid_0's binary_logloss: 0.355072\tvalid_0's auc: 0.858804\n",
      "[11]\tvalid_0's binary_logloss: 0.353884\tvalid_0's auc: 0.858368\n",
      "[12]\tvalid_0's binary_logloss: 0.353651\tvalid_0's auc: 0.857435\n",
      "[13]\tvalid_0's binary_logloss: 0.352607\tvalid_0's auc: 0.857911\n",
      "[14]\tvalid_0's binary_logloss: 0.352553\tvalid_0's auc: 0.857983\n",
      "[15]\tvalid_0's binary_logloss: 0.351391\tvalid_0's auc: 0.858947\n",
      "[16]\tvalid_0's binary_logloss: 0.35173\tvalid_0's auc: 0.858698\n",
      "Did not meet early stopping. Best iteration is:\n",
      "[15]\tvalid_0's binary_logloss: 0.351391\tvalid_0's auc: 0.858947\n"
     ]
    },
    {
     "name": "stderr",
     "output_type": "stream",
     "text": [
      "/Library/Frameworks/Python.framework/Versions/3.6/lib/python3.6/site-packages/sklearn/preprocessing/label.py:151: DeprecationWarning: The truth value of an empty array is ambiguous. Returning False, but in future this will result in an error. Use `array.size > 0` to check that an array is not empty.\n",
      "  if diff:\n",
      "/Library/Frameworks/Python.framework/Versions/3.6/lib/python3.6/site-packages/sklearn/preprocessing/label.py:151: DeprecationWarning: The truth value of an empty array is ambiguous. Returning False, but in future this will result in an error. Use `array.size > 0` to check that an array is not empty.\n",
      "  if diff:\n"
     ]
    },
    {
     "name": "stdout",
     "output_type": "stream",
     "text": [
      "[1]\tvalid_0's binary_logloss: 0.447226\tvalid_0's auc: 0.823169\n",
      "Training until validation scores don't improve for 5 rounds.\n",
      "[2]\tvalid_0's binary_logloss: 0.417739\tvalid_0's auc: 0.847785\n",
      "[3]\tvalid_0's binary_logloss: 0.397766\tvalid_0's auc: 0.852118\n",
      "[4]\tvalid_0's binary_logloss: 0.38495\tvalid_0's auc: 0.854298\n",
      "[5]\tvalid_0's binary_logloss: 0.375007\tvalid_0's auc: 0.855335\n",
      "[6]\tvalid_0's binary_logloss: 0.369813\tvalid_0's auc: 0.855791\n",
      "[7]\tvalid_0's binary_logloss: 0.364555\tvalid_0's auc: 0.856613\n",
      "[8]\tvalid_0's binary_logloss: 0.360715\tvalid_0's auc: 0.858285\n",
      "[9]\tvalid_0's binary_logloss: 0.356826\tvalid_0's auc: 0.859615\n",
      "[10]\tvalid_0's binary_logloss: 0.354304\tvalid_0's auc: 0.860612\n",
      "[11]\tvalid_0's binary_logloss: 0.352709\tvalid_0's auc: 0.860332\n",
      "[12]\tvalid_0's binary_logloss: 0.351001\tvalid_0's auc: 0.860839\n",
      "[13]\tvalid_0's binary_logloss: 0.35001\tvalid_0's auc: 0.861\n",
      "[14]\tvalid_0's binary_logloss: 0.350839\tvalid_0's auc: 0.860171\n",
      "[15]\tvalid_0's binary_logloss: 0.350144\tvalid_0's auc: 0.860424\n",
      "[16]\tvalid_0's binary_logloss: 0.350309\tvalid_0's auc: 0.859944\n",
      "Did not meet early stopping. Best iteration is:\n",
      "[13]\tvalid_0's binary_logloss: 0.35001\tvalid_0's auc: 0.861\n",
      "[1]\tvalid_0's binary_logloss: 0.444849\tvalid_0's auc: 0.837907\n",
      "Training until validation scores don't improve for 5 rounds.\n",
      "[2]\tvalid_0's binary_logloss: 0.418313\tvalid_0's auc: 0.845299\n",
      "[3]\tvalid_0's binary_logloss: 0.399248\tvalid_0's auc: 0.85102\n"
     ]
    },
    {
     "name": "stderr",
     "output_type": "stream",
     "text": [
      "/Library/Frameworks/Python.framework/Versions/3.6/lib/python3.6/site-packages/sklearn/preprocessing/label.py:151: DeprecationWarning: The truth value of an empty array is ambiguous. Returning False, but in future this will result in an error. Use `array.size > 0` to check that an array is not empty.\n",
      "  if diff:\n",
      "/Library/Frameworks/Python.framework/Versions/3.6/lib/python3.6/site-packages/sklearn/preprocessing/label.py:151: DeprecationWarning: The truth value of an empty array is ambiguous. Returning False, but in future this will result in an error. Use `array.size > 0` to check that an array is not empty.\n",
      "  if diff:\n"
     ]
    },
    {
     "name": "stdout",
     "output_type": "stream",
     "text": [
      "[4]\tvalid_0's binary_logloss: 0.384333\tvalid_0's auc: 0.854281\n",
      "[5]\tvalid_0's binary_logloss: 0.37562\tvalid_0's auc: 0.854269\n",
      "[6]\tvalid_0's binary_logloss: 0.368571\tvalid_0's auc: 0.855409\n",
      "[7]\tvalid_0's binary_logloss: 0.36346\tvalid_0's auc: 0.857054\n",
      "[8]\tvalid_0's binary_logloss: 0.359377\tvalid_0's auc: 0.858791\n",
      "[9]\tvalid_0's binary_logloss: 0.35617\tvalid_0's auc: 0.859689\n",
      "[10]\tvalid_0's binary_logloss: 0.353766\tvalid_0's auc: 0.861045\n",
      "[11]\tvalid_0's binary_logloss: 0.353049\tvalid_0's auc: 0.860431\n",
      "[12]\tvalid_0's binary_logloss: 0.3521\tvalid_0's auc: 0.860297\n",
      "[13]\tvalid_0's binary_logloss: 0.350576\tvalid_0's auc: 0.861437\n",
      "[14]\tvalid_0's binary_logloss: 0.349803\tvalid_0's auc: 0.861473\n",
      "[15]\tvalid_0's binary_logloss: 0.349246\tvalid_0's auc: 0.861778\n",
      "[16]\tvalid_0's binary_logloss: 0.347699\tvalid_0's auc: 0.862838\n",
      "[17]\tvalid_0's binary_logloss: 0.348948\tvalid_0's auc: 0.861546\n",
      "[18]\tvalid_0's binary_logloss: 0.34926\tvalid_0's auc: 0.861215\n",
      "[19]\tvalid_0's binary_logloss: 0.349007\tvalid_0's auc: 0.86181\n",
      "Did not meet early stopping. Best iteration is:\n",
      "[16]\tvalid_0's binary_logloss: 0.347699\tvalid_0's auc: 0.862838\n",
      "[1]\tvalid_0's binary_logloss: 0.449071\tvalid_0's auc: 0.823479\n",
      "Training until validation scores don't improve for 5 rounds.\n",
      "[2]\tvalid_0's binary_logloss: 0.418687\tvalid_0's auc: 0.843905\n",
      "[3]\tvalid_0's binary_logloss: 0.399237\tvalid_0's auc: 0.848319\n",
      "[4]\tvalid_0's binary_logloss: 0.385509\tvalid_0's auc: 0.852169\n",
      "[5]\tvalid_0's binary_logloss: 0.375163\tvalid_0's auc: 0.855319\n",
      "[6]\tvalid_0's binary_logloss: 0.368052\tvalid_0's auc: 0.857063\n",
      "[7]\tvalid_0's binary_logloss: 0.363382\tvalid_0's auc: 0.857412\n"
     ]
    },
    {
     "name": "stderr",
     "output_type": "stream",
     "text": [
      "/Library/Frameworks/Python.framework/Versions/3.6/lib/python3.6/site-packages/sklearn/preprocessing/label.py:151: DeprecationWarning: The truth value of an empty array is ambiguous. Returning False, but in future this will result in an error. Use `array.size > 0` to check that an array is not empty.\n",
      "  if diff:\n",
      "/Library/Frameworks/Python.framework/Versions/3.6/lib/python3.6/site-packages/sklearn/preprocessing/label.py:151: DeprecationWarning: The truth value of an empty array is ambiguous. Returning False, but in future this will result in an error. Use `array.size > 0` to check that an array is not empty.\n",
      "  if diff:\n"
     ]
    },
    {
     "name": "stdout",
     "output_type": "stream",
     "text": [
      "[8]\tvalid_0's binary_logloss: 0.360052\tvalid_0's auc: 0.857878\n",
      "[9]\tvalid_0's binary_logloss: 0.358295\tvalid_0's auc: 0.857494\n",
      "[10]\tvalid_0's binary_logloss: 0.355072\tvalid_0's auc: 0.858804\n",
      "[11]\tvalid_0's binary_logloss: 0.353884\tvalid_0's auc: 0.858368\n",
      "[12]\tvalid_0's binary_logloss: 0.353651\tvalid_0's auc: 0.857435\n",
      "[13]\tvalid_0's binary_logloss: 0.352607\tvalid_0's auc: 0.857911\n",
      "[14]\tvalid_0's binary_logloss: 0.352553\tvalid_0's auc: 0.857983\n",
      "[15]\tvalid_0's binary_logloss: 0.351391\tvalid_0's auc: 0.858947\n",
      "[16]\tvalid_0's binary_logloss: 0.35173\tvalid_0's auc: 0.858698\n",
      "[17]\tvalid_0's binary_logloss: 0.352694\tvalid_0's auc: 0.85828\n",
      "[18]\tvalid_0's binary_logloss: 0.353508\tvalid_0's auc: 0.8579\n",
      "[19]\tvalid_0's binary_logloss: 0.353275\tvalid_0's auc: 0.858528\n",
      "Did not meet early stopping. Best iteration is:\n",
      "[15]\tvalid_0's binary_logloss: 0.351391\tvalid_0's auc: 0.858947\n"
     ]
    },
    {
     "name": "stderr",
     "output_type": "stream",
     "text": [
      "/Library/Frameworks/Python.framework/Versions/3.6/lib/python3.6/site-packages/sklearn/preprocessing/label.py:151: DeprecationWarning: The truth value of an empty array is ambiguous. Returning False, but in future this will result in an error. Use `array.size > 0` to check that an array is not empty.\n",
      "  if diff:\n",
      "/Library/Frameworks/Python.framework/Versions/3.6/lib/python3.6/site-packages/sklearn/preprocessing/label.py:151: DeprecationWarning: The truth value of an empty array is ambiguous. Returning False, but in future this will result in an error. Use `array.size > 0` to check that an array is not empty.\n",
      "  if diff:\n"
     ]
    },
    {
     "name": "stdout",
     "output_type": "stream",
     "text": [
      "[1]\tvalid_0's binary_logloss: 0.447226\tvalid_0's auc: 0.823169\n",
      "Training until validation scores don't improve for 5 rounds.\n",
      "[2]\tvalid_0's binary_logloss: 0.417739\tvalid_0's auc: 0.847785\n",
      "[3]\tvalid_0's binary_logloss: 0.397766\tvalid_0's auc: 0.852118\n",
      "[4]\tvalid_0's binary_logloss: 0.38495\tvalid_0's auc: 0.854298\n",
      "[5]\tvalid_0's binary_logloss: 0.375007\tvalid_0's auc: 0.855335\n",
      "[6]\tvalid_0's binary_logloss: 0.369813\tvalid_0's auc: 0.855791\n",
      "[7]\tvalid_0's binary_logloss: 0.364555\tvalid_0's auc: 0.856613\n",
      "[8]\tvalid_0's binary_logloss: 0.360715\tvalid_0's auc: 0.858285\n",
      "[9]\tvalid_0's binary_logloss: 0.356826\tvalid_0's auc: 0.859615\n",
      "[10]\tvalid_0's binary_logloss: 0.354304\tvalid_0's auc: 0.860612\n",
      "[11]\tvalid_0's binary_logloss: 0.352709\tvalid_0's auc: 0.860332\n",
      "[12]\tvalid_0's binary_logloss: 0.351001\tvalid_0's auc: 0.860839\n",
      "[13]\tvalid_0's binary_logloss: 0.35001\tvalid_0's auc: 0.861\n",
      "[14]\tvalid_0's binary_logloss: 0.350839\tvalid_0's auc: 0.860171\n",
      "[15]\tvalid_0's binary_logloss: 0.350144\tvalid_0's auc: 0.860424\n",
      "[16]\tvalid_0's binary_logloss: 0.350309\tvalid_0's auc: 0.859944\n",
      "[17]\tvalid_0's binary_logloss: 0.349668\tvalid_0's auc: 0.861196\n",
      "[18]\tvalid_0's binary_logloss: 0.349975\tvalid_0's auc: 0.86114\n",
      "[19]\tvalid_0's binary_logloss: 0.349779\tvalid_0's auc: 0.861429\n",
      "Did not meet early stopping. Best iteration is:\n",
      "[17]\tvalid_0's binary_logloss: 0.349668\tvalid_0's auc: 0.861196\n"
     ]
    },
    {
     "name": "stderr",
     "output_type": "stream",
     "text": [
      "/Library/Frameworks/Python.framework/Versions/3.6/lib/python3.6/site-packages/sklearn/preprocessing/label.py:151: DeprecationWarning: The truth value of an empty array is ambiguous. Returning False, but in future this will result in an error. Use `array.size > 0` to check that an array is not empty.\n",
      "  if diff:\n",
      "/Library/Frameworks/Python.framework/Versions/3.6/lib/python3.6/site-packages/sklearn/preprocessing/label.py:151: DeprecationWarning: The truth value of an empty array is ambiguous. Returning False, but in future this will result in an error. Use `array.size > 0` to check that an array is not empty.\n",
      "  if diff:\n"
     ]
    },
    {
     "name": "stdout",
     "output_type": "stream",
     "text": [
      "[1]\tvalid_0's binary_logloss: 0.444849\tvalid_0's auc: 0.837907\n",
      "Training until validation scores don't improve for 5 rounds.\n",
      "[2]\tvalid_0's binary_logloss: 0.418313\tvalid_0's auc: 0.845299\n",
      "[3]\tvalid_0's binary_logloss: 0.399248\tvalid_0's auc: 0.85102\n",
      "[4]\tvalid_0's binary_logloss: 0.384333\tvalid_0's auc: 0.854281\n",
      "[5]\tvalid_0's binary_logloss: 0.37562\tvalid_0's auc: 0.854269\n",
      "[6]\tvalid_0's binary_logloss: 0.368571\tvalid_0's auc: 0.855409\n",
      "[7]\tvalid_0's binary_logloss: 0.36346\tvalid_0's auc: 0.857054\n",
      "[8]\tvalid_0's binary_logloss: 0.359377\tvalid_0's auc: 0.858791\n",
      "[9]\tvalid_0's binary_logloss: 0.35617\tvalid_0's auc: 0.859689\n",
      "[10]\tvalid_0's binary_logloss: 0.353766\tvalid_0's auc: 0.861045\n",
      "[11]\tvalid_0's binary_logloss: 0.353049\tvalid_0's auc: 0.860431\n",
      "[12]\tvalid_0's binary_logloss: 0.3521\tvalid_0's auc: 0.860297\n",
      "[13]\tvalid_0's binary_logloss: 0.350576\tvalid_0's auc: 0.861437\n",
      "[14]\tvalid_0's binary_logloss: 0.349803\tvalid_0's auc: 0.861473\n",
      "[15]\tvalid_0's binary_logloss: 0.349246\tvalid_0's auc: 0.861778\n",
      "[16]\tvalid_0's binary_logloss: 0.347699\tvalid_0's auc: 0.862838\n",
      "[17]\tvalid_0's binary_logloss: 0.348948\tvalid_0's auc: 0.861546\n",
      "[18]\tvalid_0's binary_logloss: 0.34926\tvalid_0's auc: 0.861215\n",
      "[19]\tvalid_0's binary_logloss: 0.349007\tvalid_0's auc: 0.86181\n",
      "[20]\tvalid_0's binary_logloss: 0.349776\tvalid_0's auc: 0.861386\n",
      "[21]\tvalid_0's binary_logloss: 0.3513\tvalid_0's auc: 0.859769\n",
      "Early stopping, best iteration is:\n",
      "[16]\tvalid_0's binary_logloss: 0.347699\tvalid_0's auc: 0.862838\n",
      "[1]\tvalid_0's binary_logloss: 0.449071\tvalid_0's auc: 0.823479\n",
      "Training until validation scores don't improve for 5 rounds.\n"
     ]
    },
    {
     "name": "stderr",
     "output_type": "stream",
     "text": [
      "/Library/Frameworks/Python.framework/Versions/3.6/lib/python3.6/site-packages/sklearn/preprocessing/label.py:151: DeprecationWarning: The truth value of an empty array is ambiguous. Returning False, but in future this will result in an error. Use `array.size > 0` to check that an array is not empty.\n",
      "  if diff:\n",
      "/Library/Frameworks/Python.framework/Versions/3.6/lib/python3.6/site-packages/sklearn/preprocessing/label.py:151: DeprecationWarning: The truth value of an empty array is ambiguous. Returning False, but in future this will result in an error. Use `array.size > 0` to check that an array is not empty.\n",
      "  if diff:\n"
     ]
    },
    {
     "name": "stdout",
     "output_type": "stream",
     "text": [
      "[2]\tvalid_0's binary_logloss: 0.418687\tvalid_0's auc: 0.843905\n",
      "[3]\tvalid_0's binary_logloss: 0.399237\tvalid_0's auc: 0.848319\n",
      "[4]\tvalid_0's binary_logloss: 0.385509\tvalid_0's auc: 0.852169\n",
      "[5]\tvalid_0's binary_logloss: 0.375163\tvalid_0's auc: 0.855319\n",
      "[6]\tvalid_0's binary_logloss: 0.368052\tvalid_0's auc: 0.857063\n",
      "[7]\tvalid_0's binary_logloss: 0.363382\tvalid_0's auc: 0.857412\n",
      "[8]\tvalid_0's binary_logloss: 0.360052\tvalid_0's auc: 0.857878\n",
      "[9]\tvalid_0's binary_logloss: 0.358295\tvalid_0's auc: 0.857494\n",
      "[10]\tvalid_0's binary_logloss: 0.355072\tvalid_0's auc: 0.858804\n",
      "[11]\tvalid_0's binary_logloss: 0.353884\tvalid_0's auc: 0.858368\n",
      "[12]\tvalid_0's binary_logloss: 0.353651\tvalid_0's auc: 0.857435\n",
      "[13]\tvalid_0's binary_logloss: 0.352607\tvalid_0's auc: 0.857911\n",
      "[14]\tvalid_0's binary_logloss: 0.352553\tvalid_0's auc: 0.857983\n",
      "[15]\tvalid_0's binary_logloss: 0.351391\tvalid_0's auc: 0.858947\n",
      "[16]\tvalid_0's binary_logloss: 0.35173\tvalid_0's auc: 0.858698\n",
      "[17]\tvalid_0's binary_logloss: 0.352694\tvalid_0's auc: 0.85828\n",
      "[18]\tvalid_0's binary_logloss: 0.353508\tvalid_0's auc: 0.8579\n",
      "[19]\tvalid_0's binary_logloss: 0.353275\tvalid_0's auc: 0.858528\n",
      "[20]\tvalid_0's binary_logloss: 0.353397\tvalid_0's auc: 0.85886\n",
      "Early stopping, best iteration is:\n",
      "[15]\tvalid_0's binary_logloss: 0.351391\tvalid_0's auc: 0.858947\n",
      "[1]\tvalid_0's binary_logloss: 0.447226\tvalid_0's auc: 0.823169\n",
      "Training until validation scores don't improve for 5 rounds.\n",
      "[2]\tvalid_0's binary_logloss: 0.417739\tvalid_0's auc: 0.847785\n",
      "[3]\tvalid_0's binary_logloss: 0.397766\tvalid_0's auc: 0.852118\n",
      "[4]\tvalid_0's binary_logloss: 0.38495\tvalid_0's auc: 0.854298\n"
     ]
    },
    {
     "name": "stderr",
     "output_type": "stream",
     "text": [
      "/Library/Frameworks/Python.framework/Versions/3.6/lib/python3.6/site-packages/sklearn/preprocessing/label.py:151: DeprecationWarning: The truth value of an empty array is ambiguous. Returning False, but in future this will result in an error. Use `array.size > 0` to check that an array is not empty.\n",
      "  if diff:\n",
      "/Library/Frameworks/Python.framework/Versions/3.6/lib/python3.6/site-packages/sklearn/preprocessing/label.py:151: DeprecationWarning: The truth value of an empty array is ambiguous. Returning False, but in future this will result in an error. Use `array.size > 0` to check that an array is not empty.\n",
      "  if diff:\n"
     ]
    },
    {
     "name": "stdout",
     "output_type": "stream",
     "text": [
      "[5]\tvalid_0's binary_logloss: 0.375007\tvalid_0's auc: 0.855335\n",
      "[6]\tvalid_0's binary_logloss: 0.369813\tvalid_0's auc: 0.855791\n",
      "[7]\tvalid_0's binary_logloss: 0.364555\tvalid_0's auc: 0.856613\n",
      "[8]\tvalid_0's binary_logloss: 0.360715\tvalid_0's auc: 0.858285\n",
      "[9]\tvalid_0's binary_logloss: 0.356826\tvalid_0's auc: 0.859615\n",
      "[10]\tvalid_0's binary_logloss: 0.354304\tvalid_0's auc: 0.860612\n",
      "[11]\tvalid_0's binary_logloss: 0.352709\tvalid_0's auc: 0.860332\n",
      "[12]\tvalid_0's binary_logloss: 0.351001\tvalid_0's auc: 0.860839\n",
      "[13]\tvalid_0's binary_logloss: 0.35001\tvalid_0's auc: 0.861\n",
      "[14]\tvalid_0's binary_logloss: 0.350839\tvalid_0's auc: 0.860171\n",
      "[15]\tvalid_0's binary_logloss: 0.350144\tvalid_0's auc: 0.860424\n",
      "[16]\tvalid_0's binary_logloss: 0.350309\tvalid_0's auc: 0.859944\n",
      "[17]\tvalid_0's binary_logloss: 0.349668\tvalid_0's auc: 0.861196\n",
      "[18]\tvalid_0's binary_logloss: 0.349975\tvalid_0's auc: 0.86114\n",
      "[19]\tvalid_0's binary_logloss: 0.349779\tvalid_0's auc: 0.861429\n",
      "[20]\tvalid_0's binary_logloss: 0.351471\tvalid_0's auc: 0.85977\n",
      "[21]\tvalid_0's binary_logloss: 0.352111\tvalid_0's auc: 0.85919\n",
      "[22]\tvalid_0's binary_logloss: 0.352161\tvalid_0's auc: 0.859713\n",
      "Early stopping, best iteration is:\n",
      "[17]\tvalid_0's binary_logloss: 0.349668\tvalid_0's auc: 0.861196\n",
      "[1]\tvalid_0's binary_logloss: 0.444849\tvalid_0's auc: 0.837907\n",
      "Training until validation scores don't improve for 5 rounds.\n",
      "[2]\tvalid_0's binary_logloss: 0.418313\tvalid_0's auc: 0.845299\n",
      "[3]\tvalid_0's binary_logloss: 0.399248\tvalid_0's auc: 0.85102\n"
     ]
    },
    {
     "name": "stderr",
     "output_type": "stream",
     "text": [
      "/Library/Frameworks/Python.framework/Versions/3.6/lib/python3.6/site-packages/sklearn/preprocessing/label.py:151: DeprecationWarning: The truth value of an empty array is ambiguous. Returning False, but in future this will result in an error. Use `array.size > 0` to check that an array is not empty.\n",
      "  if diff:\n",
      "/Library/Frameworks/Python.framework/Versions/3.6/lib/python3.6/site-packages/sklearn/preprocessing/label.py:151: DeprecationWarning: The truth value of an empty array is ambiguous. Returning False, but in future this will result in an error. Use `array.size > 0` to check that an array is not empty.\n",
      "  if diff:\n"
     ]
    },
    {
     "name": "stdout",
     "output_type": "stream",
     "text": [
      "[4]\tvalid_0's binary_logloss: 0.384333\tvalid_0's auc: 0.854281\n",
      "[5]\tvalid_0's binary_logloss: 0.37562\tvalid_0's auc: 0.854269\n",
      "[6]\tvalid_0's binary_logloss: 0.368571\tvalid_0's auc: 0.855409\n",
      "[7]\tvalid_0's binary_logloss: 0.36346\tvalid_0's auc: 0.857054\n",
      "[8]\tvalid_0's binary_logloss: 0.359377\tvalid_0's auc: 0.858791\n",
      "[9]\tvalid_0's binary_logloss: 0.35617\tvalid_0's auc: 0.859689\n",
      "[10]\tvalid_0's binary_logloss: 0.353766\tvalid_0's auc: 0.861045\n",
      "[11]\tvalid_0's binary_logloss: 0.353049\tvalid_0's auc: 0.860431\n",
      "[12]\tvalid_0's binary_logloss: 0.3521\tvalid_0's auc: 0.860297\n",
      "[13]\tvalid_0's binary_logloss: 0.350576\tvalid_0's auc: 0.861437\n",
      "[14]\tvalid_0's binary_logloss: 0.349803\tvalid_0's auc: 0.861473\n",
      "[15]\tvalid_0's binary_logloss: 0.349246\tvalid_0's auc: 0.861778\n",
      "[16]\tvalid_0's binary_logloss: 0.347699\tvalid_0's auc: 0.862838\n",
      "[17]\tvalid_0's binary_logloss: 0.348948\tvalid_0's auc: 0.861546\n",
      "[18]\tvalid_0's binary_logloss: 0.34926\tvalid_0's auc: 0.861215\n",
      "[19]\tvalid_0's binary_logloss: 0.349007\tvalid_0's auc: 0.86181\n",
      "[20]\tvalid_0's binary_logloss: 0.349776\tvalid_0's auc: 0.861386\n",
      "[21]\tvalid_0's binary_logloss: 0.3513\tvalid_0's auc: 0.859769\n",
      "Early stopping, best iteration is:\n",
      "[16]\tvalid_0's binary_logloss: 0.347699\tvalid_0's auc: 0.862838\n",
      "[1]\tvalid_0's binary_logloss: 0.449071\tvalid_0's auc: 0.823479\n",
      "Training until validation scores don't improve for 5 rounds.\n",
      "[2]\tvalid_0's binary_logloss: 0.418687\tvalid_0's auc: 0.843905\n",
      "[3]\tvalid_0's binary_logloss: 0.399237\tvalid_0's auc: 0.848319\n",
      "[4]\tvalid_0's binary_logloss: 0.385509\tvalid_0's auc: 0.852169\n",
      "[5]\tvalid_0's binary_logloss: 0.375163\tvalid_0's auc: 0.855319\n"
     ]
    },
    {
     "name": "stderr",
     "output_type": "stream",
     "text": [
      "/Library/Frameworks/Python.framework/Versions/3.6/lib/python3.6/site-packages/sklearn/preprocessing/label.py:151: DeprecationWarning: The truth value of an empty array is ambiguous. Returning False, but in future this will result in an error. Use `array.size > 0` to check that an array is not empty.\n",
      "  if diff:\n",
      "/Library/Frameworks/Python.framework/Versions/3.6/lib/python3.6/site-packages/sklearn/preprocessing/label.py:151: DeprecationWarning: The truth value of an empty array is ambiguous. Returning False, but in future this will result in an error. Use `array.size > 0` to check that an array is not empty.\n",
      "  if diff:\n"
     ]
    },
    {
     "name": "stdout",
     "output_type": "stream",
     "text": [
      "[6]\tvalid_0's binary_logloss: 0.368052\tvalid_0's auc: 0.857063\n",
      "[7]\tvalid_0's binary_logloss: 0.363382\tvalid_0's auc: 0.857412\n",
      "[8]\tvalid_0's binary_logloss: 0.360052\tvalid_0's auc: 0.857878\n",
      "[9]\tvalid_0's binary_logloss: 0.358295\tvalid_0's auc: 0.857494\n",
      "[10]\tvalid_0's binary_logloss: 0.355072\tvalid_0's auc: 0.858804\n",
      "[11]\tvalid_0's binary_logloss: 0.353884\tvalid_0's auc: 0.858368\n",
      "[12]\tvalid_0's binary_logloss: 0.353651\tvalid_0's auc: 0.857435\n",
      "[13]\tvalid_0's binary_logloss: 0.352607\tvalid_0's auc: 0.857911\n",
      "[14]\tvalid_0's binary_logloss: 0.352553\tvalid_0's auc: 0.857983\n",
      "[15]\tvalid_0's binary_logloss: 0.351391\tvalid_0's auc: 0.858947\n",
      "[16]\tvalid_0's binary_logloss: 0.35173\tvalid_0's auc: 0.858698\n",
      "[17]\tvalid_0's binary_logloss: 0.352694\tvalid_0's auc: 0.85828\n",
      "[18]\tvalid_0's binary_logloss: 0.353508\tvalid_0's auc: 0.8579\n",
      "[19]\tvalid_0's binary_logloss: 0.353275\tvalid_0's auc: 0.858528\n",
      "[20]\tvalid_0's binary_logloss: 0.353397\tvalid_0's auc: 0.85886\n",
      "Early stopping, best iteration is:\n",
      "[15]\tvalid_0's binary_logloss: 0.351391\tvalid_0's auc: 0.858947\n"
     ]
    },
    {
     "name": "stderr",
     "output_type": "stream",
     "text": [
      "/Library/Frameworks/Python.framework/Versions/3.6/lib/python3.6/site-packages/sklearn/preprocessing/label.py:151: DeprecationWarning: The truth value of an empty array is ambiguous. Returning False, but in future this will result in an error. Use `array.size > 0` to check that an array is not empty.\n",
      "  if diff:\n",
      "/Library/Frameworks/Python.framework/Versions/3.6/lib/python3.6/site-packages/sklearn/preprocessing/label.py:151: DeprecationWarning: The truth value of an empty array is ambiguous. Returning False, but in future this will result in an error. Use `array.size > 0` to check that an array is not empty.\n",
      "  if diff:\n"
     ]
    },
    {
     "name": "stdout",
     "output_type": "stream",
     "text": [
      "[1]\tvalid_0's binary_logloss: 0.447226\tvalid_0's auc: 0.823169\n",
      "Training until validation scores don't improve for 5 rounds.\n",
      "[2]\tvalid_0's binary_logloss: 0.417739\tvalid_0's auc: 0.847785\n",
      "[3]\tvalid_0's binary_logloss: 0.397766\tvalid_0's auc: 0.852118\n",
      "[4]\tvalid_0's binary_logloss: 0.38495\tvalid_0's auc: 0.854298\n",
      "[5]\tvalid_0's binary_logloss: 0.375007\tvalid_0's auc: 0.855335\n",
      "[6]\tvalid_0's binary_logloss: 0.369813\tvalid_0's auc: 0.855791\n",
      "[7]\tvalid_0's binary_logloss: 0.364555\tvalid_0's auc: 0.856613\n",
      "[8]\tvalid_0's binary_logloss: 0.360715\tvalid_0's auc: 0.858285\n",
      "[9]\tvalid_0's binary_logloss: 0.356826\tvalid_0's auc: 0.859615\n",
      "[10]\tvalid_0's binary_logloss: 0.354304\tvalid_0's auc: 0.860612\n",
      "[11]\tvalid_0's binary_logloss: 0.352709\tvalid_0's auc: 0.860332\n",
      "[12]\tvalid_0's binary_logloss: 0.351001\tvalid_0's auc: 0.860839\n",
      "[13]\tvalid_0's binary_logloss: 0.35001\tvalid_0's auc: 0.861\n",
      "[14]\tvalid_0's binary_logloss: 0.350839\tvalid_0's auc: 0.860171\n",
      "[15]\tvalid_0's binary_logloss: 0.350144\tvalid_0's auc: 0.860424\n",
      "[16]\tvalid_0's binary_logloss: 0.350309\tvalid_0's auc: 0.859944\n",
      "[17]\tvalid_0's binary_logloss: 0.349668\tvalid_0's auc: 0.861196\n",
      "[18]\tvalid_0's binary_logloss: 0.349975\tvalid_0's auc: 0.86114\n",
      "[19]\tvalid_0's binary_logloss: 0.349779\tvalid_0's auc: 0.861429\n",
      "[20]\tvalid_0's binary_logloss: 0.351471\tvalid_0's auc: 0.85977\n",
      "[21]\tvalid_0's binary_logloss: 0.352111\tvalid_0's auc: 0.85919\n",
      "[22]\tvalid_0's binary_logloss: 0.352161\tvalid_0's auc: 0.859713\n",
      "Early stopping, best iteration is:\n",
      "[17]\tvalid_0's binary_logloss: 0.349668\tvalid_0's auc: 0.861196\n",
      "[1]\tvalid_0's binary_logloss: 0.444849\tvalid_0's auc: 0.837907\n",
      "Training until validation scores don't improve for 5 rounds.\n",
      "[2]\tvalid_0's binary_logloss: 0.418313\tvalid_0's auc: 0.845299\n"
     ]
    },
    {
     "name": "stderr",
     "output_type": "stream",
     "text": [
      "/Library/Frameworks/Python.framework/Versions/3.6/lib/python3.6/site-packages/sklearn/preprocessing/label.py:151: DeprecationWarning: The truth value of an empty array is ambiguous. Returning False, but in future this will result in an error. Use `array.size > 0` to check that an array is not empty.\n",
      "  if diff:\n",
      "/Library/Frameworks/Python.framework/Versions/3.6/lib/python3.6/site-packages/sklearn/preprocessing/label.py:151: DeprecationWarning: The truth value of an empty array is ambiguous. Returning False, but in future this will result in an error. Use `array.size > 0` to check that an array is not empty.\n",
      "  if diff:\n"
     ]
    },
    {
     "name": "stdout",
     "output_type": "stream",
     "text": [
      "[3]\tvalid_0's binary_logloss: 0.399248\tvalid_0's auc: 0.85102\n",
      "[4]\tvalid_0's binary_logloss: 0.384333\tvalid_0's auc: 0.854281\n",
      "[5]\tvalid_0's binary_logloss: 0.37562\tvalid_0's auc: 0.854269\n",
      "[6]\tvalid_0's binary_logloss: 0.368571\tvalid_0's auc: 0.855409\n",
      "[7]\tvalid_0's binary_logloss: 0.36346\tvalid_0's auc: 0.857054\n",
      "[8]\tvalid_0's binary_logloss: 0.359377\tvalid_0's auc: 0.858791\n",
      "[9]\tvalid_0's binary_logloss: 0.35617\tvalid_0's auc: 0.859689\n",
      "[10]\tvalid_0's binary_logloss: 0.353766\tvalid_0's auc: 0.861045\n",
      "[11]\tvalid_0's binary_logloss: 0.353049\tvalid_0's auc: 0.860431\n",
      "[12]\tvalid_0's binary_logloss: 0.3521\tvalid_0's auc: 0.860297\n",
      "[13]\tvalid_0's binary_logloss: 0.350576\tvalid_0's auc: 0.861437\n",
      "[14]\tvalid_0's binary_logloss: 0.349803\tvalid_0's auc: 0.861473\n",
      "[15]\tvalid_0's binary_logloss: 0.349246\tvalid_0's auc: 0.861778\n",
      "[16]\tvalid_0's binary_logloss: 0.347699\tvalid_0's auc: 0.862838\n",
      "[17]\tvalid_0's binary_logloss: 0.348948\tvalid_0's auc: 0.861546\n",
      "[18]\tvalid_0's binary_logloss: 0.34926\tvalid_0's auc: 0.861215\n",
      "[19]\tvalid_0's binary_logloss: 0.349007\tvalid_0's auc: 0.86181\n",
      "[20]\tvalid_0's binary_logloss: 0.349776\tvalid_0's auc: 0.861386\n",
      "[21]\tvalid_0's binary_logloss: 0.3513\tvalid_0's auc: 0.859769\n",
      "Early stopping, best iteration is:\n",
      "[16]\tvalid_0's binary_logloss: 0.347699\tvalid_0's auc: 0.862838\n",
      "[1]\tvalid_0's binary_logloss: 0.449071\tvalid_0's auc: 0.823479\n",
      "Training until validation scores don't improve for 5 rounds.\n",
      "[2]\tvalid_0's binary_logloss: 0.418687\tvalid_0's auc: 0.843905\n"
     ]
    },
    {
     "name": "stderr",
     "output_type": "stream",
     "text": [
      "/Library/Frameworks/Python.framework/Versions/3.6/lib/python3.6/site-packages/sklearn/preprocessing/label.py:151: DeprecationWarning: The truth value of an empty array is ambiguous. Returning False, but in future this will result in an error. Use `array.size > 0` to check that an array is not empty.\n",
      "  if diff:\n",
      "/Library/Frameworks/Python.framework/Versions/3.6/lib/python3.6/site-packages/sklearn/preprocessing/label.py:151: DeprecationWarning: The truth value of an empty array is ambiguous. Returning False, but in future this will result in an error. Use `array.size > 0` to check that an array is not empty.\n",
      "  if diff:\n"
     ]
    },
    {
     "name": "stdout",
     "output_type": "stream",
     "text": [
      "[3]\tvalid_0's binary_logloss: 0.399237\tvalid_0's auc: 0.848319\n",
      "[4]\tvalid_0's binary_logloss: 0.385509\tvalid_0's auc: 0.852169\n",
      "[5]\tvalid_0's binary_logloss: 0.375163\tvalid_0's auc: 0.855319\n",
      "[6]\tvalid_0's binary_logloss: 0.368052\tvalid_0's auc: 0.857063\n",
      "[7]\tvalid_0's binary_logloss: 0.363382\tvalid_0's auc: 0.857412\n",
      "[8]\tvalid_0's binary_logloss: 0.360052\tvalid_0's auc: 0.857878\n",
      "[9]\tvalid_0's binary_logloss: 0.358295\tvalid_0's auc: 0.857494\n",
      "[10]\tvalid_0's binary_logloss: 0.355072\tvalid_0's auc: 0.858804\n",
      "[11]\tvalid_0's binary_logloss: 0.353884\tvalid_0's auc: 0.858368\n",
      "[12]\tvalid_0's binary_logloss: 0.353651\tvalid_0's auc: 0.857435\n",
      "[13]\tvalid_0's binary_logloss: 0.352607\tvalid_0's auc: 0.857911\n",
      "[14]\tvalid_0's binary_logloss: 0.352553\tvalid_0's auc: 0.857983\n",
      "[15]\tvalid_0's binary_logloss: 0.351391\tvalid_0's auc: 0.858947\n",
      "[16]\tvalid_0's binary_logloss: 0.35173\tvalid_0's auc: 0.858698\n",
      "[17]\tvalid_0's binary_logloss: 0.352694\tvalid_0's auc: 0.85828\n",
      "[18]\tvalid_0's binary_logloss: 0.353508\tvalid_0's auc: 0.8579\n",
      "[19]\tvalid_0's binary_logloss: 0.353275\tvalid_0's auc: 0.858528\n",
      "[20]\tvalid_0's binary_logloss: 0.353397\tvalid_0's auc: 0.85886\n",
      "Early stopping, best iteration is:\n",
      "[15]\tvalid_0's binary_logloss: 0.351391\tvalid_0's auc: 0.858947\n",
      "[1]\tvalid_0's binary_logloss: 0.447226\tvalid_0's auc: 0.823169\n",
      "Training until validation scores don't improve for 5 rounds.\n",
      "[2]\tvalid_0's binary_logloss: 0.417739\tvalid_0's auc: 0.847785\n",
      "[3]\tvalid_0's binary_logloss: 0.397766\tvalid_0's auc: 0.852118\n",
      "[4]\tvalid_0's binary_logloss: 0.38495\tvalid_0's auc: 0.854298\n",
      "[5]\tvalid_0's binary_logloss: 0.375007\tvalid_0's auc: 0.855335\n",
      "[6]\tvalid_0's binary_logloss: 0.369813\tvalid_0's auc: 0.855791\n"
     ]
    },
    {
     "name": "stderr",
     "output_type": "stream",
     "text": [
      "/Library/Frameworks/Python.framework/Versions/3.6/lib/python3.6/site-packages/sklearn/preprocessing/label.py:151: DeprecationWarning: The truth value of an empty array is ambiguous. Returning False, but in future this will result in an error. Use `array.size > 0` to check that an array is not empty.\n",
      "  if diff:\n",
      "/Library/Frameworks/Python.framework/Versions/3.6/lib/python3.6/site-packages/sklearn/preprocessing/label.py:151: DeprecationWarning: The truth value of an empty array is ambiguous. Returning False, but in future this will result in an error. Use `array.size > 0` to check that an array is not empty.\n",
      "  if diff:\n"
     ]
    },
    {
     "name": "stdout",
     "output_type": "stream",
     "text": [
      "[7]\tvalid_0's binary_logloss: 0.364555\tvalid_0's auc: 0.856613\n",
      "[8]\tvalid_0's binary_logloss: 0.360715\tvalid_0's auc: 0.858285\n",
      "[9]\tvalid_0's binary_logloss: 0.356826\tvalid_0's auc: 0.859615\n",
      "[10]\tvalid_0's binary_logloss: 0.354304\tvalid_0's auc: 0.860612\n",
      "[11]\tvalid_0's binary_logloss: 0.352709\tvalid_0's auc: 0.860332\n",
      "[12]\tvalid_0's binary_logloss: 0.351001\tvalid_0's auc: 0.860839\n",
      "[13]\tvalid_0's binary_logloss: 0.35001\tvalid_0's auc: 0.861\n",
      "[14]\tvalid_0's binary_logloss: 0.350839\tvalid_0's auc: 0.860171\n",
      "[15]\tvalid_0's binary_logloss: 0.350144\tvalid_0's auc: 0.860424\n",
      "[16]\tvalid_0's binary_logloss: 0.350309\tvalid_0's auc: 0.859944\n",
      "[17]\tvalid_0's binary_logloss: 0.349668\tvalid_0's auc: 0.861196\n",
      "[18]\tvalid_0's binary_logloss: 0.349975\tvalid_0's auc: 0.86114\n",
      "[19]\tvalid_0's binary_logloss: 0.349779\tvalid_0's auc: 0.861429\n",
      "[20]\tvalid_0's binary_logloss: 0.351471\tvalid_0's auc: 0.85977\n",
      "[21]\tvalid_0's binary_logloss: 0.352111\tvalid_0's auc: 0.85919\n",
      "[22]\tvalid_0's binary_logloss: 0.352161\tvalid_0's auc: 0.859713\n",
      "Early stopping, best iteration is:\n",
      "[17]\tvalid_0's binary_logloss: 0.349668\tvalid_0's auc: 0.861196\n",
      "[1]\tvalid_0's binary_logloss: 0.444849\tvalid_0's auc: 0.837907\n",
      "Training until validation scores don't improve for 5 rounds.\n",
      "[2]\tvalid_0's binary_logloss: 0.418313\tvalid_0's auc: 0.845299\n",
      "[3]\tvalid_0's binary_logloss: 0.399248\tvalid_0's auc: 0.85102\n",
      "[4]\tvalid_0's binary_logloss: 0.384333\tvalid_0's auc: 0.854281\n",
      "[5]\tvalid_0's binary_logloss: 0.37562\tvalid_0's auc: 0.854269\n",
      "[6]\tvalid_0's binary_logloss: 0.368571\tvalid_0's auc: 0.855409\n",
      "[7]\tvalid_0's binary_logloss: 0.36346\tvalid_0's auc: 0.857054\n",
      "[8]\tvalid_0's binary_logloss: 0.359377\tvalid_0's auc: 0.858791\n",
      "[9]\tvalid_0's binary_logloss: 0.35617\tvalid_0's auc: 0.859689\n"
     ]
    },
    {
     "name": "stderr",
     "output_type": "stream",
     "text": [
      "/Library/Frameworks/Python.framework/Versions/3.6/lib/python3.6/site-packages/sklearn/preprocessing/label.py:151: DeprecationWarning: The truth value of an empty array is ambiguous. Returning False, but in future this will result in an error. Use `array.size > 0` to check that an array is not empty.\n",
      "  if diff:\n",
      "/Library/Frameworks/Python.framework/Versions/3.6/lib/python3.6/site-packages/sklearn/preprocessing/label.py:151: DeprecationWarning: The truth value of an empty array is ambiguous. Returning False, but in future this will result in an error. Use `array.size > 0` to check that an array is not empty.\n",
      "  if diff:\n"
     ]
    },
    {
     "name": "stdout",
     "output_type": "stream",
     "text": [
      "[10]\tvalid_0's binary_logloss: 0.353766\tvalid_0's auc: 0.861045\n",
      "[11]\tvalid_0's binary_logloss: 0.353049\tvalid_0's auc: 0.860431\n",
      "[12]\tvalid_0's binary_logloss: 0.3521\tvalid_0's auc: 0.860297\n",
      "[13]\tvalid_0's binary_logloss: 0.350576\tvalid_0's auc: 0.861437\n",
      "[14]\tvalid_0's binary_logloss: 0.349803\tvalid_0's auc: 0.861473\n",
      "[15]\tvalid_0's binary_logloss: 0.349246\tvalid_0's auc: 0.861778\n",
      "[16]\tvalid_0's binary_logloss: 0.347699\tvalid_0's auc: 0.862838\n",
      "[17]\tvalid_0's binary_logloss: 0.348948\tvalid_0's auc: 0.861546\n",
      "[18]\tvalid_0's binary_logloss: 0.34926\tvalid_0's auc: 0.861215\n",
      "[19]\tvalid_0's binary_logloss: 0.349007\tvalid_0's auc: 0.86181\n",
      "[20]\tvalid_0's binary_logloss: 0.349776\tvalid_0's auc: 0.861386\n",
      "[21]\tvalid_0's binary_logloss: 0.3513\tvalid_0's auc: 0.859769\n",
      "Early stopping, best iteration is:\n",
      "[16]\tvalid_0's binary_logloss: 0.347699\tvalid_0's auc: 0.862838\n"
     ]
    },
    {
     "name": "stderr",
     "output_type": "stream",
     "text": [
      "/Library/Frameworks/Python.framework/Versions/3.6/lib/python3.6/site-packages/sklearn/preprocessing/label.py:151: DeprecationWarning: The truth value of an empty array is ambiguous. Returning False, but in future this will result in an error. Use `array.size > 0` to check that an array is not empty.\n",
      "  if diff:\n",
      "/Library/Frameworks/Python.framework/Versions/3.6/lib/python3.6/site-packages/sklearn/preprocessing/label.py:151: DeprecationWarning: The truth value of an empty array is ambiguous. Returning False, but in future this will result in an error. Use `array.size > 0` to check that an array is not empty.\n",
      "  if diff:\n"
     ]
    },
    {
     "name": "stdout",
     "output_type": "stream",
     "text": [
      "[1]\tvalid_0's binary_logloss: 0.449071\tvalid_0's auc: 0.823479\n",
      "Training until validation scores don't improve for 5 rounds.\n",
      "[2]\tvalid_0's binary_logloss: 0.418687\tvalid_0's auc: 0.843905\n",
      "[3]\tvalid_0's binary_logloss: 0.399237\tvalid_0's auc: 0.848319\n",
      "[4]\tvalid_0's binary_logloss: 0.385509\tvalid_0's auc: 0.852169\n",
      "[5]\tvalid_0's binary_logloss: 0.375163\tvalid_0's auc: 0.855319\n",
      "[6]\tvalid_0's binary_logloss: 0.368052\tvalid_0's auc: 0.857063\n",
      "[7]\tvalid_0's binary_logloss: 0.363382\tvalid_0's auc: 0.857412\n",
      "[8]\tvalid_0's binary_logloss: 0.360052\tvalid_0's auc: 0.857878\n",
      "[9]\tvalid_0's binary_logloss: 0.358295\tvalid_0's auc: 0.857494\n",
      "[10]\tvalid_0's binary_logloss: 0.355072\tvalid_0's auc: 0.858804\n",
      "[11]\tvalid_0's binary_logloss: 0.353884\tvalid_0's auc: 0.858368\n",
      "[12]\tvalid_0's binary_logloss: 0.353651\tvalid_0's auc: 0.857435\n",
      "[13]\tvalid_0's binary_logloss: 0.352607\tvalid_0's auc: 0.857911\n",
      "[14]\tvalid_0's binary_logloss: 0.352553\tvalid_0's auc: 0.857983\n",
      "[15]\tvalid_0's binary_logloss: 0.351391\tvalid_0's auc: 0.858947\n",
      "[16]\tvalid_0's binary_logloss: 0.35173\tvalid_0's auc: 0.858698\n",
      "[17]\tvalid_0's binary_logloss: 0.352694\tvalid_0's auc: 0.85828\n",
      "[18]\tvalid_0's binary_logloss: 0.353508\tvalid_0's auc: 0.8579\n",
      "[19]\tvalid_0's binary_logloss: 0.353275\tvalid_0's auc: 0.858528\n",
      "[20]\tvalid_0's binary_logloss: 0.353397\tvalid_0's auc: 0.85886\n",
      "Early stopping, best iteration is:\n",
      "[15]\tvalid_0's binary_logloss: 0.351391\tvalid_0's auc: 0.858947\n",
      "[1]\tvalid_0's binary_logloss: 0.447226\tvalid_0's auc: 0.823169\n",
      "Training until validation scores don't improve for 5 rounds.\n",
      "[2]\tvalid_0's binary_logloss: 0.417739\tvalid_0's auc: 0.847785\n",
      "[3]\tvalid_0's binary_logloss: 0.397766\tvalid_0's auc: 0.852118\n",
      "[4]\tvalid_0's binary_logloss: 0.38495\tvalid_0's auc: 0.854298\n"
     ]
    },
    {
     "name": "stderr",
     "output_type": "stream",
     "text": [
      "/Library/Frameworks/Python.framework/Versions/3.6/lib/python3.6/site-packages/sklearn/preprocessing/label.py:151: DeprecationWarning: The truth value of an empty array is ambiguous. Returning False, but in future this will result in an error. Use `array.size > 0` to check that an array is not empty.\n",
      "  if diff:\n",
      "/Library/Frameworks/Python.framework/Versions/3.6/lib/python3.6/site-packages/sklearn/preprocessing/label.py:151: DeprecationWarning: The truth value of an empty array is ambiguous. Returning False, but in future this will result in an error. Use `array.size > 0` to check that an array is not empty.\n",
      "  if diff:\n"
     ]
    },
    {
     "name": "stdout",
     "output_type": "stream",
     "text": [
      "[5]\tvalid_0's binary_logloss: 0.375007\tvalid_0's auc: 0.855335\n",
      "[6]\tvalid_0's binary_logloss: 0.369813\tvalid_0's auc: 0.855791\n",
      "[7]\tvalid_0's binary_logloss: 0.364555\tvalid_0's auc: 0.856613\n",
      "[8]\tvalid_0's binary_logloss: 0.360715\tvalid_0's auc: 0.858285\n",
      "[9]\tvalid_0's binary_logloss: 0.356826\tvalid_0's auc: 0.859615\n",
      "[10]\tvalid_0's binary_logloss: 0.354304\tvalid_0's auc: 0.860612\n",
      "[11]\tvalid_0's binary_logloss: 0.352709\tvalid_0's auc: 0.860332\n",
      "[12]\tvalid_0's binary_logloss: 0.351001\tvalid_0's auc: 0.860839\n",
      "[13]\tvalid_0's binary_logloss: 0.35001\tvalid_0's auc: 0.861\n",
      "[14]\tvalid_0's binary_logloss: 0.350839\tvalid_0's auc: 0.860171\n",
      "[15]\tvalid_0's binary_logloss: 0.350144\tvalid_0's auc: 0.860424\n",
      "[16]\tvalid_0's binary_logloss: 0.350309\tvalid_0's auc: 0.859944\n",
      "[17]\tvalid_0's binary_logloss: 0.349668\tvalid_0's auc: 0.861196\n",
      "[18]\tvalid_0's binary_logloss: 0.349975\tvalid_0's auc: 0.86114\n",
      "[19]\tvalid_0's binary_logloss: 0.349779\tvalid_0's auc: 0.861429\n",
      "[20]\tvalid_0's binary_logloss: 0.351471\tvalid_0's auc: 0.85977\n",
      "[21]\tvalid_0's binary_logloss: 0.352111\tvalid_0's auc: 0.85919\n",
      "[22]\tvalid_0's binary_logloss: 0.352161\tvalid_0's auc: 0.859713\n",
      "Early stopping, best iteration is:\n",
      "[17]\tvalid_0's binary_logloss: 0.349668\tvalid_0's auc: 0.861196\n",
      "[1]\tvalid_0's binary_logloss: 0.444849\tvalid_0's auc: 0.837907\n",
      "Training until validation scores don't improve for 5 rounds.\n",
      "[2]\tvalid_0's binary_logloss: 0.418313\tvalid_0's auc: 0.845299\n",
      "[3]\tvalid_0's binary_logloss: 0.399248\tvalid_0's auc: 0.85102\n",
      "[4]\tvalid_0's binary_logloss: 0.384333\tvalid_0's auc: 0.854281\n",
      "[5]\tvalid_0's binary_logloss: 0.37562\tvalid_0's auc: 0.854269\n"
     ]
    },
    {
     "name": "stderr",
     "output_type": "stream",
     "text": [
      "/Library/Frameworks/Python.framework/Versions/3.6/lib/python3.6/site-packages/sklearn/preprocessing/label.py:151: DeprecationWarning: The truth value of an empty array is ambiguous. Returning False, but in future this will result in an error. Use `array.size > 0` to check that an array is not empty.\n",
      "  if diff:\n",
      "/Library/Frameworks/Python.framework/Versions/3.6/lib/python3.6/site-packages/sklearn/preprocessing/label.py:151: DeprecationWarning: The truth value of an empty array is ambiguous. Returning False, but in future this will result in an error. Use `array.size > 0` to check that an array is not empty.\n",
      "  if diff:\n"
     ]
    },
    {
     "name": "stdout",
     "output_type": "stream",
     "text": [
      "[6]\tvalid_0's binary_logloss: 0.368571\tvalid_0's auc: 0.855409\n",
      "[7]\tvalid_0's binary_logloss: 0.36346\tvalid_0's auc: 0.857054\n",
      "[8]\tvalid_0's binary_logloss: 0.359377\tvalid_0's auc: 0.858791\n",
      "[9]\tvalid_0's binary_logloss: 0.35617\tvalid_0's auc: 0.859689\n",
      "[10]\tvalid_0's binary_logloss: 0.353766\tvalid_0's auc: 0.861045\n",
      "[11]\tvalid_0's binary_logloss: 0.353049\tvalid_0's auc: 0.860431\n",
      "[12]\tvalid_0's binary_logloss: 0.3521\tvalid_0's auc: 0.860297\n",
      "[13]\tvalid_0's binary_logloss: 0.350576\tvalid_0's auc: 0.861437\n",
      "[14]\tvalid_0's binary_logloss: 0.349803\tvalid_0's auc: 0.861473\n",
      "[15]\tvalid_0's binary_logloss: 0.349246\tvalid_0's auc: 0.861778\n",
      "[16]\tvalid_0's binary_logloss: 0.347699\tvalid_0's auc: 0.862838\n",
      "[17]\tvalid_0's binary_logloss: 0.348948\tvalid_0's auc: 0.861546\n",
      "[18]\tvalid_0's binary_logloss: 0.34926\tvalid_0's auc: 0.861215\n",
      "[19]\tvalid_0's binary_logloss: 0.349007\tvalid_0's auc: 0.86181\n",
      "[20]\tvalid_0's binary_logloss: 0.349776\tvalid_0's auc: 0.861386\n",
      "[21]\tvalid_0's binary_logloss: 0.3513\tvalid_0's auc: 0.859769\n",
      "Early stopping, best iteration is:\n",
      "[16]\tvalid_0's binary_logloss: 0.347699\tvalid_0's auc: 0.862838\n",
      "[1]\tvalid_0's binary_logloss: 0.449071\tvalid_0's auc: 0.823479\n",
      "Training until validation scores don't improve for 5 rounds.\n",
      "[2]\tvalid_0's binary_logloss: 0.418687\tvalid_0's auc: 0.843905\n",
      "[3]\tvalid_0's binary_logloss: 0.399237\tvalid_0's auc: 0.848319\n",
      "[4]\tvalid_0's binary_logloss: 0.385509\tvalid_0's auc: 0.852169\n",
      "[5]\tvalid_0's binary_logloss: 0.375163\tvalid_0's auc: 0.855319\n",
      "[6]\tvalid_0's binary_logloss: 0.368052\tvalid_0's auc: 0.857063\n"
     ]
    },
    {
     "name": "stderr",
     "output_type": "stream",
     "text": [
      "/Library/Frameworks/Python.framework/Versions/3.6/lib/python3.6/site-packages/sklearn/preprocessing/label.py:151: DeprecationWarning: The truth value of an empty array is ambiguous. Returning False, but in future this will result in an error. Use `array.size > 0` to check that an array is not empty.\n",
      "  if diff:\n",
      "/Library/Frameworks/Python.framework/Versions/3.6/lib/python3.6/site-packages/sklearn/preprocessing/label.py:151: DeprecationWarning: The truth value of an empty array is ambiguous. Returning False, but in future this will result in an error. Use `array.size > 0` to check that an array is not empty.\n",
      "  if diff:\n"
     ]
    },
    {
     "name": "stdout",
     "output_type": "stream",
     "text": [
      "[7]\tvalid_0's binary_logloss: 0.363382\tvalid_0's auc: 0.857412\n",
      "[8]\tvalid_0's binary_logloss: 0.360052\tvalid_0's auc: 0.857878\n",
      "[9]\tvalid_0's binary_logloss: 0.358295\tvalid_0's auc: 0.857494\n",
      "[10]\tvalid_0's binary_logloss: 0.355072\tvalid_0's auc: 0.858804\n",
      "[11]\tvalid_0's binary_logloss: 0.353884\tvalid_0's auc: 0.858368\n",
      "[12]\tvalid_0's binary_logloss: 0.353651\tvalid_0's auc: 0.857435\n",
      "[13]\tvalid_0's binary_logloss: 0.352607\tvalid_0's auc: 0.857911\n",
      "[14]\tvalid_0's binary_logloss: 0.352553\tvalid_0's auc: 0.857983\n",
      "[15]\tvalid_0's binary_logloss: 0.351391\tvalid_0's auc: 0.858947\n",
      "[16]\tvalid_0's binary_logloss: 0.35173\tvalid_0's auc: 0.858698\n",
      "[17]\tvalid_0's binary_logloss: 0.352694\tvalid_0's auc: 0.85828\n",
      "[18]\tvalid_0's binary_logloss: 0.353508\tvalid_0's auc: 0.8579\n",
      "[19]\tvalid_0's binary_logloss: 0.353275\tvalid_0's auc: 0.858528\n",
      "[20]\tvalid_0's binary_logloss: 0.353397\tvalid_0's auc: 0.85886\n",
      "Early stopping, best iteration is:\n",
      "[15]\tvalid_0's binary_logloss: 0.351391\tvalid_0's auc: 0.858947\n",
      "[1]\tvalid_0's binary_logloss: 0.447226\tvalid_0's auc: 0.823169\n",
      "Training until validation scores don't improve for 5 rounds.\n",
      "[2]\tvalid_0's binary_logloss: 0.417739\tvalid_0's auc: 0.847785\n",
      "[3]\tvalid_0's binary_logloss: 0.397766\tvalid_0's auc: 0.852118\n",
      "[4]\tvalid_0's binary_logloss: 0.38495\tvalid_0's auc: 0.854298\n",
      "[5]\tvalid_0's binary_logloss: 0.375007\tvalid_0's auc: 0.855335\n",
      "[6]\tvalid_0's binary_logloss: 0.369813\tvalid_0's auc: 0.855791\n",
      "[7]\tvalid_0's binary_logloss: 0.364555\tvalid_0's auc: 0.856613\n",
      "[8]\tvalid_0's binary_logloss: 0.360715\tvalid_0's auc: 0.858285\n"
     ]
    },
    {
     "name": "stderr",
     "output_type": "stream",
     "text": [
      "/Library/Frameworks/Python.framework/Versions/3.6/lib/python3.6/site-packages/sklearn/preprocessing/label.py:151: DeprecationWarning: The truth value of an empty array is ambiguous. Returning False, but in future this will result in an error. Use `array.size > 0` to check that an array is not empty.\n",
      "  if diff:\n",
      "/Library/Frameworks/Python.framework/Versions/3.6/lib/python3.6/site-packages/sklearn/preprocessing/label.py:151: DeprecationWarning: The truth value of an empty array is ambiguous. Returning False, but in future this will result in an error. Use `array.size > 0` to check that an array is not empty.\n",
      "  if diff:\n"
     ]
    },
    {
     "name": "stdout",
     "output_type": "stream",
     "text": [
      "[9]\tvalid_0's binary_logloss: 0.356826\tvalid_0's auc: 0.859615\n",
      "[10]\tvalid_0's binary_logloss: 0.354304\tvalid_0's auc: 0.860612\n",
      "[11]\tvalid_0's binary_logloss: 0.352709\tvalid_0's auc: 0.860332\n",
      "[12]\tvalid_0's binary_logloss: 0.351001\tvalid_0's auc: 0.860839\n",
      "[13]\tvalid_0's binary_logloss: 0.35001\tvalid_0's auc: 0.861\n",
      "[14]\tvalid_0's binary_logloss: 0.350839\tvalid_0's auc: 0.860171\n",
      "[15]\tvalid_0's binary_logloss: 0.350144\tvalid_0's auc: 0.860424\n",
      "[16]\tvalid_0's binary_logloss: 0.350309\tvalid_0's auc: 0.859944\n",
      "[17]\tvalid_0's binary_logloss: 0.349668\tvalid_0's auc: 0.861196\n",
      "[18]\tvalid_0's binary_logloss: 0.349975\tvalid_0's auc: 0.86114\n",
      "[19]\tvalid_0's binary_logloss: 0.349779\tvalid_0's auc: 0.861429\n",
      "[20]\tvalid_0's binary_logloss: 0.351471\tvalid_0's auc: 0.85977\n",
      "[21]\tvalid_0's binary_logloss: 0.352111\tvalid_0's auc: 0.85919\n",
      "[22]\tvalid_0's binary_logloss: 0.352161\tvalid_0's auc: 0.859713\n",
      "Early stopping, best iteration is:\n",
      "[17]\tvalid_0's binary_logloss: 0.349668\tvalid_0's auc: 0.861196\n",
      "[1]\tvalid_0's binary_logloss: 0.444849\tvalid_0's auc: 0.837907\n",
      "Training until validation scores don't improve for 5 rounds.\n",
      "[2]\tvalid_0's binary_logloss: 0.418313\tvalid_0's auc: 0.845299\n",
      "[3]\tvalid_0's binary_logloss: 0.399248\tvalid_0's auc: 0.85102\n"
     ]
    },
    {
     "name": "stderr",
     "output_type": "stream",
     "text": [
      "/Library/Frameworks/Python.framework/Versions/3.6/lib/python3.6/site-packages/sklearn/preprocessing/label.py:151: DeprecationWarning: The truth value of an empty array is ambiguous. Returning False, but in future this will result in an error. Use `array.size > 0` to check that an array is not empty.\n",
      "  if diff:\n",
      "/Library/Frameworks/Python.framework/Versions/3.6/lib/python3.6/site-packages/sklearn/preprocessing/label.py:151: DeprecationWarning: The truth value of an empty array is ambiguous. Returning False, but in future this will result in an error. Use `array.size > 0` to check that an array is not empty.\n",
      "  if diff:\n"
     ]
    },
    {
     "name": "stdout",
     "output_type": "stream",
     "text": [
      "[4]\tvalid_0's binary_logloss: 0.384333\tvalid_0's auc: 0.854281\n",
      "[5]\tvalid_0's binary_logloss: 0.37562\tvalid_0's auc: 0.854269\n",
      "[6]\tvalid_0's binary_logloss: 0.368571\tvalid_0's auc: 0.855409\n",
      "[7]\tvalid_0's binary_logloss: 0.36346\tvalid_0's auc: 0.857054\n",
      "[8]\tvalid_0's binary_logloss: 0.359377\tvalid_0's auc: 0.858791\n",
      "[9]\tvalid_0's binary_logloss: 0.35617\tvalid_0's auc: 0.859689\n",
      "[10]\tvalid_0's binary_logloss: 0.353766\tvalid_0's auc: 0.861045\n",
      "[11]\tvalid_0's binary_logloss: 0.353049\tvalid_0's auc: 0.860431\n",
      "[12]\tvalid_0's binary_logloss: 0.3521\tvalid_0's auc: 0.860297\n",
      "[13]\tvalid_0's binary_logloss: 0.350576\tvalid_0's auc: 0.861437\n",
      "[14]\tvalid_0's binary_logloss: 0.349803\tvalid_0's auc: 0.861473\n",
      "[15]\tvalid_0's binary_logloss: 0.349246\tvalid_0's auc: 0.861778\n",
      "[16]\tvalid_0's binary_logloss: 0.347699\tvalid_0's auc: 0.862838\n",
      "[17]\tvalid_0's binary_logloss: 0.348948\tvalid_0's auc: 0.861546\n",
      "[18]\tvalid_0's binary_logloss: 0.34926\tvalid_0's auc: 0.861215\n",
      "[19]\tvalid_0's binary_logloss: 0.349007\tvalid_0's auc: 0.86181\n",
      "[20]\tvalid_0's binary_logloss: 0.349776\tvalid_0's auc: 0.861386\n",
      "[21]\tvalid_0's binary_logloss: 0.3513\tvalid_0's auc: 0.859769\n",
      "Early stopping, best iteration is:\n",
      "[16]\tvalid_0's binary_logloss: 0.347699\tvalid_0's auc: 0.862838\n",
      "[1]\tvalid_0's binary_logloss: 0.449071\tvalid_0's auc: 0.823479\n",
      "Training until validation scores don't improve for 5 rounds.\n"
     ]
    },
    {
     "name": "stderr",
     "output_type": "stream",
     "text": [
      "/Library/Frameworks/Python.framework/Versions/3.6/lib/python3.6/site-packages/sklearn/preprocessing/label.py:151: DeprecationWarning: The truth value of an empty array is ambiguous. Returning False, but in future this will result in an error. Use `array.size > 0` to check that an array is not empty.\n",
      "  if diff:\n",
      "/Library/Frameworks/Python.framework/Versions/3.6/lib/python3.6/site-packages/sklearn/preprocessing/label.py:151: DeprecationWarning: The truth value of an empty array is ambiguous. Returning False, but in future this will result in an error. Use `array.size > 0` to check that an array is not empty.\n",
      "  if diff:\n"
     ]
    },
    {
     "name": "stdout",
     "output_type": "stream",
     "text": [
      "[2]\tvalid_0's binary_logloss: 0.418687\tvalid_0's auc: 0.843905\n",
      "[3]\tvalid_0's binary_logloss: 0.399237\tvalid_0's auc: 0.848319\n",
      "[4]\tvalid_0's binary_logloss: 0.385509\tvalid_0's auc: 0.852169\n",
      "[5]\tvalid_0's binary_logloss: 0.375163\tvalid_0's auc: 0.855319\n",
      "[6]\tvalid_0's binary_logloss: 0.368052\tvalid_0's auc: 0.857063\n",
      "[7]\tvalid_0's binary_logloss: 0.363382\tvalid_0's auc: 0.857412\n",
      "[8]\tvalid_0's binary_logloss: 0.360052\tvalid_0's auc: 0.857878\n",
      "[9]\tvalid_0's binary_logloss: 0.358295\tvalid_0's auc: 0.857494\n",
      "[10]\tvalid_0's binary_logloss: 0.355072\tvalid_0's auc: 0.858804\n",
      "[11]\tvalid_0's binary_logloss: 0.353884\tvalid_0's auc: 0.858368\n",
      "[12]\tvalid_0's binary_logloss: 0.353651\tvalid_0's auc: 0.857435\n",
      "[13]\tvalid_0's binary_logloss: 0.352607\tvalid_0's auc: 0.857911\n",
      "[14]\tvalid_0's binary_logloss: 0.352553\tvalid_0's auc: 0.857983\n",
      "[15]\tvalid_0's binary_logloss: 0.351391\tvalid_0's auc: 0.858947\n",
      "[16]\tvalid_0's binary_logloss: 0.35173\tvalid_0's auc: 0.858698\n",
      "[17]\tvalid_0's binary_logloss: 0.352694\tvalid_0's auc: 0.85828\n",
      "[18]\tvalid_0's binary_logloss: 0.353508\tvalid_0's auc: 0.8579\n",
      "[19]\tvalid_0's binary_logloss: 0.353275\tvalid_0's auc: 0.858528\n",
      "[20]\tvalid_0's binary_logloss: 0.353397\tvalid_0's auc: 0.85886\n",
      "Early stopping, best iteration is:\n",
      "[15]\tvalid_0's binary_logloss: 0.351391\tvalid_0's auc: 0.858947\n",
      "[1]\tvalid_0's binary_logloss: 0.447226\tvalid_0's auc: 0.823169\n",
      "Training until validation scores don't improve for 5 rounds.\n",
      "[2]\tvalid_0's binary_logloss: 0.417739\tvalid_0's auc: 0.847785\n",
      "[3]\tvalid_0's binary_logloss: 0.397766\tvalid_0's auc: 0.852118\n",
      "[4]\tvalid_0's binary_logloss: 0.38495\tvalid_0's auc: 0.854298\n"
     ]
    },
    {
     "name": "stderr",
     "output_type": "stream",
     "text": [
      "/Library/Frameworks/Python.framework/Versions/3.6/lib/python3.6/site-packages/sklearn/preprocessing/label.py:151: DeprecationWarning: The truth value of an empty array is ambiguous. Returning False, but in future this will result in an error. Use `array.size > 0` to check that an array is not empty.\n",
      "  if diff:\n",
      "/Library/Frameworks/Python.framework/Versions/3.6/lib/python3.6/site-packages/sklearn/preprocessing/label.py:151: DeprecationWarning: The truth value of an empty array is ambiguous. Returning False, but in future this will result in an error. Use `array.size > 0` to check that an array is not empty.\n",
      "  if diff:\n"
     ]
    },
    {
     "name": "stdout",
     "output_type": "stream",
     "text": [
      "[5]\tvalid_0's binary_logloss: 0.375007\tvalid_0's auc: 0.855335\n",
      "[6]\tvalid_0's binary_logloss: 0.369813\tvalid_0's auc: 0.855791\n",
      "[7]\tvalid_0's binary_logloss: 0.364555\tvalid_0's auc: 0.856613\n",
      "[8]\tvalid_0's binary_logloss: 0.360715\tvalid_0's auc: 0.858285\n",
      "[9]\tvalid_0's binary_logloss: 0.356826\tvalid_0's auc: 0.859615\n",
      "[10]\tvalid_0's binary_logloss: 0.354304\tvalid_0's auc: 0.860612\n",
      "[11]\tvalid_0's binary_logloss: 0.352709\tvalid_0's auc: 0.860332\n",
      "[12]\tvalid_0's binary_logloss: 0.351001\tvalid_0's auc: 0.860839\n",
      "[13]\tvalid_0's binary_logloss: 0.35001\tvalid_0's auc: 0.861\n",
      "[14]\tvalid_0's binary_logloss: 0.350839\tvalid_0's auc: 0.860171\n",
      "[15]\tvalid_0's binary_logloss: 0.350144\tvalid_0's auc: 0.860424\n",
      "[16]\tvalid_0's binary_logloss: 0.350309\tvalid_0's auc: 0.859944\n",
      "[17]\tvalid_0's binary_logloss: 0.349668\tvalid_0's auc: 0.861196\n",
      "[18]\tvalid_0's binary_logloss: 0.349975\tvalid_0's auc: 0.86114\n",
      "[19]\tvalid_0's binary_logloss: 0.349779\tvalid_0's auc: 0.861429\n",
      "[20]\tvalid_0's binary_logloss: 0.351471\tvalid_0's auc: 0.85977\n",
      "[21]\tvalid_0's binary_logloss: 0.352111\tvalid_0's auc: 0.85919\n",
      "[22]\tvalid_0's binary_logloss: 0.352161\tvalid_0's auc: 0.859713\n",
      "Early stopping, best iteration is:\n",
      "[17]\tvalid_0's binary_logloss: 0.349668\tvalid_0's auc: 0.861196\n",
      "[1]\tvalid_0's binary_logloss: 0.464118\tvalid_0's auc: 0.839068\n",
      "Training until validation scores don't improve for 5 rounds.\n",
      "[2]\tvalid_0's binary_logloss: 0.440587\tvalid_0's auc: 0.843944\n",
      "[3]\tvalid_0's binary_logloss: 0.421871\tvalid_0's auc: 0.851053\n",
      "[4]\tvalid_0's binary_logloss: 0.408327\tvalid_0's auc: 0.854831\n"
     ]
    },
    {
     "name": "stderr",
     "output_type": "stream",
     "text": [
      "/Library/Frameworks/Python.framework/Versions/3.6/lib/python3.6/site-packages/sklearn/preprocessing/label.py:151: DeprecationWarning: The truth value of an empty array is ambiguous. Returning False, but in future this will result in an error. Use `array.size > 0` to check that an array is not empty.\n",
      "  if diff:\n",
      "/Library/Frameworks/Python.framework/Versions/3.6/lib/python3.6/site-packages/sklearn/preprocessing/label.py:151: DeprecationWarning: The truth value of an empty array is ambiguous. Returning False, but in future this will result in an error. Use `array.size > 0` to check that an array is not empty.\n",
      "  if diff:\n"
     ]
    },
    {
     "name": "stdout",
     "output_type": "stream",
     "text": [
      "[5]\tvalid_0's binary_logloss: 0.397486\tvalid_0's auc: 0.856817\n",
      "[6]\tvalid_0's binary_logloss: 0.388705\tvalid_0's auc: 0.856956\n",
      "[7]\tvalid_0's binary_logloss: 0.379977\tvalid_0's auc: 0.859821\n",
      "[8]\tvalid_0's binary_logloss: 0.373975\tvalid_0's auc: 0.86054\n",
      "[9]\tvalid_0's binary_logloss: 0.368672\tvalid_0's auc: 0.861986\n",
      "[10]\tvalid_0's binary_logloss: 0.364785\tvalid_0's auc: 0.862685\n",
      "[11]\tvalid_0's binary_logloss: 0.360898\tvalid_0's auc: 0.863273\n",
      "[12]\tvalid_0's binary_logloss: 0.358209\tvalid_0's auc: 0.862506\n",
      "[13]\tvalid_0's binary_logloss: 0.354968\tvalid_0's auc: 0.864069\n",
      "[14]\tvalid_0's binary_logloss: 0.352916\tvalid_0's auc: 0.864478\n",
      "[15]\tvalid_0's binary_logloss: 0.351246\tvalid_0's auc: 0.864372\n",
      "[16]\tvalid_0's binary_logloss: 0.350116\tvalid_0's auc: 0.863962\n",
      "[17]\tvalid_0's binary_logloss: 0.348922\tvalid_0's auc: 0.863989\n",
      "[18]\tvalid_0's binary_logloss: 0.346999\tvalid_0's auc: 0.86502\n",
      "[19]\tvalid_0's binary_logloss: 0.345504\tvalid_0's auc: 0.865755\n",
      "Did not meet early stopping. Best iteration is:\n",
      "[19]\tvalid_0's binary_logloss: 0.345504\tvalid_0's auc: 0.865755\n"
     ]
    },
    {
     "data": {
      "text/plain": [
       "GridSearchCV(cv=None, error_score='raise',\n",
       "       estimator=LGBMClassifier(boosting_type='gbdt', class_weight=None, colsample_bytree=1.0,\n",
       "        learning_rate=0.125, max_depth=-1, metric='l1',\n",
       "        min_child_samples=20, min_child_weight=0.001, min_split_gain=0.0,\n",
       "        n_estimators=20, n_jobs=-1, num_leaves=38, objective=None,\n",
       "        random_state=None, reg_alpha=0.0, reg_lambda=0.0, silent=True,\n",
       "        subsample=1.0, subsample_for_bin=200000, subsample_freq=0),\n",
       "       fit_params=None, iid=True, n_jobs=1,\n",
       "       param_grid={'n_estimators': [10, 13, 16, 19, 22, 25, 28, 31, 34, 37], 'learning_rate': [0.1, 0.125, 0.15, 0.175, 0.2]},\n",
       "       pre_dispatch='2*n_jobs', refit=True, return_train_score='warn',\n",
       "       scoring=None, verbose=0)"
      ]
     },
     "execution_count": 12,
     "metadata": {},
     "output_type": "execute_result"
    }
   ],
   "source": [
    "estimator = lgb.LGBMClassifier(learning_rate = 0.125, metric = 'l1',n_estimators = 20, num_leaves = 38)\n",
    "\n",
    "param_grid = {'n_estimators': [x for x in range(10, 40, 3)],\n",
    "              'learning_rate': [0.10, 0.125, 0.15, 0.175, 0.2]}\n",
    "gridsearch = GridSearchCV(estimator, param_grid)\n",
    "\n",
    "gridsearch.fit(X_train, y_train,\n",
    "               eval_set=[(X_validation, y_validation)],\n",
    "               eval_metric=['auc', 'binary_logloss'],\n",
    "               early_stopping_rounds=5)"
   ]
  },
  {
   "cell_type": "code",
   "execution_count": 13,
   "metadata": {},
   "outputs": [
    {
     "data": {
      "text/plain": [
       "{'learning_rate': 0.125, 'n_estimators': 19}"
      ]
     },
     "execution_count": 13,
     "metadata": {},
     "output_type": "execute_result"
    }
   ],
   "source": [
    "gridsearch.best_params_"
   ]
  },
  {
   "cell_type": "code",
   "execution_count": 14,
   "metadata": {},
   "outputs": [
    {
     "name": "stdout",
     "output_type": "stream",
     "text": [
      "[1]\tvalid_0's binary_logloss: 0.464118\tvalid_0's auc: 0.839068\n",
      "Training until validation scores don't improve for 5 rounds.\n",
      "[2]\tvalid_0's binary_logloss: 0.440587\tvalid_0's auc: 0.843944\n",
      "[3]\tvalid_0's binary_logloss: 0.421871\tvalid_0's auc: 0.851053\n",
      "[4]\tvalid_0's binary_logloss: 0.408327\tvalid_0's auc: 0.854831\n",
      "[5]\tvalid_0's binary_logloss: 0.397486\tvalid_0's auc: 0.856817\n",
      "[6]\tvalid_0's binary_logloss: 0.388705\tvalid_0's auc: 0.856956\n",
      "[7]\tvalid_0's binary_logloss: 0.379977\tvalid_0's auc: 0.859821\n",
      "[8]\tvalid_0's binary_logloss: 0.373975\tvalid_0's auc: 0.86054\n",
      "[9]\tvalid_0's binary_logloss: 0.368672\tvalid_0's auc: 0.861986\n",
      "[10]\tvalid_0's binary_logloss: 0.364785\tvalid_0's auc: 0.862685\n",
      "[11]\tvalid_0's binary_logloss: 0.360898\tvalid_0's auc: 0.863273\n",
      "[12]\tvalid_0's binary_logloss: 0.358209\tvalid_0's auc: 0.862506\n",
      "[13]\tvalid_0's binary_logloss: 0.354968\tvalid_0's auc: 0.864069\n",
      "[14]\tvalid_0's binary_logloss: 0.352916\tvalid_0's auc: 0.864478\n",
      "[15]\tvalid_0's binary_logloss: 0.351246\tvalid_0's auc: 0.864372\n",
      "[16]\tvalid_0's binary_logloss: 0.350116\tvalid_0's auc: 0.863962\n",
      "[17]\tvalid_0's binary_logloss: 0.348922\tvalid_0's auc: 0.863989\n",
      "[18]\tvalid_0's binary_logloss: 0.346999\tvalid_0's auc: 0.86502\n",
      "[19]\tvalid_0's binary_logloss: 0.345504\tvalid_0's auc: 0.865755\n",
      "[20]\tvalid_0's binary_logloss: 0.345015\tvalid_0's auc: 0.865853\n",
      "[21]\tvalid_0's binary_logloss: 0.345394\tvalid_0's auc: 0.865172\n",
      "[22]\tvalid_0's binary_logloss: 0.344913\tvalid_0's auc: 0.865306\n",
      "[23]\tvalid_0's binary_logloss: 0.344056\tvalid_0's auc: 0.865868\n",
      "[24]\tvalid_0's binary_logloss: 0.343313\tvalid_0's auc: 0.866191\n",
      "[25]\tvalid_0's binary_logloss: 0.343274\tvalid_0's auc: 0.866046\n",
      "[26]\tvalid_0's binary_logloss: 0.343285\tvalid_0's auc: 0.866278\n",
      "[27]\tvalid_0's binary_logloss: 0.34291\tvalid_0's auc: 0.866552\n",
      "[28]\tvalid_0's binary_logloss: 0.342592\tvalid_0's auc: 0.86693\n",
      "[29]\tvalid_0's binary_logloss: 0.343175\tvalid_0's auc: 0.86622\n",
      "[30]\tvalid_0's binary_logloss: 0.34342\tvalid_0's auc: 0.866031\n",
      "[31]\tvalid_0's binary_logloss: 0.343385\tvalid_0's auc: 0.866023\n",
      "[32]\tvalid_0's binary_logloss: 0.343762\tvalid_0's auc: 0.865746\n",
      "[33]\tvalid_0's binary_logloss: 0.344181\tvalid_0's auc: 0.865385\n",
      "Early stopping, best iteration is:\n",
      "[28]\tvalid_0's binary_logloss: 0.342592\tvalid_0's auc: 0.86693\n"
     ]
    },
    {
     "data": {
      "text/plain": [
       "LGBMClassifier(boosting_type='gbdt', class_weight=None, colsample_bytree=1.0,\n",
       "        learning_rate=0.125, max_depth=-1, metric='11',\n",
       "        min_child_samples=20, min_child_weight=0.001, min_split_gain=0.0,\n",
       "        n_estimators=100, n_estumaters=19, n_jobs=-1, num_leaves=38,\n",
       "        objective=None, random_state=None, reg_alpha=0.0, reg_lambda=0.0,\n",
       "        silent=True, subsample=1.0, subsample_for_bin=200000,\n",
       "        subsample_freq=0)"
      ]
     },
     "execution_count": 14,
     "metadata": {},
     "output_type": "execute_result"
    }
   ],
   "source": [
    "gbm = lgb.LGBMClassifier(learning_rate = 0.125, metric = \"11\", n_estumaters = 19, num_leaves = 38)\n",
    "gbm.fit(X_train, y_train,\n",
    "        eval_set=[(X_validation, y_validation)],\n",
    "        eval_metric=['auc', 'binary_logloss'],\n",
    "        early_stopping_rounds=5)"
   ]
  },
  {
   "cell_type": "code",
   "execution_count": 45,
   "metadata": {},
   "outputs": [
    {
     "name": "stderr",
     "output_type": "stream",
     "text": [
      "/Library/Frameworks/Python.framework/Versions/3.6/lib/python3.6/site-packages/sklearn/preprocessing/label.py:151: DeprecationWarning: The truth value of an empty array is ambiguous. Returning False, but in future this will result in an error. Use `array.size > 0` to check that an array is not empty.\n",
      "  if diff:\n"
     ]
    }
   ],
   "source": [
    "result = gbm.predict(X_test)"
   ]
  },
  {
   "cell_type": "code",
   "execution_count": 72,
   "metadata": {},
   "outputs": [
    {
     "data": {
      "text/plain": [
       "(5100, 34)"
      ]
     },
     "execution_count": 72,
     "metadata": {},
     "output_type": "execute_result"
    }
   ],
   "source": [
    "X_test.shape"
   ]
  },
  {
   "cell_type": "code",
   "execution_count": 76,
   "metadata": {},
   "outputs": [],
   "source": [
    "Result = X_test[\"id_cpte\"].to_frame()\n",
    "Result[\"default\"] = result"
   ]
  },
  {
   "cell_type": "code",
   "execution_count": 78,
   "metadata": {},
   "outputs": [],
   "source": [
    "Result.reset"
   ]
  },
  {
   "cell_type": "code",
   "execution_count": 82,
   "metadata": {},
   "outputs": [],
   "source": [
    "Result.to_csv(\"../result/0711_lightgbm_result.csv\", index = False)"
   ]
  },
  {
   "cell_type": "code",
   "execution_count": 69,
   "metadata": {},
   "outputs": [
    {
     "data": {
      "text/plain": [
       "5100"
      ]
     },
     "execution_count": 69,
     "metadata": {},
     "output_type": "execute_result"
    }
   ],
   "source": []
  },
  {
   "cell_type": "code",
   "execution_count": null,
   "metadata": {},
   "outputs": [],
   "source": []
  }
 ],
 "metadata": {
  "kernelspec": {
   "display_name": "Python 3",
   "language": "python",
   "name": "python3"
  },
  "language_info": {
   "codemirror_mode": {
    "name": "ipython",
    "version": 3
   },
   "file_extension": ".py",
   "mimetype": "text/x-python",
   "name": "python",
   "nbconvert_exporter": "python",
   "pygments_lexer": "ipython3",
   "version": "3.6.4"
  }
 },
 "nbformat": 4,
 "nbformat_minor": 2
}
