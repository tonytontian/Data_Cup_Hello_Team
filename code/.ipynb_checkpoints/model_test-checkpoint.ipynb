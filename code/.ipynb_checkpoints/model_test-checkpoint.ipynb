{
 "cells": [
  {
   "cell_type": "code",
   "execution_count": 1,
   "metadata": {},
   "outputs": [
    {
     "name": "stderr",
     "output_type": "stream",
     "text": [
      "/home/data/anaconda3/lib/python3.6/site-packages/sklearn/cross_validation.py:41: DeprecationWarning: This module was deprecated in version 0.18 in favor of the model_selection module into which all the refactored classes and functions are moved. Also note that the interface of the new CV iterators are different from that of this module. This module will be removed in 0.20.\n",
      "  \"This module will be removed in 0.20.\", DeprecationWarning)\n"
     ]
    }
   ],
   "source": [
    "# import the relevant computational modules\n",
    "\n",
    "# data manipulation\n",
    "import pandas as pd #data processing\n",
    "import numpy as np #linear algebra\n",
    "\n",
    "# Models Packages\n",
    "from sklearn import metrics\n",
    "from sklearn.metrics import roc_auc_score\n",
    "from sklearn import feature_selection\n",
    "from sklearn.model_selection import train_test_split\n",
    "from sklearn import preprocessing\n",
    "\n",
    "# Gradient Boosting\n",
    "import lightgbm as lgb\n",
    "from sklearn.cross_validation import KFold"
   ]
  },
  {
   "cell_type": "code",
   "execution_count": 2,
   "metadata": {},
   "outputs": [],
   "source": [
    "# import data\n",
    "\n",
    "transaction_training = pd.read_csv('../raw_data/transactions_train.csv')\n",
    "payment_training = pd.read_csv('../raw_data/paiements_train.csv')\n",
    "billing_training = pd.read_csv('../raw_data/facturation_train.csv')\n",
    "performance_training = pd.read_csv('../raw_data/performance_train.csv')\n",
    "\n",
    "\n",
    "transaction_test = pd.read_csv('../raw_data/transactions_test.csv')\n",
    "payment_test = pd.read_csv('../raw_data/paiements_test.csv')\n",
    "billing_test = pd.read_csv('../raw_data/facturation_test.csv')\n",
    "performance_test = pd.read_csv('../raw_data/performance_test.csv')"
   ]
  },
  {
   "cell_type": "code",
   "execution_count": 3,
   "metadata": {},
   "outputs": [],
   "source": [
    "# Create basic scikit-learn wrapper model class\n",
    "class SklearnWrapper:\n",
    "    def __init__(self, clf, seed=0, params=None, seed_bool=True):\n",
    "        if (seed_bool == True):\n",
    "            params['random_state'] = seed\n",
    "        self.clf = clf(**params)\n",
    "    \n",
    "    def train(self, x_train, y_train):\n",
    "        self.clf.fit(x_train, y_train)\n",
    "        \n",
    "    def predict(self, x):\n",
    "        return self.clf.predict(x)"
   ]
  },
  {
   "cell_type": "code",
   "execution_count": 4,
   "metadata": {},
   "outputs": [],
   "source": [
    "# create basic xgboost wrapper model class\n",
    "class XgbWrapper:\n",
    "    def __init__(self, seed=0, params=None):\n",
    "        self.param = params\n",
    "        self.param['seed'] = seed\n",
    "        self.nrounds = params.pop('nrounds', 250)\n",
    "\n",
    "    def train(self, x_train, y_train):\n",
    "        dtrain = xgb.DMatrix(x_train, label=y_train)\n",
    "        self.gbdt = xgb.train(self.param, dtrain, self.nrounds)\n",
    "\n",
    "    def predict(self, x):\n",
    "        return self.gbdt.predict(xgb.DMatrix(x))"
   ]
  },
  {
   "cell_type": "code",
   "execution_count": 5,
   "metadata": {},
   "outputs": [],
   "source": [
    "# create basic lightGBM wrapper model class\n",
    "class LightGbmWrapper:\n",
    "    def __init(self, seed=0, params=None):\n",
    "        self.param = params\n",
    "        self.param['seed'] = seed\n",
    "        self.nrounds = params.pop('nrounds', 1550)\n",
    "        self.verbose_eval = params.pop('verbose_eval', 100)\n",
    "        \n",
    "    def train(self, x_train, y_train):\n",
    "        lgtrain = lgb.Dataset(x_train, y_train)\n",
    "        self.lgbm = lgb.train(self.param, lgtrain, num_boost_round=self.nrounds, verbose_eval=self.verbose_eval)\n",
    "    \n",
    "    def predict(self, x):\n",
    "        return self.lgbm.predict(lgb.Dataset(x))"
   ]
  },
  {
   "cell_type": "code",
   "execution_count": 6,
   "metadata": {},
   "outputs": [],
   "source": [
    "# create out-of-fold predictions \n",
    "# make good use of k-fold CV's result \n",
    "# serving for the staking alogrithm \n",
    "# create a new column generated from model's score\n",
    "\n",
    "def get_oof(clf, x_train, y, x_test):\n",
    "    '''\n",
    "    clf: the classifer, which can be logistic regression, SVM regression, Bayes classifier, etc.\n",
    "    x_train: the training x in training dataset\n",
    "    y: the training y in training dataset\n",
    "    x_test: the testing x in training dataset \n",
    "    '''\n",
    "    oof_train = np.zeros((ntrain,))\n",
    "    oof_test = np.zeros((ntest,))\n",
    "    oof_test_skf = np.empty((NFOLDS, ntest))\n",
    "    \n",
    "    for i, (train_index, test_index) in enumerate(kf):\n",
    "        print('\\nFold {}'.format(i))\n",
    "        x_tr = x_train[train_index]\n",
    "        y_tr = y[train_index]\n",
    "        x_te = x_train[test_index]\n",
    "        \n",
    "        clf.fit(x_tr, y_tr)\n",
    "        \n",
    "        oof_train[test_index] = clf.predict(x_te)\n",
    "        oof_test_skf[i, :] = clf.predict(x_test)\n",
    "    \n",
    "    m = stats.mode(oof_test_skf, axis=1)\n",
    "    oof_test[:] = m[0][0]\n",
    "    return oof_train.reshape(-1, 1), oof_test.reshape(-1, 1)       "
   ]
  },
  {
   "cell_type": "code",
   "execution_count": 7,
   "metadata": {},
   "outputs": [],
   "source": [
    "# data preprocess\n",
    "\n",
    "class DataPreprocess:\n",
    "    def __init__(self, label_encoder):\n",
    "        self.lbl = label_encoder\n",
    "        \n",
    "    def preprocess_transcation(self, transaction_df):\n",
    "        categorical_columns = ['MERCHANT_CATEGORY_XCD', 'MERCHANT_CITY_NAME', 'MERCHANT_COUNTRY_XCD', \n",
    "                               'DECISION_XCD', 'TRANSACTION_CATEGORY_XCD', 'TRANSACTION_TYPE_XCD', 'SICGROUP']\n",
    "        \n",
    "        for col in categorical_columns:\n",
    "            transaction_df[col].fillna('unknown')\n",
    "            transaction_df[col] = self.lbl.fit_transform(transaction_df[col].astype(str))\n",
    "        \n",
    "        transaction_df = transaction_df.groupby(['ID_CPTE', 'MERCHANT_CATEGORY_XCD'])['TRANSACTION_AMT'].sum()\n",
    "        transaction_df = transaction_df.reset_index()\n",
    "        transaction_df = transaction_df.pivot_table('TRANSACTION_AMT', ['ID_CPTE'], 'MERCHANT_CATEGORY_XCD')\n",
    "        transaction_df.columns = ['MERCHANT_CATEGORY_' + str(i) for i in transaction_df.columns]\n",
    "        transaction_df = transaction_df.fillna(0)\n",
    "        \n",
    "        return transaction_df\n",
    "    \n",
    "    def preprocess_payment(self, payment_df):\n",
    "        payment_df = payment_df.dropna()\n",
    "        payment_df['TRANSACTION_DTTM'] = payment_df['TRANSACTION_DTTM'].apply(lambda x: str(x).split(' ')[0][:-3])\n",
    "        payment_df = payment_df.sort_values(['ID_CPTE', 'TRANSACTION_DTTM'])\n",
    "        payment_df['PAYMENT_N_COUNT'] = payment_df['PAYMENT_REVERSAL_XFLG'] == 'N'\n",
    "        \n",
    "        payment_df = payment_df.groupby(['ID_CPTE', 'TRANSACTION_DTTM'])[['TRANSACTION_AMT', 'PAYMENT_N_COUNT']].sum().reset_index()\n",
    "        payment_df = payment_df.groupby('ID_CPTE').tail(12)\n",
    "        \n",
    "        tmp = payment_df.groupby(['ID_CPTE'])['PAYMENT_N_COUNT'].sum().reset_index()\n",
    "        \n",
    "        payment_df['TRANSACTION_DTTM'] = payment_df['TRANSACTION_DTTM'].apply(lambda x: x.split('-')[1])\n",
    "        payment_df = payment_df.pivot_table('TRANSACTION_AMT', ['ID_CPTE'], 'TRANSACTION_DTTM')\n",
    "        payment_df.columns = ['transaction_' + str(i) for i in payment_df.columns + '_month']\n",
    "        payment_df = payment_df.reset_index()\n",
    "        payment_df = payment_df.fillna(0)\n",
    "        \n",
    "        payment_df = payment_df.merge(tmp, on='ID_CPTE')\n",
    "        \n",
    "        return payment_df\n",
    "    \n",
    "    def preprocess_billing(self, billing_df):\n",
    "        billing_df['PERIODID_MY'] = billing_df['PERIODID_MY'].apply(lambda x: x[:-3])\n",
    "        billing_df = billing_df.sort_values(['ID_CPTE', 'PERIODID_MY'])\n",
    "        billing_df = billing_df.reset_index(drop=True)\n",
    "        billing_df = billing_df.groupby('ID_CPTE').tail(12)\n",
    "        billing_df = billing_df.reset_index(drop=True)\n",
    "        billing_df['CreditLeft'] = billing_df['CreditLimit'] - billing_df['CurrentTotalBalance']\n",
    "        \n",
    "        billing_df['PERIODID_MY'] = billing_df['PERIODID_MY'].apply(lambda x: x[-2:])\n",
    "        credit_left = billing_df.pivot_table('CreditLeft', ['ID_CPTE'], 'PERIODID_MY')\n",
    "        credit_left.columns = ['credit_left_' + str(i) for i in credit_left.columns + '_month']\n",
    "        cash_balance = billing_df.pivot_table('CashBalance', ['ID_CPTE'], 'PERIODID_MY')\n",
    "        cash_balance.columns = ['cash_balance_' + str(i) for i in cash_balance.columns + '_month']\n",
    "        \n",
    "        delq_cycle = billing_df.groupby(['ID_CPTE'])['DelqCycle'].max().reset_index()\n",
    "        delq_cycle = delq_cycle.rename(columns={'DelqCycle': 'MaxDelqCycle'})\n",
    "        \n",
    "        credit_left = credit_left.reset_index()\n",
    "        cash_balance = cash_balance.reset_index()\n",
    "        \n",
    "        tmp = credit_left.merge(cash_balance, on='ID_CPTE')\n",
    "        tmp = tmp.merge(credit_left, on='ID_CPTE')\n",
    "        tmp = tmp.merge(delq_cycle, on='ID_CPTE')\n",
    "        \n",
    "        return tmp\n",
    "    \n",
    "    def merge(self, payment, billing):\n",
    "        merge_df = payment.merge(billing, on='ID_CPTE', how='right')\n",
    "        return merge_df.set_index(['ID_CPTE']) "
   ]
  },
  {
   "cell_type": "code",
   "execution_count": 8,
   "metadata": {},
   "outputs": [
    {
     "data": {
      "text/html": [
       "<div>\n",
       "<style scoped>\n",
       "    .dataframe tbody tr th:only-of-type {\n",
       "        vertical-align: middle;\n",
       "    }\n",
       "\n",
       "    .dataframe tbody tr th {\n",
       "        vertical-align: top;\n",
       "    }\n",
       "\n",
       "    .dataframe thead th {\n",
       "        text-align: right;\n",
       "    }\n",
       "</style>\n",
       "<table border=\"1\" class=\"dataframe\">\n",
       "  <thead>\n",
       "    <tr style=\"text-align: right;\">\n",
       "      <th></th>\n",
       "      <th>ID_CPTE</th>\n",
       "      <th>PERIODID_MY</th>\n",
       "      <th>StatementDate</th>\n",
       "      <th>CurrentTotalBalance</th>\n",
       "      <th>CashBalance</th>\n",
       "      <th>CreditLimit</th>\n",
       "      <th>DelqCycle</th>\n",
       "    </tr>\n",
       "  </thead>\n",
       "  <tbody>\n",
       "    <tr>\n",
       "      <th>0</th>\n",
       "      <td>71424379</td>\n",
       "      <td>2013-11-01</td>\n",
       "      <td>2013-11-04</td>\n",
       "      <td>1444.30</td>\n",
       "      <td>0.0</td>\n",
       "      <td>3200.0</td>\n",
       "      <td>0</td>\n",
       "    </tr>\n",
       "    <tr>\n",
       "      <th>1</th>\n",
       "      <td>71424379</td>\n",
       "      <td>2014-05-01</td>\n",
       "      <td>2014-04-30</td>\n",
       "      <td>785.89</td>\n",
       "      <td>0.0</td>\n",
       "      <td>3200.0</td>\n",
       "      <td>0</td>\n",
       "    </tr>\n",
       "    <tr>\n",
       "      <th>2</th>\n",
       "      <td>71424379</td>\n",
       "      <td>2014-08-01</td>\n",
       "      <td>2014-08-02</td>\n",
       "      <td>1095.48</td>\n",
       "      <td>0.0</td>\n",
       "      <td>3200.0</td>\n",
       "      <td>0</td>\n",
       "    </tr>\n",
       "    <tr>\n",
       "      <th>3</th>\n",
       "      <td>71424379</td>\n",
       "      <td>2014-04-01</td>\n",
       "      <td>2014-04-02</td>\n",
       "      <td>845.30</td>\n",
       "      <td>0.0</td>\n",
       "      <td>3200.0</td>\n",
       "      <td>0</td>\n",
       "    </tr>\n",
       "    <tr>\n",
       "      <th>4</th>\n",
       "      <td>71424379</td>\n",
       "      <td>2013-12-01</td>\n",
       "      <td>2013-11-30</td>\n",
       "      <td>1623.28</td>\n",
       "      <td>0.0</td>\n",
       "      <td>3200.0</td>\n",
       "      <td>0</td>\n",
       "    </tr>\n",
       "  </tbody>\n",
       "</table>\n",
       "</div>"
      ],
      "text/plain": [
       "    ID_CPTE PERIODID_MY StatementDate  CurrentTotalBalance  CashBalance  \\\n",
       "0  71424379  2013-11-01    2013-11-04              1444.30          0.0   \n",
       "1  71424379  2014-05-01    2014-04-30               785.89          0.0   \n",
       "2  71424379  2014-08-01    2014-08-02              1095.48          0.0   \n",
       "3  71424379  2014-04-01    2014-04-02               845.30          0.0   \n",
       "4  71424379  2013-12-01    2013-11-30              1623.28          0.0   \n",
       "\n",
       "   CreditLimit  DelqCycle  \n",
       "0       3200.0          0  \n",
       "1       3200.0          0  \n",
       "2       3200.0          0  \n",
       "3       3200.0          0  \n",
       "4       3200.0          0  "
      ]
     },
     "execution_count": 8,
     "metadata": {},
     "output_type": "execute_result"
    }
   ],
   "source": [
    "billing_test.head()"
   ]
  },
  {
   "cell_type": "code",
   "execution_count": 9,
   "metadata": {},
   "outputs": [],
   "source": [
    "label_encoder = preprocessing.LabelEncoder()"
   ]
  },
  {
   "cell_type": "code",
   "execution_count": 10,
   "metadata": {},
   "outputs": [],
   "source": [
    "preprocess = DataPreprocess(label_encoder)"
   ]
  },
  {
   "cell_type": "code",
   "execution_count": 11,
   "metadata": {},
   "outputs": [
    {
     "name": "stderr",
     "output_type": "stream",
     "text": [
      "/home/data/anaconda3/lib/python3.6/site-packages/ipykernel_launcher.py:25: SettingWithCopyWarning: \n",
      "A value is trying to be set on a copy of a slice from a DataFrame.\n",
      "Try using .loc[row_indexer,col_indexer] = value instead\n",
      "\n",
      "See the caveats in the documentation: http://pandas.pydata.org/pandas-docs/stable/indexing.html#indexing-view-versus-copy\n"
     ]
    }
   ],
   "source": [
    "processed_payment = preprocess.preprocess_payment(payment_training)"
   ]
  },
  {
   "cell_type": "code",
   "execution_count": 12,
   "metadata": {},
   "outputs": [],
   "source": [
    "processed_billing = preprocess.preprocess_billing(billing_training)"
   ]
  },
  {
   "cell_type": "code",
   "execution_count": 13,
   "metadata": {},
   "outputs": [],
   "source": [
    "processed_data = preprocess.merge(processed_payment, processed_billing)"
   ]
  },
  {
   "cell_type": "code",
   "execution_count": 14,
   "metadata": {},
   "outputs": [],
   "source": [
    "transaction_col = processed_data.iloc[:, :12].columns"
   ]
  },
  {
   "cell_type": "code",
   "execution_count": 15,
   "metadata": {},
   "outputs": [],
   "source": [
    "for col in transaction_col:\n",
    "    replace_value = processed_data[processed_data[col].notna()][col].mean()\n",
    "    processed_data[col] = processed_data[col].fillna(replace_value)"
   ]
  },
  {
   "cell_type": "code",
   "execution_count": 16,
   "metadata": {},
   "outputs": [],
   "source": [
    "processed_data = processed_data.fillna(0)"
   ]
  },
  {
   "cell_type": "code",
   "execution_count": 17,
   "metadata": {},
   "outputs": [],
   "source": [
    "processed_data = processed_data.reset_index()"
   ]
  },
  {
   "cell_type": "code",
   "execution_count": 18,
   "metadata": {},
   "outputs": [],
   "source": [
    "processed_data = processed_data.merge(performance_training[['ID_CPTE', 'Default']], on='ID_CPTE')"
   ]
  },
  {
   "cell_type": "code",
   "execution_count": 19,
   "metadata": {},
   "outputs": [],
   "source": [
    "processed_data = processed_data.set_index('ID_CPTE')"
   ]
  },
  {
   "cell_type": "code",
   "execution_count": 20,
   "metadata": {},
   "outputs": [],
   "source": [
    "X = np.array(processed_data.iloc[:, :-1])\n",
    "y = np.array(processed_data.iloc[:, -1])"
   ]
  },
  {
   "cell_type": "code",
   "execution_count": 21,
   "metadata": {},
   "outputs": [],
   "source": [
    "from imblearn.over_sampling import SMOTE"
   ]
  },
  {
   "cell_type": "code",
   "execution_count": 22,
   "metadata": {},
   "outputs": [],
   "source": [
    "sm = SMOTE(random_state=42)\n",
    "X_res, y_res = sm.fit_sample(X, y)"
   ]
  },
  {
   "cell_type": "code",
   "execution_count": 23,
   "metadata": {},
   "outputs": [],
   "source": [
    "from sklearn.model_selection import train_test_split\n",
    "\n",
    "X_train, X_test, y_train, y_test = train_test_split(X_res, y_res, test_size=0.3, random_state=42)"
   ]
  },
  {
   "cell_type": "code",
   "execution_count": 24,
   "metadata": {},
   "outputs": [],
   "source": [
    "from sklearn.linear_model import LogisticRegression\n",
    "from sklearn.ensemble import RandomForestClassifier\n",
    "    \n",
    "clf = LogisticRegression()\n",
    "rf = RandomForestClassifier(min_samples_split=20, max_depth=10, random_state=0)"
   ]
  },
  {
   "cell_type": "code",
   "execution_count": 25,
   "metadata": {},
   "outputs": [
    {
     "data": {
      "text/plain": [
       "LogisticRegression(C=1.0, class_weight=None, dual=False, fit_intercept=True,\n",
       "          intercept_scaling=1, max_iter=100, multi_class='ovr', n_jobs=1,\n",
       "          penalty='l2', random_state=None, solver='liblinear', tol=0.0001,\n",
       "          verbose=0, warm_start=False)"
      ]
     },
     "execution_count": 25,
     "metadata": {},
     "output_type": "execute_result"
    }
   ],
   "source": [
    "clf.fit(X_train, y_train)"
   ]
  },
  {
   "cell_type": "code",
   "execution_count": 26,
   "metadata": {},
   "outputs": [
    {
     "data": {
      "text/plain": [
       "RandomForestClassifier(bootstrap=True, class_weight=None, criterion='gini',\n",
       "            max_depth=10, max_features='auto', max_leaf_nodes=None,\n",
       "            min_impurity_decrease=0.0, min_impurity_split=None,\n",
       "            min_samples_leaf=1, min_samples_split=20,\n",
       "            min_weight_fraction_leaf=0.0, n_estimators=10, n_jobs=1,\n",
       "            oob_score=False, random_state=0, verbose=0, warm_start=False)"
      ]
     },
     "execution_count": 26,
     "metadata": {},
     "output_type": "execute_result"
    }
   ],
   "source": [
    "rf.fit(X_train, y_train)"
   ]
  },
  {
   "cell_type": "code",
   "execution_count": 27,
   "metadata": {},
   "outputs": [],
   "source": [
    "predict_clf = clf.predict(X_test)"
   ]
  },
  {
   "cell_type": "code",
   "execution_count": 28,
   "metadata": {},
   "outputs": [
    {
     "data": {
      "text/plain": [
       "0.7958241477168921"
      ]
     },
     "execution_count": 28,
     "metadata": {},
     "output_type": "execute_result"
    }
   ],
   "source": [
    "roc_auc_score(predict_clf, y_test)"
   ]
  },
  {
   "cell_type": "code",
   "execution_count": 29,
   "metadata": {},
   "outputs": [],
   "source": [
    "predict_rf = rf.predict(X_test)"
   ]
  },
  {
   "cell_type": "code",
   "execution_count": 30,
   "metadata": {},
   "outputs": [
    {
     "data": {
      "text/plain": [
       "0.8664037282849164"
      ]
     },
     "execution_count": 30,
     "metadata": {},
     "output_type": "execute_result"
    }
   ],
   "source": [
    "roc_auc_score(predict_rf, y_test)"
   ]
  },
  {
   "cell_type": "code",
   "execution_count": 32,
   "metadata": {},
   "outputs": [
    {
     "data": {
      "text/plain": [
       "['random_forest.pkl']"
      ]
     },
     "execution_count": 32,
     "metadata": {},
     "output_type": "execute_result"
    }
   ],
   "source": [
    "from sklearn.externals import joblib\n",
    "joblib.dump(clf, 'random_forest.pkl')"
   ]
  },
  {
   "cell_type": "code",
   "execution_count": 33,
   "metadata": {},
   "outputs": [
    {
     "name": "stderr",
     "output_type": "stream",
     "text": [
      "/home/data/anaconda3/lib/python3.6/site-packages/ipykernel_launcher.py:25: SettingWithCopyWarning: \n",
      "A value is trying to be set on a copy of a slice from a DataFrame.\n",
      "Try using .loc[row_indexer,col_indexer] = value instead\n",
      "\n",
      "See the caveats in the documentation: http://pandas.pydata.org/pandas-docs/stable/indexing.html#indexing-view-versus-copy\n"
     ]
    }
   ],
   "source": [
    "processed_payment_test = preprocess.preprocess_payment(payment_test)\n",
    "processed_billing_test = preprocess.preprocess_billing(billing_test)"
   ]
  },
  {
   "cell_type": "code",
   "execution_count": 34,
   "metadata": {},
   "outputs": [],
   "source": [
    "processed_test = preprocess.merge(processed_payment_test, processed_billing_test)"
   ]
  },
  {
   "cell_type": "code",
   "execution_count": 35,
   "metadata": {},
   "outputs": [],
   "source": [
    "for col in transaction_col:\n",
    "    replace_value = processed_test[processed_test[col].notna()][col].mean()\n",
    "    processed_test[col] = processed_test[col].fillna(replace_value)"
   ]
  },
  {
   "cell_type": "code",
   "execution_count": 36,
   "metadata": {},
   "outputs": [],
   "source": [
    "processed_test = processed_test.fillna(0)"
   ]
  },
  {
   "cell_type": "code",
   "execution_count": 37,
   "metadata": {},
   "outputs": [
    {
     "data": {
      "text/html": [
       "<div>\n",
       "<style scoped>\n",
       "    .dataframe tbody tr th:only-of-type {\n",
       "        vertical-align: middle;\n",
       "    }\n",
       "\n",
       "    .dataframe tbody tr th {\n",
       "        vertical-align: top;\n",
       "    }\n",
       "\n",
       "    .dataframe thead th {\n",
       "        text-align: right;\n",
       "    }\n",
       "</style>\n",
       "<table border=\"1\" class=\"dataframe\">\n",
       "  <thead>\n",
       "    <tr style=\"text-align: right;\">\n",
       "      <th></th>\n",
       "      <th>transaction_01_month</th>\n",
       "      <th>transaction_02_month</th>\n",
       "      <th>transaction_03_month</th>\n",
       "      <th>transaction_04_month</th>\n",
       "      <th>transaction_05_month</th>\n",
       "      <th>transaction_06_month</th>\n",
       "      <th>transaction_07_month</th>\n",
       "      <th>transaction_08_month</th>\n",
       "      <th>transaction_09_month</th>\n",
       "      <th>transaction_10_month</th>\n",
       "      <th>...</th>\n",
       "      <th>credit_left_04_month_y</th>\n",
       "      <th>credit_left_05_month_y</th>\n",
       "      <th>credit_left_06_month_y</th>\n",
       "      <th>credit_left_07_month_y</th>\n",
       "      <th>credit_left_08_month_y</th>\n",
       "      <th>credit_left_09_month_y</th>\n",
       "      <th>credit_left_10_month_y</th>\n",
       "      <th>credit_left_11_month_y</th>\n",
       "      <th>credit_left_12_month_y</th>\n",
       "      <th>MaxDelqCycle</th>\n",
       "    </tr>\n",
       "    <tr>\n",
       "      <th>ID_CPTE</th>\n",
       "      <th></th>\n",
       "      <th></th>\n",
       "      <th></th>\n",
       "      <th></th>\n",
       "      <th></th>\n",
       "      <th></th>\n",
       "      <th></th>\n",
       "      <th></th>\n",
       "      <th></th>\n",
       "      <th></th>\n",
       "      <th></th>\n",
       "      <th></th>\n",
       "      <th></th>\n",
       "      <th></th>\n",
       "      <th></th>\n",
       "      <th></th>\n",
       "      <th></th>\n",
       "      <th></th>\n",
       "      <th></th>\n",
       "      <th></th>\n",
       "      <th></th>\n",
       "    </tr>\n",
       "  </thead>\n",
       "  <tbody>\n",
       "    <tr>\n",
       "      <th>10074849</th>\n",
       "      <td>411.00</td>\n",
       "      <td>340.26</td>\n",
       "      <td>993.92</td>\n",
       "      <td>0.0</td>\n",
       "      <td>906.38</td>\n",
       "      <td>363.00</td>\n",
       "      <td>915.54</td>\n",
       "      <td>609.50</td>\n",
       "      <td>626.85</td>\n",
       "      <td>396.93</td>\n",
       "      <td>...</td>\n",
       "      <td>1082.89</td>\n",
       "      <td>1689.60</td>\n",
       "      <td>1355.5</td>\n",
       "      <td>1514.89</td>\n",
       "      <td>1691.76</td>\n",
       "      <td>1303.07</td>\n",
       "      <td>1254.59</td>\n",
       "      <td>1586.58</td>\n",
       "      <td>1237.53</td>\n",
       "      <td>0</td>\n",
       "    </tr>\n",
       "    <tr>\n",
       "      <th>10086539</th>\n",
       "      <td>0.00</td>\n",
       "      <td>556.92</td>\n",
       "      <td>832.00</td>\n",
       "      <td>642.0</td>\n",
       "      <td>661.26</td>\n",
       "      <td>1880.00</td>\n",
       "      <td>950.86</td>\n",
       "      <td>1591.00</td>\n",
       "      <td>1048.60</td>\n",
       "      <td>500.00</td>\n",
       "      <td>...</td>\n",
       "      <td>932.32</td>\n",
       "      <td>611.21</td>\n",
       "      <td>192.4</td>\n",
       "      <td>1309.15</td>\n",
       "      <td>845.20</td>\n",
       "      <td>601.42</td>\n",
       "      <td>394.90</td>\n",
       "      <td>866.74</td>\n",
       "      <td>865.76</td>\n",
       "      <td>0</td>\n",
       "    </tr>\n",
       "    <tr>\n",
       "      <th>10140908</th>\n",
       "      <td>214.10</td>\n",
       "      <td>88.36</td>\n",
       "      <td>200.00</td>\n",
       "      <td>206.0</td>\n",
       "      <td>239.99</td>\n",
       "      <td>160.50</td>\n",
       "      <td>418.00</td>\n",
       "      <td>428.72</td>\n",
       "      <td>202.00</td>\n",
       "      <td>163.20</td>\n",
       "      <td>...</td>\n",
       "      <td>66.75</td>\n",
       "      <td>388.00</td>\n",
       "      <td>305.1</td>\n",
       "      <td>616.10</td>\n",
       "      <td>726.48</td>\n",
       "      <td>942.60</td>\n",
       "      <td>917.25</td>\n",
       "      <td>543.06</td>\n",
       "      <td>8.44</td>\n",
       "      <td>2</td>\n",
       "    </tr>\n",
       "    <tr>\n",
       "      <th>10147994</th>\n",
       "      <td>38.11</td>\n",
       "      <td>39.52</td>\n",
       "      <td>218.40</td>\n",
       "      <td>227.9</td>\n",
       "      <td>224.70</td>\n",
       "      <td>229.69</td>\n",
       "      <td>226.00</td>\n",
       "      <td>504.29</td>\n",
       "      <td>4.24</td>\n",
       "      <td>256.20</td>\n",
       "      <td>...</td>\n",
       "      <td>1289.95</td>\n",
       "      <td>861.59</td>\n",
       "      <td>741.1</td>\n",
       "      <td>104.62</td>\n",
       "      <td>-52.00</td>\n",
       "      <td>-230.21</td>\n",
       "      <td>-374.16</td>\n",
       "      <td>158.00</td>\n",
       "      <td>-11.00</td>\n",
       "      <td>0</td>\n",
       "    </tr>\n",
       "    <tr>\n",
       "      <th>10152808</th>\n",
       "      <td>420.00</td>\n",
       "      <td>1030.00</td>\n",
       "      <td>510.00</td>\n",
       "      <td>423.3</td>\n",
       "      <td>877.50</td>\n",
       "      <td>1157.44</td>\n",
       "      <td>709.00</td>\n",
       "      <td>995.00</td>\n",
       "      <td>1015.00</td>\n",
       "      <td>515.00</td>\n",
       "      <td>...</td>\n",
       "      <td>800.69</td>\n",
       "      <td>571.52</td>\n",
       "      <td>775.0</td>\n",
       "      <td>957.00</td>\n",
       "      <td>1266.00</td>\n",
       "      <td>910.80</td>\n",
       "      <td>1132.00</td>\n",
       "      <td>674.48</td>\n",
       "      <td>818.62</td>\n",
       "      <td>0</td>\n",
       "    </tr>\n",
       "  </tbody>\n",
       "</table>\n",
       "<p>5 rows × 50 columns</p>\n",
       "</div>"
      ],
      "text/plain": [
       "          transaction_01_month  transaction_02_month  transaction_03_month  \\\n",
       "ID_CPTE                                                                      \n",
       "10074849                411.00                340.26                993.92   \n",
       "10086539                  0.00                556.92                832.00   \n",
       "10140908                214.10                 88.36                200.00   \n",
       "10147994                 38.11                 39.52                218.40   \n",
       "10152808                420.00               1030.00                510.00   \n",
       "\n",
       "          transaction_04_month  transaction_05_month  transaction_06_month  \\\n",
       "ID_CPTE                                                                      \n",
       "10074849                   0.0                906.38                363.00   \n",
       "10086539                 642.0                661.26               1880.00   \n",
       "10140908                 206.0                239.99                160.50   \n",
       "10147994                 227.9                224.70                229.69   \n",
       "10152808                 423.3                877.50               1157.44   \n",
       "\n",
       "          transaction_07_month  transaction_08_month  transaction_09_month  \\\n",
       "ID_CPTE                                                                      \n",
       "10074849                915.54                609.50                626.85   \n",
       "10086539                950.86               1591.00               1048.60   \n",
       "10140908                418.00                428.72                202.00   \n",
       "10147994                226.00                504.29                  4.24   \n",
       "10152808                709.00                995.00               1015.00   \n",
       "\n",
       "          transaction_10_month      ...       credit_left_04_month_y  \\\n",
       "ID_CPTE                             ...                                \n",
       "10074849                396.93      ...                      1082.89   \n",
       "10086539                500.00      ...                       932.32   \n",
       "10140908                163.20      ...                        66.75   \n",
       "10147994                256.20      ...                      1289.95   \n",
       "10152808                515.00      ...                       800.69   \n",
       "\n",
       "          credit_left_05_month_y  credit_left_06_month_y  \\\n",
       "ID_CPTE                                                    \n",
       "10074849                 1689.60                  1355.5   \n",
       "10086539                  611.21                   192.4   \n",
       "10140908                  388.00                   305.1   \n",
       "10147994                  861.59                   741.1   \n",
       "10152808                  571.52                   775.0   \n",
       "\n",
       "          credit_left_07_month_y  credit_left_08_month_y  \\\n",
       "ID_CPTE                                                    \n",
       "10074849                 1514.89                 1691.76   \n",
       "10086539                 1309.15                  845.20   \n",
       "10140908                  616.10                  726.48   \n",
       "10147994                  104.62                  -52.00   \n",
       "10152808                  957.00                 1266.00   \n",
       "\n",
       "          credit_left_09_month_y  credit_left_10_month_y  \\\n",
       "ID_CPTE                                                    \n",
       "10074849                 1303.07                 1254.59   \n",
       "10086539                  601.42                  394.90   \n",
       "10140908                  942.60                  917.25   \n",
       "10147994                 -230.21                 -374.16   \n",
       "10152808                  910.80                 1132.00   \n",
       "\n",
       "          credit_left_11_month_y  credit_left_12_month_y  MaxDelqCycle  \n",
       "ID_CPTE                                                                 \n",
       "10074849                 1586.58                 1237.53             0  \n",
       "10086539                  866.74                  865.76             0  \n",
       "10140908                  543.06                    8.44             2  \n",
       "10147994                  158.00                  -11.00             0  \n",
       "10152808                  674.48                  818.62             0  \n",
       "\n",
       "[5 rows x 50 columns]"
      ]
     },
     "execution_count": 37,
     "metadata": {},
     "output_type": "execute_result"
    }
   ],
   "source": [
    "processed_test.head()"
   ]
  },
  {
   "cell_type": "code",
   "execution_count": 38,
   "metadata": {},
   "outputs": [],
   "source": [
    "X_test = np.array(processed_test)"
   ]
  },
  {
   "cell_type": "code",
   "execution_count": 39,
   "metadata": {},
   "outputs": [],
   "source": [
    "processed_test['Default'] = rf.predict(X_test)"
   ]
  },
  {
   "cell_type": "code",
   "execution_count": 40,
   "metadata": {},
   "outputs": [],
   "source": [
    "results = processed_test.reset_index()[['ID_CPTE', 'Default']]"
   ]
  },
  {
   "cell_type": "code",
   "execution_count": 41,
   "metadata": {},
   "outputs": [],
   "source": [
    "submission = pd.read_csv('../raw_data/performance_test.csv')"
   ]
  },
  {
   "cell_type": "code",
   "execution_count": 42,
   "metadata": {},
   "outputs": [
    {
     "data": {
      "text/html": [
       "<div>\n",
       "<style scoped>\n",
       "    .dataframe tbody tr th:only-of-type {\n",
       "        vertical-align: middle;\n",
       "    }\n",
       "\n",
       "    .dataframe tbody tr th {\n",
       "        vertical-align: top;\n",
       "    }\n",
       "\n",
       "    .dataframe thead th {\n",
       "        text-align: right;\n",
       "    }\n",
       "</style>\n",
       "<table border=\"1\" class=\"dataframe\">\n",
       "  <thead>\n",
       "    <tr style=\"text-align: right;\">\n",
       "      <th></th>\n",
       "      <th>ID_CPTE</th>\n",
       "      <th>PERIODID_MY</th>\n",
       "      <th>Default</th>\n",
       "    </tr>\n",
       "  </thead>\n",
       "  <tbody>\n",
       "    <tr>\n",
       "      <th>0</th>\n",
       "      <td>71424379</td>\n",
       "      <td>2014-12-01</td>\n",
       "      <td>NaN</td>\n",
       "    </tr>\n",
       "    <tr>\n",
       "      <th>1</th>\n",
       "      <td>64887111</td>\n",
       "      <td>2015-12-01</td>\n",
       "      <td>NaN</td>\n",
       "    </tr>\n",
       "    <tr>\n",
       "      <th>2</th>\n",
       "      <td>69431075</td>\n",
       "      <td>2014-12-01</td>\n",
       "      <td>NaN</td>\n",
       "    </tr>\n",
       "    <tr>\n",
       "      <th>3</th>\n",
       "      <td>31823308</td>\n",
       "      <td>2016-12-01</td>\n",
       "      <td>NaN</td>\n",
       "    </tr>\n",
       "    <tr>\n",
       "      <th>4</th>\n",
       "      <td>39407834</td>\n",
       "      <td>2012-12-01</td>\n",
       "      <td>NaN</td>\n",
       "    </tr>\n",
       "  </tbody>\n",
       "</table>\n",
       "</div>"
      ],
      "text/plain": [
       "    ID_CPTE PERIODID_MY  Default\n",
       "0  71424379  2014-12-01      NaN\n",
       "1  64887111  2015-12-01      NaN\n",
       "2  69431075  2014-12-01      NaN\n",
       "3  31823308  2016-12-01      NaN\n",
       "4  39407834  2012-12-01      NaN"
      ]
     },
     "execution_count": 42,
     "metadata": {},
     "output_type": "execute_result"
    }
   ],
   "source": [
    "submission.head()"
   ]
  },
  {
   "cell_type": "code",
   "execution_count": 43,
   "metadata": {},
   "outputs": [
    {
     "data": {
      "text/html": [
       "<div>\n",
       "<style scoped>\n",
       "    .dataframe tbody tr th:only-of-type {\n",
       "        vertical-align: middle;\n",
       "    }\n",
       "\n",
       "    .dataframe tbody tr th {\n",
       "        vertical-align: top;\n",
       "    }\n",
       "\n",
       "    .dataframe thead th {\n",
       "        text-align: right;\n",
       "    }\n",
       "</style>\n",
       "<table border=\"1\" class=\"dataframe\">\n",
       "  <thead>\n",
       "    <tr style=\"text-align: right;\">\n",
       "      <th></th>\n",
       "      <th>ID_CPTE</th>\n",
       "      <th>Default</th>\n",
       "    </tr>\n",
       "  </thead>\n",
       "  <tbody>\n",
       "    <tr>\n",
       "      <th>0</th>\n",
       "      <td>10074849</td>\n",
       "      <td>0</td>\n",
       "    </tr>\n",
       "    <tr>\n",
       "      <th>1</th>\n",
       "      <td>10086539</td>\n",
       "      <td>0</td>\n",
       "    </tr>\n",
       "    <tr>\n",
       "      <th>2</th>\n",
       "      <td>10140908</td>\n",
       "      <td>1</td>\n",
       "    </tr>\n",
       "    <tr>\n",
       "      <th>3</th>\n",
       "      <td>10147994</td>\n",
       "      <td>1</td>\n",
       "    </tr>\n",
       "    <tr>\n",
       "      <th>4</th>\n",
       "      <td>10152808</td>\n",
       "      <td>0</td>\n",
       "    </tr>\n",
       "  </tbody>\n",
       "</table>\n",
       "</div>"
      ],
      "text/plain": [
       "    ID_CPTE  Default\n",
       "0  10074849        0\n",
       "1  10086539        0\n",
       "2  10140908        1\n",
       "3  10147994        1\n",
       "4  10152808        0"
      ]
     },
     "execution_count": 43,
     "metadata": {},
     "output_type": "execute_result"
    }
   ],
   "source": [
    "results.head()"
   ]
  },
  {
   "cell_type": "code",
   "execution_count": 44,
   "metadata": {},
   "outputs": [],
   "source": [
    "submission = submission[['ID_CPTE', 'Default']].merge(results, on='ID_CPTE')"
   ]
  },
  {
   "cell_type": "code",
   "execution_count": 45,
   "metadata": {},
   "outputs": [],
   "source": [
    "submission = submission[['ID_CPTE', 'Default_y']]"
   ]
  },
  {
   "cell_type": "code",
   "execution_count": 46,
   "metadata": {},
   "outputs": [],
   "source": [
    "submission = submission.rename(columns={'Default_y': 'Default'})"
   ]
  },
  {
   "cell_type": "code",
   "execution_count": 47,
   "metadata": {},
   "outputs": [
    {
     "data": {
      "text/html": [
       "<div>\n",
       "<style scoped>\n",
       "    .dataframe tbody tr th:only-of-type {\n",
       "        vertical-align: middle;\n",
       "    }\n",
       "\n",
       "    .dataframe tbody tr th {\n",
       "        vertical-align: top;\n",
       "    }\n",
       "\n",
       "    .dataframe thead th {\n",
       "        text-align: right;\n",
       "    }\n",
       "</style>\n",
       "<table border=\"1\" class=\"dataframe\">\n",
       "  <thead>\n",
       "    <tr style=\"text-align: right;\">\n",
       "      <th></th>\n",
       "      <th>ID_CPTE</th>\n",
       "      <th>Default</th>\n",
       "    </tr>\n",
       "  </thead>\n",
       "  <tbody>\n",
       "    <tr>\n",
       "      <th>0</th>\n",
       "      <td>71424379</td>\n",
       "      <td>0</td>\n",
       "    </tr>\n",
       "    <tr>\n",
       "      <th>1</th>\n",
       "      <td>64887111</td>\n",
       "      <td>0</td>\n",
       "    </tr>\n",
       "    <tr>\n",
       "      <th>2</th>\n",
       "      <td>69431075</td>\n",
       "      <td>0</td>\n",
       "    </tr>\n",
       "    <tr>\n",
       "      <th>3</th>\n",
       "      <td>31823308</td>\n",
       "      <td>0</td>\n",
       "    </tr>\n",
       "    <tr>\n",
       "      <th>4</th>\n",
       "      <td>39407834</td>\n",
       "      <td>0</td>\n",
       "    </tr>\n",
       "  </tbody>\n",
       "</table>\n",
       "</div>"
      ],
      "text/plain": [
       "    ID_CPTE  Default\n",
       "0  71424379        0\n",
       "1  64887111        0\n",
       "2  69431075        0\n",
       "3  31823308        0\n",
       "4  39407834        0"
      ]
     },
     "execution_count": 47,
     "metadata": {},
     "output_type": "execute_result"
    }
   ],
   "source": [
    "submission.head()"
   ]
  },
  {
   "cell_type": "code",
   "execution_count": 57,
   "metadata": {},
   "outputs": [],
   "source": [
    "submission.to_csv('submission.csv', index_label=False)"
   ]
  },
  {
   "cell_type": "code",
   "execution_count": 59,
   "metadata": {},
   "outputs": [],
   "source": [
    "tmp = pd.read_csv('submission.csv')"
   ]
  },
  {
   "cell_type": "code",
   "execution_count": 168,
   "metadata": {},
   "outputs": [
    {
     "data": {
      "text/plain": [
       "5100"
      ]
     },
     "execution_count": 168,
     "metadata": {},
     "output_type": "execute_result"
    }
   ],
   "source": [
    "len(results)"
   ]
  },
  {
   "cell_type": "code",
   "execution_count": 169,
   "metadata": {},
   "outputs": [
    {
     "data": {
      "text/html": [
       "<div>\n",
       "<style scoped>\n",
       "    .dataframe tbody tr th:only-of-type {\n",
       "        vertical-align: middle;\n",
       "    }\n",
       "\n",
       "    .dataframe tbody tr th {\n",
       "        vertical-align: top;\n",
       "    }\n",
       "\n",
       "    .dataframe thead th {\n",
       "        text-align: right;\n",
       "    }\n",
       "</style>\n",
       "<table border=\"1\" class=\"dataframe\">\n",
       "  <thead>\n",
       "    <tr style=\"text-align: right;\">\n",
       "      <th></th>\n",
       "      <th>ID_CPTE</th>\n",
       "      <th>PERIODID_MY</th>\n",
       "      <th>Default</th>\n",
       "    </tr>\n",
       "  </thead>\n",
       "  <tbody>\n",
       "    <tr>\n",
       "      <th>0</th>\n",
       "      <td>71424379</td>\n",
       "      <td>2014-12-01</td>\n",
       "      <td>NaN</td>\n",
       "    </tr>\n",
       "    <tr>\n",
       "      <th>1</th>\n",
       "      <td>64887111</td>\n",
       "      <td>2015-12-01</td>\n",
       "      <td>NaN</td>\n",
       "    </tr>\n",
       "    <tr>\n",
       "      <th>2</th>\n",
       "      <td>69431075</td>\n",
       "      <td>2014-12-01</td>\n",
       "      <td>NaN</td>\n",
       "    </tr>\n",
       "    <tr>\n",
       "      <th>3</th>\n",
       "      <td>31823308</td>\n",
       "      <td>2016-12-01</td>\n",
       "      <td>NaN</td>\n",
       "    </tr>\n",
       "    <tr>\n",
       "      <th>4</th>\n",
       "      <td>39407834</td>\n",
       "      <td>2012-12-01</td>\n",
       "      <td>NaN</td>\n",
       "    </tr>\n",
       "  </tbody>\n",
       "</table>\n",
       "</div>"
      ],
      "text/plain": [
       "    ID_CPTE PERIODID_MY  Default\n",
       "0  71424379  2014-12-01      NaN\n",
       "1  64887111  2015-12-01      NaN\n",
       "2  69431075  2014-12-01      NaN\n",
       "3  31823308  2016-12-01      NaN\n",
       "4  39407834  2012-12-01      NaN"
      ]
     },
     "execution_count": 169,
     "metadata": {},
     "output_type": "execute_result"
    }
   ],
   "source": [
    "performance_test.head()"
   ]
  }
 ],
 "metadata": {
  "kernelspec": {
   "display_name": "Python 3",
   "language": "python",
   "name": "python3"
  },
  "language_info": {
   "codemirror_mode": {
    "name": "ipython",
    "version": 3
   },
   "file_extension": ".py",
   "mimetype": "text/x-python",
   "name": "python",
   "nbconvert_exporter": "python",
   "pygments_lexer": "ipython3",
   "version": "3.6.5"
  }
 },
 "nbformat": 4,
 "nbformat_minor": 2
}
